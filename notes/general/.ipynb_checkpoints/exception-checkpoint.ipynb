{
 "cells": [
  {
   "cell_type": "markdown",
   "id": "9675c194-40bf-4ed0-b602-a642256580a8",
   "metadata": {},
   "source": [
    "# Exception\n",
    "- Exceptions are declared with the `exception` construct, and signalled with the `raise` operator.\n",
    "- exception type `exn` is an extensible variant type\n",
    "- exception name must start with capital letter "
   ]
  },
  {
   "cell_type": "code",
   "execution_count": 13,
   "id": "30dcbaee-b79c-429d-80be-65889dc31933",
   "metadata": {},
   "outputs": [
    {
     "data": {
      "text/plain": [
       "exception Empty of string\n"
      ]
     },
     "execution_count": 13,
     "metadata": {},
     "output_type": "execute_result"
    },
    {
     "data": {
      "text/plain": [
       "type 'a series = [ `Con of 'a * 'a series | `Nil ]\n"
      ]
     },
     "execution_count": 13,
     "metadata": {},
     "output_type": "execute_result"
    },
    {
     "data": {
      "text/plain": [
       "val se :\n",
       "  [> `Con of\n",
       "       int *\n",
       "       [> `Con of\n",
       "            int *\n",
       "            [> `Con of int * [> `Con of int * [> `Con of int * [> `Nil ] ] ]\n",
       "            ] ] ] =\n",
       "  `Con (1, `Con (2, `Con (3, `Con (4, `Con (5, `Nil)))))\n"
      ]
     },
     "execution_count": 13,
     "metadata": {},
     "output_type": "execute_result"
    },
    {
     "data": {
      "text/plain": [
       "val hd : [< `Con of 'a * 'b | `Nil ] -> 'a = <fun>\n"
      ]
     },
     "execution_count": 13,
     "metadata": {},
     "output_type": "execute_result"
    },
    {
     "data": {
      "text/plain": [
       "- : int = 1\n"
      ]
     },
     "execution_count": 13,
     "metadata": {},
     "output_type": "execute_result"
    }
   ],
   "source": [
    "exception Empty of string ;;\n",
    "type 'a series = [ `Nil | `Con of 'a * 'a series ] ;;\n",
    "\n",
    "let se = `Con (1, `Con(2, `Con(3, `Con (4, `Con (5, `Nil))))) ;; \n",
    "\n",
    "let hd = function\n",
    "    | `Nil -> raise (Empty \"list is empty\") \n",
    "    | `Con (h, _) -> h ;;  \n",
    "hd se ;;"
   ]
  },
  {
   "cell_type": "markdown",
   "id": "f7baf3df-6325-4d1a-8bb0-15c1d119379e",
   "metadata": {},
   "source": [
    "- Exceptions are trapped with `try...with` construct\n",
    "- Exceptions can also be trapped in pattern matching"
   ]
  },
  {
   "cell_type": "code",
   "execution_count": 8,
   "id": "89a8af11-216b-41f6-92ed-d19820ba25a3",
   "metadata": {},
   "outputs": [
    {
     "data": {
      "text/plain": [
       "val get_hd_opt : 'a list -> 'a option = <fun>\n"
      ]
     },
     "execution_count": 8,
     "metadata": {},
     "output_type": "execute_result"
    },
    {
     "data": {
      "text/plain": [
       "- : int option = Some 1\n"
      ]
     },
     "execution_count": 8,
     "metadata": {},
     "output_type": "execute_result"
    },
    {
     "data": {
      "text/plain": [
       "- : 'a option = None\n"
      ]
     },
     "execution_count": 8,
     "metadata": {},
     "output_type": "execute_result"
    },
    {
     "data": {
      "text/plain": [
       "val string_to_int : string -> int option = <fun>\n"
      ]
     },
     "execution_count": 8,
     "metadata": {},
     "output_type": "execute_result"
    }
   ],
   "source": [
    "let get_hd_opt l = try Some (List.hd l) with Failure _ -> None ;;\n",
    "get_hd_opt [1;2] ;;\n",
    "get_hd_opt [] ;;\n",
    "\n",
    "let string_to_int s =\n",
    "    match int_of_string s with\n",
    "    | x -> Some x \n",
    "    | exception Failure _ -> None ;;"
   ]
  },
  {
   "cell_type": "markdown",
   "id": "fada4e85-7e2f-49eb-8dbb-5011a69d9023",
   "metadata": {},
   "source": [
    "- exception is used to breaking out of `for` or `while` loop cause OCaml doesn't have `break` or `continue`."
   ]
  },
  {
   "cell_type": "code",
   "execution_count": 13,
   "id": "f688d705-b044-48d8-877d-4822006b54a1",
   "metadata": {},
   "outputs": [
    {
     "data": {
      "text/plain": [
       "val break : 'a array -> ('a -> bool) -> string = <fun>\n"
      ]
     },
     "execution_count": 13,
     "metadata": {},
     "output_type": "execute_result"
    },
    {
     "data": {
      "text/plain": [
       "- : string = \"jump\"\n"
      ]
     },
     "execution_count": 13,
     "metadata": {},
     "output_type": "execute_result"
    }
   ],
   "source": [
    "let break a f =\n",
    "    let exception Break in\n",
    "    try \n",
    "        for i = 0 to (Array.length a) - 1 do\n",
    "            let x = f a.(i) in\n",
    "            if x then raise Break \n",
    "        done ;\n",
    "        \"all the way\" \n",
    "    with Break -> \"jump\" ;;\n",
    "\n",
    "break (Array.init 20 (fun x -> x + 1)) (fun x -> x = 10) ;;"
   ]
  },
  {
   "cell_type": "markdown",
   "id": "13ec64ea-1db3-4bfa-bf2b-025d1cd53022",
   "metadata": {},
   "source": [
    "- exceptions is extensible variants."
   ]
  },
  {
   "cell_type": "code",
   "execution_count": 27,
   "id": "d395aeaf-6c0f-4484-9c3f-a856b8ba5316",
   "metadata": {},
   "outputs": [
    {
     "data": {
      "text/plain": [
       "type exn += Not_long_enough of string\n"
      ]
     },
     "execution_count": 27,
     "metadata": {},
     "output_type": "execute_result"
    },
    {
     "data": {
      "text/plain": [
       "val check : [> `Pistol of float ] -> string = <fun>\n"
      ]
     },
     "execution_count": 27,
     "metadata": {},
     "output_type": "execute_result"
    },
    {
     "data": {
      "text/plain": [
       "- : string = \"Under 7.0 is NOT long enough.\"\n"
      ]
     },
     "execution_count": 27,
     "metadata": {},
     "output_type": "execute_result"
    }
   ],
   "source": [
    "(* exception can also be defined like below *)\n",
    "type exn += Not_long_enough of string ;; \n",
    "let check pistol =\n",
    "    match pistol with\n",
    "    | `Pistol x when x > 7.0 -> \"Good\"\n",
    "    | _  -> raise (Not_long_enough \"Under 7.0 is NOT long enough.\")  ;;\n",
    "    \n",
    "let _ = try check (`Pistol 6.) with Not_long_enough x -> x ;;"
   ]
  },
  {
   "cell_type": "code",
   "execution_count": null,
   "id": "b4960d6c-a9ab-46e5-9e1d-ba3ec712a186",
   "metadata": {},
   "outputs": [],
   "source": []
  }
 ],
 "metadata": {
  "kernelspec": {
   "display_name": "OCaml 4.14.0",
   "language": "OCaml",
   "name": "ocaml-jupyter-4.14.0"
  },
  "language_info": {
   "codemirror_mode": "text/x-ocaml",
   "file_extension": ".ml",
   "mimetype": "text/x-ocaml",
   "name": "OCaml",
   "nbconverter_exporter": null,
   "pygments_lexer": "OCaml",
   "version": "4.14.0"
  },
  "widgets": {
   "application/vnd.jupyter.widget-state+json": {
    "state": {},
    "version_major": 2,
    "version_minor": 0
   }
  }
 },
 "nbformat": 4,
 "nbformat_minor": 5
}
