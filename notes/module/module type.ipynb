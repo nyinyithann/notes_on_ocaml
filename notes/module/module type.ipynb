{
 "cells": [
  {
   "cell_type": "markdown",
   "id": "0f3b05b7-3886-4d9c-88d5-86adcc0bc652",
   "metadata": {},
   "source": [
    "# Module Type"
   ]
  },
  {
   "cell_type": "markdown",
   "id": "3260219c-b04c-4121-84f8-7d2c4639b08c",
   "metadata": {},
   "source": [
    "##### 🟢 &nbsp; &nbsp; Basic"
   ]
  },
  {
   "cell_type": "code",
   "execution_count": 1,
   "id": "9d5dc349-57bf-4415-a0dd-82395f1423b5",
   "metadata": {},
   "outputs": [
    {
     "data": {
      "text/plain": [
       "module type X = sig val x : int end\n"
      ]
     },
     "execution_count": 1,
     "metadata": {},
     "output_type": "execute_result"
    },
    {
     "data": {
      "text/plain": [
       "module type Y = sig val y : int end\n"
      ]
     },
     "execution_count": 1,
     "metadata": {},
     "output_type": "execute_result"
    },
    {
     "data": {
      "text/plain": [
       "module M : sig val x : int val y : int end\n"
      ]
     },
     "execution_count": 1,
     "metadata": {},
     "output_type": "execute_result"
    },
    {
     "data": {
      "text/plain": [
       "module MX : X\n"
      ]
     },
     "execution_count": 1,
     "metadata": {},
     "output_type": "execute_result"
    },
    {
     "data": {
      "text/plain": [
       "module MX : X\n"
      ]
     },
     "execution_count": 1,
     "metadata": {},
     "output_type": "execute_result"
    },
    {
     "data": {
      "text/plain": [
       "module MY : Y\n"
      ]
     },
     "execution_count": 1,
     "metadata": {},
     "output_type": "execute_result"
    },
    {
     "data": {
      "text/plain": [
       "module MY : Y\n"
      ]
     },
     "execution_count": 1,
     "metadata": {},
     "output_type": "execute_result"
    }
   ],
   "source": [
    "module type X = sig\n",
    "    val x : int\n",
    "end\n",
    "\n",
    "module type Y = sig\n",
    "    val y: int \n",
    "end\n",
    "\n",
    "module M = struct\n",
    "    let x = 10\n",
    "    let y = 11\n",
    "end\n",
    "\n",
    "(* MX is of type X and can access x *)\n",
    "module MX = (M : X) \n",
    "(* or *)\n",
    "module MX : X = M\n",
    "(* or *)\n",
    "\n",
    "(* MY is of type Y and can access y *)\n",
    "module MY = (M : Y) \n",
    "(* or *)\n",
    "module MY : Y = M\n",
    "\n",
    "(* Check if M is of type X or Y *)\n",
    "module _ : X = M\n",
    "module _ : Y = M"
   ]
  },
  {
   "cell_type": "markdown",
   "id": "4a8cb3ff-eab8-4500-a21f-224f6edc2836",
   "metadata": {},
   "source": [
    "<br/>"
   ]
  },
  {
   "cell_type": "markdown",
   "id": "0a80e7d7-fc2c-4920-ac31-4847713d106b",
   "metadata": {},
   "source": [
    "##### 🟢 &nbsp; &nbsp; Sealing Module with Module Type"
   ]
  },
  {
   "cell_type": "code",
   "execution_count": 2,
   "id": "1f8a99e6-a850-49fa-8e59-4e4b5a386e3e",
   "metadata": {},
   "outputs": [
    {
     "data": {
      "text/plain": [
       "module type XY = sig val x : int val y : int end\n"
      ]
     },
     "execution_count": 2,
     "metadata": {},
     "output_type": "execute_result"
    },
    {
     "data": {
      "text/plain": [
       "module MXY : XY\n"
      ]
     },
     "execution_count": 2,
     "metadata": {},
     "output_type": "execute_result"
    },
    {
     "data": {
      "text/plain": [
       "module type XY_TYPE = XY\n"
      ]
     },
     "execution_count": 2,
     "metadata": {},
     "output_type": "execute_result"
    },
    {
     "data": {
      "text/plain": [
       "module MXY : XY_TYPE\n"
      ]
     },
     "execution_count": 2,
     "metadata": {},
     "output_type": "execute_result"
    },
    {
     "data": {
      "text/plain": [
       "module MXYZ : XY_TYPE\n"
      ]
     },
     "execution_count": 2,
     "metadata": {},
     "output_type": "execute_result"
    }
   ],
   "source": [
    "module type XY = sig\n",
    "    val x : int\n",
    "    val y : int\n",
    "end\n",
    "\n",
    "(* MXY is sealed at module type XY *)\n",
    "module MXY : XY = struct\n",
    "    let x = 10\n",
    "    let y = 10\n",
    "end\n",
    "\n",
    "module type XY_TYPE = XY\n",
    "module MXY : XY_TYPE = struct\n",
    "    let x = 10\n",
    "    let y = 10\n",
    "end\n",
    "\n",
    "module MXYZ : module type of MXY = struct\n",
    "    let x = 10\n",
    "    let y = 10\n",
    "    let z = 10\n",
    "end"
   ]
  },
  {
   "cell_type": "markdown",
   "id": "af67e496-25db-4a1f-a97e-e234008baf6c",
   "metadata": {},
   "source": [
    "<br/>"
   ]
  },
  {
   "cell_type": "markdown",
   "id": "e6788c97-32e3-45d2-ad16-7d22e1ab8510",
   "metadata": {},
   "source": [
    "##### 🟢 &nbsp; &nbsp; Type constraint the `with` operator"
   ]
  },
  {
   "cell_type": "code",
   "execution_count": 3,
   "id": "da4a9029-0a10-4ab4-b185-6f0a535afbf3",
   "metadata": {},
   "outputs": [
    {
     "data": {
      "text/plain": [
       "module type T = sig type t val data : t end\n"
      ]
     },
     "execution_count": 3,
     "metadata": {},
     "output_type": "execute_result"
    },
    {
     "data": {
      "text/plain": [
       "module M : T\n"
      ]
     },
     "execution_count": 3,
     "metadata": {},
     "output_type": "execute_result"
    },
    {
     "ename": "error",
     "evalue": "compile_error",
     "output_type": "error",
     "traceback": [
      "File \"[3]\", line 11, characters 14-20:\n11 | let a : int = M.data (* error cause T.t is abstract type and not compitable with int *)\n                   ^^^^^^\nError: This expression has type M.t but an expression was expected of type\n         int\n"
     ]
    }
   ],
   "source": [
    "module type T = sig\n",
    "    type t\n",
    "    val data : t\n",
    "end\n",
    "\n",
    "module M : T = struct\n",
    "    type t = int\n",
    "    let data = 10\n",
    "end\n",
    "\n",
    "let a : int = M.data (* error cause T.t is abstract type and not compitable with int *)"
   ]
  },
  {
   "cell_type": "markdown",
   "id": "958078aa-0be6-4190-a6aa-801062eab2cb",
   "metadata": {},
   "source": [
    "##### 🖋 &nbsp; Solutions to the above issue"
   ]
  },
  {
   "cell_type": "markdown",
   "id": "d5b0a28d-417a-4b9d-8d4c-5ed63bbc7d55",
   "metadata": {},
   "source": [
    "1 - Don't seal the module M at type T.  We still can check if module M satisfies module type T."
   ]
  },
  {
   "cell_type": "code",
   "execution_count": 4,
   "id": "5a29777b-c6fc-40ea-9d2f-f3009337da8b",
   "metadata": {},
   "outputs": [
    {
     "data": {
      "text/plain": [
       "module type T = sig type t val data : t end\n"
      ]
     },
     "execution_count": 4,
     "metadata": {},
     "output_type": "execute_result"
    },
    {
     "data": {
      "text/plain": [
       "module M : sig type t = int val data : int end\n"
      ]
     },
     "execution_count": 4,
     "metadata": {},
     "output_type": "execute_result"
    },
    {
     "data": {
      "text/plain": [
       "val a : int = 10\n"
      ]
     },
     "execution_count": 4,
     "metadata": {},
     "output_type": "execute_result"
    }
   ],
   "source": [
    "module type T = sig\n",
    "    type t\n",
    "    val data : t\n",
    "end\n",
    "\n",
    "module M  = struct\n",
    "    type t = int\n",
    "    let data = 10\n",
    "end ;;\n",
    "\n",
    "module _ : T = M ;;\n",
    "\n",
    "let a : int = M.data ;;"
   ]
  },
  {
   "cell_type": "markdown",
   "id": "44774ee9-3eb0-4061-89d3-94f888aad91d",
   "metadata": {},
   "source": [
    "2 - Using the `with` operator"
   ]
  },
  {
   "cell_type": "code",
   "execution_count": 5,
   "id": "1a1c2d7e-6fd6-4f79-988d-8930a98203e6",
   "metadata": {},
   "outputs": [
    {
     "data": {
      "text/plain": [
       "module type T = sig type t val data : t end\n"
      ]
     },
     "execution_count": 5,
     "metadata": {},
     "output_type": "execute_result"
    },
    {
     "data": {
      "text/plain": [
       "module M : sig type t = int val data : t end\n"
      ]
     },
     "execution_count": 5,
     "metadata": {},
     "output_type": "execute_result"
    },
    {
     "data": {
      "text/plain": [
       "val a : int = 10\n"
      ]
     },
     "execution_count": 5,
     "metadata": {},
     "output_type": "execute_result"
    },
    {
     "data": {
      "text/plain": [
       "module type R = sig type t = int val data : t end\n"
      ]
     },
     "execution_count": 5,
     "metadata": {},
     "output_type": "execute_result"
    },
    {
     "data": {
      "text/plain": [
       "module M : R\n"
      ]
     },
     "execution_count": 5,
     "metadata": {},
     "output_type": "execute_result"
    },
    {
     "data": {
      "text/plain": [
       "val a : int = 10\n"
      ]
     },
     "execution_count": 5,
     "metadata": {},
     "output_type": "execute_result"
    }
   ],
   "source": [
    "module type T = sig\n",
    "    type t\n",
    "    val data : t\n",
    "end\n",
    "\n",
    "module M : T with type t = int = struct\n",
    "    type t = int\n",
    "    let data = 10\n",
    "end ;;\n",
    "\n",
    "let a : int = M.data ;;\n",
    "\n",
    "(* or *)\n",
    "\n",
    "module type R = T with type t = int\n",
    "\n",
    "module M : R = struct\n",
    "    type t = int\n",
    "    let data = 10\n",
    "end ;;\n",
    "\n",
    "let a : int = M.data ;;"
   ]
  },
  {
   "cell_type": "markdown",
   "id": "4fa55c30-b136-4095-a4ca-fe6bab4681bf",
   "metadata": {},
   "source": [
    "<br/>"
   ]
  },
  {
   "cell_type": "markdown",
   "id": "ed6b7121-c752-454e-8545-f74c5bda9f0e",
   "metadata": {},
   "source": [
    "##### 🟢 &nbsp; &nbsp; Private type abbreviation https://v2.ocaml.org/manual/privatetypes.html#start-section"
   ]
  },
  {
   "cell_type": "code",
   "execution_count": 6,
   "id": "85a39e6a-ffc5-4b88-887e-863d859c4608",
   "metadata": {},
   "outputs": [
    {
     "data": {
      "text/plain": [
       "module M : sig type t = private int val data : t end\n"
      ]
     },
     "execution_count": 6,
     "metadata": {},
     "output_type": "execute_result"
    },
    {
     "data": {
      "text/plain": [
       "val a : int = 10\n"
      ]
     },
     "execution_count": 6,
     "metadata": {},
     "output_type": "execute_result"
    }
   ],
   "source": [
    "module M : sig\n",
    "    type t = private int\n",
    "    val data : t\n",
    "end = struct\n",
    "    type t = int\n",
    "    let data = 10\n",
    "end ;;\n",
    "\n",
    "let a : M.t :> int = M.data;;"
   ]
  },
  {
   "cell_type": "markdown",
   "id": "eacf0a8c-bd35-4614-8c29-c8820747263c",
   "metadata": {},
   "source": [
    "<br/>"
   ]
  },
  {
   "cell_type": "markdown",
   "id": "141f29f5-bbc6-42a4-be78-f262a735ab6f",
   "metadata": {},
   "source": [
    "##### 🟢 &nbsp; &nbsp; Destructive Substitution ( := ) - replace abstract type with the concrete type provided in constraint"
   ]
  },
  {
   "cell_type": "code",
   "execution_count": 7,
   "id": "b22fb7ce-24de-4ab0-bea4-105998e6440b",
   "metadata": {},
   "outputs": [
    {
     "data": {
      "text/plain": [
       "module type T = sig type item type t val data : t end\n"
      ]
     },
     "execution_count": 7,
     "metadata": {},
     "output_type": "execute_result"
    },
    {
     "data": {
      "text/plain": [
       "module M : sig type item = int type t = int list val data : t end\n"
      ]
     },
     "execution_count": 7,
     "metadata": {},
     "output_type": "execute_result"
    },
    {
     "data": {
      "text/plain": [
       "module MN : sig val data : int list end\n"
      ]
     },
     "execution_count": 7,
     "metadata": {},
     "output_type": "execute_result"
    }
   ],
   "source": [
    "module type T = sig\n",
    "    type item\n",
    "    type t\n",
    "    val data : t\n",
    "end\n",
    "\n",
    "module M : T with type item = int and type t =  int list = struct\n",
    "    type item = int\n",
    "    type t = item list\n",
    "    let data = List.init 10 Fun.id\n",
    "end\n",
    "\n",
    "module MN : T with type item := int and type t := int list = struct\n",
    "    type item = int\n",
    "    type t = item list\n",
    "    let data = List.init 10 Fun.id\n",
    "end"
   ]
  },
  {
   "cell_type": "markdown",
   "id": "5c0fb8ee-8a4a-4f0b-850a-4ba6952b76ae",
   "metadata": {},
   "source": [
    "<br/>"
   ]
  },
  {
   "cell_type": "markdown",
   "id": "0901f63c-6561-4ee3-89ea-0d2612a30966",
   "metadata": {},
   "source": [
    "##### 🟢 &nbsp; &nbsp; Module constraint with the `with` operator https://cs3110.github.io/textbook/chapters/modules/module_type_constraints.html"
   ]
  },
  {
   "cell_type": "code",
   "execution_count": 8,
   "id": "500dccbd-32b0-44ba-82df-bf1e98def6cb",
   "metadata": {},
   "outputs": [
    {
     "data": {
      "text/plain": [
       "module type XY = sig type x type y end\n"
      ]
     },
     "execution_count": 8,
     "metadata": {},
     "output_type": "execute_result"
    },
    {
     "data": {
      "text/plain": [
       "module type T = sig module A : XY end\n"
      ]
     },
     "execution_count": 8,
     "metadata": {},
     "output_type": "execute_result"
    },
    {
     "data": {
      "text/plain": [
       "module B : sig type x = int type y = float end\n"
      ]
     },
     "execution_count": 8,
     "metadata": {},
     "output_type": "execute_result"
    },
    {
     "data": {
      "text/plain": [
       "module C : sig module A : sig type x = int type y = float end end\n"
      ]
     },
     "execution_count": 8,
     "metadata": {},
     "output_type": "execute_result"
    }
   ],
   "source": [
    "module type XY = sig\n",
    "  type x\n",
    "  type y\n",
    "end\n",
    "\n",
    "module type T = sig\n",
    "  module A : XY\n",
    "end\n",
    "\n",
    "module B = struct\n",
    "  type x = int\n",
    "  type y = float\n",
    "end\n",
    "\n",
    "module C : T with module A = B = struct\n",
    "  module A = struct\n",
    "    type x = int\n",
    "    type y = float\n",
    "    let x = 42\n",
    "  end  \n",
    "end"
   ]
  },
  {
   "cell_type": "markdown",
   "id": "5b93edda-744d-433f-b4a5-602cb5b390a5",
   "metadata": {},
   "source": [
    "<br/>"
   ]
  },
  {
   "cell_type": "markdown",
   "id": "620830bd-be13-4cf4-b60e-3a80ff115f0c",
   "metadata": {},
   "source": [
    "##### 🟢 &nbsp; &nbsp; Multiple constraints"
   ]
  },
  {
   "cell_type": "code",
   "execution_count": 9,
   "id": "52c9dd0b-b4ce-4c0e-b7f3-eb59b313b5f9",
   "metadata": {},
   "outputs": [
    {
     "data": {
      "text/plain": [
       "module type T = sig type item type t val data : t end\n"
      ]
     },
     "execution_count": 9,
     "metadata": {},
     "output_type": "execute_result"
    },
    {
     "data": {
      "text/plain": [
       "module M : sig type item = int type t = int list val data : t end\n"
      ]
     },
     "execution_count": 9,
     "metadata": {},
     "output_type": "execute_result"
    }
   ],
   "source": [
    "module type T = sig\n",
    "    type item\n",
    "    type t\n",
    "    val data : t\n",
    "end\n",
    "\n",
    "module M : T with type item = int and type t = int list = struct\n",
    "    type item = int\n",
    "    type t = item list\n",
    "    let data = List.init 10 Fun.id\n",
    "end"
   ]
  },
  {
   "cell_type": "markdown",
   "id": "dac01e5f-15d9-42b7-b50f-c7474033a120",
   "metadata": {},
   "source": [
    "<br/>"
   ]
  },
  {
   "cell_type": "markdown",
   "id": "89ace0f3-523d-44e1-9ea7-4458cef1a494",
   "metadata": {},
   "source": [
    "##### 🟢 &nbsp; &nbsp; include"
   ]
  },
  {
   "cell_type": "code",
   "execution_count": 10,
   "id": "b4daea5a-b49f-4822-82ce-493216f686a5",
   "metadata": {},
   "outputs": [
    {
     "data": {
      "text/plain": [
       "module type T = sig type item type t val data : t end\n"
      ]
     },
     "execution_count": 10,
     "metadata": {},
     "output_type": "execute_result"
    },
    {
     "data": {
      "text/plain": [
       "module type COUNT_T = sig type item type t val data : t val count : int end\n"
      ]
     },
     "execution_count": 10,
     "metadata": {},
     "output_type": "execute_result"
    },
    {
     "data": {
      "text/plain": [
       "module Vec :\n",
       "  sig type item = float type t = float array val data : t val count : int end\n"
      ]
     },
     "execution_count": 10,
     "metadata": {},
     "output_type": "execute_result"
    }
   ],
   "source": [
    "module type T = sig\n",
    "    type item\n",
    "    type t\n",
    "    val data : t\n",
    "end\n",
    "\n",
    "module type COUNT_T = sig\n",
    "    include T\n",
    "    val count : int\n",
    "end\n",
    "\n",
    "module Vec : COUNT_T with type item = float and type t = float array = struct\n",
    "    type item = float\n",
    "    type t = item array\n",
    "    let data = Array.init 10 float_of_int\n",
    "    let count = Array.length data\n",
    "end"
   ]
  },
  {
   "cell_type": "markdown",
   "id": "679aeb6b-41d1-412e-9562-23160c25e975",
   "metadata": {},
   "source": [
    "<br/>"
   ]
  },
  {
   "cell_type": "markdown",
   "id": "545fcfa9-d466-46a7-9a49-5eaa930f418e",
   "metadata": {},
   "source": [
    "##### 🟢 &nbsp; &nbsp; Recovering the type of a module https://v2.ocaml.org/manual/moduletypeof.html#start-section"
   ]
  },
  {
   "cell_type": "code",
   "execution_count": 11,
   "id": "0a17ad57-555a-477c-a2b4-77593e9a8e36",
   "metadata": {},
   "outputs": [
    {
     "data": {
      "text/plain": [
       "module A : sig val pi : float end\n"
      ]
     },
     "execution_count": 11,
     "metadata": {},
     "output_type": "execute_result"
    },
    {
     "data": {
      "text/plain": [
       "module type Maths = sig val pi : float end\n"
      ]
     },
     "execution_count": 11,
     "metadata": {},
     "output_type": "execute_result"
    }
   ],
   "source": [
    "module A = struct\n",
    "    let pi = 3.14\n",
    "end\n",
    "\n",
    "module type Maths = sig\n",
    "    include (module type of A)\n",
    "end"
   ]
  },
  {
   "cell_type": "markdown",
   "id": "3c961180-e60a-4caa-8f5a-1a398384005a",
   "metadata": {},
   "source": [
    "<br/>"
   ]
  },
  {
   "cell_type": "markdown",
   "id": "4816b8db-240e-4eb8-85b0-f3b186e55e70",
   "metadata": {},
   "source": [
    "##### 🟢 &nbsp; &nbsp; Sample Code"
   ]
  },
  {
   "cell_type": "code",
   "execution_count": 12,
   "id": "cbc9b127-3d05-405c-b662-ebe8e1cc88c1",
   "metadata": {},
   "outputs": [
    {
     "data": {
      "text/plain": [
       "module type POINT =\n",
       "  sig\n",
       "    type item\n",
       "    type t\n",
       "    val make : item -> item -> t\n",
       "    val getX : t -> item\n",
       "    val getY : t -> item\n",
       "    val add : t -> t -> t\n",
       "    val substract : t -> t -> t\n",
       "    val to_string : t -> string\n",
       "  end\n"
      ]
     },
     "execution_count": 12,
     "metadata": {},
     "output_type": "execute_result"
    },
    {
     "data": {
      "text/plain": [
       "module PointPairInt :\n",
       "  sig\n",
       "    val make : int -> int -> int * int\n",
       "    val getX : int * int -> int\n",
       "    val getY : int * int -> int\n",
       "    val add : int * int -> int * int -> int * int\n",
       "    val substract : int * int -> int * int -> int * int\n",
       "    val to_string : int * int -> string\n",
       "  end\n"
      ]
     },
     "execution_count": 12,
     "metadata": {},
     "output_type": "execute_result"
    },
    {
     "data": {
      "text/plain": [
       "- : string = \"(x = 3, y = 3)\"\n"
      ]
     },
     "execution_count": 12,
     "metadata": {},
     "output_type": "execute_result"
    },
    {
     "data": {
      "text/plain": [
       "type point = { x : float; y : float; }\n"
      ]
     },
     "execution_count": 12,
     "metadata": {},
     "output_type": "execute_result"
    },
    {
     "data": {
      "text/plain": [
       "module PointRecordFloat :\n",
       "  sig\n",
       "    val make : float -> float -> point\n",
       "    val getX : point -> float\n",
       "    val getY : point -> float\n",
       "    val add : point -> point -> point\n",
       "    val substract : point -> point -> point\n",
       "    val to_string : point -> string\n",
       "  end\n"
      ]
     },
     "execution_count": 12,
     "metadata": {},
     "output_type": "execute_result"
    },
    {
     "data": {
      "text/plain": [
       "- : string = \"{ x = 3., y = 3. }\"\n"
      ]
     },
     "execution_count": 12,
     "metadata": {},
     "output_type": "execute_result"
    }
   ],
   "source": [
    "module type POINT = sig\n",
    "    type item\n",
    "    type t\n",
    "    val make : item -> item -> t\n",
    "    val getX : t -> item\n",
    "    val getY : t -> item\n",
    "    val add : t -> t -> t\n",
    "    val substract : t -> t -> t\n",
    "    val to_string : t -> string\n",
    "end\n",
    "\n",
    "module PointPairInt : POINT with type item := int and type t := int * int = struct\n",
    "    type item = int\n",
    "    type t = item * item\n",
    "    let make x y = (x, y)\n",
    "    let getX (x, _) = x\n",
    "    let getY (_, y) = y\n",
    "    let add (x1, y1) (x2, y2) = (x1 + x2, y1 + y2)\n",
    "    let substract (x1, y1) (x2, y2) = (x1 - x2, y1 - y2)\n",
    "    let to_string (x, y) = Printf.sprintf \"(x = %d, y = %d)\" x y\n",
    "end;;\n",
    "\n",
    "let open PointPairInt in\n",
    "let p1 = make 1 1\n",
    "and p2 = make 2 2 in\n",
    "(add p1 p2) |> to_string;;\n",
    "\n",
    "type point = { x : float; y : float };;\n",
    "module PointRecordFloat : POINT with type item := float and type t := point = struct\n",
    "    type item = float\n",
    "    type t = point\n",
    "    let make x y = { x; y }\n",
    "    let getX p = p.x\n",
    "    let getY p = p.y\n",
    "    let add p1 p2 = { x = p1.x +. p2.x; y = p1.y +. p2.y } \n",
    "    let substract p1 p2 = { x = p1.x -. p2.x; y = p1.y -. p2.y } \n",
    "    let to_string p = Printf.sprintf \"{ x = %F, y = %F }\" p.x p.y\n",
    "end;;\n",
    "\n",
    "let open PointRecordFloat in\n",
    "let p1 = make 1. 1.\n",
    "and p2 = make 2. 2. in\n",
    "(add p1 p2) |> to_string;;"
   ]
  }
 ],
 "metadata": {
  "kernelspec": {
   "display_name": "OCaml 4.12.0",
   "language": "OCaml",
   "name": "ocaml-jupyter-4.12.0"
  },
  "language_info": {
   "codemirror_mode": "text/x-ocaml",
   "file_extension": ".ml",
   "mimetype": "text/x-ocaml",
   "name": "OCaml",
   "nbconverter_exporter": null,
   "pygments_lexer": "OCaml",
   "version": "4.12.0"
  },
  "widgets": {
   "application/vnd.jupyter.widget-state+json": {
    "state": {},
    "version_major": 2,
    "version_minor": 0
   }
  }
 },
 "nbformat": 4,
 "nbformat_minor": 5
}
