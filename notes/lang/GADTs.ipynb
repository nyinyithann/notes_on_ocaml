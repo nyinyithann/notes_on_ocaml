{
 "cells": [
  {
   "cell_type": "markdown",
   "id": "786ac67c",
   "metadata": {},
   "source": [
    "# Generalized algebraic datatypes"
   ]
  },
  {
   "cell_type": "markdown",
   "id": "a0abe144",
   "metadata": {},
   "source": [
    "#### references"
   ]
  },
  {
   "cell_type": "markdown",
   "id": "6a54fc54",
   "metadata": {},
   "source": [
    "- https://v2.ocaml.org/manual/gadts-tutorial.html#sec63\n",
    "- https://sites.google.com/site/ocamlgadt/\n",
    "- https://dev.realworldocaml.org/gadts.html\n",
    "- https://www.cl.cam.ac.uk/teaching/1415/L28/gadts.pdf\n",
    "- https://blog.mads-hartmann.com/ocaml/2015/01/05/gadt-ocaml.html\n",
    "- https://blog.janestreet.com/why-gadts-matter-for-performance/\n",
    "- https://stackoverflow.com/questions/27864200/an-concrete-simple-example-to-demonstrate-gadt-in-ocaml\n",
    "- http://homepage.cs.uiowa.edu/~astump/papers/icfp09.pdf\n",
    "- https://ocamllabs.io/iocamljs/type_inference.html"
   ]
  },
  {
   "cell_type": "code",
   "execution_count": 16,
   "id": "6f038214-9fc8-43c9-8a00-e804446f86a1",
   "metadata": {},
   "outputs": [
    {
     "data": {
      "text/plain": [
       "type 'a succ = unit -> 'a\n",
       "and _ peano = Zero : unit peano | Succ : 'a peano -> 'a succ peano\n"
      ]
     },
     "execution_count": 16,
     "metadata": {},
     "output_type": "execute_result"
    },
    {
     "data": {
      "text/plain": [
       "val zero : unit peano = Zero\n"
      ]
     },
     "execution_count": 16,
     "metadata": {},
     "output_type": "execute_result"
    },
    {
     "data": {
      "text/plain": [
       "val one : unit succ peano = Succ Zero\n"
      ]
     },
     "execution_count": 16,
     "metadata": {},
     "output_type": "execute_result"
    },
    {
     "data": {
      "text/plain": [
       "val two : unit succ succ peano = Succ (Succ Zero)\n"
      ]
     },
     "execution_count": 16,
     "metadata": {},
     "output_type": "execute_result"
    },
    {
     "data": {
      "text/plain": [
       "val three : unit succ succ succ peano = Succ (Succ (Succ Zero))\n"
      ]
     },
     "execution_count": 16,
     "metadata": {},
     "output_type": "execute_result"
    },
    {
     "data": {
      "text/plain": [
       "val count : 'a peano -> int = <fun>\n"
      ]
     },
     "execution_count": 16,
     "metadata": {},
     "output_type": "execute_result"
    },
    {
     "data": {
      "text/plain": [
       "- : int = 2\n"
      ]
     },
     "execution_count": 16,
     "metadata": {},
     "output_type": "execute_result"
    },
    {
     "data": {
      "text/plain": [
       "- : int = 3\n"
      ]
     },
     "execution_count": 16,
     "metadata": {},
     "output_type": "execute_result"
    }
   ],
   "source": [
    "type 'a succ = unit -> 'a \n",
    "and _ peano =\n",
    "    | Zero : unit peano\n",
    "    | Succ : 'a peano -> ('a succ) peano ;;\n",
    "    \n",
    "let zero = Zero ;;\n",
    "let one = Succ zero ;;\n",
    "let two = Succ one ;;\n",
    "let three = Succ two ;;\n",
    "\n",
    "let count p =\n",
    "    let rec loop : type a. a peano -> int -> int = fun p c ->\n",
    "        match p with\n",
    "        | Zero -> c\n",
    "        | Succ n -> loop n (c + 1)\n",
    "    in\n",
    "    loop p 0 ;;\n",
    "\n",
    "count two ;;\n",
    "count three ;;"
   ]
  },
  {
   "cell_type": "code",
   "execution_count": 81,
   "id": "b112b3a5",
   "metadata": {},
   "outputs": [
    {
     "data": {
      "text/plain": [
       "module GList :\n",
       "  sig\n",
       "    type zero\n",
       "    and _ t = [] : zero t | (::) : 'a * 'b t -> ('a * 'b) t\n",
       "    val hd : ('a * 'b) t -> 'a\n",
       "    val tl : ('b * 'a) t -> 'a t\n",
       "    val length : 'a t -> int\n",
       "  end\n"
      ]
     },
     "execution_count": 81,
     "metadata": {},
     "output_type": "execute_result"
    },
    {
     "data": {
      "text/plain": [
       "val lst : (string * (float * (int * (char * GList.zero)))) GList.t =\n",
       "  GList.(::) (\"hello\",\n",
       "   GList.(::) (1.1, GList.(::) (1, GList.(::) ('a', GList.[]))))\n"
      ]
     },
     "execution_count": 81,
     "metadata": {},
     "output_type": "execute_result"
    },
    {
     "data": {
      "text/plain": [
       "- : string = \"hello\"\n"
      ]
     },
     "execution_count": 81,
     "metadata": {},
     "output_type": "execute_result"
    },
    {
     "data": {
      "text/plain": [
       "- : (float * (int * (char * GList.zero))) GList.t =\n",
       "GList.(::) (1.1, GList.(::) (1, GList.(::) ('a', GList.[])))\n"
      ]
     },
     "execution_count": 81,
     "metadata": {},
     "output_type": "execute_result"
    },
    {
     "data": {
      "text/plain": [
       "- : int = 4\n"
      ]
     },
     "execution_count": 81,
     "metadata": {},
     "output_type": "execute_result"
    },
    {
     "ename": "error",
     "evalue": "compile_error",
     "output_type": "error",
     "traceback": [
      "File \"[81]\", line 18, characters 10-12:\n18 | GList.hd ([] : (_ * _) GList.t) ;;\n               ^^\nError: This expression has type GList.zero GList.t\n       but an expression was expected of type ('a * 'b) GList.t\n       Type GList.zero is not compatible with type 'a * 'b \n"
     ]
    }
   ],
   "source": [
    "module GList = struct \n",
    "    type zero\n",
    "    and _ t =\n",
    "        | [] :  zero t\n",
    "        | ( :: ) : 'a * 'b t -> ('a * 'b) t\n",
    "    \n",
    "    let hd : type a. (a * _) t -> a = function (h :: _) -> h ;;  \n",
    "    let tl : type a. (_ * a) t -> a t = function (_ :: tl ) -> tl ;;\n",
    "    let rec length : type a. a t -> int = function\n",
    "        | [] -> 0\n",
    "        | _ :: t -> 1 + (length t) \n",
    "end ;;\n",
    "\n",
    "let lst : (_*_) GList.t = [\"hello\"; 1.1; 1; 'a'] ;;\n",
    "GList.hd lst ;;\n",
    "GList.tl lst ;;\n",
    "GList.length lst ;;\n",
    "GList.hd ([] : (_ * _) GList.t) ;;"
   ]
  },
  {
   "cell_type": "code",
   "execution_count": 223,
   "id": "3c832521",
   "metadata": {},
   "outputs": [
    {
     "data": {
      "text/plain": [
       "module GList :\n",
       "  sig\n",
       "    type zero\n",
       "    type (_, _) t =\n",
       "        Nil : ('a, zero) t\n",
       "      | Cons : 'a * ('a, 'b) t -> ('a, unit) t\n",
       "    val hd : ('a, unit) t -> 'a\n",
       "  end\n"
      ]
     },
     "execution_count": 223,
     "metadata": {},
     "output_type": "execute_result"
    },
    {
     "data": {
      "text/plain": [
       "val lst : (int, unit) GList.t = GList.Cons (1, GList.Cons (2, GList.Nil))\n"
      ]
     },
     "execution_count": 223,
     "metadata": {},
     "output_type": "execute_result"
    },
    {
     "data": {
      "text/plain": [
       "- : int = 1\n"
      ]
     },
     "execution_count": 223,
     "metadata": {},
     "output_type": "execute_result"
    },
    {
     "ename": "error",
     "evalue": "compile_error",
     "output_type": "error",
     "traceback": [
      "File \"[223]\", line 17, characters 10-12:\n17 | GList.hd ([] : (_,_) GList.t) ;;\n               ^^\nError: This variant expression is expected to have type ('a, 'b) GList.t\n       There is no constructor [] within type GList.t\n"
     ]
    }
   ],
   "source": [
    "module GList = struct \n",
    "    type zero\n",
    "    type (_,_) t =\n",
    "        | Nil :  ('a, zero) t\n",
    "        | Cons : 'a * ('a, 'b) t -> ('a, unit) t\n",
    "    \n",
    "    let hd : type a. (a, unit) t -> a = function (Cons (h,_)) -> h ;;  \n",
    "    \n",
    "    (* todo: implement tl and length function *)\n",
    "end ;;\n",
    "\n",
    "let lst =  GList.Cons (1, Cons(2, Nil)) ;;\n",
    "GList.hd lst ;;\n",
    "\n",
    "(* GList.tl lst ;;\n",
    "GList.length lst ;; *)\n",
    "GList.hd ([] : (_,_) GList.t) ;;"
   ]
  },
  {
   "cell_type": "code",
   "execution_count": 29,
   "id": "79adaba3",
   "metadata": {},
   "outputs": [
    {
     "data": {
      "text/plain": [
       "type _ value =\n",
       "    Int : int -> int value\n",
       "  | Float : float -> float value\n",
       "  | Bool : bool -> bool value\n"
      ]
     },
     "execution_count": 29,
     "metadata": {},
     "output_type": "execute_result"
    },
    {
     "data": {
      "text/plain": [
       "type _ expr =\n",
       "    Value : 'a value -> 'a expr\n",
       "  | Eq : int expr * int expr -> bool expr\n",
       "  | Plus : int expr * int expr -> int expr\n",
       "  | FPlus : float expr * float expr -> float expr\n",
       "  | If : bool expr * 'a expr * 'a expr -> 'a expr\n"
      ]
     },
     "execution_count": 29,
     "metadata": {},
     "output_type": "execute_result"
    },
    {
     "data": {
      "text/plain": [
       "val eval_value : 'a value -> 'a = <fun>\n"
      ]
     },
     "execution_count": 29,
     "metadata": {},
     "output_type": "execute_result"
    },
    {
     "data": {
      "text/plain": [
       "val eval : 'a expr -> 'a = <fun>\n"
      ]
     },
     "execution_count": 29,
     "metadata": {},
     "output_type": "execute_result"
    },
    {
     "data": {
      "text/plain": [
       "- : float = 20.\n"
      ]
     },
     "execution_count": 29,
     "metadata": {},
     "output_type": "execute_result"
    }
   ],
   "source": [
    "type _ value =\n",
    "    | Int : int -> int value\n",
    "    | Float : float -> float value\n",
    "    | Bool : bool -> bool value ;;\n",
    "    \n",
    "type _ expr =\n",
    "    | Value : 'a value -> 'a expr\n",
    "    | Eq : int expr * int expr -> bool expr\n",
    "    | Plus : int expr * int expr -> int expr\n",
    "    | FPlus : float expr * float expr -> float expr\n",
    "    | If :  bool expr * 'a expr * 'a expr -> 'a expr ;;\n",
    "    \n",
    "let eval_value : type a. a value -> a = \n",
    "    function Int x -> x | Float x -> x | Bool x -> x ;;\n",
    "    \n",
    "let rec eval : type a. a expr -> a = \n",
    " fun e : a ->    \n",
    "    match e with\n",
    "    | Value v -> eval_value v \n",
    "    | Eq (x, y) -> (eval x) = (eval y)\n",
    "    | Plus (x, y) -> (eval x) + (eval y)\n",
    "    | FPlus (x, y) -> (eval x) +. (eval y)\n",
    "    | If (c, x, y) -> if eval c then eval x else eval y ;;\n",
    "    \n",
    "eval (FPlus (Value (Float 10.), Value (Float 10.))) ;;"
   ]
  },
  {
   "cell_type": "code",
   "execution_count": null,
   "id": "72ba7e26",
   "metadata": {},
   "outputs": [],
   "source": []
  }
 ],
 "metadata": {
  "kernelspec": {
   "display_name": "OCaml 4.14.0",
   "language": "OCaml",
   "name": "ocaml-jupyter-4.14.0"
  },
  "language_info": {
   "codemirror_mode": "text/x-ocaml",
   "file_extension": ".ml",
   "mimetype": "text/x-ocaml",
   "name": "OCaml",
   "nbconverter_exporter": null,
   "pygments_lexer": "OCaml",
   "version": "4.14.0"
  },
  "widgets": {
   "application/vnd.jupyter.widget-state+json": {
    "state": {},
    "version_major": 2,
    "version_minor": 0
   }
  }
 },
 "nbformat": 4,
 "nbformat_minor": 5
}
