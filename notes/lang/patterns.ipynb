{
 "cells": [
  {
   "cell_type": "markdown",
   "id": "4fad5e3e-0d8c-40af-b9b3-8fbe24fcdd6a",
   "metadata": {},
   "source": [
    "# Patterns\n",
    "- https://v2.ocaml.org/manual/patterns.html"
   ]
  },
  {
   "cell_type": "markdown",
   "id": "a9f40370-c64a-4424-90b6-a6278ad074b8",
   "metadata": {},
   "source": [
    "##### 🟢 &nbsp; &nbsp; Variable patterns:  binding the name to the value"
   ]
  },
  {
   "cell_type": "code",
   "execution_count": 165,
   "id": "5d72b738-ea1b-4a6a-9832-225791ea540b",
   "metadata": {},
   "outputs": [
    {
     "data": {
      "text/plain": [
       "val get_second : 'a list -> 'a option = <fun>\n"
      ]
     },
     "execution_count": 165,
     "metadata": {},
     "output_type": "execute_result"
    },
    {
     "data": {
      "text/plain": [
       "- : int option = Some 2\n"
      ]
     },
     "execution_count": 165,
     "metadata": {},
     "output_type": "execute_result"
    },
    {
     "data": {
      "text/plain": [
       "val is_sorted : 'a * 'a * 'a -> bool = <fun>\n"
      ]
     },
     "execution_count": 165,
     "metadata": {},
     "output_type": "execute_result"
    },
    {
     "data": {
      "text/plain": [
       "- : bool = true\n"
      ]
     },
     "execution_count": 165,
     "metadata": {},
     "output_type": "execute_result"
    },
    {
     "data": {
      "text/plain": [
       "- : bool = true\n"
      ]
     },
     "execution_count": 165,
     "metadata": {},
     "output_type": "execute_result"
    }
   ],
   "source": [
    "let get_second = function\n",
    " | [] | [_] -> None\n",
    " | [_; x] -> Some x \n",
    " | _ :: x :: tl -> Some x ;;\n",
    " \n",
    " get_second ([1; 2; 3]) ;;\n",
    " \n",
    " let is_sorted = function\n",
    " | (x, y, z) when x < y && y < z -> true\n",
    " | _ -> false ;;\n",
    " \n",
    " is_sorted (1,2,3) ;;\n",
    " is_sorted (1.1, 2.2, 3.3) ;;"
   ]
  },
  {
   "cell_type": "markdown",
   "id": "0db2e672-0a08-434c-862e-ea4e4618a5d1",
   "metadata": {},
   "source": [
    "##### 🟢 &nbsp; &nbsp; Constant patterns"
   ]
  },
  {
   "cell_type": "code",
   "execution_count": 166,
   "id": "ec1e623c-bc8a-4e76-9c9c-3c5b41f8aa8e",
   "metadata": {},
   "outputs": [
    {
     "data": {
      "text/plain": [
       "val is_on : string -> bool = <fun>\n"
      ]
     },
     "execution_count": 166,
     "metadata": {},
     "output_type": "execute_result"
    }
   ],
   "source": [
    "let is_on = function\n",
    "| \"On\" -> true\n",
    "| \"Off\" -> false\n",
    "| _ -> raise (Invalid_argument \"is_on\") ;;"
   ]
  },
  {
   "cell_type": "markdown",
   "id": "f18cc9a1-82a1-4cf8-8a3f-860bdb7efc87",
   "metadata": {},
   "source": [
    "##### 🟢 &nbsp; &nbsp; Alias Patterns"
   ]
  },
  {
   "cell_type": "code",
   "execution_count": 167,
   "id": "d1fe1848-399d-456e-9a2a-363b84ea9068",
   "metadata": {},
   "outputs": [
    {
     "data": {
      "text/plain": [
       "val sort_pair : 'a * 'a -> 'a * 'a = <fun>\n"
      ]
     },
     "execution_count": 167,
     "metadata": {},
     "output_type": "execute_result"
    }
   ],
   "source": [
    "let sort_pair ((x, y) as p) =\n",
    "    if x < y then p else (y, x) ;;"
   ]
  },
  {
   "cell_type": "markdown",
   "id": "70f72281-aaf2-45a5-a853-ebb86ba0581a",
   "metadata": {},
   "source": [
    "##### 🟢 &nbsp; &nbsp; Parenthesized patterns: type constraints can appear in parenthesis"
   ]
  },
  {
   "cell_type": "code",
   "execution_count": 168,
   "id": "c65fdb64-f5b3-433e-aa46-c4a35e30bf8d",
   "metadata": {},
   "outputs": [
    {
     "data": {
      "text/plain": [
       "val greater_one : (int * int) * (int * int) -> int * int = <fun>\n"
      ]
     },
     "execution_count": 168,
     "metadata": {},
     "output_type": "execute_result"
    },
    {
     "data": {
      "text/plain": [
       "- : int * int = (3, 4)\n"
      ]
     },
     "execution_count": 168,
     "metadata": {},
     "output_type": "execute_result"
    }
   ],
   "source": [
    "let greater_one ((((x1, y1) as p1), ((x2, y2) as p2)) : (int * int) * (int * int)) : (int * int) =\n",
    "   if  x1 > x2 || y1 > y2 then p1 else p2 ;;\n",
    "   \n",
    "greater_one ((1,2), (3,4)) ;;"
   ]
  },
  {
   "cell_type": "markdown",
   "id": "0aad3428-dd9f-45b3-8482-9af87738cc43",
   "metadata": {},
   "source": [
    "##### 🟢 &nbsp; &nbsp; \"Or\" patterns"
   ]
  },
  {
   "cell_type": "code",
   "execution_count": 169,
   "id": "2187e791-1c9e-4f85-88e8-d17231cb51eb",
   "metadata": {},
   "outputs": [
    {
     "data": {
      "text/plain": [
       "val is_vowel : char -> bool = <fun>\n"
      ]
     },
     "execution_count": 169,
     "metadata": {},
     "output_type": "execute_result"
    },
    {
     "data": {
      "text/plain": [
       "- : bool = false\n"
      ]
     },
     "execution_count": 169,
     "metadata": {},
     "output_type": "execute_result"
    }
   ],
   "source": [
    "let is_vowel = function 'a' | 'e' | 'i' | 'o' | 'u' -> true | _ -> false ;;\n",
    "\n",
    "is_vowel 'y' ;;"
   ]
  },
  {
   "cell_type": "markdown",
   "id": "e8eb08b6-ab90-4b75-be64-8765a5f87df4",
   "metadata": {},
   "source": [
    "##### 🟢 &nbsp; &nbsp; Variant patterns"
   ]
  },
  {
   "cell_type": "code",
   "execution_count": 170,
   "id": "21f1f0a7-01db-444d-a7e1-7ff2cf4895f4",
   "metadata": {},
   "outputs": [
    {
     "data": {
      "text/plain": [
       "type _ expr = Int : int -> int expr | Add : 'a expr * 'a expr -> 'a expr\n"
      ]
     },
     "execution_count": 170,
     "metadata": {},
     "output_type": "execute_result"
    },
    {
     "data": {
      "text/plain": [
       "val eval : int expr -> int = <fun>\n"
      ]
     },
     "execution_count": 170,
     "metadata": {},
     "output_type": "execute_result"
    },
    {
     "data": {
      "text/plain": [
       "- : int = 20\n"
      ]
     },
     "execution_count": 170,
     "metadata": {},
     "output_type": "execute_result"
    },
    {
     "data": {
      "text/plain": [
       "val destutter : 'a list -> 'a list = <fun>\n"
      ]
     },
     "execution_count": 170,
     "metadata": {},
     "output_type": "execute_result"
    }
   ],
   "source": [
    "type _ expr = \n",
    "    | Int : int -> int expr \n",
    "    | Add : 'a expr * 'a expr -> 'a expr ;;\n",
    "let rec eval = function\n",
    "    | Int x -> x\n",
    "    | Add (expr1, expr2) -> (eval expr1) + (eval expr2) ;;\n",
    "eval (Add (Int 10, Int 10)) ;;\n",
    "\n",
    "let rec destutter l = \n",
    "    match l with\n",
    "    | [] | [_] -> l \n",
    "    | h1 :: h2 :: tl -> if h1 = h2 then destutter (h2 :: tl) else h1 :: destutter (h2 :: tl) ;;"
   ]
  },
  {
   "cell_type": "markdown",
   "id": "778eb13d-550a-4612-9533-4c16d5a9faed",
   "metadata": {},
   "source": [
    "##### 🟢 &nbsp; &nbsp; Polymorphic variant patterns"
   ]
  },
  {
   "cell_type": "code",
   "execution_count": 171,
   "id": "3128493f-0be3-4e5f-a4eb-36aecba2054f",
   "metadata": {},
   "outputs": [
    {
     "data": {
      "text/plain": [
       "val check : [< `Error of 'a | `Ok of 'a ] -> 'a = <fun>\n"
      ]
     },
     "execution_count": 171,
     "metadata": {},
     "output_type": "execute_result"
    },
    {
     "data": {
      "text/plain": [
       "- : int = 10\n"
      ]
     },
     "execution_count": 171,
     "metadata": {},
     "output_type": "execute_result"
    },
    {
     "data": {
      "text/plain": [
       "- : string = \"error\"\n"
      ]
     },
     "execution_count": 171,
     "metadata": {},
     "output_type": "execute_result"
    }
   ],
   "source": [
    "let check = function\n",
    " | `Ok x -> x\n",
    " | `Error x -> x ;;\n",
    " \n",
    "check (`Ok 10) ;;\n",
    "check (`Error \"error\") ;;"
   ]
  },
  {
   "cell_type": "markdown",
   "id": "88c1c7f6-da50-4d2f-b38f-3671302b7760",
   "metadata": {},
   "source": [
    "##### 🟢 &nbsp; &nbsp; Polymorphic variant abbreviation patterns"
   ]
  },
  {
   "cell_type": "code",
   "execution_count": 172,
   "id": "76b5c384-7197-4e75-987d-88ee291753af",
   "metadata": {},
   "outputs": [
    {
     "data": {
      "text/plain": [
       "type ae = [ `A of int | `E of int ]\n"
      ]
     },
     "execution_count": 172,
     "metadata": {},
     "output_type": "execute_result"
    },
    {
     "data": {
      "text/plain": [
       "type vowels = [ `A of int | `E of int | `I of int | `O of int | `U of int ]\n"
      ]
     },
     "execution_count": 172,
     "metadata": {},
     "output_type": "execute_result"
    },
    {
     "data": {
      "text/plain": [
       "val get_vowel_id :\n",
       "  [> `A of int | `E of int | `I of 'a ] ->\n",
       "  [> `A of int | `E of int | `I of 'a ] option = <fun>\n"
      ]
     },
     "execution_count": 172,
     "metadata": {},
     "output_type": "execute_result"
    }
   ],
   "source": [
    "type ae = [ `A of int | `E of int  ] ;;\n",
    "type vowels = [ `I of int | `O of int | `U of int | ae ] ;;\n",
    "\n",
    "let get_vowel_id = function\n",
    "    | #ae as r -> Some r\n",
    "    | `I _ as i -> Some i \n",
    "    | _ ->  None ;;"
   ]
  },
  {
   "cell_type": "markdown",
   "id": "6ef7323f-b580-4950-92ec-3f48f8b9c9c7",
   "metadata": {},
   "source": [
    "##### 🟢 &nbsp; &nbsp; Tuple patterns"
   ]
  },
  {
   "cell_type": "code",
   "execution_count": 173,
   "id": "035f42a0-59c2-4e80-b677-a8c7655441c1",
   "metadata": {},
   "outputs": [
    {
     "data": {
      "text/plain": [
       "val choose : int * 'a * 'a -> 'a = <fun>\n"
      ]
     },
     "execution_count": 173,
     "metadata": {},
     "output_type": "execute_result"
    },
    {
     "data": {
      "text/plain": [
       "- : int = 2\n"
      ]
     },
     "execution_count": 173,
     "metadata": {},
     "output_type": "execute_result"
    },
    {
     "data": {
      "text/plain": [
       "- : int = 5\n"
      ]
     },
     "execution_count": 173,
     "metadata": {},
     "output_type": "execute_result"
    },
    {
     "data": {
      "text/plain": [
       "val choose : 'a * 'a option -> 'a = <fun>\n"
      ]
     },
     "execution_count": 173,
     "metadata": {},
     "output_type": "execute_result"
    },
    {
     "data": {
      "text/plain": [
       "- : int = 10\n"
      ]
     },
     "execution_count": 173,
     "metadata": {},
     "output_type": "execute_result"
    },
    {
     "data": {
      "text/plain": [
       "- : int = 1\n"
      ]
     },
     "execution_count": 173,
     "metadata": {},
     "output_type": "execute_result"
    }
   ],
   "source": [
    "let choose (0, x, _ | _, _, x) = x ;;\n",
    "choose (0, 2, 4) ;;\n",
    "choose (1, 1, 5) ;;\n",
    "\n",
    "let choose (x, None | _, Some x) = x ;;\n",
    "choose (1, Some 10);;\n",
    "choose (1, None) ;;"
   ]
  },
  {
   "cell_type": "markdown",
   "id": "0d265f6c-c4e6-4fc3-816e-131362da03ea",
   "metadata": {},
   "source": [
    "##### 🟢 &nbsp; &nbsp; Record patterns"
   ]
  },
  {
   "cell_type": "code",
   "execution_count": 174,
   "id": "28303237-1e5f-4d3d-af53-1500f3aa83e7",
   "metadata": {},
   "outputs": [
    {
     "data": {
      "text/plain": [
       "type person = { name : string; age : float; }\n"
      ]
     },
     "execution_count": 174,
     "metadata": {},
     "output_type": "execute_result"
    },
    {
     "data": {
      "text/plain": [
       "val p1 : person = {name = \"Ryan\"; age = 6.5}\n"
      ]
     },
     "execution_count": 174,
     "metadata": {},
     "output_type": "execute_result"
    },
    {
     "data": {
      "text/plain": [
       "val n : string = \"Ryan\"\n"
      ]
     },
     "execution_count": 174,
     "metadata": {},
     "output_type": "execute_result"
    },
    {
     "data": {
      "text/plain": [
       "val age : float = 6.5\n"
      ]
     },
     "execution_count": 174,
     "metadata": {},
     "output_type": "execute_result"
    },
    {
     "data": {
      "text/plain": [
       "type human = Good of person | Bad of person | Ugly of person\n"
      ]
     },
     "execution_count": 174,
     "metadata": {},
     "output_type": "execute_result"
    },
    {
     "data": {
      "text/plain": [
       "val who : human -> string = <fun>\n"
      ]
     },
     "execution_count": 174,
     "metadata": {},
     "output_type": "execute_result"
    },
    {
     "data": {
      "text/plain": [
       "- : string = \"Ryan\"\n"
      ]
     },
     "execution_count": 174,
     "metadata": {},
     "output_type": "execute_result"
    }
   ],
   "source": [
    "type person = { name : string; age : float } ;;\n",
    "let p1 = { name = \"Ryan\"; age = 6.5 } ;;\n",
    "\n",
    "let { name = n } = p1 ;;\n",
    "let { age } = p1 ;;\n",
    "\n",
    "type human =\n",
    "    | Good of person\n",
    "    | Bad of person\n",
    "    | Ugly of person ;;\n",
    "    \n",
    "let who = function\n",
    " | Good { name } -> name \n",
    " | _ -> \"Bad & Ugly\" ;;\n",
    "    \n",
    "who (Good p1) ;;"
   ]
  },
  {
   "cell_type": "markdown",
   "id": "7ad0fc02-40ab-4ae1-8a0d-82e857d6ca7c",
   "metadata": {},
   "source": [
    "##### 🟢 &nbsp; &nbsp; Array patterns"
   ]
  },
  {
   "cell_type": "code",
   "execution_count": 175,
   "id": "9ce9b751-a58d-4bee-b8ef-0e71263f4051",
   "metadata": {},
   "outputs": [
    {
     "data": {
      "text/plain": [
       "val arr : int array array = [|[|0; 0; 0|]; [|2; 2; 2|]; [|4; 4; 4|]|]\n"
      ]
     },
     "execution_count": 175,
     "metadata": {},
     "output_type": "execute_result"
    },
    {
     "data": {
      "text/plain": [
       "val choose : 'a array array -> ('a * 'a * 'a) option = <fun>\n"
      ]
     },
     "execution_count": 175,
     "metadata": {},
     "output_type": "execute_result"
    },
    {
     "data": {
      "text/plain": [
       "- : (int * int * int) option = Some (0, 2, 4)\n"
      ]
     },
     "execution_count": 175,
     "metadata": {},
     "output_type": "execute_result"
    }
   ],
   "source": [
    "let arr = Array.init 3 (fun x -> Array.make 3 (x * 2)) ;;\n",
    "\n",
    "let choose = function\n",
    "    |[|\n",
    "        [|a; _; _|];\n",
    "        [|_; b; _|];\n",
    "        [|_; _; c|];\n",
    "     |] -> Some (a, b, c) \n",
    "    | _ -> None ;;\n",
    "    \n",
    "choose arr ;;"
   ]
  },
  {
   "cell_type": "markdown",
   "id": "6dde69ec-52e3-44e6-a2c7-c92fa50d03bb",
   "metadata": {},
   "source": [
    "##### 🟢 &nbsp; &nbsp; Range patterns"
   ]
  },
  {
   "cell_type": "code",
   "execution_count": 176,
   "id": "209d1937-b448-431b-86a1-a4c8877f95dc",
   "metadata": {},
   "outputs": [
    {
     "data": {
      "text/plain": [
       "type char_class = Uppercase | Lowercase | Digit | Other\n"
      ]
     },
     "execution_count": 176,
     "metadata": {},
     "output_type": "execute_result"
    },
    {
     "data": {
      "text/plain": [
       "val classify : char -> char_class = <fun>\n"
      ]
     },
     "execution_count": 176,
     "metadata": {},
     "output_type": "execute_result"
    },
    {
     "data": {
      "text/plain": [
       "- : char_class = Digit\n"
      ]
     },
     "execution_count": 176,
     "metadata": {},
     "output_type": "execute_result"
    }
   ],
   "source": [
    "type char_class = Uppercase | Lowercase | Digit | Other ;;\n",
    "let classify = function\n",
    "    | 'A'..'Z' -> Uppercase\n",
    "    | 'a'..'z' -> Lowercase\n",
    "    | '0'..'9' -> Digit\n",
    "    | _ -> Other ;;\n",
    "classify '7' ;;"
   ]
  },
  {
   "cell_type": "markdown",
   "id": "2b3c27d9-985f-4dd5-b92b-b00d6a477d90",
   "metadata": {},
   "source": [
    "##### 🟢 &nbsp; &nbsp; Lazy patterns"
   ]
  },
  {
   "cell_type": "code",
   "execution_count": 177,
   "id": "ca6c75f9-cb9b-40c7-a692-b3dd38919fe8",
   "metadata": {},
   "outputs": [
    {
     "data": {
      "text/plain": [
       "val lzy : (int -> int) lazy_t = lazy <fun>\n"
      ]
     },
     "execution_count": 177,
     "metadata": {},
     "output_type": "execute_result"
    },
    {
     "data": {
      "text/plain": [
       "val force_lzy : (int -> 'a) lazy_t -> 'a = <fun>\n"
      ]
     },
     "execution_count": 177,
     "metadata": {},
     "output_type": "execute_result"
    },
    {
     "data": {
      "text/plain": [
       "- : int = 2\n"
      ]
     },
     "execution_count": 177,
     "metadata": {},
     "output_type": "execute_result"
    },
    {
     "data": {
      "text/plain": [
       "val force_opt : int lazy_t option -> int = <fun>\n"
      ]
     },
     "execution_count": 177,
     "metadata": {},
     "output_type": "execute_result"
    },
    {
     "data": {
      "text/plain": [
       "- : int = 10\n"
      ]
     },
     "execution_count": 177,
     "metadata": {},
     "output_type": "execute_result"
    },
    {
     "data": {
      "text/plain": [
       "val plus_1 : unit -> int = <fun>\n"
      ]
     },
     "execution_count": 177,
     "metadata": {},
     "output_type": "execute_result"
    },
    {
     "data": {
      "text/plain": [
       "val lzy : int Lazy.t = <lazy>\n"
      ]
     },
     "execution_count": 177,
     "metadata": {},
     "output_type": "execute_result"
    },
    {
     "data": {
      "text/plain": [
       "- : int = 10\n"
      ]
     },
     "execution_count": 177,
     "metadata": {},
     "output_type": "execute_result"
    }
   ],
   "source": [
    "let lzy = lazy (fun x -> x + 1) ;;\n",
    "let force_lzy = function\n",
    "    | lazy f -> f (1) ;;\n",
    "force_lzy lzy ;;\n",
    "\n",
    "let force_opt = function\n",
    "    | Some (lazy n) -> n\n",
    "    | None -> 0 ;;\n",
    "    \n",
    "force_opt (Some (lazy 10)) ;;\n",
    "\n",
    "let plus_1 = fun () -> 10 ;;\n",
    "let lzy = Lazy.from_fun plus_1 ;;\n",
    "match lzy with lazy n -> n;;"
   ]
  },
  {
   "cell_type": "markdown",
   "id": "d6b9fd5e-158c-4e42-8be7-2e10fe73904d",
   "metadata": {},
   "source": [
    "##### 🟢 &nbsp; &nbsp; Exception patterns"
   ]
  },
  {
   "cell_type": "code",
   "execution_count": 178,
   "id": "5dd931cb-ce4a-40f6-bc78-1abd69c74186",
   "metadata": {},
   "outputs": [
    {
     "data": {
      "text/plain": [
       "val head : 'a -> 'b option = <fun>\n"
      ]
     },
     "execution_count": 178,
     "metadata": {},
     "output_type": "execute_result"
    },
    {
     "data": {
      "text/plain": [
       "- : 'a option = None\n"
      ]
     },
     "execution_count": 178,
     "metadata": {},
     "output_type": "execute_result"
    },
    {
     "data": {
      "text/plain": [
       "- : 'a option = None\n"
      ]
     },
     "execution_count": 178,
     "metadata": {},
     "output_type": "execute_result"
    }
   ],
   "source": [
    "let head l = match List.hd [] with exception Failure _ -> None | _ as n -> n ;;\n",
    "head [] ;;\n",
    "head [1; 2] ;;"
   ]
  },
  {
   "cell_type": "markdown",
   "id": "dbcefdc0-4d71-4913-8f6a-c21f71048f8e",
   "metadata": {},
   "source": [
    "##### 🟢 &nbsp; &nbsp; Local opens for patterns"
   ]
  },
  {
   "cell_type": "code",
   "execution_count": 180,
   "id": "df428330-9b06-4285-9682-27f0bb1e271b",
   "metadata": {},
   "outputs": [
    {
     "data": {
      "text/plain": [
       "val len : (int list -> 'a) -> 'a = <fun>\n"
      ]
     },
     "execution_count": 180,
     "metadata": {},
     "output_type": "execute_result"
    },
    {
     "data": {
      "text/plain": [
       "- : int = 2\n"
      ]
     },
     "execution_count": 180,
     "metadata": {},
     "output_type": "execute_result"
    },
    {
     "data": {
      "text/plain": [
       "- : int = 0\n"
      ]
     },
     "execution_count": 180,
     "metadata": {},
     "output_type": "execute_result"
    },
    {
     "data": {
      "text/plain": [
       "module M :\n",
       "  sig\n",
       "    type t = { name : string; age : float; country : string; }\n",
       "    val godot : t\n",
       "    val people_list : t list\n",
       "    val people_array : t list\n",
       "  end\n"
      ]
     },
     "execution_count": 180,
     "metadata": {},
     "output_type": "execute_result"
    },
    {
     "data": {
      "text/plain": [
       "val godot_name : M.t -> string = <fun>\n"
      ]
     },
     "execution_count": 180,
     "metadata": {},
     "output_type": "execute_result"
    },
    {
     "data": {
      "text/plain": [
       "- : string = \"Godot\"\n"
      ]
     },
     "execution_count": 180,
     "metadata": {},
     "output_type": "execute_result"
    },
    {
     "data": {
      "text/plain": [
       "- : string = \"dotgod\"\n"
      ]
     },
     "execution_count": 180,
     "metadata": {},
     "output_type": "execute_result"
    }
   ],
   "source": [
    "let len List.(length) = length [1; 2] ;;\n",
    "len (List.length) ;;\n",
    "len (fun l -> 0) ;; (* crazy *)\n",
    "\n",
    "module M = struct \n",
    "    type t = { name : string; age : float; country: string } \n",
    "    let godot = { name = \"Godot\"; age = infinity; country = \"unknown\" } \n",
    "    let people_list = [godot; { name = \"Ryan\"; age = 6.5; country = \"Myanmar\" } ] \n",
    "    let people_array = [godot; { name = \"Ryan\"; age = 6.5; country = \"Myanmar\" } ] \n",
    "end ;;\n",
    "\n",
    "let godot_name M.{name = n} = n ;;\n",
    "godot_name M.godot ;;\n",
    "\n",
    "godot_name M.{ godot with age = float (List.length people_list);  name = \"dotgod\" } ;;"
   ]
  }
 ],
 "metadata": {
  "kernelspec": {
   "display_name": "OCaml 4.14.0",
   "language": "OCaml",
   "name": "ocaml-jupyter-4.14.0"
  },
  "language_info": {
   "codemirror_mode": "text/x-ocaml",
   "file_extension": ".ml",
   "mimetype": "text/x-ocaml",
   "name": "OCaml",
   "nbconverter_exporter": null,
   "pygments_lexer": "OCaml",
   "version": "4.14.0"
  },
  "widgets": {
   "application/vnd.jupyter.widget-state+json": {
    "state": {},
    "version_major": 2,
    "version_minor": 0
   }
  }
 },
 "nbformat": 4,
 "nbformat_minor": 5
}
