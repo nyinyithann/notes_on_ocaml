{
 "cells": [
  {
   "cell_type": "markdown",
   "id": "057ba598-2669-4441-bd3a-6b602b283413",
   "metadata": {},
   "source": [
    "# Operators\n",
    "- https://v2.ocaml.org/manual/lex.html#sss:lex-ops-symbols\n",
    "- https://caml.inria.fr/pub/docs/manual-caml-light/node4.9.html\n",
    "<br/><br/>The following table lists the precedence level of all operator classes from the highest to the lowest precedence. A few other syntactic constructions are also listed as references."
   ]
  },
  {
   "cell_type": "markdown",
   "id": "0953ba2d-2af6-4c5b-9027-71306edbcee8",
   "metadata": {},
   "source": [
    "|Operator class                             | Associativity   |\n",
    "--------------------------------------------|-----------------|\n",
    "|!… ~…                                   | -               |\n",
    "|.…() .…[] .…{}  | - |\n",
    "|#…|left|\n",
    "|function application|left|\n",
    "|- -.|-|\n",
    "|**… lsl lsr asr|right|\n",
    "|*… /… %… mod land lor lxor|left|\n",
    "|+… -…|left|\n",
    "|::| right|\n",
    "|@… ^…| right|\n",
    "|=… <…| left|\n",
    "|>… \\|… &… $… !=| |\n",
    "| not| -|\n",
    "| & &&| right |\n",
    "| or  \\| \\| | right|\n",
    "|, | -|\n",
    "|<-  :=| right|\n",
    "|if |-|\n",
    "|; | right|"
   ]
  },
  {
   "cell_type": "markdown",
   "id": "36615b29-12dd-4a3e-a0bd-ad01e1544a82",
   "metadata": {},
   "source": [
    "### Infix symbols"
   ]
  },
  {
   "cell_type": "markdown",
   "id": "113fcfb1-f3bc-43c6-8fbe-a43639f8d88c",
   "metadata": {},
   "source": [
    "\n",
    "A function is infix if its name starts with one of these characters:\n",
    "<pre>$  &  *  +  -  /  =  >  @  ^  |  %  <  # </pre>\n",
    "\n",
    "Followed by zero or more of these characters:\n",
    "<pre>\n",
    "~ ! ? $  &  *  +  -  /  =  >  @  ^  | % < : . \n",
    "</pre>"
   ]
  },
  {
   "cell_type": "code",
   "execution_count": 33,
   "id": "7763187d-f4e0-4e30-873d-37f1c9f271d0",
   "metadata": {},
   "outputs": [
    {
     "data": {
      "text/plain": [
       "val ( $+ ) : int -> int -> int = <fun>\n"
      ]
     },
     "execution_count": 33,
     "metadata": {},
     "output_type": "execute_result"
    },
    {
     "data": {
      "text/plain": [
       "- : int = 22\n"
      ]
     },
     "execution_count": 33,
     "metadata": {},
     "output_type": "execute_result"
    },
    {
     "data": {
      "text/plain": [
       "val ( ^< ) : ('a -> 'b) -> ('c -> 'a) -> 'c -> 'b = <fun>\n"
      ]
     },
     "execution_count": 33,
     "metadata": {},
     "output_type": "execute_result"
    },
    {
     "data": {
      "text/plain": [
       "val f : int -> int = <fun>\n"
      ]
     },
     "execution_count": 33,
     "metadata": {},
     "output_type": "execute_result"
    },
    {
     "data": {
      "text/plain": [
       "- : int = 3\n"
      ]
     },
     "execution_count": 33,
     "metadata": {},
     "output_type": "execute_result"
    },
    {
     "data": {
      "text/plain": [
       "val ( #* ) : int -> int -> int = <fun>\n"
      ]
     },
     "execution_count": 33,
     "metadata": {},
     "output_type": "execute_result"
    },
    {
     "data": {
      "text/plain": [
       "- : int = 8\n"
      ]
     },
     "execution_count": 33,
     "metadata": {},
     "output_type": "execute_result"
    },
    {
     "data": {
      "text/plain": [
       "val ( <. ) : int -> int -> int = <fun>\n"
      ]
     },
     "execution_count": 33,
     "metadata": {},
     "output_type": "execute_result"
    },
    {
     "data": {
      "text/plain": [
       "- : int = 4\n"
      ]
     },
     "execution_count": 33,
     "metadata": {},
     "output_type": "execute_result"
    },
    {
     "data": {
      "text/plain": [
       "val ( >. ) : int -> int -> int = <fun>\n"
      ]
     },
     "execution_count": 33,
     "metadata": {},
     "output_type": "execute_result"
    },
    {
     "data": {
      "text/plain": [
       "- : int = 0\n"
      ]
     },
     "execution_count": 33,
     "metadata": {},
     "output_type": "execute_result"
    }
   ],
   "source": [
    "let ( $+ ) x y = x + x + y ;;\n",
    "10 $+ 2 ;;\n",
    "\n",
    "let ( ^< ) f g x = f (g (x)) ;;\n",
    "let f = (fun x -> x - 5) ^< (fun x -> x + 10) ^< (fun x -> x - 3);;\n",
    "f 1 ;;\n",
    "\n",
    "let ( #* ) x y = x * 2 + y * 2 ;;\n",
    "2 #* 2 ;;\n",
    "\n",
    "let ( <. ) = ( lsl ) ;;\n",
    "1 <. 2;;\n",
    "\n",
    "let ( >. ) = ( lsr ) ;;\n",
    "1 >. 2 ;;"
   ]
  },
  {
   "cell_type": "markdown",
   "id": "c7b01fd3-cc1f-4810-beb4-e0e5ac16d225",
   "metadata": {},
   "source": [
    "### Prefix symbols"
   ]
  },
  {
   "cell_type": "markdown",
   "id": "4c6b3200-ed92-4cff-af79-8820d2b41af7",
   "metadata": {},
   "source": [
    "<pre>! or ! with followed by one or more of ? ~ $  &  *  +  -  /  =  >  @  ^  | % < : . </pre>\n",
    "\n",
    "<pre>? or ~ with followed by one or more of ? ~ $  &  *  +  -  /  =  >  @  ^  | % < : . </pre>"
   ]
  },
  {
   "cell_type": "code",
   "execution_count": 34,
   "id": "e54d2af6-751d-419e-b6db-a9e162817ee9",
   "metadata": {},
   "outputs": [
    {
     "data": {
      "text/plain": [
       "val ( ! ) : bool -> bool = <fun>\n"
      ]
     },
     "execution_count": 34,
     "metadata": {},
     "output_type": "execute_result"
    },
    {
     "data": {
      "text/plain": [
       "- : bool = false\n"
      ]
     },
     "execution_count": 34,
     "metadata": {},
     "output_type": "execute_result"
    },
    {
     "data": {
      "text/plain": [
       "val ( ?+ ) : int -> bool = <fun>\n"
      ]
     },
     "execution_count": 34,
     "metadata": {},
     "output_type": "execute_result"
    },
    {
     "data": {
      "text/plain": [
       "- : bool = true\n"
      ]
     },
     "execution_count": 34,
     "metadata": {},
     "output_type": "execute_result"
    },
    {
     "data": {
      "text/plain": [
       "- : bool = false\n"
      ]
     },
     "execution_count": 34,
     "metadata": {},
     "output_type": "execute_result"
    },
    {
     "data": {
      "text/plain": [
       "val ( ~^ ) : int -> int = <fun>\n"
      ]
     },
     "execution_count": 34,
     "metadata": {},
     "output_type": "execute_result"
    },
    {
     "data": {
      "text/plain": [
       "- : int = 2\n"
      ]
     },
     "execution_count": 34,
     "metadata": {},
     "output_type": "execute_result"
    }
   ],
   "source": [
    "let ( ! ) x = not x ;;\n",
    "!true ;;\n",
    "\n",
    "let ( ?+ ) x = if x > 0 then true else false ;;\n",
    "?+10 ;;\n",
    "?+(-1) ;;\n",
    "\n",
    "let ( ~^ ) x = x + 1 ;;\n",
    "~^1;;"
   ]
  }
 ],
 "metadata": {
  "kernelspec": {
   "display_name": "OCaml 4.14.0",
   "language": "OCaml",
   "name": "ocaml-jupyter-4.14.0"
  },
  "language_info": {
   "codemirror_mode": "text/x-ocaml",
   "file_extension": ".ml",
   "mimetype": "text/x-ocaml",
   "name": "OCaml",
   "nbconverter_exporter": null,
   "pygments_lexer": "OCaml",
   "version": "4.14.0"
  },
  "widgets": {
   "application/vnd.jupyter.widget-state+json": {
    "state": {},
    "version_major": 2,
    "version_minor": 0
   }
  }
 },
 "nbformat": 4,
 "nbformat_minor": 5
}
