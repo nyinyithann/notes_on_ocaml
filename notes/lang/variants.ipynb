{
 "cells": [
  {
   "cell_type": "markdown",
   "id": "b83ee8f8-d63f-4245-9ae4-db200833cd73",
   "metadata": {},
   "source": [
    "# Variants\n",
    "- Variant values are either a constant constructor, or a non-constant constructor applied to a number of values. The former case is written constr; the latter case is written constr (v1, ... , vn ), where the vi are said to be the arguments of the non-constant constructor constr. The parentheses may be omitted if there is only one argument.\n",
    "- The current implementation limits each variant type to have at most 246 non-constant constructors and 230−1 constant constructors.\n",
    "- The following constants are treated like built-in constant constructors:\n",
    "|Constant   |Constructor|\n",
    "|-----------|-----------|\n",
    "|false| the boolean false|\n",
    "|true| the boolean true|\n",
    "|()|the \"unit\" value|\n",
    "|[]|the empty list|\n",
    "   "
   ]
  },
  {
   "cell_type": "code",
   "execution_count": 6,
   "id": "877b577e-8117-4a10-be9b-94699eeba91c",
   "metadata": {},
   "outputs": [
    {
     "data": {
      "text/plain": [
       "type fruits = Banana | Apple | Avocado\n"
      ]
     },
     "execution_count": 6,
     "metadata": {},
     "output_type": "execute_result"
    },
    {
     "data": {
      "text/plain": [
       "val eat : fruits -> string = <fun>\n"
      ]
     },
     "execution_count": 6,
     "metadata": {},
     "output_type": "execute_result"
    },
    {
     "data": {
      "text/plain": [
       "- : string = \"yeah!\"\n"
      ]
     },
     "execution_count": 6,
     "metadata": {},
     "output_type": "execute_result"
    },
    {
     "data": {
      "text/plain": [
       "type peano = Zero | Succ of peano\n"
      ]
     },
     "execution_count": 6,
     "metadata": {},
     "output_type": "execute_result"
    },
    {
     "data": {
      "text/plain": [
       "val zero : peano = Zero\n"
      ]
     },
     "execution_count": 6,
     "metadata": {},
     "output_type": "execute_result"
    },
    {
     "data": {
      "text/plain": [
       "val one : peano = Succ Zero\n"
      ]
     },
     "execution_count": 6,
     "metadata": {},
     "output_type": "execute_result"
    },
    {
     "data": {
      "text/plain": [
       "val two : peano = Succ (Succ Zero)\n"
      ]
     },
     "execution_count": 6,
     "metadata": {},
     "output_type": "execute_result"
    },
    {
     "data": {
      "text/plain": [
       "val count : peano -> int = <fun>\n"
      ]
     },
     "execution_count": 6,
     "metadata": {},
     "output_type": "execute_result"
    },
    {
     "data": {
      "text/plain": [
       "- : int = 3\n"
      ]
     },
     "execution_count": 6,
     "metadata": {},
     "output_type": "execute_result"
    },
    {
     "data": {
      "text/plain": [
       "- : int = 4\n"
      ]
     },
     "execution_count": 6,
     "metadata": {},
     "output_type": "execute_result"
    }
   ],
   "source": [
    "type fruits = Banana | Apple | Avocado ;;\n",
    "let eat f = match f with Avocado -> \"yeah!\" | _ -> \"nah!\" ;; \n",
    "eat Avocado ;;\n",
    "\n",
    "type peano = Zero | Succ of peano ;;\n",
    "\n",
    "let zero = Zero ;;\n",
    "let one = Succ zero ;;\n",
    "let two = Succ one ;;\n",
    "\n",
    "let count p =\n",
    "    let rec loop p c =\n",
    "        match p with\n",
    "        | Zero -> c\n",
    "        | Succ x -> loop x (c + 1) \n",
    "    in\n",
    "    loop p 0 ;;\n",
    "\n",
    "count (Succ two) ;;\n",
    "count (Succ (Succ (two))) ;;"
   ]
  },
  {
   "cell_type": "markdown",
   "id": "83c11744-8d2e-4db0-be38-6146484f5219",
   "metadata": {},
   "source": [
    "Variants with multiple arguments look an awful lot like tuples. But they are not. In `Pair (10, \"hello\")` below, `(10, \"hello\")` is not a 2-tuple.<br/>\n",
    "The differences between a multi-argument variant and a variant containing a tuple are mostly about performance. A multi-argument variant is a single allocated block in memory, while a variant containing a tuple requires an extra heap-allocated block for the tuple."
   ]
  },
  {
   "cell_type": "code",
   "execution_count": 10,
   "id": "a8141b52-7e50-4990-b023-bce270465cfd",
   "metadata": {},
   "outputs": [
    {
     "data": {
      "text/plain": [
       "type data = Int of int | String of string | Pair of int * string\n"
      ]
     },
     "execution_count": 10,
     "metadata": {},
     "output_type": "execute_result"
    },
    {
     "data": {
      "text/plain": [
       "val show : data -> string = <fun>\n"
      ]
     },
     "execution_count": 10,
     "metadata": {},
     "output_type": "execute_result"
    },
    {
     "data": {
      "text/plain": [
       "- : string = \"Int 10\"\n"
      ]
     },
     "execution_count": 10,
     "metadata": {},
     "output_type": "execute_result"
    },
    {
     "data": {
      "text/plain": [
       "- : string = \"String hello\"\n"
      ]
     },
     "execution_count": 10,
     "metadata": {},
     "output_type": "execute_result"
    },
    {
     "data": {
      "text/plain": [
       "- : string = \"Int 10, String hello\"\n"
      ]
     },
     "execution_count": 10,
     "metadata": {},
     "output_type": "execute_result"
    }
   ],
   "source": [
    "type data = \n",
    "    | Int of int\n",
    "    | String of string\n",
    "    | Pair of int * string ;;\n",
    "open Printf ;;\n",
    "let show = function \n",
    "            | Int x -> sprintf \"Int %d\" x \n",
    "            | String x -> sprintf \"String %s\" x\n",
    "            | Pair (x, s) -> sprintf \"Int %d, String %s\" x s ;;\n",
    "show (Int 10) ;;\n",
    "show (String \"hello\") ;;\n",
    "show (Pair(10, \"hello\")) ;;"
   ]
  },
  {
   "cell_type": "markdown",
   "id": "394123b7-4ff4-4aa3-bf41-bd537dd89703",
   "metadata": {},
   "source": [
    "The subtle difference between variant multiple arguments and tuple is the later can be grabbed as a whole."
   ]
  },
  {
   "cell_type": "code",
   "execution_count": 23,
   "id": "d822d4cc-3f5a-4841-a9ee-57549323c7f4",
   "metadata": {},
   "outputs": [
    {
     "data": {
      "text/plain": [
       "type point_m = Point of float * float\n"
      ]
     },
     "execution_count": 23,
     "metadata": {},
     "output_type": "execute_result"
    },
    {
     "data": {
      "text/plain": [
       "val pm : point_m = Point (1.1, 2.2)\n"
      ]
     },
     "execution_count": 23,
     "metadata": {},
     "output_type": "execute_result"
    },
    {
     "data": {
      "text/plain": [
       "val x : float = 1.1\n",
       "val y : float = 2.2\n"
      ]
     },
     "execution_count": 23,
     "metadata": {},
     "output_type": "execute_result"
    },
    {
     "data": {
      "text/plain": [
       "type point_t = TupledPoint of (float * float)\n"
      ]
     },
     "execution_count": 23,
     "metadata": {},
     "output_type": "execute_result"
    },
    {
     "data": {
      "text/plain": [
       "val pt : point_t = TupledPoint (4.4, 5.5)\n"
      ]
     },
     "execution_count": 23,
     "metadata": {},
     "output_type": "execute_result"
    },
    {
     "data": {
      "text/plain": [
       "val x : float * float = (4.4, 5.5)\n"
      ]
     },
     "execution_count": 23,
     "metadata": {},
     "output_type": "execute_result"
    },
    {
     "data": {
      "text/plain": [
       "- : float * float = (4.4, 5.5)\n"
      ]
     },
     "execution_count": 23,
     "metadata": {},
     "output_type": "execute_result"
    },
    {
     "data": {
      "text/plain": [
       "val x : float = 4.4\n",
       "val y : float = 5.5\n"
      ]
     },
     "execution_count": 23,
     "metadata": {},
     "output_type": "execute_result"
    }
   ],
   "source": [
    "type point_m = Point of float * float ;;\n",
    "let pm = Point (1.1, 2.2) ;;\n",
    "\n",
    "(* this won't work *)\n",
    "(* let (Point x) = pm ;;  *)\n",
    "\n",
    "let (Point (x,y)) = pm ;;\n",
    "\n",
    "type point_t = TupledPoint of (float * float) ;;\n",
    "let pt = TupledPoint (4.4, 5.5) ;;\n",
    "\n",
    "let (TupledPoint x) = pt ;;\n",
    "x ;;\n",
    "let (TupledPoint (x,y)) = pt ;;"
   ]
  },
  {
   "cell_type": "markdown",
   "id": "44b882f5-7e5a-4642-a3b1-9fa08433e225",
   "metadata": {},
   "source": [
    "Variants with inline records are both more concise and more efficient than having variants containing references to free-standing record types, because they don’t require a separate allocated object for the contents of the variant.\n",
    "<br/>\n",
    "The main downside is the obvious one, which is that an inline record can’t be treated as its own free-standing object.\n",
    "<br/>\n",
    "https://dev.realworldocaml.org/variants.html#variants-tuples-and-parens"
   ]
  },
  {
   "cell_type": "code",
   "execution_count": 33,
   "id": "5b9695b5-7707-4b25-baa3-73a0c57e9d71",
   "metadata": {},
   "outputs": [
    {
     "data": {
      "text/plain": [
       "type circle = { radius : float; centerX : float; centerY : float; }\n"
      ]
     },
     "execution_count": 33,
     "metadata": {},
     "output_type": "execute_result"
    },
    {
     "data": {
      "text/plain": [
       "type shape =\n",
       "    Square of float\n",
       "  | Rectangle of { width : float; height : float; }\n",
       "  | Circle of circle\n"
      ]
     },
     "execution_count": 33,
     "metadata": {},
     "output_type": "execute_result"
    },
    {
     "data": {
      "text/plain": [
       "val check_shape : shape -> string = <fun>\n"
      ]
     },
     "execution_count": 33,
     "metadata": {},
     "output_type": "execute_result"
    },
    {
     "data": {
      "text/plain": [
       "- : string = \"Rect with width: 100., height: 200.\"\n"
      ]
     },
     "execution_count": 33,
     "metadata": {},
     "output_type": "execute_result"
    },
    {
     "data": {
      "text/plain": [
       "- : string = \"Circle at 10.,10. with radius 10.\"\n"
      ]
     },
     "execution_count": 33,
     "metadata": {},
     "output_type": "execute_result"
    },
    {
     "ename": "error",
     "evalue": "compile_error",
     "output_type": "error",
     "traceback": [
      "File \"[33]\", line 21, characters 21-22:\n21 |     | Rectangle r -> r \n                          ^\nError: This form is not allowed as the type of the inlined record could escape.\n"
     ]
    }
   ],
   "source": [
    "type circle = { radius : float; centerX : float; centerY : float } ;;\n",
    "\n",
    "type shape = \n",
    "    | Square of float\n",
    "    | Rectangle of { width : float; height : float }\n",
    "    | Circle of circle\n",
    "\n",
    "let check_shape s =\n",
    "    match s with\n",
    "    | Square x -> Printf.sprintf \"Square of %F\" x\n",
    "    | Rectangle r -> Printf.sprintf \"Rect with width: %F, height: %F\" r.width r.height\n",
    "    | Circle c -> Printf.sprintf \"Circle at %F,%F with radius %F\" c.centerX c.centerY c.radius ;;\n",
    "\n",
    "check_shape (Rectangle {width = 100.; height = 200.}) ;;\n",
    "check_shape (Circle {radius = 10.; centerX = 10.; centerY=10.}) ;;\n",
    "\n",
    "(* but this won't work *)\n",
    "let get_shape s = \n",
    "    match s with\n",
    "    | Circle c -> c  (* this works cause circle is a free-standing record type  *)\n",
    "    | Rectangle r -> r (*  this won't work cause r is inline record *)\n",
    "    | Square x -> x ;;"
   ]
  },
  {
   "cell_type": "markdown",
   "id": "6024b13e-1614-4b3f-936b-9549d43282b1",
   "metadata": {},
   "source": [
    "##### 🟢 &nbsp; &nbsp; Variants and Recursive Data Structures"
   ]
  },
  {
   "cell_type": "code",
   "execution_count": 41,
   "id": "54d93abc-d9c5-46df-ab7e-21fb017e0b79",
   "metadata": {},
   "outputs": [
    {
     "data": {
      "text/plain": [
       "type 'a expr =\n",
       "    Base of 'a\n",
       "  | Const of bool\n",
       "  | And of 'a expr list\n",
       "  | Or of 'a expr list\n",
       "  | Not of 'a expr\n"
      ]
     },
     "execution_count": 41,
     "metadata": {},
     "output_type": "execute_result"
    },
    {
     "data": {
      "text/plain": [
       "val eval : 'a expr -> ('a -> bool) -> bool = <fun>\n"
      ]
     },
     "execution_count": 41,
     "metadata": {},
     "output_type": "execute_result"
    },
    {
     "data": {
      "text/plain": [
       "val base_eval : string -> bool = <fun>\n"
      ]
     },
     "execution_count": 41,
     "metadata": {},
     "output_type": "execute_result"
    },
    {
     "data": {
      "text/plain": [
       "val expr : string expr = Or [And [Base \"hello\"; Base \"\"]; Base \"\"]\n"
      ]
     },
     "execution_count": 41,
     "metadata": {},
     "output_type": "execute_result"
    },
    {
     "data": {
      "text/plain": [
       "- : bool = false\n"
      ]
     },
     "execution_count": 41,
     "metadata": {},
     "output_type": "execute_result"
    }
   ],
   "source": [
    "type 'a expr =\n",
    " | Base of 'a\n",
    " | Const of bool\n",
    " | And of 'a expr list\n",
    " | Or of 'a expr list\n",
    " | Not of 'a expr ;;\n",
    " \n",
    "let rec eval expr base_eval = \n",
    "    let eval' expr = eval expr base_eval in\n",
    "    match expr with\n",
    "    | Base base -> base_eval base\n",
    "    | Const bool -> bool\n",
    "    | And l -> List.for_all eval' l\n",
    "    | Or l -> List.exists eval' l\n",
    "    | Not x -> not (eval' x) ;;\n",
    "\n",
    "let base_eval s = if String.length s > 0 then true else false ;;\n",
    "\n",
    "let expr = Or [And [Base \"hello\"; Base \"\"]; Base \"\"] ;;\n",
    "eval expr base_eval ;;"
   ]
  },
  {
   "cell_type": "code",
   "execution_count": 97,
   "id": "9fcc0a55-7d97-462d-8b1b-4acd0d904099",
   "metadata": {},
   "outputs": [
    {
     "data": {
      "text/plain": [
       "type 'a tree = Leaf | Node of 'a * 'a tree * 'a tree\n"
      ]
     },
     "execution_count": 97,
     "metadata": {},
     "output_type": "execute_result"
    },
    {
     "data": {
      "text/plain": [
       "val add : 'a -> 'a tree -> 'a tree = <fun>\n"
      ]
     },
     "execution_count": 97,
     "metadata": {},
     "output_type": "execute_result"
    },
    {
     "data": {
      "text/plain": [
       "module type ADDABLE = sig type t val add : t -> t -> t val zero : t end\n"
      ]
     },
     "execution_count": 97,
     "metadata": {},
     "output_type": "execute_result"
    },
    {
     "data": {
      "text/plain": [
       "val sum : (module ADDABLE with type t = 'a) -> 'a tree -> 'a = <fun>\n"
      ]
     },
     "execution_count": 97,
     "metadata": {},
     "output_type": "execute_result"
    },
    {
     "data": {
      "text/plain": [
       "- : Int.t = 40\n"
      ]
     },
     "execution_count": 97,
     "metadata": {},
     "output_type": "execute_result"
    },
    {
     "data": {
      "text/plain": [
       "- : Float.t = 40.\n"
      ]
     },
     "execution_count": 97,
     "metadata": {},
     "output_type": "execute_result"
    },
    {
     "data": {
      "text/plain": [
       "val t : int tree =\n",
       "  Node (3, Node (2, Node (1, Leaf, Leaf), Leaf),\n",
       "   Node (5, Node (4, Leaf, Leaf), Node (6, Leaf, Leaf)))\n"
      ]
     },
     "execution_count": 97,
     "metadata": {},
     "output_type": "execute_result"
    },
    {
     "data": {
      "text/plain": [
       "- : Int.t = 21\n"
      ]
     },
     "execution_count": 97,
     "metadata": {},
     "output_type": "execute_result"
    }
   ],
   "source": [
    "type 'a tree =\n",
    "    | Leaf\n",
    "    | Node of 'a * 'a tree * 'a tree ;;\n",
    "\n",
    "let rec add v t =\n",
    "    match t with\n",
    "    | Leaf -> Node (v, Leaf, Leaf)\n",
    "    | Node (x, left, right) ->\n",
    "        if (v >= x) then Node (x, left, add v right) else Node (x, add v left, right) ;;\n",
    "\n",
    "module type ADDABLE = sig\n",
    "    type t\n",
    "    val add : t -> t -> t\n",
    "    val zero : t\n",
    "end ;;\n",
    "\n",
    "let sum (type a) (module M : ADDABLE with type t = a) (t : a tree) =\n",
    "    let rec loop t acc = \n",
    "        match t with\n",
    "        | Leaf -> acc\n",
    "        | Node (v, t1 , t2) -> loop t1 (M.add v (loop t2 acc)) in\n",
    "    loop t M.zero ;;\n",
    "    \n",
    "sum (module Int) (Node (10, Node (10, Leaf, Leaf), Node (10, Leaf, Node(10, Leaf, Leaf)))) ;;\n",
    "sum (module Float) (Node (10., Node (10., Leaf, Leaf), Node (10., Leaf, Node(10., Leaf, Leaf)))) ;;\n",
    "\n",
    "let t = (Leaf |> add 3 |> add 2 |> add 1 |> add 5 |> add 6  |> add 4) ;;\n",
    "sum (module Int) t ;;"
   ]
  },
  {
   "cell_type": "code",
   "execution_count": 89,
   "id": "e401a3a8-44b9-4a09-b54d-65b3c64265c5",
   "metadata": {},
   "outputs": [
    {
     "data": {
      "text/plain": [
       "type 'a expr =\n",
       "    Data of 'a\n",
       "  | Add of 'a expr * 'a expr\n",
       "  | Multiply of 'a expr * 'a expr\n",
       "  | Variable of string\n"
      ]
     },
     "execution_count": 89,
     "metadata": {},
     "output_type": "execute_result"
    },
    {
     "data": {
      "text/plain": [
       "module type NUM =\n",
       "  sig type t val zero : t val add : t -> t -> t val mul : t -> t -> t end\n"
      ]
     },
     "execution_count": 89,
     "metadata": {},
     "output_type": "execute_result"
    },
    {
     "data": {
      "text/plain": [
       "module MS :\n",
       "  sig\n",
       "    type key = String.t\n",
       "    type 'a t = 'a Map.Make(String).t\n",
       "    val empty : 'a t\n",
       "    val is_empty : 'a t -> bool\n",
       "    val mem : key -> 'a t -> bool\n",
       "    val add : key -> 'a -> 'a t -> 'a t\n",
       "    val update : key -> ('a option -> 'a option) -> 'a t -> 'a t\n",
       "    val singleton : key -> 'a -> 'a t\n",
       "    val remove : key -> 'a t -> 'a t\n",
       "    val merge :\n",
       "      (key -> 'a option -> 'b option -> 'c option) -> 'a t -> 'b t -> 'c t\n",
       "    val union : (key -> 'a -> 'a -> 'a option) -> 'a t -> 'a t -> 'a t\n",
       "    val compare : ('a -> 'a -> int) -> 'a t -> 'a t -> int\n",
       "    val equal : ('a -> 'a -> bool) -> 'a t -> 'a t -> bool\n",
       "    val iter : (key -> 'a -> unit) -> 'a t -> unit\n",
       "    val fold : (key -> 'a -> 'b -> 'b) -> 'a t -> 'b -> 'b\n",
       "    val for_all : (key -> 'a -> bool) -> 'a t -> bool\n",
       "    val exists : (key -> 'a -> bool) -> 'a t -> bool\n",
       "    val filter : (key -> 'a -> bool) -> 'a t -> 'a t\n",
       "    val filter_map : (key -> 'a -> 'b option) -> 'a t -> 'b t\n",
       "    val partition : (key -> 'a -> bool) -> 'a t -> 'a t * 'a t\n",
       "    val cardinal : 'a t -> int\n",
       "    val bindings : 'a t -> (key * 'a) list\n",
       "    val min_binding : 'a t -> key * 'a\n",
       "    val min_binding_opt : 'a t -> (key * 'a) option\n",
       "    val max_binding : 'a t -> key * 'a\n",
       "    val max_binding_opt : 'a t -> (key * 'a) option\n",
       "    val choose : 'a t -> key * 'a\n",
       "    val choose_opt : 'a t -> (key * 'a) option\n",
       "    val split : key -> 'a t -> 'a t * 'a option * 'a t\n",
       "    val find : key -> 'a t -> 'a\n",
       "    val find_opt : key -> 'a t -> 'a option\n",
       "    val find_first : (key -> bool) -> 'a t -> key * 'a\n",
       "    val find_first_opt : (key -> bool) -> 'a t -> (key * 'a) option\n",
       "    val find_last : (key -> bool) -> 'a t -> key * 'a\n",
       "    val find_last_opt : (key -> bool) -> 'a t -> (key * 'a) option\n",
       "    val map : ('a -> 'b) -> 'a t -> 'b t\n",
       "    val mapi : (key -> 'a -> 'b) -> 'a t -> 'b t\n",
       "    val to_seq : 'a t -> (key * 'a) Seq.t\n",
       "    val to_rev_seq : 'a t -> (key * 'a) Seq.t\n",
       "    val to_seq_from : key -> 'a t -> (key * 'a) Seq.t\n",
       "    val add_seq : (key * 'a) Seq.t -> 'a t -> 'a t\n",
       "    val of_seq : (key * 'a) Seq.t -> 'a t\n",
       "  end\n"
      ]
     },
     "execution_count": 89,
     "metadata": {},
     "output_type": "execute_result"
    },
    {
     "data": {
      "text/plain": [
       "val eval :\n",
       "  (module NUM with type t = 'a) -> 'a Map.Make(String).t -> 'a expr -> 'a =\n",
       "  <fun>\n"
      ]
     },
     "execution_count": 89,
     "metadata": {},
     "output_type": "execute_result"
    },
    {
     "data": {
      "text/plain": [
       "val env : int MS.t = <abstr>\n"
      ]
     },
     "execution_count": 89,
     "metadata": {},
     "output_type": "execute_result"
    },
    {
     "data": {
      "text/plain": [
       "- : Int.t = 5\n"
      ]
     },
     "execution_count": 89,
     "metadata": {},
     "output_type": "execute_result"
    },
    {
     "data": {
      "text/plain": [
       "val env : float MS.t = <abstr>\n"
      ]
     },
     "execution_count": 89,
     "metadata": {},
     "output_type": "execute_result"
    },
    {
     "data": {
      "text/plain": [
       "- : Float.t = 5.\n"
      ]
     },
     "execution_count": 89,
     "metadata": {},
     "output_type": "execute_result"
    }
   ],
   "source": [
    "type 'a expr =\n",
    "    | Data of 'a\n",
    "    | Add of 'a expr * 'a expr\n",
    "    | Multiply of 'a expr * 'a expr\n",
    "    | Variable of string ;;\n",
    "\n",
    "module type NUM = sig\n",
    "    type t \n",
    "    val zero : t\n",
    "    val add : t -> t -> t\n",
    "    val mul : t -> t -> t\n",
    "end ;;\n",
    "\n",
    "module MS = Map.Make(String) ;;\n",
    "\n",
    "let rec eval : type a. (module NUM with type t = a) -> (a Map.Make(String).t) -> a expr -> a  =\n",
    "    fun m env expr ->  \n",
    "    let module MN = (val m : NUM with type t = a) in \n",
    "    let eval' expr = eval m env expr in \n",
    "    match expr with\n",
    "    | Data d -> d\n",
    "    | Add (e1, e2) -> MN.add (eval' e1)  (eval'  e2)\n",
    "    | Multiply (e1, e2) -> MN.mul (eval' e1) (eval' e2)\n",
    "    | Variable v -> MS.find v env ;;\n",
    "    \n",
    "let env = MS.(empty |> add \"a\" 1 |> add \"b\" 2 |> add \"c\" 3) ;;\n",
    "eval (module Int : NUM with type t = Int.t) env (Add(Variable \"a\", Multiply (Data 2, Variable \"b\"))) ;;\n",
    "\n",
    "let env = MS.(empty |> add \"a\" 1. |> add \"b\" 2. |> add \"c\" 3.) ;;\n",
    "eval (module Float) env (Add(Variable \"a\", Multiply (Data 2., Variable \"b\"))) ;;"
   ]
  },
  {
   "cell_type": "markdown",
   "id": "9ec9a26f-18f0-41e1-b4e9-6503528e7c3a",
   "metadata": {},
   "source": [
    "##### 🟢 &nbsp; &nbsp; Extensible variant types"
   ]
  },
  {
   "cell_type": "markdown",
   "id": "1580968d-fce6-42bc-b366-055a015eb253",
   "metadata": {},
   "source": [
    "- Extensible variant types are variant types which can be extended with new variant constructors. Extensible variant types are defined using ... New variant constructors are added using +=.\n",
    "<br/>\n",
    "- Pattern matching on an extensible variant type requires a default case to handle unknown variant constructors.\n",
    "<br/>https://v2.ocaml.org/manual/extensiblevariants.html"
   ]
  },
  {
   "cell_type": "code",
   "execution_count": 24,
   "id": "0f32e574-2042-468c-9f8c-0fb1190e3b77",
   "metadata": {},
   "outputs": [
    {
     "data": {
      "text/plain": [
       "module Expr :\n",
       "  sig type t = .. type t += Int of int type t += Float of float end\n"
      ]
     },
     "execution_count": 24,
     "metadata": {},
     "output_type": "execute_result"
    },
    {
     "data": {
      "text/plain": [
       "type Expr.t += String of string\n"
      ]
     },
     "execution_count": 24,
     "metadata": {},
     "output_type": "execute_result"
    },
    {
     "data": {
      "text/plain": [
       "val to_string : Expr.t -> string = <fun>\n"
      ]
     },
     "execution_count": 24,
     "metadata": {},
     "output_type": "execute_result"
    }
   ],
   "source": [
    "module Expr = struct\n",
    "    type t = ..\n",
    "    \n",
    "    type t += Int of int\n",
    "    \n",
    "    type t += Float of float \n",
    "      \n",
    "end ;;\n",
    "\n",
    "type Expr.t += String of string ;;\n",
    "\n",
    "let to_string = function\n",
    "    | Expr.Int x -> Int.to_string x\n",
    "    | Expr.Float x -> Float.to_string x\n",
    "    | String x -> x \n",
    "    | _ -> \"?\" ;;\n"
   ]
  },
  {
   "cell_type": "markdown",
   "id": "0bdecf17-8db7-459f-9453-853cb7458d94",
   "metadata": {},
   "source": [
    "Extensible variant constructors can be rebound to a different name. This allows exporting variants from another module."
   ]
  },
  {
   "cell_type": "code",
   "execution_count": 26,
   "id": "c9f55ad1-27a7-47aa-b6bc-12dfc6c683c7",
   "metadata": {},
   "outputs": [
    {
     "data": {
      "text/plain": [
       "type Expr.t += Double of float\n"
      ]
     },
     "execution_count": 26,
     "metadata": {},
     "output_type": "execute_result"
    },
    {
     "data": {
      "text/plain": [
       "val d : Expr.t = Expr.Float 10.1\n"
      ]
     },
     "execution_count": 26,
     "metadata": {},
     "output_type": "execute_result"
    }
   ],
   "source": [
    "type Expr.t += Double = Expr.Float ;;\n",
    "let d = Double 10.10 ;;"
   ]
  },
  {
   "cell_type": "markdown",
   "id": "ede8e87c-c7a6-45de-a97f-753b650dfd90",
   "metadata": {},
   "source": [
    "Extensible variant constructors can be declared private. As with regular variants, this prevents them from being constructed directly by constructor application while still allowing them to be de-structured in pattern-matching."
   ]
  },
  {
   "cell_type": "code",
   "execution_count": 1,
   "id": "85f1ed49-26b4-41ff-aa20-c37ad9e88c33",
   "metadata": {},
   "outputs": [
    {
     "data": {
      "text/plain": [
       "module B :\n",
       "  sig\n",
       "    type t = ..\n",
       "    type t += private Bool of int\n",
       "    type t += String of string\n",
       "    val bool : bool -> t\n",
       "  end\n"
      ]
     },
     "execution_count": 1,
     "metadata": {},
     "output_type": "execute_result"
    },
    {
     "data": {
      "text/plain": [
       "val inspection_works : B.t -> bool = <fun>\n"
      ]
     },
     "execution_count": 1,
     "metadata": {},
     "output_type": "execute_result"
    },
    {
     "data": {
      "text/plain": [
       "- : B.t = B.String \"hello\"\n"
      ]
     },
     "execution_count": 1,
     "metadata": {},
     "output_type": "execute_result"
    }
   ],
   "source": [
    "module B : sig\n",
    "  type t = ..\n",
    "  type t += private Bool of int\n",
    "  type t += String of string\n",
    "  val bool : bool -> t\n",
    "end = struct\n",
    "  type t = ..\n",
    "  type t += Bool of int\n",
    "  type t += String of string\n",
    "  let bool p = if p then Bool 1 else Bool 0\n",
    "end ;;\n",
    "\n",
    "let inspection_works = function\n",
    "    | B.Bool p -> (p = 1)\n",
    "    | _ -> true ;;\n",
    "    \n",
    "B.String \"hello\" ;;\n",
    "\n",
    "(* Error: Cannot use private constructor Bool to create values of type B.t *)\n",
    "(* B.Bool 10 ;;  *)"
   ]
  },
  {
   "cell_type": "markdown",
   "id": "b0125137-c04b-45bf-aa44-0fc4e9165c26",
   "metadata": {},
   "source": [
    "Extensible variant types can be declared private. This prevents new constructors from being declared directly, but allows extension constructors to be referred to in interfaces."
   ]
  },
  {
   "cell_type": "code",
   "execution_count": 46,
   "id": "9d699cfa-d85f-4cdb-a694-105c74b9f3bb",
   "metadata": {},
   "outputs": [
    {
     "data": {
      "text/plain": [
       "module Msg :\n",
       "  sig\n",
       "    type t = private ..\n",
       "    module Make :\n",
       "      functor (X : sig type t end) -> sig type t += Str of X.t end\n",
       "  end\n"
      ]
     },
     "execution_count": 46,
     "metadata": {},
     "output_type": "execute_result"
    },
    {
     "data": {
      "text/plain": [
       "module M : sig type Msg.t += Str of string end\n"
      ]
     },
     "execution_count": 46,
     "metadata": {},
     "output_type": "execute_result"
    },
    {
     "data": {
      "text/plain": [
       "- : string = \"hello\"\n"
      ]
     },
     "execution_count": 46,
     "metadata": {},
     "output_type": "execute_result"
    }
   ],
   "source": [
    "module Msg : sig\n",
    "    type t = private ..\n",
    "    module Make(X : sig type t end) : sig \n",
    "        type t += Str of X.t\n",
    "    end\n",
    "end =  struct \n",
    "    type t =  ..\n",
    "    module Make(X : sig type t end) = struct \n",
    "        type t += Str of X.t\n",
    "    end\n",
    "end ;;\n",
    "\n",
    "module M = Msg.Make(struct type t = string end) ;;\n",
    "\n",
    "match M.Str \"hello\" with\n",
    "| M.Str x -> x \n",
    "| _ -> \"\" ;;"
   ]
  },
  {
   "cell_type": "code",
   "execution_count": null,
   "id": "57261f6b-c72c-442e-804e-5634ac4b244a",
   "metadata": {},
   "outputs": [],
   "source": []
  }
 ],
 "metadata": {
  "kernelspec": {
   "display_name": "OCaml 4.14.0",
   "language": "OCaml",
   "name": "ocaml-jupyter-4.14.0"
  },
  "language_info": {
   "codemirror_mode": "text/x-ocaml",
   "file_extension": ".ml",
   "mimetype": "text/x-ocaml",
   "name": "OCaml",
   "nbconverter_exporter": null,
   "pygments_lexer": "OCaml",
   "version": "4.14.0"
  },
  "widgets": {
   "application/vnd.jupyter.widget-state+json": {
    "state": {},
    "version_major": 2,
    "version_minor": 0
   }
  }
 },
 "nbformat": 4,
 "nbformat_minor": 5
}
