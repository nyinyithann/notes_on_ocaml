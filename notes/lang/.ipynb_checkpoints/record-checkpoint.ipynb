{
 "cells": [
  {
   "cell_type": "markdown",
   "id": "de21a31b-cd13-4e59-9b68-0ba164739881",
   "metadata": {},
   "source": [
    "# Record"
   ]
  },
  {
   "cell_type": "markdown",
   "id": "a3ee0134-0ff6-4859-b481-e251a0301d0e",
   "metadata": {},
   "source": [
    "##### 🟢 &nbsp; &nbsp; Basic\n",
    "Record name and its field name must start with lowercase."
   ]
  },
  {
   "cell_type": "code",
   "execution_count": null,
   "id": "f92e600c-523b-45da-a8c0-1b399822a094",
   "metadata": {},
   "outputs": [],
   "source": [
    "type book = {\n",
    "    title : string ;\n",
    "    author : string ;\n",
    "    published_date : Unix.tm ;\n",
    "} ;;\n",
    "\n",
    "let bible = { title = \"bible\" ; author = \"GOD\" ; published_date = Unix.gmtime 0. } ;;\n",
    "bible.title ;;\n",
    "bible.author;;"
   ]
  },
  {
   "cell_type": "markdown",
   "id": "fb17b1a1-7cd7-4d59-baf1-aee98bb6f613",
   "metadata": {},
   "source": [
    "##### 🟢 &nbsp; &nbsp; Parameterized record"
   ]
  },
  {
   "cell_type": "code",
   "execution_count": null,
   "id": "a4380ce5-3ab9-45e3-9290-2d022331c474",
   "metadata": {},
   "outputs": [],
   "source": [
    "type 'a bag = { items : 'a list ; size : int } ;;\n",
    "let b1 = { items = [1; 2; 3]; size = 3 } ;; \n",
    "let b2 = { items = [1.; 2.; 3.]; size = 3 } ;; "
   ]
  },
  {
   "cell_type": "markdown",
   "id": "b3d5299b-bb60-4709-907b-6dfb3fd04d55",
   "metadata": {},
   "source": [
    "##### 🟢 &nbsp; &nbsp; Mutable fields\n",
    "Records are immutable by default. But individual record fields can be mutable."
   ]
  },
  {
   "cell_type": "code",
   "execution_count": null,
   "id": "686ccd1c-e223-4653-aede-96a5e8fc750b",
   "metadata": {},
   "outputs": [],
   "source": [
    "type car = {\n",
    "    mutable color : string ;\n",
    "    mutable weight : float ;\n",
    "} ;;\n",
    "\n",
    "let c1 = { color = \"black\" ; weight = 100. } ;;\n",
    "c1.color <- \"blue\" ;;\n",
    "c1.weight <- 120. ;;\n",
    "c1 ;;"
   ]
  },
  {
   "cell_type": "markdown",
   "id": "2e9682b3-be0b-4669-a635-ec1318e088e7",
   "metadata": {},
   "source": [
    "##### 🟢 &nbsp; &nbsp; Pattern Matching Record\n",
    "- #warnings \"+9\" to ask compiler to show warning if all record fields are not used in pattern matching\n",
    "- or use `; _` in pattern to explicitly ignore other fields"
   ]
  },
  {
   "cell_type": "code",
   "execution_count": null,
   "id": "d38399a0-ae50-4bc4-b950-67ecd0a3b740",
   "metadata": {},
   "outputs": [],
   "source": [
    "type car = {\n",
    "    mutable color : string ;\n",
    "    mutable weight : float ;\n",
    "    kind : string ;\n",
    "} ;;\n",
    "\n",
    "let c1 = { color = \"black\" ; weight = 100.; kind = \"sport\"} ;;\n",
    "\n",
    "#warnings \"+9\" ;;\n",
    "let show { color = c; weight = w; _ } = Printf.sprintf \"car with color=%s wight=%F\" c w ;;\n",
    "show c1 ;;"
   ]
  },
  {
   "cell_type": "markdown",
   "id": "0fb070b2-4d2d-452f-b880-d25b818d24ae",
   "metadata": {},
   "source": [
    "##### 🟢 &nbsp; &nbsp; Field Punning in pattern matching and record creation"
   ]
  },
  {
   "cell_type": "code",
   "execution_count": null,
   "id": "f6881184-282e-48f7-85e5-0e302e8389bd",
   "metadata": {},
   "outputs": [],
   "source": [
    "type car = {\n",
    "    mutable color : string ;\n",
    "    mutable weight : float ;\n",
    "    kind : string ;\n",
    "} ;;\n",
    "\n",
    "let c1 = { color = \"black\" ; weight = 100.; kind = \"sport\"} ;;\n",
    "\n",
    "#warnings \"+9\" ;;\n",
    "let show { color; weight; _ } = Printf.sprintf \"car with color=%s wight=%F\" color weight ;;\n",
    "show c1 ;;\n",
    "\n",
    "let color = \"green\" \n",
    "and weight = 1111.\n",
    "and kind = \"luxury\" in\n",
    "let c1 = { color ; weight; kind } in\n",
    "c1 ;;"
   ]
  },
  {
   "cell_type": "markdown",
   "id": "2770b6bd-1aed-45c8-b2c5-6d985566d988",
   "metadata": {},
   "source": [
    "##### 🟢 &nbsp; &nbsp; Reusing Field Names\n",
    "If records have same field names :\n",
    "- use type annotation to resolve ambiguous field names\n",
    "- put different record types in different modules"
   ]
  },
  {
   "cell_type": "code",
   "execution_count": null,
   "id": "234aa063-f067-4a01-bef3-7e60969423b9",
   "metadata": {},
   "outputs": [],
   "source": [
    "type tree = { age : float; height : float } ;;\n",
    "type person = { age : float; height : float; name : string } ;; \n",
    "let get_age x = x.age ;; (* use the last definition of the record *)\n",
    "let get_tree_age (x : tree) = x.age ;;\n",
    "let get_person_age (p : person) = p.age ;;\n",
    "\n",
    "(* puting records in modules *)\n",
    "module Tree = struct \n",
    "    type t = {\n",
    "        age : float;\n",
    "        height : float;\n",
    "    }\n",
    "end ;;\n",
    "\n",
    "module Person = struct \n",
    "    type t = {\n",
    "        age : float;\n",
    "        height : float;\n",
    "        name : string;\n",
    "    }\n",
    "end ;;\n",
    "\n",
    "let create_tree age height : Tree.t = {\n",
    "    age = age ;\n",
    "    height = height \n",
    "} ;;\n",
    "\n",
    "let t = create_tree 10. 20. ;;\n",
    "let show { Tree.age ; height } = Printf.sprintf \"age: %F; height: %F\" age height ;;\n",
    "show t ;;\n",
    "\n",
    "let create_person age height name = {\n",
    "    Person.age = age;\n",
    "    height = height;\n",
    "    name = name;\n",
    "} ;;\n",
    "\n",
    "let p = create_person 20. 6. \"Ryan\" ;;\n",
    "let show { Person.name ; height; _ } = Printf.sprintf \"name: %s; height: %F\" name height ;;\n",
    "show p ;;\n",
    "\n",
    "let isAdult t = t.Person.age >= 20. ;;\n",
    "isAdult p ;;\n",
    "\n",
    "let isAdult (p : Person.t) = p.age >= 20. ;;\n",
    "isAdult p ;;\n",
    "\n",
    "let isAdult ({age; _} : Person.t) = age >= 20. ;;\n",
    "isAdult p ;;"
   ]
  },
  {
   "cell_type": "markdown",
   "id": "f7622093-85b7-40dc-846f-8ae03c3e98bd",
   "metadata": {},
   "source": [
    "##### 🟢 &nbsp; &nbsp; Functional Updates"
   ]
  },
  {
   "cell_type": "code",
   "execution_count": null,
   "id": "ae4459c9-97ba-4121-9d7e-d70a73ddc703",
   "metadata": {},
   "outputs": [],
   "source": [
    "type cat = { color : string; age : float; name : string } ;;\n",
    "\n",
    "let c1 = { color = \"black\"; age = 2.; name = \"sid\" } ;;\n",
    "let c2 = { c1 with name = \"zombie\" } ;;"
   ]
  }
 ],
 "metadata": {
  "kernelspec": {
   "display_name": "OCaml 4.12.0",
   "language": "OCaml",
   "name": "ocaml-jupyter-4.12.0"
  },
  "language_info": {
   "codemirror_mode": "text/x-ocaml",
   "file_extension": ".ml",
   "mimetype": "text/x-ocaml",
   "name": "OCaml",
   "nbconverter_exporter": null,
   "pygments_lexer": "OCaml",
   "version": "4.12.0"
  },
  "widgets": {
   "application/vnd.jupyter.widget-state+json": {
    "state": {},
    "version_major": 2,
    "version_minor": 0
   }
  }
 },
 "nbformat": 4,
 "nbformat_minor": 5
}
