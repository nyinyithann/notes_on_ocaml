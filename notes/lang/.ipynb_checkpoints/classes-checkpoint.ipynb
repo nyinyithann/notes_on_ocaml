{
 "cells": [
  {
   "cell_type": "markdown",
   "id": "99f5ca5e-3da9-467b-a673-c7bbee598bbd",
   "metadata": {},
   "source": [
    "# Classes"
   ]
  },
  {
   "cell_type": "markdown",
   "id": "d1278fd0-c2b1-4d0f-9c64-40a4ec3266c0",
   "metadata": {},
   "source": [
    "Class enables inheritance."
   ]
  },
  {
   "cell_type": "markdown",
   "id": "a37b9153-7f71-417c-9841-974bdcb57ae2",
   "metadata": {},
   "source": [
    "##### 🟢 &nbsp; &nbsp; Constructor & Initializer\n",
    "In the following code, `class counter` creates an _abbreviation_ called `counter` and it stands for the object type `<get : int; incr : unit>`. Class name is actually the name of the constructor function of the class."
   ]
  },
  {
   "cell_type": "code",
   "execution_count": 343,
   "id": "30c32f55-1310-4aad-b37f-f51751c5f640",
   "metadata": {},
   "outputs": [
    {
     "data": {
      "text/plain": [
       "class counter :\n",
       "  object val mutable _count : int method get : int method incr : unit end\n"
      ]
     },
     "execution_count": 343,
     "metadata": {},
     "output_type": "execute_result"
    },
    {
     "data": {
      "text/plain": [
       "val c : counter = <obj>\n"
      ]
     },
     "execution_count": 343,
     "metadata": {},
     "output_type": "execute_result"
    },
    {
     "data": {
      "text/plain": [
       "- : int = 0\n"
      ]
     },
     "execution_count": 343,
     "metadata": {},
     "output_type": "execute_result"
    },
    {
     "data": {
      "text/plain": [
       "- : unit = ()\n"
      ]
     },
     "execution_count": 343,
     "metadata": {},
     "output_type": "execute_result"
    },
    {
     "data": {
      "text/plain": [
       "- : int = 1\n"
      ]
     },
     "execution_count": 343,
     "metadata": {},
     "output_type": "execute_result"
    }
   ],
   "source": [
    "class counter = object\n",
    "    val mutable _count = 0\n",
    "    method get = _count\n",
    "    method incr = _count <- _count + 1\n",
    "end ;;\n",
    "\n",
    "let c = new counter ;;\n",
    "c#get ;;\n",
    "c#incr ;;\n",
    "c#get ;;"
   ]
  },
  {
   "cell_type": "markdown",
   "id": "e8775be7-241a-4620-9d63-73de91a80bce",
   "metadata": {},
   "source": [
    "##### Setting initial value"
   ]
  },
  {
   "cell_type": "code",
   "execution_count": 344,
   "id": "1f44ff3b-647b-4bb5-8a72-83372440c36a",
   "metadata": {},
   "outputs": [
    {
     "data": {
      "text/plain": [
       "class counter : int -> object val mutable _count : int method get : int end\n"
      ]
     },
     "execution_count": 344,
     "metadata": {},
     "output_type": "execute_result"
    },
    {
     "data": {
      "text/plain": [
       "val c : int -> counter = <fun>\n"
      ]
     },
     "execution_count": 344,
     "metadata": {},
     "output_type": "execute_result"
    },
    {
     "data": {
      "text/plain": [
       "- : int = 10\n"
      ]
     },
     "execution_count": 344,
     "metadata": {},
     "output_type": "execute_result"
    },
    {
     "data": {
      "text/plain": [
       "- : int = 20\n"
      ]
     },
     "execution_count": 344,
     "metadata": {},
     "output_type": "execute_result"
    },
    {
     "data": {
      "text/plain": [
       "class point :\n",
       "  int ->\n",
       "  int ->\n",
       "  object val mutable _x : int val mutable _y : int method get : int * int end\n"
      ]
     },
     "execution_count": 344,
     "metadata": {},
     "output_type": "execute_result"
    },
    {
     "data": {
      "text/plain": [
       "val p : point = <obj>\n"
      ]
     },
     "execution_count": 344,
     "metadata": {},
     "output_type": "execute_result"
    },
    {
     "data": {
      "text/plain": [
       "- : int * int = (1, 1)\n"
      ]
     },
     "execution_count": 344,
     "metadata": {},
     "output_type": "execute_result"
    },
    {
     "data": {
      "text/plain": [
       "- : int * int = (2, 2)\n"
      ]
     },
     "execution_count": 344,
     "metadata": {},
     "output_type": "execute_result"
    },
    {
     "data": {
      "text/plain": [
       "val f : int -> point = <fun>\n"
      ]
     },
     "execution_count": 344,
     "metadata": {},
     "output_type": "execute_result"
    },
    {
     "data": {
      "text/plain": [
       "- : int * int = (1, 2)\n"
      ]
     },
     "execution_count": 344,
     "metadata": {},
     "output_type": "execute_result"
    }
   ],
   "source": [
    "class counter = fun (init : int) -> object\n",
    "    val mutable _count = init\n",
    "    method get = _count   \n",
    "end ;;\n",
    "\n",
    "let c = new counter ;;\n",
    "(c 10)#get ;;\n",
    "\n",
    "(new counter 20)#get ;;\n",
    "\n",
    "class point (x: int) (y: int) = object\n",
    "    val mutable _x = x\n",
    "    val mutable _y = y\n",
    "    method get = (_x, _y)\n",
    "end ;;\n",
    "\n",
    "let p = new point 1 1 ;;\n",
    "p#get ;;\n",
    "\n",
    "(new point 2 2)#get ;;\n",
    "\n",
    "let f = new point 1 ;;\n",
    "(f 2)#get ;;"
   ]
  },
  {
   "cell_type": "markdown",
   "id": "13c081a7-d721-4cb8-90f6-e85a22698ffb",
   "metadata": {},
   "source": [
    "##### Initializers : Evaluating expression _before_ or _after_ object is constructed. "
   ]
  },
  {
   "cell_type": "code",
   "execution_count": 345,
   "id": "d5927177-b41e-4b84-9207-90d4509a5ded",
   "metadata": {},
   "outputs": [
    {
     "data": {
      "text/plain": [
       "class person :\n",
       "  name:string ->\n",
       "  age:float ->\n",
       "  ?mode:string ->\n",
       "  bool ->\n",
       "  object\n",
       "    val _age : float\n",
       "    val _healthy : bool\n",
       "    val _mode : string\n",
       "    val _name : string\n",
       "    method get_age : float\n",
       "    method get_mode : string\n",
       "    method get_name : string\n",
       "    method is_healthy : bool\n",
       "  end\n"
      ]
     },
     "execution_count": 345,
     "metadata": {},
     "output_type": "execute_result"
    },
    {
     "name": "stdout",
     "output_type": "stream",
     "text": [
      "Name ---> Ryan\n",
      "Mode ---> happy!\n"
     ]
    },
    {
     "data": {
      "text/plain": [
       "val p : person = <obj>\n"
      ]
     },
     "execution_count": 345,
     "metadata": {},
     "output_type": "execute_result"
    },
    {
     "data": {
      "text/plain": [
       "- : string = \"Ryan\"\n"
      ]
     },
     "execution_count": 345,
     "metadata": {},
     "output_type": "execute_result"
    },
    {
     "data": {
      "text/plain": [
       "- : float = 6.1\n"
      ]
     },
     "execution_count": 345,
     "metadata": {},
     "output_type": "execute_result"
    },
    {
     "data": {
      "text/plain": [
       "- : string = \"happy!\"\n"
      ]
     },
     "execution_count": 345,
     "metadata": {},
     "output_type": "execute_result"
    },
    {
     "data": {
      "text/plain": [
       "- : bool = true\n"
      ]
     },
     "execution_count": 345,
     "metadata": {},
     "output_type": "execute_result"
    }
   ],
   "source": [
    "class person ~(name:string) ~(age:float) ?mode (healthy:bool) = \n",
    "    let m = match mode with None -> \"Normal\" | Some x -> x in\n",
    "    object(self)\n",
    "        initializer (* can add multiple times *)\n",
    "            print_string (Printf.sprintf \"Name ---> %s\" self#get_name); \n",
    "            print_newline() ;\n",
    "        initializer\n",
    "            print_string (Printf.sprintf \"Mode ---> %s\" self#get_mode); \n",
    "            print_newline() ;\n",
    "        val _name = name\n",
    "        val _age = age\n",
    "        val _mode = m\n",
    "        val _healthy = healthy\n",
    "        method get_name = _name\n",
    "        method get_age = _age\n",
    "        method get_mode = _mode\n",
    "        method is_healthy = _healthy        \n",
    "    end ;;\n",
    "\n",
    "let p = new person ~name:\"Ryan\" ~age:6.1 ~mode:\"happy!\" true;;\n",
    "p#get_name ;;\n",
    "p#get_age ;;\n",
    "p#get_mode ;;\n",
    "p#is_healthy ;;"
   ]
  },
  {
   "cell_type": "markdown",
   "id": "4630c770-0ae6-4e88-b8f1-4f16c53005bb",
   "metadata": {},
   "source": [
    "##### Initializer in inheritance\n",
    "initializer from parent class will be called first."
   ]
  },
  {
   "cell_type": "code",
   "execution_count": 346,
   "id": "84e8e277-7e1a-41d7-b1af-47bf7ad6bba1",
   "metadata": {},
   "outputs": [
    {
     "data": {
      "text/plain": [
       "class virtual base : object val mutable virtual x : int end\n"
      ]
     },
     "execution_count": 346,
     "metadata": {},
     "output_type": "execute_result"
    },
    {
     "data": {
      "text/plain": [
       "class derived : object val mutable x : int end\n"
      ]
     },
     "execution_count": 346,
     "metadata": {},
     "output_type": "execute_result"
    },
    {
     "name": "stdout",
     "output_type": "stream",
     "text": [
      "base initializer...\n",
      "derived initializer...\n"
     ]
    },
    {
     "data": {
      "text/plain": [
       "val d : derived = <obj>\n"
      ]
     },
     "execution_count": 346,
     "metadata": {},
     "output_type": "execute_result"
    }
   ],
   "source": [
    "class virtual base = object \n",
    "    val virtual mutable x : int\n",
    "    initializer\n",
    "        print_string \"base initializer...\";\n",
    "        print_newline() ;\n",
    "end ;;\n",
    "\n",
    "class derived = object\n",
    "    inherit base\n",
    "    val mutable x = 11\n",
    "    initializer\n",
    "        print_string \"derived initializer...\";\n",
    "        print_newline() ;\n",
    "end ;;\n",
    "\n",
    "let d = new derived ;;"
   ]
  },
  {
   "cell_type": "markdown",
   "id": "47774763-6712-4da4-9535-4827642aee87",
   "metadata": {},
   "source": [
    "<br/>"
   ]
  },
  {
   "cell_type": "markdown",
   "id": "7830dff2-1869-4baf-9913-4aa8b1bb5d33",
   "metadata": {},
   "source": [
    "##### 🟢 &nbsp; &nbsp; Class interfaces (class type)\n",
    "Useful for documentation and constraining the type of a class.\n",
    "Both concrete instance variables and concrete private methods can be hidden by a class type constraint. Public methods and virtual members, however, cannot."
   ]
  },
  {
   "cell_type": "code",
   "execution_count": 347,
   "id": "cf156d78-25cf-45ec-b42a-7a91b9d56027",
   "metadata": {},
   "outputs": [
    {
     "data": {
      "text/plain": [
       "class type ['a] counter_type =\n",
       "  object method decr : unit method get : 'a method incr : unit end\n"
      ]
     },
     "execution_count": 347,
     "metadata": {},
     "output_type": "execute_result"
    },
    {
     "data": {
      "text/plain": [
       "class ['a] counter :\n",
       "  'a ->\n",
       "  object\n",
       "    constraint 'a = int\n",
       "    val mutable count : 'a\n",
       "    method decr : unit\n",
       "    method get : 'a\n",
       "    method incr : unit\n",
       "    method private set : 'a -> unit\n",
       "  end\n"
      ]
     },
     "execution_count": 347,
     "metadata": {},
     "output_type": "execute_result"
    },
    {
     "data": {
      "text/plain": [
       "val c : int counter_type = <obj>\n"
      ]
     },
     "execution_count": 347,
     "metadata": {},
     "output_type": "execute_result"
    },
    {
     "data": {
      "text/plain": [
       "- : unit = ()\n"
      ]
     },
     "execution_count": 347,
     "metadata": {},
     "output_type": "execute_result"
    },
    {
     "data": {
      "text/plain": [
       "- : int = 2\n"
      ]
     },
     "execution_count": 347,
     "metadata": {},
     "output_type": "execute_result"
    }
   ],
   "source": [
    "class type ['a] counter_type = object\n",
    "    method get : 'a\n",
    "    method incr : unit\n",
    "    method decr : unit\n",
    "end ;;\n",
    "\n",
    "class ['a] counter (init : 'a) = object (self)\n",
    "    val mutable count = init\n",
    "    method private set v = count <- v\n",
    "    method get = count    \n",
    "    method incr = self#set (count + 1)\n",
    "    method decr = self#set (count - 1)\n",
    "end ;;\n",
    "\n",
    "let c : int counter_type = new counter 1 ;;\n",
    "c#incr ;;\n",
    "c#get ;;"
   ]
  },
  {
   "cell_type": "code",
   "execution_count": 348,
   "id": "a64941e7-5f2e-4639-a14a-1f99c43524ad",
   "metadata": {},
   "outputs": [
    {
     "data": {
      "text/plain": [
       "class type ['a] ct = object val v : 'a method get : 'a end\n"
      ]
     },
     "execution_count": 348,
     "metadata": {},
     "output_type": "execute_result"
    },
    {
     "data": {
      "text/plain": [
       "class ['a] c : 'a -> ['a] ct\n"
      ]
     },
     "execution_count": 348,
     "metadata": {},
     "output_type": "execute_result"
    },
    {
     "data": {
      "text/plain": [
       "val c1 : int c = <obj>\n"
      ]
     },
     "execution_count": 348,
     "metadata": {},
     "output_type": "execute_result"
    },
    {
     "data": {
      "text/plain": [
       "- : int = 10\n"
      ]
     },
     "execution_count": 348,
     "metadata": {},
     "output_type": "execute_result"
    }
   ],
   "source": [
    "class type ['a] ct = object \n",
    "    val v : 'a\n",
    "    method get : 'a\n",
    "end ;;\n",
    "\n",
    "class ['a] c v' : ['a] ct = object\n",
    "    val v = v'\n",
    "    method get = v\n",
    "end ;;\n",
    "\n",
    "let c1 = new c 10 ;;\n",
    "c1#get ;;"
   ]
  },
  {
   "cell_type": "markdown",
   "id": "3f1318ca-caf1-48f7-8a2b-fcc3beb0748d",
   "metadata": {},
   "source": [
    "The interface of a class can also be specified in a module signature, and used to restrict the inferred signature of a module."
   ]
  },
  {
   "cell_type": "code",
   "execution_count": 349,
   "id": "485c5432-d127-42e7-b793-062bd0533162",
   "metadata": {},
   "outputs": [
    {
     "data": {
      "text/plain": [
       "module type REGISTRY =\n",
       "  sig\n",
       "    class ['a] cell :\n",
       "      'a -> object method get : 'a method set : 'a -> unit end\n",
       "  end\n"
      ]
     },
     "execution_count": 349,
     "metadata": {},
     "output_type": "execute_result"
    },
    {
     "data": {
      "text/plain": [
       "module Registry : REGISTRY\n"
      ]
     },
     "execution_count": 349,
     "metadata": {},
     "output_type": "execute_result"
    },
    {
     "data": {
      "text/plain": [
       "val r : int Registry.cell = <obj>\n"
      ]
     },
     "execution_count": 349,
     "metadata": {},
     "output_type": "execute_result"
    },
    {
     "data": {
      "text/plain": [
       "- : int = 10\n"
      ]
     },
     "execution_count": 349,
     "metadata": {},
     "output_type": "execute_result"
    },
    {
     "data": {
      "text/plain": [
       "- : unit = ()\n"
      ]
     },
     "execution_count": 349,
     "metadata": {},
     "output_type": "execute_result"
    },
    {
     "data": {
      "text/plain": [
       "- : int = 111\n"
      ]
     },
     "execution_count": 349,
     "metadata": {},
     "output_type": "execute_result"
    }
   ],
   "source": [
    "module type REGISTRY = sig\n",
    "    class ['a] cell : 'a -> object\n",
    "        method get : 'a\n",
    "        method set : 'a -> unit\n",
    "    end \n",
    "end ;;\n",
    "\n",
    "module Registry : REGISTRY = struct\n",
    "    class ['a] cell' (init : 'a) = object\n",
    "        val mutable cell_value = init    \n",
    "        method get = cell_value\n",
    "        method set v = cell_value <- v\n",
    "    end ;;\n",
    "    \n",
    "    class ['a] cell  = ['a] cell'\n",
    "end\n",
    "\n",
    "let r = new Registry.cell 10 ;;\n",
    "r#get ;;\n",
    "r#set 111 ;;\n",
    "r#get ;;"
   ]
  },
  {
   "cell_type": "markdown",
   "id": "3270dbd9-dee4-4180-bcc1-8b44c175a117",
   "metadata": {},
   "source": [
    "##### 🟢 &nbsp; &nbsp; Parameterized classes"
   ]
  },
  {
   "cell_type": "code",
   "execution_count": 350,
   "id": "ff88b151-0713-4f07-b3e8-1e1ceb98da07",
   "metadata": {},
   "outputs": [
    {
     "data": {
      "text/plain": [
       "class ['a] counter : 'a -> object val mutable count : 'a method get : 'a end\n"
      ]
     },
     "execution_count": 350,
     "metadata": {},
     "output_type": "execute_result"
    },
    {
     "data": {
      "text/plain": [
       "val c : int counter = <obj>\n"
      ]
     },
     "execution_count": 350,
     "metadata": {},
     "output_type": "execute_result"
    },
    {
     "data": {
      "text/plain": [
       "- : int = 10\n"
      ]
     },
     "execution_count": 350,
     "metadata": {},
     "output_type": "execute_result"
    },
    {
     "data": {
      "text/plain": [
       "class ['a, 'b] hetro_pair :\n",
       "  'a -> 'b -> object val _a : 'a val _b : 'b method get : 'a * 'b end\n"
      ]
     },
     "execution_count": 350,
     "metadata": {},
     "output_type": "execute_result"
    },
    {
     "data": {
      "text/plain": [
       "val p : (int, float) hetro_pair = <obj>\n"
      ]
     },
     "execution_count": 350,
     "metadata": {},
     "output_type": "execute_result"
    },
    {
     "data": {
      "text/plain": [
       "- : int * float = (10, 9.8)\n"
      ]
     },
     "execution_count": 350,
     "metadata": {},
     "output_type": "execute_result"
    }
   ],
   "source": [
    "class ['a] counter (init : 'a) = object\n",
    "    val mutable count = init\n",
    "    method get = count\n",
    "end ;;\n",
    "\n",
    "let c = new counter 10 ;;\n",
    "c#get ;;\n",
    "\n",
    "class ['a, 'b] hetro_pair (a : 'a) (b : 'b) = object\n",
    "    val _a = a\n",
    "    val _b = b\n",
    "    method get = (a,b)\n",
    "end ;;\n",
    "\n",
    "let p = new hetro_pair 10 9.8 ;;\n",
    "p#get ;;"
   ]
  },
  {
   "cell_type": "markdown",
   "id": "a4715fd1-ebf1-4e5f-a87a-54e5fbd40b35",
   "metadata": {},
   "source": [
    "##### constraint clause"
   ]
  },
  {
   "cell_type": "code",
   "execution_count": 351,
   "id": "4c5a806c-ccbd-43f1-86d9-8406ad982e54",
   "metadata": {},
   "outputs": [
    {
     "data": {
      "text/plain": [
       "class material : object method glow : string -> string end\n"
      ]
     },
     "execution_count": 351,
     "metadata": {},
     "output_type": "execute_result"
    },
    {
     "data": {
      "text/plain": [
       "class ['a] mesh :\n",
       "  'a ->\n",
       "  object\n",
       "    constraint 'a = < glow : string -> string; .. >\n",
       "    val mutable material : 'a\n",
       "    method highlight : string -> string\n",
       "  end\n"
      ]
     },
     "execution_count": 351,
     "metadata": {},
     "output_type": "execute_result"
    },
    {
     "data": {
      "text/plain": [
       "val m : < glow : string -> string > mesh = <obj>\n"
      ]
     },
     "execution_count": 351,
     "metadata": {},
     "output_type": "execute_result"
    },
    {
     "data": {
      "text/plain": [
       "- : string = \"highlighting with color orange\"\n"
      ]
     },
     "execution_count": 351,
     "metadata": {},
     "output_type": "execute_result"
    },
    {
     "data": {
      "text/plain": [
       "val m : material mesh = <obj>\n"
      ]
     },
     "execution_count": 351,
     "metadata": {},
     "output_type": "execute_result"
    },
    {
     "data": {
      "text/plain": [
       "- : string = \"highlighting with color pink\"\n"
      ]
     },
     "execution_count": 351,
     "metadata": {},
     "output_type": "execute_result"
    },
    {
     "data": {
      "text/plain": [
       "class ['a] mesh :\n",
       "  'a ->\n",
       "  object\n",
       "    constraint 'a = #material\n",
       "    val mutable material : 'a\n",
       "    method highlight : string -> string\n",
       "  end\n"
      ]
     },
     "execution_count": 351,
     "metadata": {},
     "output_type": "execute_result"
    },
    {
     "data": {
      "text/plain": [
       "val m : material mesh = <obj>\n"
      ]
     },
     "execution_count": 351,
     "metadata": {},
     "output_type": "execute_result"
    },
    {
     "data": {
      "text/plain": [
       "- : string = \"highlighting with color blue\"\n"
      ]
     },
     "execution_count": 351,
     "metadata": {},
     "output_type": "execute_result"
    },
    {
     "data": {
      "text/plain": [
       "val m : < foo : int; glow : string -> string > mesh = <obj>\n"
      ]
     },
     "execution_count": 351,
     "metadata": {},
     "output_type": "execute_result"
    },
    {
     "data": {
      "text/plain": [
       "- : string = \"highlighting with color silver\"\n"
      ]
     },
     "execution_count": 351,
     "metadata": {},
     "output_type": "execute_result"
    },
    {
     "data": {
      "text/plain": [
       "class ['a] mesh :\n",
       "  'a ->\n",
       "  object\n",
       "    constraint 'a = material\n",
       "    val mutable material : 'a\n",
       "    method highlight : string -> string\n",
       "  end\n"
      ]
     },
     "execution_count": 351,
     "metadata": {},
     "output_type": "execute_result"
    },
    {
     "ename": "error",
     "evalue": "compile_error",
     "output_type": "error",
     "traceback": [
      "File \"[351]\", line 41, characters 17-108:\n41 | let m = new mesh (object method glow c = Printf.sprintf \"highlighting with color %s\" c method foo = 42  end) ;;\n                      ^^^^^^^^^^^^^^^^^^^^^^^^^^^^^^^^^^^^^^^^^^^^^^^^^^^^^^^^^^^^^^^^^^^^^^^^^^^^^^^^^^^^^^^^^^^\nError: This expression has type < foo : int; glow : string -> string >\n       but an expression was expected of type material\n       The second object type has no method foo\n"
     ]
    }
   ],
   "source": [
    "class material = object\n",
    "    method glow c = Printf.sprintf \"highlighting with color %s\" c\n",
    "end ;;\n",
    "\n",
    "class ['a] mesh (m : 'a) = object\n",
    "    val mutable material = m   \n",
    "    method highlight = (material#glow : string -> string)  \n",
    "end ;;\n",
    "\n",
    "let m = new mesh (object method glow c = Printf.sprintf \"highlighting with color %s\" c  end) ;;\n",
    "m#highlight \"orange\" ;;\n",
    "\n",
    "let m = new mesh (new material);;\n",
    "m#highlight \"pink\" ;;\n",
    "\n",
    "(* explicitly declare constraint clause *)\n",
    "class ['a] mesh (m : 'a) = object\n",
    "   (* #material is an abbreviation for the type of any object implementing the signature of material *)\n",
    "    constraint 'a = #material\n",
    "    val mutable material = m   \n",
    "    method highlight = material#glow\n",
    "end ;;\n",
    "\n",
    "let m = new mesh (new material) ;;\n",
    "m#highlight \"blue\" ;;\n",
    "\n",
    "let m = new mesh (object method glow c = Printf.sprintf \"highlighting with color %s\" c method foo = 42  end) ;;\n",
    "m#highlight \"silver\" ;;\n",
    "\n",
    "(* \n",
    "    the following code won't compile\n",
    "    look at https://discuss.ocaml.org/t/constraint-clause-in-class/10074\n",
    "*)\n",
    "class ['a] mesh (m : 'a) = object\n",
    "   (* material is the exact type of the material class *)\n",
    "    constraint 'a = material\n",
    "    val mutable material = m   \n",
    "    method highlight = material#glow\n",
    "end ;;\n",
    "\n",
    "let m = new mesh (object method glow c = Printf.sprintf \"highlighting with color %s\" c method foo = 42  end) ;;\n",
    "m#highlight \"silver\" ;;"
   ]
  },
  {
   "cell_type": "markdown",
   "id": "067a532a-d645-45e9-8ca2-5972ffa9b6c2",
   "metadata": {},
   "source": [
    "##### #T represents any object implementing the signature of class T."
   ]
  },
  {
   "cell_type": "code",
   "execution_count": 352,
   "id": "e1dacc58-cd57-42f6-a222-94836b16aa4a",
   "metadata": {},
   "outputs": [
    {
     "data": {
      "text/plain": [
       "class virtual base : object method virtual foo : string end\n"
      ]
     },
     "execution_count": 352,
     "metadata": {},
     "output_type": "execute_result"
    },
    {
     "data": {
      "text/plain": [
       "class derived : object method foo : string end\n"
      ]
     },
     "execution_count": 352,
     "metadata": {},
     "output_type": "execute_result"
    },
    {
     "data": {
      "text/plain": [
       "val call_foo : #base -> string = <fun>\n"
      ]
     },
     "execution_count": 352,
     "metadata": {},
     "output_type": "execute_result"
    },
    {
     "data": {
      "text/plain": [
       "- : string = \"derived foo\"\n"
      ]
     },
     "execution_count": 352,
     "metadata": {},
     "output_type": "execute_result"
    },
    {
     "data": {
      "text/plain": [
       "- : string = \"anonymous foo\"\n"
      ]
     },
     "execution_count": 352,
     "metadata": {},
     "output_type": "execute_result"
    }
   ],
   "source": [
    "class virtual base = object\n",
    "    method virtual foo : string\n",
    "end ;;\n",
    "\n",
    "class derived = object\n",
    "    inherit base\n",
    "    method foo = \"derived foo\"\n",
    "end ;;\n",
    "\n",
    "let call_foo (c : #base) = c#foo ;;\n",
    "call_foo (new derived) ;;\n",
    "call_foo (object method foo = \"anonymous foo\" method bar = \"bar\" end) ;;"
   ]
  },
  {
   "cell_type": "markdown",
   "id": "36bec82d-131d-445b-82ce-b02106aa8a05",
   "metadata": {},
   "source": [
    "<br/>"
   ]
  },
  {
   "cell_type": "markdown",
   "id": "bc82c1a0-a067-4d5a-bf86-b8bed586718d",
   "metadata": {},
   "source": [
    "##### 🟢 &nbsp; &nbsp; Virtual Method\n",
    "- A class containing virtual methods must be flagged virtual, and cannot be instantiated. Similiar to c# abstract class.\n",
    "- Instance variable can be declared as virtual."
   ]
  },
  {
   "cell_type": "code",
   "execution_count": 353,
   "id": "c959b23d-6f88-43a8-8c7d-54464b45406c",
   "metadata": {},
   "outputs": [
    {
     "data": {
      "text/plain": [
       "class virtual shape :\n",
       "  object\n",
       "    val mutable virtual _x : float\n",
       "    val mutable virtual _y : float\n",
       "    method virtual draw : string\n",
       "    method get_x : float\n",
       "    method get_y : float\n",
       "    method set_x : float -> unit\n",
       "    method set_y : float -> unit\n",
       "  end\n"
      ]
     },
     "execution_count": 353,
     "metadata": {},
     "output_type": "execute_result"
    },
    {
     "data": {
      "text/plain": [
       "class circle :\n",
       "  x:float ->\n",
       "  y:float ->\n",
       "  object\n",
       "    val mutable _x : float\n",
       "    val mutable _y : float\n",
       "    method draw : string\n",
       "    method get_x : float\n",
       "    method get_y : float\n",
       "    method set_x : float -> unit\n",
       "    method set_y : float -> unit\n",
       "  end\n"
      ]
     },
     "execution_count": 353,
     "metadata": {},
     "output_type": "execute_result"
    },
    {
     "data": {
      "text/plain": [
       "val c : circle = <obj>\n"
      ]
     },
     "execution_count": 353,
     "metadata": {},
     "output_type": "execute_result"
    },
    {
     "data": {
      "text/plain": [
       "- : string = \"drawing circle at x = 10., y = 11.\"\n"
      ]
     },
     "execution_count": 353,
     "metadata": {},
     "output_type": "execute_result"
    }
   ],
   "source": [
    "class virtual shape = object\n",
    "    val mutable virtual _x : float\n",
    "    val mutable virtual _y : float\n",
    "    method get_x = _x\n",
    "    method set_x v = _x <- v\n",
    "    method get_y = _y\n",
    "    method set_y v = _y <- v\n",
    "    method virtual draw :string\n",
    "end ;;\n",
    "\n",
    "class circle ~(x : float)  ~(y : float) = object\n",
    "    inherit shape\n",
    "    val mutable _x = x\n",
    "    val mutable _y = y\n",
    "    method draw = Printf.sprintf \"drawing circle at x = %F, y = %F\" _x _y\n",
    "end ;;\n",
    "\n",
    "let c = new circle ~x:10. ~y:11. ;;\n",
    "c#draw ;;"
   ]
  },
  {
   "cell_type": "markdown",
   "id": "dff0297c-c23a-466e-b5b7-6681117b27a6",
   "metadata": {},
   "source": [
    "##### 🟢 &nbsp; &nbsp; Private method\n",
    "- Private methods are inherited (they are by default visible in subclasses), unless they are hidden by signature matching.\n",
    "- Private methods can be made public or override in a subclass."
   ]
  },
  {
   "cell_type": "code",
   "execution_count": 354,
   "id": "4d4376bc-1f50-400a-864c-7d5cab574005",
   "metadata": {},
   "outputs": [
    {
     "data": {
      "text/plain": [
       "class base : object method private display : string end\n"
      ]
     },
     "execution_count": 354,
     "metadata": {},
     "output_type": "execute_result"
    },
    {
     "data": {
      "text/plain": [
       "class derived_one : object method display : string end\n"
      ]
     },
     "execution_count": 354,
     "metadata": {},
     "output_type": "execute_result"
    },
    {
     "data": {
      "text/plain": [
       "val d : derived_one = <obj>\n"
      ]
     },
     "execution_count": 354,
     "metadata": {},
     "output_type": "execute_result"
    },
    {
     "data": {
      "text/plain": [
       "- : string = \"display method in base\"\n"
      ]
     },
     "execution_count": 354,
     "metadata": {},
     "output_type": "execute_result"
    },
    {
     "data": {
      "text/plain": [
       "class derived_one : object method display : string end\n"
      ]
     },
     "execution_count": 354,
     "metadata": {},
     "output_type": "execute_result"
    },
    {
     "data": {
      "text/plain": [
       "val d : derived_one = <obj>\n"
      ]
     },
     "execution_count": 354,
     "metadata": {},
     "output_type": "execute_result"
    },
    {
     "data": {
      "text/plain": [
       "- : string = \"display method in base\"\n"
      ]
     },
     "execution_count": 354,
     "metadata": {},
     "output_type": "execute_result"
    },
    {
     "data": {
      "text/plain": [
       "class derived_two : object method display : string end\n"
      ]
     },
     "execution_count": 354,
     "metadata": {},
     "output_type": "execute_result"
    },
    {
     "data": {
      "text/plain": [
       "val dt : derived_two = <obj>\n"
      ]
     },
     "execution_count": 354,
     "metadata": {},
     "output_type": "execute_result"
    },
    {
     "data": {
      "text/plain": [
       "- : string = \"display method in base ..calling from derived\"\n"
      ]
     },
     "execution_count": 354,
     "metadata": {},
     "output_type": "execute_result"
    }
   ],
   "source": [
    "class base = object\n",
    "    method private display = \"display method in base\"\n",
    "end ;;\n",
    "\n",
    "(* making private method public in derived class *)\n",
    "class derived_one = object\n",
    "    inherit base\n",
    "    method virtual display : _\n",
    "end ;;\n",
    "let d = new derived_one ;;\n",
    "d#display ;;\n",
    "\n",
    "(* alternatively *)\n",
    "class derived_one = object (self : < display : _; ..>)\n",
    "    inherit base\n",
    "end ;;\n",
    "let d = new derived_one ;;\n",
    "d#display ;;\n",
    "\n",
    "(* overiding private method in derived class *)\n",
    "class derived_two = object\n",
    "    inherit base as super\n",
    "    method display = \n",
    "        super#display ^ \" ..calling from derived\";\n",
    "end ;;\n",
    "let dt = new derived_two ;;\n",
    "dt#display ;;"
   ]
  },
  {
   "cell_type": "markdown",
   "id": "4e1724f7-c131-40ab-a408-74b0b6bb6041",
   "metadata": {},
   "source": [
    "##### 🟢 &nbsp; &nbsp; Inheritance\n",
    "Inheritance is like textual inclusion. If more than one definition for a name, the last definition wins."
   ]
  },
  {
   "cell_type": "code",
   "execution_count": 355,
   "id": "094ca53c-a2db-4b1a-9b0b-251cddc9c52e",
   "metadata": {},
   "outputs": [
    {
     "data": {
      "text/plain": [
       "class ['a] point2d :\n",
       "  'a ->\n",
       "  'a ->\n",
       "  object\n",
       "    val mutable _x : 'a\n",
       "    val mutable _y : 'a\n",
       "    method getX : 'a\n",
       "    method getY : 'a\n",
       "    method set2 : 'a * 'a -> unit\n",
       "    method setX : 'a -> unit\n",
       "    method setY : 'a -> unit\n",
       "  end\n"
      ]
     },
     "execution_count": 355,
     "metadata": {},
     "output_type": "execute_result"
    },
    {
     "data": {
      "text/plain": [
       "class ['a] point3d :\n",
       "  'a ->\n",
       "  'a ->\n",
       "  'a ->\n",
       "  object\n",
       "    val mutable _x : 'a\n",
       "    val mutable _y : 'a\n",
       "    val mutable z : 'a\n",
       "    method getX : 'a\n",
       "    method getY : 'a\n",
       "    method getZ : 'a\n",
       "    method set2 : 'a * 'a -> unit\n",
       "    method set3 : 'a * 'a * 'a -> unit\n",
       "    method setX : 'a -> unit\n",
       "    method setY : 'a -> unit\n",
       "    method setZ : 'a -> unit\n",
       "  end\n"
      ]
     },
     "execution_count": 355,
     "metadata": {},
     "output_type": "execute_result"
    },
    {
     "data": {
      "text/plain": [
       "val p3 : float point3d = <obj>\n"
      ]
     },
     "execution_count": 355,
     "metadata": {},
     "output_type": "execute_result"
    },
    {
     "data": {
      "text/plain": [
       "- : float = 1.\n"
      ]
     },
     "execution_count": 355,
     "metadata": {},
     "output_type": "execute_result"
    },
    {
     "data": {
      "text/plain": [
       "- : float = 2.\n"
      ]
     },
     "execution_count": 355,
     "metadata": {},
     "output_type": "execute_result"
    },
    {
     "data": {
      "text/plain": [
       "- : float = 3.\n"
      ]
     },
     "execution_count": 355,
     "metadata": {},
     "output_type": "execute_result"
    }
   ],
   "source": [
    "class ['a] point2d (x : 'a) (y : 'a) = object(self)\n",
    "    val mutable _x = x\n",
    "    val mutable _y = y\n",
    "    method getX = _x\n",
    "    method getY = _y\n",
    "    method setX v = _x <- v\n",
    "    method setY v = _y <- v\n",
    "    method set2 (x, y) = self#setX x ; self#setY y\n",
    "end ;;\n",
    "\n",
    "class ['a] point3d (x : 'a) (y : 'a) (z : 'a) = object(self)\n",
    "    inherit ['a] point2d x y as super\n",
    "    val mutable z = z\n",
    "    method getZ = z\n",
    "    method setZ v = z <- v\n",
    "    method set3 (x, y, z) =\n",
    "        super#set2 (x, y) ;\n",
    "        self#setZ z \n",
    "end ;;\n",
    "\n",
    "let p3 = new point3d 1. 2. 3. ;;\n",
    "p3#getX ;;\n",
    "p3#getY ;;\n",
    "p3#getZ ;;"
   ]
  },
  {
   "cell_type": "markdown",
   "id": "701fd545-071d-4df3-836d-eafcbd278fc3",
   "metadata": {},
   "source": [
    "##### explicitly marking as overriding another definition"
   ]
  },
  {
   "cell_type": "code",
   "execution_count": 356,
   "id": "fac8b235-6eac-45c1-b59b-6f4e9681546e",
   "metadata": {},
   "outputs": [
    {
     "data": {
      "text/plain": [
       "class base :\n",
       "  object\n",
       "    val x : int\n",
       "    method private private_show : string\n",
       "    method show : string\n",
       "  end\n"
      ]
     },
     "execution_count": 356,
     "metadata": {},
     "output_type": "execute_result"
    },
    {
     "data": {
      "text/plain": [
       "class derived :\n",
       "  object\n",
       "    val x : int\n",
       "    method private private_show : string\n",
       "    method show : string\n",
       "  end\n"
      ]
     },
     "execution_count": 356,
     "metadata": {},
     "output_type": "execute_result"
    },
    {
     "data": {
      "text/plain": [
       "val d : derived = <obj>\n"
      ]
     },
     "execution_count": 356,
     "metadata": {},
     "output_type": "execute_result"
    },
    {
     "data": {
      "text/plain": [
       "- : string = \"show method in derived. x = 1111\"\n"
      ]
     },
     "execution_count": 356,
     "metadata": {},
     "output_type": "execute_result"
    },
    {
     "data": {
      "text/plain": [
       "class derived_two :\n",
       "  object\n",
       "    val x : int\n",
       "    method private private_show : string\n",
       "    method show : string\n",
       "  end\n"
      ]
     },
     "execution_count": 356,
     "metadata": {},
     "output_type": "execute_result"
    },
    {
     "data": {
      "text/plain": [
       "val dt : derived_two = <obj>\n"
      ]
     },
     "execution_count": 356,
     "metadata": {},
     "output_type": "execute_result"
    },
    {
     "data": {
      "text/plain": [
       "- : string = \"show method in base. x = 1\"\n"
      ]
     },
     "execution_count": 356,
     "metadata": {},
     "output_type": "execute_result"
    }
   ],
   "source": [
    "class base = object\n",
    "    val x = 1\n",
    "    method private private_show = \"private show\"\n",
    "    method show = \"show method in base. x = \" ^ string_of_int x\n",
    "end ;;\n",
    "\n",
    "class derived = object\n",
    "    inherit base\n",
    "    (* if base don't have show method or x instance variable, compiler will throw error *)\n",
    "    val! x = 1111 \n",
    "    method! show = \"show method in derived. x = \" ^ string_of_int x\n",
    "end ;;\n",
    "\n",
    "let d = new derived ;;\n",
    "d#show ;;\n",
    "\n",
    "class derived_two = object \n",
    "    val x = 101   \n",
    "    method show = \"show method in derived_two\"\n",
    "    \n",
    "    (* override above method and instance variable, \n",
    "    base method and instance variable will be used instead  *)\n",
    "    inherit! base \n",
    "end ;;\n",
    "\n",
    "let dt = new derived_two ;;\n",
    "dt#show ;;"
   ]
  },
  {
   "cell_type": "markdown",
   "id": "01534a50-5c94-40a2-a6f5-973a6e5ad3a4",
   "metadata": {},
   "source": [
    "##### 🟢 &nbsp; &nbsp; Multiple inheritance"
   ]
  },
  {
   "cell_type": "code",
   "execution_count": 357,
   "id": "886cace9-6765-4680-aed9-e97f6e5e3150",
   "metadata": {},
   "outputs": [
    {
     "data": {
      "text/plain": [
       "class reader : object val v : int ref method get_val : int end\n"
      ]
     },
     "execution_count": 357,
     "metadata": {},
     "output_type": "execute_result"
    },
    {
     "data": {
      "text/plain": [
       "class writer : object val v : int ref method set_val : int -> unit end\n"
      ]
     },
     "execution_count": 357,
     "metadata": {},
     "output_type": "execute_result"
    },
    {
     "data": {
      "text/plain": [
       "class derived :\n",
       "  object\n",
       "    val v : int ref\n",
       "    method get_val : int\n",
       "    method set_val : int -> unit\n",
       "  end\n"
      ]
     },
     "execution_count": 357,
     "metadata": {},
     "output_type": "execute_result"
    },
    {
     "data": {
      "text/plain": [
       "val d : derived = <obj>\n"
      ]
     },
     "execution_count": 357,
     "metadata": {},
     "output_type": "execute_result"
    },
    {
     "data": {
      "text/plain": [
       "- : unit = ()\n"
      ]
     },
     "execution_count": 357,
     "metadata": {},
     "output_type": "execute_result"
    },
    {
     "data": {
      "text/plain": [
       "- : int = 111111\n"
      ]
     },
     "execution_count": 357,
     "metadata": {},
     "output_type": "execute_result"
    }
   ],
   "source": [
    "class reader = object   \n",
    "    val v = ref 0\n",
    "    method get_val = !v\n",
    "end ;;\n",
    "\n",
    "class writer = object  \n",
    "    val v = ref 0   \n",
    "    method set_val x = v := x  \n",
    "end ;;\n",
    "\n",
    "class derived = object\n",
    "    inherit reader\n",
    "    inherit! writer\n",
    "end ;;\n",
    "\n",
    "let d = new derived ;;\n",
    "d#set_val 111111 ;;\n",
    "d#get_val ;;"
   ]
  },
  {
   "cell_type": "markdown",
   "id": "c15384fe-a023-4e4b-9436-115af68bdec6",
   "metadata": {},
   "source": [
    "<br/>"
   ]
  },
  {
   "cell_type": "markdown",
   "id": "ac6356ee-470c-4573-8cc8-f7147044caeb",
   "metadata": {},
   "source": [
    "##### 🟢 &nbsp; &nbsp; Polymorphic Methods\n",
    "- https://v2.ocaml.org/manual/objectexamples.html#s%3Apolymorphic-methods\n",
    "- https://stackoverflow.com/questions/69144536/in-ocaml-what-is-the-difference-between-a-and-type-a-and-when-to-use-eac"
   ]
  },
  {
   "cell_type": "code",
   "execution_count": 358,
   "id": "f4458da8-540d-4975-a969-4ff66bbc5e4b",
   "metadata": {},
   "outputs": [
    {
     "data": {
      "text/plain": [
       "class ['a, 'b] intlist :\n",
       "  'b list ->\n",
       "  object\n",
       "    val mutable lst : 'b list\n",
       "    method fold : ('a -> 'b -> 'a) -> 'a -> 'a\n",
       "  end\n"
      ]
     },
     "execution_count": 358,
     "metadata": {},
     "output_type": "execute_result"
    },
    {
     "data": {
      "text/plain": [
       "val cl : ('_weak19, int) intlist = <obj>\n"
      ]
     },
     "execution_count": 358,
     "metadata": {},
     "output_type": "execute_result"
    },
    {
     "data": {
      "text/plain": [
       "- : int = 15\n"
      ]
     },
     "execution_count": 358,
     "metadata": {},
     "output_type": "execute_result"
    },
    {
     "ename": "error",
     "evalue": "compile_error",
     "output_type": "error",
     "traceback": [
      "File \"[358]\", line 12, characters 23-27:\n12 | cl#fold (fun accu x -> accu ^ string_of_int x) \"\" ;; \n                            ^^^^\nError: This expression has type int but an expression was expected of type\n         string\n"
     ]
    }
   ],
   "source": [
    "class ['a, 'b] intlist (l : 'b list) = object\n",
    "    val mutable lst = l\n",
    "    method fold f (accu : 'a) = lst |> List.fold_left f accu \n",
    "end ;;\n",
    "\n",
    "let cl = new intlist ([1;2;3;4;5]) ;;\n",
    "cl#fold (+) 0 ;;\n",
    "\n",
    "(* the following code will not work because\n",
    "   fold method is not polymorphic enough.\n",
    "*)\n",
    "cl#fold (fun accu x -> accu ^ string_of_int x) \"\" ;; "
   ]
  },
  {
   "cell_type": "code",
   "execution_count": 359,
   "id": "8fd2c74f-a258-4cef-b9ce-8a857131ebe1",
   "metadata": {},
   "outputs": [
    {
     "data": {
      "text/plain": [
       "class ['b] clist :\n",
       "  'b list ->\n",
       "  object\n",
       "    val mutable lst : 'b list\n",
       "    method fold : ('a -> 'b -> 'a) -> 'a -> 'a\n",
       "  end\n"
      ]
     },
     "execution_count": 359,
     "metadata": {},
     "output_type": "execute_result"
    },
    {
     "data": {
      "text/plain": [
       "val cl : float clist = <obj>\n"
      ]
     },
     "execution_count": 359,
     "metadata": {},
     "output_type": "execute_result"
    },
    {
     "data": {
      "text/plain": [
       "- : float = 15.\n"
      ]
     },
     "execution_count": 359,
     "metadata": {},
     "output_type": "execute_result"
    },
    {
     "data": {
      "text/plain": [
       "- : string = \"1.2.3.4.5.\"\n"
      ]
     },
     "execution_count": 359,
     "metadata": {},
     "output_type": "execute_result"
    },
    {
     "data": {
      "text/plain": [
       "val cl : int clist = <obj>\n"
      ]
     },
     "execution_count": 359,
     "metadata": {},
     "output_type": "execute_result"
    },
    {
     "data": {
      "text/plain": [
       "- : int = 15\n"
      ]
     },
     "execution_count": 359,
     "metadata": {},
     "output_type": "execute_result"
    },
    {
     "data": {
      "text/plain": [
       "- : string = \"12345\"\n"
      ]
     },
     "execution_count": 359,
     "metadata": {},
     "output_type": "execute_result"
    }
   ],
   "source": [
    "(* making fold explicitly polymorphic *)\n",
    "class ['b] clist (l : 'b list) = object\n",
    "    val mutable lst = l\n",
    "    method fold : type a. (a -> 'b -> a) -> a -> a = fun f accu -> lst |> List.fold_left f accu \n",
    "end ;;\n",
    "\n",
    "let cl = new clist ([1.;2.;3.;4.;5.]) ;;\n",
    "cl#fold (+.) 0. ;;\n",
    "cl#fold (fun accu x -> accu ^ string_of_float x) \"\" ;;\n",
    "\n",
    "let cl = new clist ([1;2;3;4;5]) ;;\n",
    "cl#fold (+) 0 ;;\n",
    "cl#fold (fun accu x -> accu ^ string_of_int x) \"\" ;;"
   ]
  },
  {
   "cell_type": "markdown",
   "id": "9e6bc37f-a55b-4aef-8713-d6266d903c63",
   "metadata": {},
   "source": [
    "Explicitly polymorphic type annotation can be omitted in the class definition if it is already known, through inheritance or type constraints on self."
   ]
  },
  {
   "cell_type": "code",
   "execution_count": 360,
   "id": "69abb2da-d615-498a-ba29-99273e25cf5f",
   "metadata": {},
   "outputs": [
    {
     "data": {
      "text/plain": [
       "class ['b] clist :\n",
       "  'b list ->\n",
       "  object\n",
       "    val mutable lst : 'b list\n",
       "    method fold : ('a -> 'b -> 'a) -> 'a -> 'a\n",
       "  end\n"
      ]
     },
     "execution_count": 360,
     "metadata": {},
     "output_type": "execute_result"
    },
    {
     "data": {
      "text/plain": [
       "class ['a] clist_again :\n",
       "  'a list ->\n",
       "  object\n",
       "    val mutable lst : 'a list\n",
       "    method fold : ('a0 -> 'a -> 'a0) -> 'a0 -> 'a0\n",
       "  end\n"
      ]
     },
     "execution_count": 360,
     "metadata": {},
     "output_type": "execute_result"
    },
    {
     "data": {
      "text/plain": [
       "val cl : float clist_again = <obj>\n"
      ]
     },
     "execution_count": 360,
     "metadata": {},
     "output_type": "execute_result"
    },
    {
     "data": {
      "text/plain": [
       "- : float = 15.\n"
      ]
     },
     "execution_count": 360,
     "metadata": {},
     "output_type": "execute_result"
    },
    {
     "data": {
      "text/plain": [
       "- : string = \"1.2.3.4.5.\"\n"
      ]
     },
     "execution_count": 360,
     "metadata": {},
     "output_type": "execute_result"
    },
    {
     "data": {
      "text/plain": [
       "val cl : int clist_again = <obj>\n"
      ]
     },
     "execution_count": 360,
     "metadata": {},
     "output_type": "execute_result"
    },
    {
     "data": {
      "text/plain": [
       "- : int = 15\n"
      ]
     },
     "execution_count": 360,
     "metadata": {},
     "output_type": "execute_result"
    },
    {
     "data": {
      "text/plain": [
       "- : string = \"12345\"\n"
      ]
     },
     "execution_count": 360,
     "metadata": {},
     "output_type": "execute_result"
    }
   ],
   "source": [
    "class ['b] clist (l : 'b list) = object\n",
    "    val mutable lst = l\n",
    "    method fold : type a. (a -> 'b -> a) -> a -> a = fun f accu -> lst |> List.fold_left f accu \n",
    "end ;;\n",
    "\n",
    "class ['a] clist_again (l : 'a list) = object\n",
    "    inherit ['a] clist l\n",
    "    method! fold f accu = l |> List.fold_left f accu\n",
    "end ;;\n",
    "\n",
    "let cl = new clist_again ([1.;2.;3.;4.;5.]) ;;\n",
    "cl#fold (+.) 0. ;;\n",
    "cl#fold (fun accu x -> accu ^ string_of_float x) \"\" ;;\n",
    "\n",
    "let cl = new clist_again ([1;2;3;4;5]) ;;\n",
    "cl#fold (+) 0 ;;\n",
    "cl#fold (fun accu x -> accu ^ string_of_int x) \"\" ;;"
   ]
  },
  {
   "cell_type": "code",
   "execution_count": 361,
   "id": "1939d12d-ff4f-42ad-81e8-316ae88304d0",
   "metadata": {},
   "outputs": [
    {
     "data": {
      "text/plain": [
       "class type ['a] iterator =\n",
       "  object method fold : ('b -> 'a -> 'b) -> 'b -> 'b end\n"
      ]
     },
     "execution_count": 361,
     "metadata": {},
     "output_type": "execute_result"
    },
    {
     "data": {
      "text/plain": [
       "class ['a] clist :\n",
       "  'a list -> object method fold : ('b -> 'a -> 'b) -> 'b -> 'b end\n"
      ]
     },
     "execution_count": 361,
     "metadata": {},
     "output_type": "execute_result"
    },
    {
     "data": {
      "text/plain": [
       "val cl : int clist = <obj>\n"
      ]
     },
     "execution_count": 361,
     "metadata": {},
     "output_type": "execute_result"
    },
    {
     "data": {
      "text/plain": [
       "- : int = 15\n"
      ]
     },
     "execution_count": 361,
     "metadata": {},
     "output_type": "execute_result"
    },
    {
     "data": {
      "text/plain": [
       "val sum : < fold : (int -> int -> int) -> int -> 'a; .. > -> 'a = <fun>\n"
      ]
     },
     "execution_count": 361,
     "metadata": {},
     "output_type": "execute_result"
    },
    {
     "data": {
      "text/plain": [
       "val sum : int #iterator -> int = <fun>\n"
      ]
     },
     "execution_count": 361,
     "metadata": {},
     "output_type": "execute_result"
    },
    {
     "data": {
      "text/plain": [
       "- : int = 15\n"
      ]
     },
     "execution_count": 361,
     "metadata": {},
     "output_type": "execute_result"
    },
    {
     "data": {
      "text/plain": [
       "val sum : < fold : 'a. ('a -> int -> 'a) -> 'a -> 'a > -> int = <fun>\n"
      ]
     },
     "execution_count": 361,
     "metadata": {},
     "output_type": "execute_result"
    },
    {
     "data": {
      "text/plain": [
       "- : int = 15\n"
      ]
     },
     "execution_count": 361,
     "metadata": {},
     "output_type": "execute_result"
    }
   ],
   "source": [
    "class type ['a] iterator = object\n",
    "    method fold : ('b -> 'a -> 'b) -> 'b -> 'b\n",
    "end ;;\n",
    "\n",
    "class ['a] clist (l : 'a list) = object (self : 'a #iterator)\n",
    "    method fold f accu = l |> List.fold_left f accu \n",
    "end ;;\n",
    "\n",
    "let cl = new clist ([1;2;3;4;5]) ;;\n",
    "cl#fold (+) 0 ;;\n",
    "\n",
    "(* a polymorphic method can only be called if its type is known at the call site *)\n",
    "let sum l = l#fold (+) 0 ;;\n",
    "\n",
    "(* throw error for the below line *)\n",
    "(* sum cl ;;  *)\n",
    "\n",
    "let sum (l : _ #iterator) = l#fold (+) 0 ;;\n",
    "sum cl ;;\n",
    "\n",
    "let sum l = (l:< fold : 'a. ('a -> int -> 'a) -> 'a -> 'a >)#fold (+) 0 ;;\n",
    "sum cl ;;"
   ]
  },
  {
   "cell_type": "markdown",
   "id": "02ba46c8-62b9-464b-9818-324ad5a79481",
   "metadata": {},
   "source": [
    "<br/>"
   ]
  },
  {
   "cell_type": "markdown",
   "id": "05d9d544-161f-4deb-99bd-8f85a1041c93",
   "metadata": {},
   "source": [
    "##### 🟢 &nbsp; &nbsp; Coercions\n",
    "Subtyping is never implicit."
   ]
  },
  {
   "cell_type": "code",
   "execution_count": 365,
   "id": "fa1f2e5b-8d93-4a38-a4d3-96df5d2ff88a",
   "metadata": {},
   "outputs": [
    {
     "data": {
      "text/plain": [
       "class x : object val x : int method get_x : int end\n"
      ]
     },
     "execution_count": 365,
     "metadata": {},
     "output_type": "execute_result"
    },
    {
     "data": {
      "text/plain": [
       "class xy :\n",
       "  object\n",
       "    val x : int\n",
       "    val y : int\n",
       "    method get_x : int\n",
       "    method get_y : int\n",
       "    method to_x : x\n",
       "  end\n"
      ]
     },
     "execution_count": 365,
     "metadata": {},
     "output_type": "execute_result"
    },
    {
     "data": {
      "text/plain": [
       "val to_x : #x -> x = <fun>\n"
      ]
     },
     "execution_count": 365,
     "metadata": {},
     "output_type": "execute_result"
    },
    {
     "data": {
      "text/plain": [
       "val lst : x list = [<obj>; <obj>; <obj>; <obj>; <obj>]\n"
      ]
     },
     "execution_count": 365,
     "metadata": {},
     "output_type": "execute_result"
    }
   ],
   "source": [
    "class x = object\n",
    "    val x = 1\n",
    "    method get_x = x\n",
    "end ;;\n",
    "\n",
    "class xy = object(self)\n",
    "    inherit x\n",
    "    val y = 1\n",
    "    method get_y = y\n",
    "    method to_x = (self :> x)\n",
    "end ;;\n",
    "\n",
    "let to_x x' = (x' :> x ) ;;\n",
    "\n",
    "let lst = [ new x; (new xy :> x ); (new xy)#to_x; (to_x new xy) ; (object method get_x = 11 end :> x) ] ;;"
   ]
  },
  {
   "cell_type": "markdown",
   "id": "339d9a93-7d02-4633-941a-dbceadabc346",
   "metadata": {},
   "source": [
    "<br/>"
   ]
  },
  {
   "cell_type": "markdown",
   "id": "dd707e3b-f672-4762-b1d9-8b9bb03d37aa",
   "metadata": {},
   "source": [
    "##### 🟢 &nbsp; &nbsp; Cloning\n",
    "`Oo.copy` makes a shallow copy of an object. It returns a new object having the same method and instance variables as its argument. The instance variables are copied but their contents are shared."
   ]
  },
  {
   "cell_type": "code",
   "execution_count": 370,
   "id": "725ac2f5-0c08-4276-b1c0-a314bbf95c23",
   "metadata": {},
   "outputs": [
    {
     "data": {
      "text/plain": [
       "class person :\n",
       "  object\n",
       "    val mutable age : int\n",
       "    val mutable name : string\n",
       "    method get_age : int\n",
       "    method get_name : string\n",
       "    method set_age : int -> unit\n",
       "    method set_name : string -> unit\n",
       "  end\n"
      ]
     },
     "execution_count": 370,
     "metadata": {},
     "output_type": "execute_result"
    },
    {
     "data": {
      "text/plain": [
       "val p1 : person = <obj>\n"
      ]
     },
     "execution_count": 370,
     "metadata": {},
     "output_type": "execute_result"
    },
    {
     "data": {
      "text/plain": [
       "- : string = \"Ryan\"\n"
      ]
     },
     "execution_count": 370,
     "metadata": {},
     "output_type": "execute_result"
    },
    {
     "data": {
      "text/plain": [
       "val p2 : person = <obj>\n"
      ]
     },
     "execution_count": 370,
     "metadata": {},
     "output_type": "execute_result"
    },
    {
     "data": {
      "text/plain": [
       "- : unit = ()\n"
      ]
     },
     "execution_count": 370,
     "metadata": {},
     "output_type": "execute_result"
    },
    {
     "data": {
      "text/plain": [
       "- : string = \"Ryan Zan\"\n"
      ]
     },
     "execution_count": 370,
     "metadata": {},
     "output_type": "execute_result"
    },
    {
     "data": {
      "text/plain": [
       "- : string = \"Ryan\"\n"
      ]
     },
     "execution_count": 370,
     "metadata": {},
     "output_type": "execute_result"
    },
    {
     "data": {
      "text/plain": [
       "- : bool = false\n"
      ]
     },
     "execution_count": 370,
     "metadata": {},
     "output_type": "execute_result"
    }
   ],
   "source": [
    "class person = object \n",
    "    val mutable age = 6\n",
    "    val mutable name = \"Ryan\"\n",
    "    method get_age = age\n",
    "    method set_age v = age <- v \n",
    "    method get_name = name\n",
    "    method set_name n = name <- n\n",
    "end ;;\n",
    "\n",
    "let p1 = new person ;;\n",
    "p1#get_name ;;\n",
    "\n",
    "let p2 = Oo.copy p1 ;;\n",
    "p2#set_name \"Ryan Zan\" ;;\n",
    "p2#get_name ;;\n",
    "p1#get_name ;;\n",
    "\n",
    "(* false cause objects are equal if and only if they are physically equal *)\n",
    "p1 = p2 ;;"
   ]
  },
  {
   "cell_type": "code",
   "execution_count": 373,
   "id": "dbeaade4-be1d-430e-aebf-31a276d69b12",
   "metadata": {},
   "outputs": [
    {
     "data": {
      "text/plain": [
       "class backup :\n",
       "  object ('a)\n",
       "    val mutable copy : 'a option\n",
       "    val mutable data : int\n",
       "    method clear : unit\n",
       "    method get_data : int\n",
       "    method restore : 'a\n",
       "    method save : unit\n",
       "    method set_data : int -> unit\n",
       "  end\n"
      ]
     },
     "execution_count": 373,
     "metadata": {},
     "output_type": "execute_result"
    },
    {
     "data": {
      "text/plain": [
       "val b1 : backup = <obj>\n"
      ]
     },
     "execution_count": 373,
     "metadata": {},
     "output_type": "execute_result"
    },
    {
     "data": {
      "text/plain": [
       "- : unit = ()\n"
      ]
     },
     "execution_count": 373,
     "metadata": {},
     "output_type": "execute_result"
    },
    {
     "data": {
      "text/plain": [
       "- : unit = ()\n"
      ]
     },
     "execution_count": 373,
     "metadata": {},
     "output_type": "execute_result"
    },
    {
     "data": {
      "text/plain": [
       "- : int = 1000\n"
      ]
     },
     "execution_count": 373,
     "metadata": {},
     "output_type": "execute_result"
    },
    {
     "data": {
      "text/plain": [
       "val saved : backup = <obj>\n"
      ]
     },
     "execution_count": 373,
     "metadata": {},
     "output_type": "execute_result"
    },
    {
     "data": {
      "text/plain": [
       "- : unit = ()\n"
      ]
     },
     "execution_count": 373,
     "metadata": {},
     "output_type": "execute_result"
    },
    {
     "data": {
      "text/plain": [
       "- : int = 1\n"
      ]
     },
     "execution_count": 373,
     "metadata": {},
     "output_type": "execute_result"
    },
    {
     "data": {
      "text/plain": [
       "- : unit = ()\n"
      ]
     },
     "execution_count": 373,
     "metadata": {},
     "output_type": "execute_result"
    },
    {
     "data": {
      "text/plain": [
       "- : int = 1000\n"
      ]
     },
     "execution_count": 373,
     "metadata": {},
     "output_type": "execute_result"
    }
   ],
   "source": [
    "class backup = object(self)\n",
    "    val mutable copy = None\n",
    "    val mutable data = 0\n",
    "    method get_data = data\n",
    "    method set_data v = data <- v\n",
    "    method save = copy <- Some {< data >}\n",
    "    method restore = match copy with None -> self | Some x -> x\n",
    "    method clear = copy <- None\n",
    "end ;;\n",
    "\n",
    "let b1 = new backup ;;\n",
    "b1#set_data 1000 ;;\n",
    "b1#save ;;\n",
    "b1#get_data ;;\n",
    "let saved = b1#restore ;;\n",
    "b1#set_data 1 ;;\n",
    "b1#get_data ;;\n",
    "b1#clear ;;\n",
    "saved#get_data ;;"
   ]
  },
  {
   "cell_type": "markdown",
   "id": "f739b759-6a28-45c4-9703-2cad35413496",
   "metadata": {},
   "source": [
    "<br/>"
   ]
  },
  {
   "cell_type": "markdown",
   "id": "4e181569-96a0-42cf-838b-c1868bc9d352",
   "metadata": {},
   "source": [
    "##### 🟢 &nbsp; &nbsp; Recursive classes"
   ]
  },
  {
   "cell_type": "code",
   "execution_count": 375,
   "id": "61cec60e-4994-418b-92d6-60b460802caf",
   "metadata": {},
   "outputs": [
    {
     "data": {
      "text/plain": [
       "class window : object val mutable button : button option end\n",
       "and button : window -> object val parent : window end\n"
      ]
     },
     "execution_count": 375,
     "metadata": {},
     "output_type": "execute_result"
    }
   ],
   "source": [
    "class window = object\n",
    "    val mutable button = (None : button option)\n",
    "end \n",
    "and button (parent : window) = object\n",
    "    val parent = parent\n",
    "end"
   ]
  },
  {
   "cell_type": "markdown",
   "id": "ebb8bfbd-ac88-4e0f-8591-5d2cd7c6908b",
   "metadata": {},
   "source": [
    "<br/>"
   ]
  },
  {
   "cell_type": "markdown",
   "id": "117efb78-2897-46b4-973b-7d4f884c1797",
   "metadata": {},
   "source": [
    "##### 🟢 &nbsp; &nbsp; Binary methods\n",
    "A binary method is a method which takes an argument of the same type as self."
   ]
  },
  {
   "cell_type": "code",
   "execution_count": 407,
   "id": "66e87201-43a2-41bf-b5bd-1e86fd73636a",
   "metadata": {},
   "outputs": [
    {
     "data": {
      "text/plain": [
       "class virtual comparable : object ('a) method virtual leq : 'a -> bool end\n"
      ]
     },
     "execution_count": 407,
     "metadata": {},
     "output_type": "execute_result"
    },
    {
     "data": {
      "text/plain": [
       "class money :\n",
       "  float ->\n",
       "  object ('a)\n",
       "    val mutable _val : float\n",
       "    method get_value : float\n",
       "    method leq : 'a -> bool\n",
       "    method plus : 'a -> 'a\n",
       "  end\n"
      ]
     },
     "execution_count": 407,
     "metadata": {},
     "output_type": "execute_result"
    },
    {
     "data": {
      "text/plain": [
       "val m1 : money = <obj>\n"
      ]
     },
     "execution_count": 407,
     "metadata": {},
     "output_type": "execute_result"
    },
    {
     "data": {
      "text/plain": [
       "- : float = 10000.\n"
      ]
     },
     "execution_count": 407,
     "metadata": {},
     "output_type": "execute_result"
    },
    {
     "data": {
      "text/plain": [
       "val m2 : money = <obj>\n"
      ]
     },
     "execution_count": 407,
     "metadata": {},
     "output_type": "execute_result"
    },
    {
     "data": {
      "text/plain": [
       "- : float = 30000.\n"
      ]
     },
     "execution_count": 407,
     "metadata": {},
     "output_type": "execute_result"
    },
    {
     "data": {
      "text/plain": [
       "val min : (#comparable as 'a) -> 'a -> 'a = <fun>\n"
      ]
     },
     "execution_count": 407,
     "metadata": {},
     "output_type": "execute_result"
    },
    {
     "data": {
      "text/plain": [
       "- : float = 10000.\n"
      ]
     },
     "execution_count": 407,
     "metadata": {},
     "output_type": "execute_result"
    }
   ],
   "source": [
    "class virtual comparable = object (_ : 'a)   \n",
    "    method virtual leq : 'a -> bool \n",
    "end ;;\n",
    "\n",
    "(* the type money is not a subtype of type comparable, \n",
    "as the self type appears in contravariant position in the type of method leq. *)\n",
    "class money (v : float) = object (self : 'a)\n",
    "    inherit comparable\n",
    "    val mutable _val = v\n",
    "    method get_value = _val\n",
    "    method leq m = _val <= m#get_value \n",
    "    method plus (m : 'a) = {< _val = self#get_value +. m#get_value >}\n",
    "end\n",
    "\n",
    "let m1 = new money 10000. ;;\n",
    "m1#get_value ;;\n",
    "\n",
    "let m2 = (m1 # plus m1) # plus m1 ;;\n",
    "m2#get_value ;;\n",
    "\n",
    "let min (m1 : #comparable) m2 = if m1#leq m2 then m1 else m2 ;; \n",
    "(min m1 m2) # get_value ;;"
   ]
  },
  {
   "cell_type": "markdown",
   "id": "60059d19-082b-4227-abb8-521bb9c258ce",
   "metadata": {},
   "source": [
    "<br/>"
   ]
  },
  {
   "cell_type": "markdown",
   "id": "af9ff8c7-b603-4e92-8e72-b1ea52158074",
   "metadata": {},
   "source": [
    "##### 🟢 &nbsp; &nbsp; Friends\n",
    "To hide the representation of above money class, module type can be used."
   ]
  },
  {
   "cell_type": "code",
   "execution_count": 416,
   "id": "39e536cc-3a9e-4509-96f9-4dea5d2c86f1",
   "metadata": {},
   "outputs": [
    {
     "data": {
      "text/plain": [
       "module type MONEY =\n",
       "  sig\n",
       "    type t\n",
       "    class money :\n",
       "      float ->\n",
       "      object ('a)\n",
       "        val mutable _val : t\n",
       "        method get_val : t\n",
       "        method leq : 'a -> bool\n",
       "        method plus : 'a -> 'a\n",
       "      end\n",
       "  end\n"
      ]
     },
     "execution_count": 416,
     "metadata": {},
     "output_type": "execute_result"
    },
    {
     "data": {
      "text/plain": [
       "module Money : MONEY\n"
      ]
     },
     "execution_count": 416,
     "metadata": {},
     "output_type": "execute_result"
    },
    {
     "data": {
      "text/plain": [
       "val m1 : Money.money = <obj>\n"
      ]
     },
     "execution_count": 416,
     "metadata": {},
     "output_type": "execute_result"
    },
    {
     "data": {
      "text/plain": [
       "val m2 : Money.money = <obj>\n"
      ]
     },
     "execution_count": 416,
     "metadata": {},
     "output_type": "execute_result"
    },
    {
     "data": {
      "text/plain": [
       "- : Money.t = <abstr>\n"
      ]
     },
     "execution_count": 416,
     "metadata": {},
     "output_type": "execute_result"
    }
   ],
   "source": [
    "module type MONEY = sig\n",
    "    type t\n",
    "    class money : float -> object ('a)\n",
    "        val mutable _val : t\n",
    "        method get_val : t\n",
    "        method leq : 'a -> bool\n",
    "        method plus : 'a -> 'a\n",
    "    end\n",
    "end ;;\n",
    "\n",
    "module Money : MONEY  = struct\n",
    "    type t = float\n",
    "    class money v = object(self : 'a)\n",
    "        val mutable _val = v\n",
    "        method get_val = _val\n",
    "        method leq (m : 'a) = self#get_val <= m#get_val\n",
    "        method plus (m : 'a) = {< _val = self#get_val +. m#get_val >}\n",
    "    end\n",
    "end ;;\n",
    "\n",
    "let m1 = new Money.money 10000. ;;\n",
    "let m2 = m1#plus m1 ;;\n",
    "\n",
    "(* get_val will not show the amount here cause type t in MONEY type is abstract *)\n",
    "(m1#plus m2)#get_val ;; "
   ]
  },
  {
   "cell_type": "code",
   "execution_count": null,
   "id": "b21b012f-d517-4db2-8524-0d22003c1d6e",
   "metadata": {},
   "outputs": [],
   "source": []
  }
 ],
 "metadata": {
  "kernelspec": {
   "display_name": "OCaml 4.12.0",
   "language": "OCaml",
   "name": "ocaml-jupyter"
  },
  "language_info": {
   "codemirror_mode": "text/x-ocaml",
   "file_extension": ".ml",
   "mimetype": "text/x-ocaml",
   "name": "OCaml",
   "nbconverter_exporter": null,
   "pygments_lexer": "OCaml",
   "version": "4.12.0"
  },
  "widgets": {
   "application/vnd.jupyter.widget-state+json": {
    "state": {},
    "version_major": 2,
    "version_minor": 0
   }
  }
 },
 "nbformat": 4,
 "nbformat_minor": 5
}
