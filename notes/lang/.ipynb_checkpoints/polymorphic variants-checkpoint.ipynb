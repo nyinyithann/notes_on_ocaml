{
 "cells": [
  {
   "cell_type": "markdown",
   "id": "90512bcc-0fc9-45db-84a2-01310a37e480",
   "metadata": {},
   "source": [
    "# Polymorphic Variants"
   ]
  },
  {
   "cell_type": "markdown",
   "id": "8c7e6f2d-71e8-4d35-9efa-95cd7e1b8914",
   "metadata": {},
   "source": [
    "- more flexible and lightweight than ordinary variants\n",
    "- explicit type declaration is not needed\n",
    "- the type will be inferred automatically\n",
    "- have leading backtick `` `Int 3 ``\n",
    "- `>` at the beginning of the variant type means the type is open to combination with other variant types\n",
    "- `>` means lower bound, `<` means upper bound. If the same set of tags are both an upper and a lower bound, we end up with an _exact polymorphic variant type_, which has neither marker."
   ]
  },
  {
   "cell_type": "code",
   "execution_count": 5,
   "id": "7862c974-1f1c-477d-bb21-d94c007d44c7",
   "metadata": {},
   "outputs": [
    {
     "data": {
      "text/plain": [
       "val one : [> `Int of int ] = `Int 1\n"
      ]
     },
     "execution_count": 5,
     "metadata": {},
     "output_type": "execute_result"
    },
    {
     "data": {
      "text/plain": [
       "val two : [> `Float of float ] = `Float 2.\n"
      ]
     },
     "execution_count": 5,
     "metadata": {},
     "output_type": "execute_result"
    },
    {
     "data": {
      "text/plain": [
       "val nan : [> `Not_a_number ] = `Not_a_number\n"
      ]
     },
     "execution_count": 5,
     "metadata": {},
     "output_type": "execute_result"
    },
    {
     "data": {
      "text/plain": [
       "- : [> `Float of float | `Int of int | `Not_a_number ] list =\n",
       "[`Int 1; `Float 2.; `Not_a_number]\n"
      ]
     },
     "execution_count": 5,
     "metadata": {},
     "output_type": "execute_result"
    }
   ],
   "source": [
    "let one = `Int 1 ;;\n",
    "let two = `Float 2. ;;\n",
    "let nan = `Not_a_number ;;\n",
    "\n",
    "(* for the below line, compiler infers a new type *)\n",
    "[one; two; nan] ;;"
   ]
  },
  {
   "cell_type": "markdown",
   "id": "eb97cccc-8d05-4a59-bca7-3c9766d538be",
   "metadata": {},
   "source": [
    "OCaml will in some cases infer a variant type with `<`, to indicate “these tags or less,” as in the following example:"
   ]
  },
  {
   "cell_type": "code",
   "execution_count": 3,
   "id": "d7e6d038-1940-466e-b88d-d3fab835c882",
   "metadata": {},
   "outputs": [
    {
     "data": {
      "text/plain": [
       "val is_positive : [< `Float of float | `Int of int ] -> bool = <fun>\n"
      ]
     },
     "execution_count": 3,
     "metadata": {},
     "output_type": "execute_result"
    }
   ],
   "source": [
    "let is_positive = function\n",
    "     | `Int x -> x > 0\n",
    "     | `Float x -> x > 0. ;;"
   ]
  },
  {
   "cell_type": "markdown",
   "id": "537819c2-b3f0-48ca-8b39-f4cb50e63291",
   "metadata": {},
   "source": [
    "Compiler will show error for incompatible uses of the same tag"
   ]
  },
  {
   "cell_type": "code",
   "execution_count": 7,
   "id": "50068e0a-1579-4b2e-b8a2-8137f0d2b6e5",
   "metadata": {},
   "outputs": [
    {
     "data": {
      "text/plain": [
       "val one : [> `Int of int ] = `Int 1\n"
      ]
     },
     "execution_count": 7,
     "metadata": {},
     "output_type": "execute_result"
    },
    {
     "data": {
      "text/plain": [
       "val two : [> `Int of string ] = `Int \"two\"\n"
      ]
     },
     "execution_count": 7,
     "metadata": {},
     "output_type": "execute_result"
    },
    {
     "ename": "error",
     "evalue": "compile_error",
     "output_type": "error",
     "traceback": [
      "File \"[7]\", line 3, characters 6-9:\n3 | [one; two] ;;\n          ^^^\nError: This expression has type [> `Int of string ]\n       but an expression was expected of type [> `Int of int ]\n       Types for tag `Int are incompatible\n"
     ]
    }
   ],
   "source": [
    "let one = `Int 1 ;;\n",
    "let two = `Int \"two\" ;;\n",
    "[one; two] ;;"
   ]
  },
  {
   "cell_type": "markdown",
   "id": "331ca6d6-b159-4de9-a14a-08e620354862",
   "metadata": {},
   "source": [
    "Polymorphic variants can lead to farily complex inferred types: e.g.<br/>`` [< `Float of float | `Int of int | `Nan > `Float `Int ] ``"
   ]
  },
  {
   "cell_type": "code",
   "execution_count": 12,
   "id": "de2402fd-e98f-480f-85d4-5ce352913f27",
   "metadata": {},
   "outputs": [
    {
     "data": {
      "text/plain": [
       "val is_positive :\n",
       "  [< `Float of float | `Int of int | `Nan ] -> (bool, string) result = <fun>\n"
      ]
     },
     "execution_count": 12,
     "metadata": {},
     "output_type": "execute_result"
    },
    {
     "data": {
      "text/plain": [
       "- : [< `Float of float | `Int of int | `Nan > `Float `Int ] list =\n",
       "[`Int 10; `Float 20.]\n"
      ]
     },
     "execution_count": 12,
     "metadata": {},
     "output_type": "execute_result"
    }
   ],
   "source": [
    "let is_positive = function\n",
    "    | `Int x -> Ok (x > 0)\n",
    "    | `Float x -> Ok (x > 0.) \n",
    "    | `Nan -> Error \"Not a number\" ;;\n",
    "    \n",
    "[(`Int 10); (`Float 20.)] |> List.filter  (fun x ->\n",
    "    match is_positive x with\n",
    "    | Ok b -> b\n",
    "    | Error _ -> false \n",
    ") ;;"
   ]
  },
  {
   "cell_type": "code",
   "execution_count": 20,
   "id": "62036c51-8cb5-4fcf-b036-c7620349d1d1",
   "metadata": {},
   "outputs": [
    {
     "data": {
      "text/plain": [
       "val f1 : [< `A of int | `B | `C ] -> bool = <fun>\n"
      ]
     },
     "execution_count": 20,
     "metadata": {},
     "output_type": "execute_result"
    },
    {
     "data": {
      "text/plain": [
       "val f2 : [< `A of string | `B ] -> bool = <fun>\n"
      ]
     },
     "execution_count": 20,
     "metadata": {},
     "output_type": "execute_result"
    },
    {
     "data": {
      "text/plain": [
       "val f : [< `A of string & int | `B ] -> bool = <fun>\n"
      ]
     },
     "execution_count": 20,
     "metadata": {},
     "output_type": "execute_result"
    },
    {
     "data": {
      "text/plain": [
       "- : bool = true\n"
      ]
     },
     "execution_count": 20,
     "metadata": {},
     "output_type": "execute_result"
    }
   ],
   "source": [
    "let f1 = function `A x -> x = 1 | `B -> true | `C -> false ;;\n",
    "let f2 = function `A x -> x = \"a\" | `B -> true ;;\n",
    "let f x = f1 x && f2 x ;;\n",
    "\n",
    "f `B ;;"
   ]
  },
  {
   "cell_type": "markdown",
   "id": "80e5b59b-c53a-46e4-9da9-8690db0b093c",
   "metadata": {},
   "source": [
    "Type definitions as abbreviations."
   ]
  },
  {
   "cell_type": "code",
   "execution_count": 24,
   "id": "7f8eda64-18f7-42c4-bfd2-1c2e0274e326",
   "metadata": {},
   "outputs": [
    {
     "data": {
      "text/plain": [
       "type tags = [ `Tag1 of int | `Tag2 of float ]\n"
      ]
     },
     "execution_count": 24,
     "metadata": {},
     "output_type": "execute_result"
    },
    {
     "data": {
      "text/plain": [
       "val f : [< `Tag1 of int | `Tag2 of float | `TagN ] -> string = <fun>\n"
      ]
     },
     "execution_count": 24,
     "metadata": {},
     "output_type": "execute_result"
    }
   ],
   "source": [
    "type tags = [ `Tag1 of int | `Tag2 of float ] ;;\n",
    "let f = function\n",
    "    | #tags -> \"tags\"\n",
    "    | `TagN -> \"TagN\" ;;"
   ]
  },
  {
   "cell_type": "markdown",
   "id": "83b8011a-ac30-4ea5-b208-87adcdecbb6b",
   "metadata": {},
   "source": [
    "Subtyping"
   ]
  },
  {
   "cell_type": "code",
   "execution_count": 27,
   "id": "3af55aed-80b3-4a75-95ec-ba9253a0c44f",
   "metadata": {},
   "outputs": [
    {
     "data": {
      "text/plain": [
       "type ab = [ `A | `B ]\n"
      ]
     },
     "execution_count": 27,
     "metadata": {},
     "output_type": "execute_result"
    },
    {
     "data": {
      "text/plain": [
       "type abc = [ `A | `B | `C ]\n"
      ]
     },
     "execution_count": 27,
     "metadata": {},
     "output_type": "execute_result"
    },
    {
     "data": {
      "text/plain": [
       "val x : [> `A ] = `A\n"
      ]
     },
     "execution_count": 27,
     "metadata": {},
     "output_type": "execute_result"
    },
    {
     "data": {
      "text/plain": [
       "val y : abc = `A\n"
      ]
     },
     "execution_count": 27,
     "metadata": {},
     "output_type": "execute_result"
    }
   ],
   "source": [
    "type ab = [`A | `B ] ;;\n",
    "type abc = [ `A | `B | `C ] ;;\n",
    "let x = `A ;;\n",
    "let y : abc = (x :> abc) ;;"
   ]
  },
  {
   "cell_type": "code",
   "execution_count": null,
   "id": "e0287cec-9377-494f-af75-616b9fd8c64a",
   "metadata": {},
   "outputs": [],
   "source": []
  }
 ],
 "metadata": {
  "kernelspec": {
   "display_name": "OCaml 4.14.0",
   "language": "OCaml",
   "name": "ocaml-jupyter-4.14.0"
  },
  "language_info": {
   "codemirror_mode": "text/x-ocaml",
   "file_extension": ".ml",
   "mimetype": "text/x-ocaml",
   "name": "OCaml",
   "nbconverter_exporter": null,
   "pygments_lexer": "OCaml",
   "version": "4.14.0"
  },
  "widgets": {
   "application/vnd.jupyter.widget-state+json": {
    "state": {},
    "version_major": 2,
    "version_minor": 0
   }
  }
 },
 "nbformat": 4,
 "nbformat_minor": 5
}
