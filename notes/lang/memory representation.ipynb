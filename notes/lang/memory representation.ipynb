{
 "cells": [
  {
   "cell_type": "markdown",
   "id": "25437374-f0e8-459d-b010-f3182d65e34b",
   "metadata": {},
   "source": [
    "# Memory Representation of Values"
   ]
  },
  {
   "cell_type": "markdown",
   "id": "a9db4520-6e17-4c79-957d-6c757e86c0ec",
   "metadata": {},
   "source": [
    "- https://dev.realworldocaml.org/runtime-memory-layout.html\n",
    "- https://ocamlverse.github.io/content/runtime.html#ocaml-runtime\n",
    "- https://github.com/ocaml/ocaml/blob/trunk/runtime/caml/mlvalues.h"
   ]
  },
  {
   "cell_type": "markdown",
   "id": "5f650fb7-02b9-41f9-ac30-2c8371fddbba",
   "metadata": {},
   "source": [
    "Ocaml uses a uniform memory representation to store a value <br/>\n",
    "\n",
    "Ocaml value is a single memory word that is either immediate integer (the lowest bit is nonzero) or a pointer (the lowest bit is zero) <br/>\n",
    "\n",
    "A pointer may point to a block storing an ocaml value on th heap managed by OCaml runtime or a block storing C values <br/>\n",
    "\n",
    "Every block managed by OCaml runtime has a header (32 bits on 32-bit machine and 64-bits on 64-bit machine) and followed by variable-length data that's either opaque bytes or an array of fields. GC never inspects opaque bytes. GC inspects only OCaml fields. <br/>\n",
    "\n",
    "**32-bit header**\n",
    "\n",
    "| block size | color | tag |\n",
    "| --- | --- | --- |\n",
    "| 22 bits | 2 bits | 8 bits |\n",
    "\n",
    "On 32-bit machine, Array and String has limitation 2^22 = 16 MB. For bigger string, `Bigarray` should be used.\n",
    "\n",
    "**64-bit header**\n",
    "\n",
    "| block size | color | tag |\n",
    "| --- | --- | --- |\n",
    "| 54 bits | 2 bits | 8 bits |\n",
    "\n",
    "**Color field** is used by GC to keep track of its state during mark-and-sweep collection<br/>\n",
    "\n",
    "**Tag field** is used to tell the runtime system and the GC about the kind\n",
    "of data contained in the block.\n",
    "Tag values 0 through 245 are used for things such as declared types.\n",
    "For example, in the type\n",
    "\n",
    "```ocaml\n",
    "type t = A | B of int | C of float\n",
    "``` \n",
    "The tag for `A` will be 0, for `B` will be 1, and for `C` will be 2. OCaml therefore allows for a maximum number of 246 options in a sum type. Any more, and compilation will fail.\n",
    "\n",
    "The tags 246-255 are reserved for:\n",
    "\n",
    "| Tag | Usage | Define in Obj|\n",
    "| --- | --- |---| \n",
    "| 246 | Lazy values | lazy_tag|\n",
    "| 247 | Closures |closure_tag|\n",
    "| 248 | Objects |object_tag|\n",
    "| 249 | Infix values inside closures | infix_tag|\n",
    "| 250 | Forward values (lazy values that have been forced) | forward_tag|\n",
    "| 251 | Abstract values (shouldn't be scanned by GC) | no_scan_tag/abstract_tag|\n",
    "| 252 | Strings | string_tag|\n",
    "| 253 | Floating-point value | double_tag|\n",
    "| 254 | Flat floating-point array | double_array_tag|\n",
    "| 255 | Custom tag (for bundling non-OCaml data) | custom_tag|\n",
    "\n",
    "**Note: Any data with tag >= 251 is not scanned by the GC.**\n",
    "\n",
    "- int or char are stored directly as a value, shifted left by 1 bit, with the least significant bit set to 1.\n",
    "\n",
    "- unit, [], false are all stored as OCaml int 0.\n",
    "\n",
    "- true is stored as OCaml int 1.\n",
    "\n",
    "- Foo | Bar variants are stored as ascending OCaml ints, starting from 0.\n",
    "\n",
    "- Foo | Bar of int variants with parameters are boxed, while variants with no parameters are unboxed.\n",
    "\n",
    "- Polymorphic variants with parameters are boxed with an extra header word to store the value, as compared to normal variants. Polymorphic variants with no parameters are unboxed.\n",
    "\n",
    "- Floating-point numbers are stored as a block with a single field containing the double-precision float.\n",
    "\n",
    "- Strings are word-aligned byte arrays with an explicit length.\n",
    "\n",
    "- [1; 2; 3] lists are stored as 1::2::3::[] where [] is an int, and h::t a block with tag 0 and two parameters.\n",
    "\n",
    "- Tuples, records, and arrays are stored as a C array of values. Arrays can be variable size, but tuples and records are fixed-size.\n",
    "\n",
    "- Records or arrays that are all float use a special tag for unboxed arrays of floats, or records that only have float fields."
   ]
  },
  {
   "cell_type": "code",
   "execution_count": 82,
   "id": "9aa105a9-2d48-4980-baa9-3c78505cd01b",
   "metadata": {},
   "outputs": [
    {
     "data": {
      "text/plain": [
       "- : bool = false\n"
      ]
     },
     "execution_count": 82,
     "metadata": {},
     "output_type": "execute_result"
    },
    {
     "data": {
      "text/plain": [
       "- : bool = false\n"
      ]
     },
     "execution_count": 82,
     "metadata": {},
     "output_type": "execute_result"
    },
    {
     "data": {
      "text/plain": [
       "- : bool = false\n"
      ]
     },
     "execution_count": 82,
     "metadata": {},
     "output_type": "execute_result"
    },
    {
     "data": {
      "text/plain": [
       "- : bool = false\n"
      ]
     },
     "execution_count": 82,
     "metadata": {},
     "output_type": "execute_result"
    },
    {
     "data": {
      "text/plain": [
       "- : bool = false\n"
      ]
     },
     "execution_count": 82,
     "metadata": {},
     "output_type": "execute_result"
    },
    {
     "data": {
      "text/plain": [
       "- : bool = false\n"
      ]
     },
     "execution_count": 82,
     "metadata": {},
     "output_type": "execute_result"
    },
    {
     "data": {
      "text/plain": [
       "type on_off = On | Off\n"
      ]
     },
     "execution_count": 82,
     "metadata": {},
     "output_type": "execute_result"
    },
    {
     "data": {
      "text/plain": [
       "- : bool = false\n"
      ]
     },
     "execution_count": 82,
     "metadata": {},
     "output_type": "execute_result"
    }
   ],
   "source": [
    "(* \n",
    "    int, char, unit, [], true, false, variant constant constructor are stored as integer\n",
    "*)\n",
    "\n",
    "Obj.is_block (Obj.repr 1) ;;    (* false *)\n",
    "Obj.is_block (Obj.repr 'a') ;;  (* false *)\n",
    "Obj.is_block (Obj.repr () ) ;;  (* false *)\n",
    "Obj.is_block (Obj.repr true) ;; (* false *)\n",
    "Obj.is_block (Obj.repr false) ;;(* false *)\n",
    "Obj.is_block (Obj.repr `A) ;;   (* false *)\n",
    "type on_off = On | Off ;;       \n",
    "Obj.is_block (Obj.repr On) ;;   (* false *)"
   ]
  },
  {
   "cell_type": "code",
   "execution_count": 83,
   "id": "49633389-7ff6-499a-a354-22cfb95c6b97",
   "metadata": {},
   "outputs": [
    {
     "data": {
      "text/plain": [
       "type 'a list = Nil | Cons of 'a * 'a list\n"
      ]
     },
     "execution_count": 83,
     "metadata": {},
     "output_type": "execute_result"
    },
    {
     "data": {
      "text/plain": [
       "- : bool = false\n"
      ]
     },
     "execution_count": 83,
     "metadata": {},
     "output_type": "execute_result"
    },
    {
     "data": {
      "text/plain": [
       "- : bool = true\n"
      ]
     },
     "execution_count": 83,
     "metadata": {},
     "output_type": "execute_result"
    },
    {
     "data": {
      "text/plain": [
       "- : bool = true\n"
      ]
     },
     "execution_count": 83,
     "metadata": {},
     "output_type": "execute_result"
    },
    {
     "data": {
      "text/plain": [
       "- : bool = true\n"
      ]
     },
     "execution_count": 83,
     "metadata": {},
     "output_type": "execute_result"
    },
    {
     "data": {
      "text/plain": [
       "module type T = sig val x : int end\n"
      ]
     },
     "execution_count": 83,
     "metadata": {},
     "output_type": "execute_result"
    },
    {
     "data": {
      "text/plain": [
       "module M : T\n"
      ]
     },
     "execution_count": 83,
     "metadata": {},
     "output_type": "execute_result"
    },
    {
     "data": {
      "text/plain": [
       "val packed : (module T) = <module>\n"
      ]
     },
     "execution_count": 83,
     "metadata": {},
     "output_type": "execute_result"
    },
    {
     "data": {
      "text/plain": [
       "- : bool = true\n"
      ]
     },
     "execution_count": 83,
     "metadata": {},
     "output_type": "execute_result"
    },
    {
     "data": {
      "text/plain": [
       "- : int = 0\n"
      ]
     },
     "execution_count": 83,
     "metadata": {},
     "output_type": "execute_result"
    }
   ],
   "source": [
    "(*\n",
    "    The followings are boxed.\n",
    "    Variants or Polymorphic variants with paramaters,\n",
    "    Floating-point numbers (stored as a block with a single field containing the number)\n",
    "    Objects\n",
    "    First-class module \n",
    "*)\n",
    "\n",
    "type 'a list = Nil | Cons of 'a * 'a list ;;\n",
    "\n",
    "Obj.is_block (Obj.repr Nil) ;; (* false *)\n",
    "Obj.is_block (Obj.repr (Cons (1,Nil))) ;; (* true *)\n",
    "\n",
    "Obj.is_block (Obj.repr (`A 10)) ;; (* true *)\n",
    "Obj.is_block (Obj.repr (object val x = 10 end)) ;; (* true *)\n",
    "\n",
    "module type T = sig val x : int end ;;\n",
    "module M : T = struct let x = 10 end ;;\n",
    "\n",
    "let packed = (module M : T) ;;\n",
    "Obj.is_block (Obj.repr packed) ;; (* true *)\n",
    "Obj.tag (Obj.repr packed) ;; (* 0 *)"
   ]
  },
  {
   "cell_type": "code",
   "execution_count": 88,
   "id": "5f64f264-a9da-49f3-bef9-77116677d4ec",
   "metadata": {},
   "outputs": [
    {
     "data": {
      "text/plain": [
       "- : bool = true\n"
      ]
     },
     "execution_count": 88,
     "metadata": {},
     "output_type": "execute_result"
    },
    {
     "data": {
      "text/plain": [
       "- : bool = true\n"
      ]
     },
     "execution_count": 88,
     "metadata": {},
     "output_type": "execute_result"
    },
    {
     "data": {
      "text/plain": [
       "type human = { name : string; age : float; }\n"
      ]
     },
     "execution_count": 88,
     "metadata": {},
     "output_type": "execute_result"
    },
    {
     "data": {
      "text/plain": [
       "- : bool = true\n"
      ]
     },
     "execution_count": 88,
     "metadata": {},
     "output_type": "execute_result"
    }
   ],
   "source": [
    "(*\n",
    "    tuples, records, arrays are boxed with tag 0.\n",
    "    OCaml GC doesn't track them cause they are C values.\n",
    "*)\n",
    "\n",
    "Obj.is_block (Obj.repr (1,2)) ;; (* true *)\n",
    "Obj.is_block (Obj.repr [|1; 2|]) ;; (* true *)\n",
    "type human = { name : string ; age : float } ;;\n",
    "Obj.is_block (Obj.repr ({ name = \"Ryan\" ; age = 6.5 } ));; (* true *)"
   ]
  },
  {
   "cell_type": "code",
   "execution_count": 144,
   "id": "88feae5e-bd1e-4b59-abc0-8a62011ce409",
   "metadata": {},
   "outputs": [
    {
     "data": {
      "text/plain": [
       "val fa : float array = [|11.1; 22.2|]\n"
      ]
     },
     "execution_count": 144,
     "metadata": {},
     "output_type": "execute_result"
    },
    {
     "data": {
      "text/plain": [
       "type fr = { x : float; y : float; }\n"
      ]
     },
     "execution_count": 144,
     "metadata": {},
     "output_type": "execute_result"
    },
    {
     "data": {
      "text/plain": [
       "val p : fr = {x = 11.1; y = 22.2}\n"
      ]
     },
     "execution_count": 144,
     "metadata": {},
     "output_type": "execute_result"
    },
    {
     "data": {
      "text/plain": [
       "- : bool = true\n"
      ]
     },
     "execution_count": 144,
     "metadata": {},
     "output_type": "execute_result"
    },
    {
     "data": {
      "text/plain": [
       "- : bool = true\n"
      ]
     },
     "execution_count": 144,
     "metadata": {},
     "output_type": "execute_result"
    },
    {
     "data": {
      "text/plain": [
       "- : bool = true\n"
      ]
     },
     "execution_count": 144,
     "metadata": {},
     "output_type": "execute_result"
    },
    {
     "data": {
      "text/plain": [
       "- : bool = true\n"
      ]
     },
     "execution_count": 144,
     "metadata": {},
     "output_type": "execute_result"
    },
    {
     "data": {
      "text/plain": [
       "- : bool = true\n"
      ]
     },
     "execution_count": 144,
     "metadata": {},
     "output_type": "execute_result"
    },
    {
     "data": {
      "text/plain": [
       "- : float = 11.1\n"
      ]
     },
     "execution_count": 144,
     "metadata": {},
     "output_type": "execute_result"
    },
    {
     "data": {
      "text/plain": [
       "- : float = 22.2\n"
      ]
     },
     "execution_count": 144,
     "metadata": {},
     "output_type": "execute_result"
    }
   ],
   "source": [
    "(*\n",
    "    Array or Records containing only float types are sotred in block tag double_array_tag.\n",
    "*)\n",
    "let fa = [| 11.1; 22.2 |] ;;\n",
    "type fr = { x : float ; y : float } ;;\n",
    "let p = { x = 11.1; y = 22.2 } ;;\n",
    "\n",
    "Obj.is_block (Obj.repr fa) ;; (* true *)\n",
    "Obj.tag (Obj.repr fa) = Obj.double_array_tag ;;  (* true *)\n",
    "\n",
    "Obj.double_field (Obj.repr fa) 0 = fa.(0) ;;\n",
    "\n",
    "Obj.is_block (Obj.repr p) ;;  (* true *)\n",
    "Obj.tag (Obj.repr p) = Obj.double_array_tag ;;  (* true *)\n",
    "Obj.double_field (Obj.repr p) 0 ;;\n",
    "Obj.double_field (Obj.repr p) 1 ;;"
   ]
  },
  {
   "cell_type": "code",
   "execution_count": 1,
   "id": "4bcd0fbe-536f-4b33-a4c3-aaf964d1819d",
   "metadata": {},
   "outputs": [
    {
     "data": {
      "text/plain": [
       "type abc = A | B | C\n"
      ]
     },
     "execution_count": 1,
     "metadata": {},
     "output_type": "execute_result"
    },
    {
     "data": {
      "text/plain": [
       "- : int = 0\n"
      ]
     },
     "execution_count": 1,
     "metadata": {},
     "output_type": "execute_result"
    },
    {
     "data": {
      "text/plain": [
       "- : int = 1\n"
      ]
     },
     "execution_count": 1,
     "metadata": {},
     "output_type": "execute_result"
    },
    {
     "data": {
      "text/plain": [
       "- : int = 2\n"
      ]
     },
     "execution_count": 1,
     "metadata": {},
     "output_type": "execute_result"
    },
    {
     "data": {
      "text/plain": [
       "type axis = X of float | Y of float | Z of float\n"
      ]
     },
     "execution_count": 1,
     "metadata": {},
     "output_type": "execute_result"
    },
    {
     "data": {
      "text/plain": [
       "- : bool = true\n"
      ]
     },
     "execution_count": 1,
     "metadata": {},
     "output_type": "execute_result"
    },
    {
     "data": {
      "text/plain": [
       "- : int = 0\n"
      ]
     },
     "execution_count": 1,
     "metadata": {},
     "output_type": "execute_result"
    },
    {
     "data": {
      "text/plain": [
       "- : int = 1\n"
      ]
     },
     "execution_count": 1,
     "metadata": {},
     "output_type": "execute_result"
    },
    {
     "data": {
      "text/plain": [
       "- : int = 2\n"
      ]
     },
     "execution_count": 1,
     "metadata": {},
     "output_type": "execute_result"
    },
    {
     "data": {
      "text/plain": [
       "- : float = 10.2\n"
      ]
     },
     "execution_count": 1,
     "metadata": {},
     "output_type": "execute_result"
    },
    {
     "data": {
      "text/plain": [
       "- : float = 5.5\n"
      ]
     },
     "execution_count": 1,
     "metadata": {},
     "output_type": "execute_result"
    }
   ],
   "source": [
    "(* variant types without paramaters are stored as integer, starting with 0 *)\n",
    "type abc = A | B | C ;;\n",
    "((Obj.magic (Obj.repr A)) : int) ;;\n",
    "((Obj.magic (Obj.repr B)) : int) ;;\n",
    "((Obj.magic (Obj.repr C)) : int) ;;\n",
    "\n",
    "(*\n",
    "    variant type with paramaters are boxed with value tag ascending from 0.\n",
    "    paramaters are stored as words in the block.\n",
    "*)\n",
    "type axis = X of float | Y of float | Z of float ;;\n",
    "Obj.is_block (Obj.repr (X 1.1)) ;; (* true *) \n",
    "Obj.tag (Obj.repr (X 1.1)) ;; (* 0 *)\n",
    "Obj.tag (Obj.repr (Y 1.1)) ;; (* 1 *)\n",
    "Obj.tag (Obj.repr (Z 1.1)) ;; (* 2 *) \n",
    "\n",
    "(Obj.magic (Obj.field (Obj.repr (X 10.2)) 0) : float ) ;;\n",
    "(Obj.magic (Obj.field (Obj.repr (X 5.5)) 0) : float ) ;;"
   ]
  },
  {
   "cell_type": "markdown",
   "id": "39ddb4ce-b187-43be-a8ff-499b1297284e",
   "metadata": {},
   "source": [
    "Polymorphic variants use more memory space than normal variants when parameters are included in the data type constructors. Normal variants use the tag byte to encode the variant value and save the fields for the contents, but this single byte is insufficient to encode the hashed value for polymorphic variants. They must allocate a new block (with tag 0) and store the value in there instead. Polymorphic variants with constructors thus use one word of memory more than normal variant constructors.\n",
    "\n",
    "Another inefficiency over normal variants is when a polymorphic variant constructor has more than one parameter. Normal variants hold parameters as a single flat block with multiple fields for each entry, but polymorphic variants must adopt a more flexible uniform memory representation, since they may be reused in a different context across compilation units. They allocate a tuple block for the parameters that is pointed to from the argument field of the variant. There are thus three additional words for such variants, along with an extra memory indirection due to the tuple.\n",
    "\n",
    "The extra space usage is generally not significant in a typical application, and polymorphic variants offer a great deal more flexibility than normal variants. However, if you’re writing code that demands high performance or must run within tight memory bounds, the runtime layout is at least very predictable. The OCaml compiler never switches memory representation due to optimization passes. This lets you predict the precise runtime layout by referring to these guidelines and your source code.\n",
    "<br/>-- Real World OCaml"
   ]
  },
  {
   "cell_type": "code",
   "execution_count": 12,
   "id": "1e8a0d23-35af-46fa-9de3-e6293767aa40",
   "metadata": {},
   "outputs": [
    {
     "data": {
      "text/plain": [
       "- : int = 65\n"
      ]
     },
     "execution_count": 12,
     "metadata": {},
     "output_type": "execute_result"
    },
    {
     "data": {
      "text/plain": [
       "- : int = 65\n"
      ]
     },
     "execution_count": 12,
     "metadata": {},
     "output_type": "execute_result"
    }
   ],
   "source": [
    "(*\n",
    "    polymorphic variant without paramaters is stored as unboxed integer. \n",
    "    The integer value is the result of the hasing of the name of the variant.\n",
    "*)\n",
    "\n",
    "#load \"ocamlcommon.cma\" ;;\n",
    "#require \"ocaml-compiler-libs.common\";; \n",
    "Btype.hash_variant \"A\";;\n",
    "(Obj.magic (Obj.repr `A) : int) ;;"
   ]
  }
 ],
 "metadata": {
  "kernelspec": {
   "display_name": "OCaml 4.14.0",
   "language": "OCaml",
   "name": "ocaml-jupyter-4.14.0"
  },
  "language_info": {
   "codemirror_mode": "text/x-ocaml",
   "file_extension": ".ml",
   "mimetype": "text/x-ocaml",
   "name": "OCaml",
   "nbconverter_exporter": null,
   "pygments_lexer": "OCaml",
   "version": "4.14.0"
  },
  "widgets": {
   "application/vnd.jupyter.widget-state+json": {
    "state": {},
    "version_major": 2,
    "version_minor": 0
   }
  }
 },
 "nbformat": 4,
 "nbformat_minor": 5
}
