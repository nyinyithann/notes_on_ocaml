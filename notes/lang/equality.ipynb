{
 "cells": [
  {
   "cell_type": "markdown",
   "id": "a822439a-c005-47cb-989d-4be79b5ffab9",
   "metadata": {},
   "source": [
    "# Equality"
   ]
  },
  {
   "cell_type": "markdown",
   "id": "7afc3a4c-d597-434c-bcd1-8c38b2773e0d",
   "metadata": {},
   "source": [
    "##### 🟢 &nbsp; &nbsp; Structural equality ( = ) (<>)\n",
    "- Mutable structures (e.g. references and arrays) are equal if and only if their current contents are structurally equal, even if the two mutable objects are not the same physical object\n",
    "- Equality between cyclic data structures may not terminate.\n",
    "- Equality between functional values raises Invalid_argument\n",
    "- Equality between functional values raises Invalid_argument"
   ]
  },
  {
   "cell_type": "code",
   "execution_count": 37,
   "id": "25f2f238-c2f3-4b3c-8ce4-be96ed914b98",
   "metadata": {},
   "outputs": [
    {
     "data": {
      "text/plain": [
       "type immutable_record = { id : int; pass_phrase : string; }\n"
      ]
     },
     "execution_count": 37,
     "metadata": {},
     "output_type": "execute_result"
    },
    {
     "data": {
      "text/plain": [
       "type mutable_record = { name : string; age : float; }\n"
      ]
     },
     "execution_count": 37,
     "metadata": {},
     "output_type": "execute_result"
    },
    {
     "data": {
      "text/plain": [
       "- : bool = true\n"
      ]
     },
     "execution_count": 37,
     "metadata": {},
     "output_type": "execute_result"
    },
    {
     "data": {
      "text/plain": [
       "- : bool = false\n"
      ]
     },
     "execution_count": 37,
     "metadata": {},
     "output_type": "execute_result"
    },
    {
     "data": {
      "text/plain": [
       "- : bool = true\n"
      ]
     },
     "execution_count": 37,
     "metadata": {},
     "output_type": "execute_result"
    },
    {
     "data": {
      "text/plain": [
       "- : bool = true\n"
      ]
     },
     "execution_count": 37,
     "metadata": {},
     "output_type": "execute_result"
    },
    {
     "data": {
      "text/plain": [
       "- : bool = true\n"
      ]
     },
     "execution_count": 37,
     "metadata": {},
     "output_type": "execute_result"
    },
    {
     "data": {
      "text/plain": [
       "- : bool = true\n"
      ]
     },
     "execution_count": 37,
     "metadata": {},
     "output_type": "execute_result"
    },
    {
     "data": {
      "text/plain": [
       "- : bool = true\n"
      ]
     },
     "execution_count": 37,
     "metadata": {},
     "output_type": "execute_result"
    },
    {
     "data": {
      "text/plain": [
       "val st1 : '_weak31 Stack.t = <abstr>\n"
      ]
     },
     "execution_count": 37,
     "metadata": {},
     "output_type": "execute_result"
    },
    {
     "data": {
      "text/plain": [
       "val st2 : '_weak32 Stack.t = <abstr>\n"
      ]
     },
     "execution_count": 37,
     "metadata": {},
     "output_type": "execute_result"
    },
    {
     "data": {
      "text/plain": [
       "- : unit = ()\n"
      ]
     },
     "execution_count": 37,
     "metadata": {},
     "output_type": "execute_result"
    },
    {
     "data": {
      "text/plain": [
       "- : unit = ()\n"
      ]
     },
     "execution_count": 37,
     "metadata": {},
     "output_type": "execute_result"
    },
    {
     "data": {
      "text/plain": [
       "- : bool = true\n"
      ]
     },
     "execution_count": 37,
     "metadata": {},
     "output_type": "execute_result"
    },
    {
     "data": {
      "text/plain": [
       "- : bool = true\n"
      ]
     },
     "execution_count": 37,
     "metadata": {},
     "output_type": "execute_result"
    },
    {
     "data": {
      "text/plain": [
       "val q1 : '_weak33 Queue.t = <abstr>\n"
      ]
     },
     "execution_count": 37,
     "metadata": {},
     "output_type": "execute_result"
    },
    {
     "data": {
      "text/plain": [
       "val q2 : '_weak34 Queue.t = <abstr>\n"
      ]
     },
     "execution_count": 37,
     "metadata": {},
     "output_type": "execute_result"
    },
    {
     "data": {
      "text/plain": [
       "- : unit = ()\n"
      ]
     },
     "execution_count": 37,
     "metadata": {},
     "output_type": "execute_result"
    },
    {
     "data": {
      "text/plain": [
       "- : unit = ()\n"
      ]
     },
     "execution_count": 37,
     "metadata": {},
     "output_type": "execute_result"
    },
    {
     "data": {
      "text/plain": [
       "- : bool = true\n"
      ]
     },
     "execution_count": 37,
     "metadata": {},
     "output_type": "execute_result"
    },
    {
     "data": {
      "text/plain": [
       "- : bool = true\n"
      ]
     },
     "execution_count": 37,
     "metadata": {},
     "output_type": "execute_result"
    },
    {
     "data": {
      "text/plain": [
       "val obj1 : <  > = <obj>\n"
      ]
     },
     "execution_count": 37,
     "metadata": {},
     "output_type": "execute_result"
    },
    {
     "data": {
      "text/plain": [
       "val obj2 : <  > = <obj>\n"
      ]
     },
     "execution_count": 37,
     "metadata": {},
     "output_type": "execute_result"
    },
    {
     "data": {
      "text/plain": [
       "- : bool = false\n"
      ]
     },
     "execution_count": 37,
     "metadata": {},
     "output_type": "execute_result"
    },
    {
     "data": {
      "text/plain": [
       "- : bool = false\n"
      ]
     },
     "execution_count": 37,
     "metadata": {},
     "output_type": "execute_result"
    },
    {
     "data": {
      "text/plain": [
       "- : bool = true\n"
      ]
     },
     "execution_count": 37,
     "metadata": {},
     "output_type": "execute_result"
    },
    {
     "data": {
      "text/plain": [
       "class box : object val x : int method get_x : int end\n"
      ]
     },
     "execution_count": 37,
     "metadata": {},
     "output_type": "execute_result"
    },
    {
     "data": {
      "text/plain": [
       "- : bool = false\n"
      ]
     },
     "execution_count": 37,
     "metadata": {},
     "output_type": "execute_result"
    }
   ],
   "source": [
    "type immutable_record = { id : int; pass_phrase : string } ;;\n",
    "type mutable_record = { name : string; age : float } ;;\n",
    "\n",
    "[1; 2] = [1; 2] ;; (* true *)\n",
    "[1; 2] = [2; 1] ;; (* false *)\n",
    "[|1; 2|] = [|1; 2|] ;; (* true *)\n",
    "[| ref 1; ref 2|] = [| ref 1; ref 2|] ;; (* true *)\n",
    "{ id = 1; pass_phrase = \"brabra\" } = { id = 1; pass_phrase = \"brabra\" } ;; (* true *)\n",
    "{ name = \"ryan\"; age = 6.5 } = { name = \"ryan\"; age = 6.5 } ;; (* true *)\n",
    "\n",
    "ref 10 = ref 10 ;; (* true *)\n",
    "\n",
    "let st1 = Stack.create();;\n",
    "let st2 = Stack.create();;\n",
    "Stack.push 1 st1 ;;\n",
    "Stack.push 1 st2 ;;\n",
    "st1 = st2 ;; (* true *)\n",
    "ref st1 = ref st2 ;; (* true *)\n",
    "\n",
    "let q1 = Queue.create() ;;\n",
    "let q2 = Queue.create() ;;\n",
    "Queue.push 1 q1 ;;\n",
    "Queue.push 1 q2 ;;\n",
    "q1 = q2 ;; (* true *)\n",
    "ref q1 = ref q1 ;; (* true *)\n",
    "\n",
    "let obj1 = object val x = 1 end ;;\n",
    "let obj2 = object val x = 1 end ;;\n",
    "obj1 = obj2 ;; (* false *)\n",
    "ref obj1 = ref obj2 ;; (* false *)\n",
    "ref obj1 = ref obj1 ;; (* true *)\n",
    "\n",
    "class box = object val x = 11 method get_x = x end ;;\n",
    "new box = new box ;; (* false *)"
   ]
  },
  {
   "cell_type": "markdown",
   "id": "0be867ad-9ee0-4b05-a304-deffe63aefaf",
   "metadata": {},
   "source": [
    "##### 🟢 &nbsp; &nbsp; Physical equality ( == ) ( != )"
   ]
  },
  {
   "cell_type": "markdown",
   "id": "0b67dcf0-16f5-4cc3-88be-602c9b275f7a",
   "metadata": {},
   "source": [
    "- e1 == e2 tests for physical equality of e1 and e2. On mutable types such as references, arrays, byte sequences, records with mutable fields and objects with mutable instance variables, e1 == e2 is true if and only if physical modification of e1 also affects e2.\n",
    "- On non-mutable types, the behavior of ( == ) is implementation-dependent; however, it is guaranteed that e1 == e2 implies compare e1 e2 = 0.\n",
    "- Left-associative"
   ]
  },
  {
   "cell_type": "code",
   "execution_count": 44,
   "id": "966bbd07-ab91-4f62-9ee0-90db6c55d361",
   "metadata": {},
   "outputs": [
    {
     "data": {
      "text/plain": [
       "- : bool = true\n"
      ]
     },
     "execution_count": 44,
     "metadata": {},
     "output_type": "execute_result"
    },
    {
     "data": {
      "text/plain": [
       "- : bool = false\n"
      ]
     },
     "execution_count": 44,
     "metadata": {},
     "output_type": "execute_result"
    },
    {
     "data": {
      "text/plain": [
       "- : bool = false\n"
      ]
     },
     "execution_count": 44,
     "metadata": {},
     "output_type": "execute_result"
    },
    {
     "data": {
      "text/plain": [
       "val a : int array = [|1; 2|]\n"
      ]
     },
     "execution_count": 44,
     "metadata": {},
     "output_type": "execute_result"
    },
    {
     "data": {
      "text/plain": [
       "val b : int array = [|1; 2|]\n"
      ]
     },
     "execution_count": 44,
     "metadata": {},
     "output_type": "execute_result"
    },
    {
     "data": {
      "text/plain": [
       "- : bool = true\n"
      ]
     },
     "execution_count": 44,
     "metadata": {},
     "output_type": "execute_result"
    },
    {
     "data": {
      "text/plain": [
       "- : bool = false\n"
      ]
     },
     "execution_count": 44,
     "metadata": {},
     "output_type": "execute_result"
    },
    {
     "data": {
      "text/plain": [
       "class c : object val mutable x : int method get_x : int end\n"
      ]
     },
     "execution_count": 44,
     "metadata": {},
     "output_type": "execute_result"
    },
    {
     "data": {
      "text/plain": [
       "val c1 : c = <obj>\n"
      ]
     },
     "execution_count": 44,
     "metadata": {},
     "output_type": "execute_result"
    },
    {
     "data": {
      "text/plain": [
       "val c2 : c = <obj>\n"
      ]
     },
     "execution_count": 44,
     "metadata": {},
     "output_type": "execute_result"
    },
    {
     "data": {
      "text/plain": [
       "- : bool = true\n"
      ]
     },
     "execution_count": 44,
     "metadata": {},
     "output_type": "execute_result"
    },
    {
     "data": {
      "text/plain": [
       "- : bool = false\n"
      ]
     },
     "execution_count": 44,
     "metadata": {},
     "output_type": "execute_result"
    }
   ],
   "source": [
    "1 == 1 ;; (* true *)\n",
    "1. == 1. ;; (* false in bytecode *) (* true in native code *)\n",
    "ref 10 == ref 10 ;; (* false *)\n",
    "\n",
    "let a = [|1;2|] ;;\n",
    "let b = a ;;\n",
    "a == b ;; (* true *)\n",
    "a == [|1; 2|] ;; (* false *)\n",
    "\n",
    "class c = object val mutable x = 1 method get_x = x end ;;\n",
    "let c1 = new c ;;\n",
    "let c2 = c1 ;;\n",
    "c1 == c2 ;; (* true *)\n",
    "\n",
    "ref c1 == ref c2 ;; (* false *)"
   ]
  }
 ],
 "metadata": {
  "kernelspec": {
   "display_name": "OCaml 4.14.0",
   "language": "OCaml",
   "name": "ocaml-jupyter-4.14.0"
  },
  "language_info": {
   "codemirror_mode": "text/x-ocaml",
   "file_extension": ".ml",
   "mimetype": "text/x-ocaml",
   "name": "OCaml",
   "nbconverter_exporter": null,
   "pygments_lexer": "OCaml",
   "version": "4.14.0"
  },
  "widgets": {
   "application/vnd.jupyter.widget-state+json": {
    "state": {},
    "version_major": 2,
    "version_minor": 0
   }
  }
 },
 "nbformat": 4,
 "nbformat_minor": 5
}
