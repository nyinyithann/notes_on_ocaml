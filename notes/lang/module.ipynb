{
 "cells": [
  {
   "cell_type": "markdown",
   "id": "d663e3ed-e277-4de4-9368-c0598be605b7",
   "metadata": {},
   "source": [
    "# Module"
   ]
  },
  {
   "cell_type": "markdown",
   "id": "3c3a40bf-ba3d-4751-810a-e066ed43ed83",
   "metadata": {},
   "source": [
    "##### 🟢 &nbsp; &nbsp; Module name must begin with an uppercase letter, and is preferably in `CamelCase`:"
   ]
  },
  {
   "cell_type": "code",
   "execution_count": 16,
   "id": "d8615807-5a08-4ede-8c06-0e0be70ba987",
   "metadata": {},
   "outputs": [
    {
     "data": {
      "text/plain": [
       "module M : sig val x : int val y : int end\n"
      ]
     },
     "execution_count": 16,
     "metadata": {},
     "output_type": "execute_result"
    }
   ],
   "source": [
    "module M = struct \n",
    "    let x = 7\n",
    "    let y = 7\n",
    "end"
   ]
  },
  {
   "cell_type": "markdown",
   "id": "293afe8d-7785-49fa-a1a8-5092c59bdbe1",
   "metadata": {},
   "source": [
    "<br/>"
   ]
  },
  {
   "cell_type": "markdown",
   "id": "76860e64-5172-45c5-bf9c-5f79860cd14b",
   "metadata": {},
   "source": [
    "##### 🟢 &nbsp; &nbsp; Module definition with signature:"
   ]
  },
  {
   "cell_type": "code",
   "execution_count": 17,
   "id": "1da02083-1b50-45d5-aaac-20990db1cb38",
   "metadata": {},
   "outputs": [
    {
     "data": {
      "text/plain": [
       "module M : sig val x : int val y : int end\n"
      ]
     },
     "execution_count": 17,
     "metadata": {},
     "output_type": "execute_result"
    },
    {
     "data": {
      "text/plain": [
       "- : int = 7\n"
      ]
     },
     "execution_count": 17,
     "metadata": {},
     "output_type": "execute_result"
    },
    {
     "data": {
      "text/plain": [
       "- : int = 7\n"
      ]
     },
     "execution_count": 17,
     "metadata": {},
     "output_type": "execute_result"
    }
   ],
   "source": [
    "module M : sig \n",
    "    val x : int\n",
    "    val y : int\n",
    "end = struct \n",
    "    let x = 7\n",
    "    let y = 7\n",
    "end ;;\n",
    "\n",
    "M.x;;\n",
    "M.y;;"
   ]
  },
  {
   "cell_type": "markdown",
   "id": "1b8531d9-c482-4eb3-a964-a28bd8cf7442",
   "metadata": {},
   "source": [
    "<br/>"
   ]
  },
  {
   "cell_type": "markdown",
   "id": "e11c935f-64b5-4c89-bd2d-84eae4a56a57",
   "metadata": {},
   "source": [
    "##### 🟢 &nbsp; &nbsp; The definitions inside a module can optionally be terminiated by `;;` :"
   ]
  },
  {
   "cell_type": "code",
   "execution_count": 18,
   "id": "4839a883-f55e-4198-86ab-5f2f63646dd6",
   "metadata": {},
   "outputs": [
    {
     "data": {
      "text/plain": [
       "module M : sig val x : int val y : int end\n"
      ]
     },
     "execution_count": 18,
     "metadata": {},
     "output_type": "execute_result"
    }
   ],
   "source": [
    "module M = struct let x = 7 ;; let y = 7 end"
   ]
  },
  {
   "cell_type": "markdown",
   "id": "e29da355-0ea8-40ea-aa9c-ec8c85e1b2e7",
   "metadata": {},
   "source": [
    "<br/>"
   ]
  },
  {
   "cell_type": "markdown",
   "id": "2e34a17c-d159-4b9b-b76f-065c58516a87",
   "metadata": {},
   "source": [
    "##### 🟢 &nbsp; &nbsp; `;;`  can be used to evaluate an expression as part of a module: "
   ]
  },
  {
   "cell_type": "code",
   "execution_count": 19,
   "id": "f7958776-71cf-432e-9e9b-c8c3b8c106fc",
   "metadata": {},
   "outputs": [
    {
     "ename": "error",
     "evalue": "runtime_error",
     "output_type": "error",
     "traceback": [
      "\u001b[31mException: Assert_failure (\"[19]\", 4, 4).\nCalled from Stdlib__fun.protect in file \"fun.ml\", line 33, characters 8-15\nRe-raised at Stdlib__fun.protect in file \"fun.ml\", line 38, characters 6-52\nCalled from Toploop.load_lambda in file \"toplevel/toploop.ml\", line 212, characters 4-150\n\u001b[0m"
     ]
    }
   ],
   "source": [
    "module M = struct\n",
    "    let x = 7\n",
    "    let y = 7 ;;\n",
    "    assert (x = 0);;\n",
    "end\n",
    "\n",
    "(* without ;; *)\n",
    "module M = struct\n",
    "    let x = 7\n",
    "    let y = 7\n",
    "    let _ = assert (x = 0)\n",
    "end"
   ]
  },
  {
   "cell_type": "markdown",
   "id": "7539de14-53d2-427a-ab4b-435bd0baf712",
   "metadata": {},
   "source": [
    "<br/>"
   ]
  },
  {
   "cell_type": "markdown",
   "id": "986ee5d9-bc72-4fe9-9d49-310df81044e4",
   "metadata": {},
   "source": [
    "##### 🟢 &nbsp; &nbsp; Empty module:"
   ]
  },
  {
   "cell_type": "code",
   "execution_count": 20,
   "id": "b929bfbc-1932-419c-9d3c-12a41f0ccab0",
   "metadata": {},
   "outputs": [
    {
     "data": {
      "text/plain": [
       "module M : sig end\n"
      ]
     },
     "execution_count": 20,
     "metadata": {},
     "output_type": "execute_result"
    }
   ],
   "source": [
    "module M = struct end"
   ]
  },
  {
   "cell_type": "markdown",
   "id": "3956df7f-19a3-4fe9-b665-93a0a656432b",
   "metadata": {},
   "source": [
    "<br/>"
   ]
  },
  {
   "cell_type": "markdown",
   "id": "bd7b43b4-910b-406a-aa2b-0ffbe820e20a",
   "metadata": {},
   "source": [
    "##### 🟢 &nbsp; &nbsp; Module nesting:"
   ]
  },
  {
   "cell_type": "code",
   "execution_count": 21,
   "id": "8d2ad94c-cc10-42cc-9033-e5c258c9f03c",
   "metadata": {},
   "outputs": [
    {
     "data": {
      "text/plain": [
       "module M :\n",
       "  sig module X : sig val x : int end module Y : sig val y : int end end\n"
      ]
     },
     "execution_count": 21,
     "metadata": {},
     "output_type": "execute_result"
    },
    {
     "data": {
      "text/plain": [
       "- : int = 7\n"
      ]
     },
     "execution_count": 21,
     "metadata": {},
     "output_type": "execute_result"
    },
    {
     "data": {
      "text/plain": [
       "- : int = 7\n"
      ]
     },
     "execution_count": 21,
     "metadata": {},
     "output_type": "execute_result"
    }
   ],
   "source": [
    "module M = struct\n",
    "    module X = struct\n",
    "        let x = 7\n",
    "    end\n",
    "\n",
    "    module Y = struct\n",
    "        let y = 7\n",
    "    end\n",
    "end ;;\n",
    "\n",
    "M.X.x ;;\n",
    "M.Y.y ;;"
   ]
  },
  {
   "cell_type": "markdown",
   "id": "5e2f704c-a64b-4521-a18b-42b0943eba91",
   "metadata": {},
   "source": [
    "<br/>"
   ]
  },
  {
   "cell_type": "markdown",
   "id": "625a3a53-3f95-4836-9e07-6ba6ab3ef9e2",
   "metadata": {},
   "source": [
    "##### 🟢 &nbsp; &nbsp; Extending Modules - _include_"
   ]
  },
  {
   "cell_type": "code",
   "execution_count": 22,
   "id": "22d69b52-3b36-40ab-b743-f74574d6fa32",
   "metadata": {},
   "outputs": [
    {
     "data": {
      "text/plain": [
       "module One : sig val one : int end\n"
      ]
     },
     "execution_count": 22,
     "metadata": {},
     "output_type": "execute_result"
    },
    {
     "data": {
      "text/plain": [
       "module Two : sig val two : int end\n"
      ]
     },
     "execution_count": 22,
     "metadata": {},
     "output_type": "execute_result"
    },
    {
     "data": {
      "text/plain": [
       "module Three : sig val one : int val two : int val three : int end\n"
      ]
     },
     "execution_count": 22,
     "metadata": {},
     "output_type": "execute_result"
    },
    {
     "data": {
      "text/plain": [
       "- : int = 3\n"
      ]
     },
     "execution_count": 22,
     "metadata": {},
     "output_type": "execute_result"
    }
   ],
   "source": [
    "module One = struct\n",
    "    let one = 1\n",
    "end\n",
    "\n",
    "module Two = struct\n",
    "    let two = 2\n",
    "end\n",
    "\n",
    "module Three = struct\n",
    "    include One\n",
    "    include Two\n",
    "    let three = one + two\n",
    "end ;;\n",
    "\n",
    "Three.three ;;"
   ]
  },
  {
   "cell_type": "markdown",
   "id": "8c30cb8c-9833-48a4-9a6b-eca50d0c2b8a",
   "metadata": {},
   "source": [
    "<br/>"
   ]
  },
  {
   "cell_type": "markdown",
   "id": "a09e1628-9e8c-4efb-943c-c49d7fb60f3a",
   "metadata": {},
   "source": [
    "##### 🟢 &nbsp; &nbsp; Opening Module"
   ]
  },
  {
   "cell_type": "code",
   "execution_count": 23,
   "id": "62597001-a980-479f-92f6-53119eff0252",
   "metadata": {},
   "outputs": [
    {
     "data": {
      "text/plain": [
       "module A : sig val a : int end\n"
      ]
     },
     "execution_count": 23,
     "metadata": {},
     "output_type": "execute_result"
    },
    {
     "data": {
      "text/plain": [
       "- : int = 1\n"
      ]
     },
     "execution_count": 23,
     "metadata": {},
     "output_type": "execute_result"
    }
   ],
   "source": [
    "module A = struct\n",
    "    let a = 1\n",
    "end ;;\n",
    "\n",
    "open A ;; (* open for wider scope *)\n",
    "a ;; "
   ]
  },
  {
   "cell_type": "markdown",
   "id": "ee43b00e-eb72-4754-ba59-a4d25cd139b3",
   "metadata": {},
   "source": [
    "<br/>"
   ]
  },
  {
   "cell_type": "markdown",
   "id": "25bd6350-8c9e-4ceb-8bdb-bbcf88262d70",
   "metadata": {},
   "source": [
    "##### 🟢 &nbsp; &nbsp; Immediately open"
   ]
  },
  {
   "cell_type": "code",
   "execution_count": 24,
   "id": "65cc106a-e164-4fcb-b2b4-b03d98f3c898",
   "metadata": {},
   "outputs": [
    {
     "data": {
      "text/plain": [
       "module A : sig val a : int end\n"
      ]
     },
     "execution_count": 24,
     "metadata": {},
     "output_type": "execute_result"
    },
    {
     "data": {
      "text/plain": [
       "- : int = 1\n"
      ]
     },
     "execution_count": 24,
     "metadata": {},
     "output_type": "execute_result"
    }
   ],
   "source": [
    "module A = struct\n",
    "    let a = 1\n",
    "end ;;\n",
    "\n",
    "A.(a) ;; (* immediately open *)"
   ]
  },
  {
   "cell_type": "markdown",
   "id": "a2e1ef19-3489-4536-bbd1-bb1dd0f886ed",
   "metadata": {},
   "source": [
    "<br/>"
   ]
  },
  {
   "cell_type": "markdown",
   "id": "fb4b548c-49f0-4b7d-aa4b-2a9112ede236",
   "metadata": {},
   "source": [
    "##### 🟢 &nbsp; &nbsp; Overriding open"
   ]
  },
  {
   "cell_type": "code",
   "execution_count": 25,
   "id": "03c07e45-3ffa-4ffd-b370-17cb946042d6",
   "metadata": {},
   "outputs": [
    {
     "data": {
      "text/plain": [
       "module A : sig val a : int end\n"
      ]
     },
     "execution_count": 25,
     "metadata": {},
     "output_type": "execute_result"
    },
    {
     "data": {
      "text/plain": [
       "module Foo : sig module A : sig val a : int end end\n"
      ]
     },
     "execution_count": 25,
     "metadata": {},
     "output_type": "execute_result"
    },
    {
     "data": {
      "text/plain": [
       "- : int = 101\n"
      ]
     },
     "execution_count": 25,
     "metadata": {},
     "output_type": "execute_result"
    }
   ],
   "source": [
    "module A = struct\n",
    "    let a = 1\n",
    "end\n",
    "\n",
    "module Foo = struct\n",
    "    module A = struct \n",
    "        let a = 101\n",
    "    end\n",
    "end ;;\n",
    "\n",
    "open! Foo.A ;; (* overriding open to avoid warning 44  *)\n",
    "a ;;"
   ]
  },
  {
   "cell_type": "markdown",
   "id": "02189823-ea0d-4814-b22f-076388081899",
   "metadata": {},
   "source": [
    "<br/>"
   ]
  },
  {
   "cell_type": "markdown",
   "id": "0e370872-cf80-4cb0-8b73-a4bbda782670",
   "metadata": {},
   "source": [
    "##### 🟢 &nbsp; &nbsp; Constrained open"
   ]
  },
  {
   "cell_type": "code",
   "execution_count": 26,
   "id": "62bb5ca7-4976-41e1-a71a-70f69ec578f9",
   "metadata": {},
   "outputs": [
    {
     "data": {
      "text/plain": [
       "module C : sig val c : int val d : int end\n"
      ]
     },
     "execution_count": 26,
     "metadata": {},
     "output_type": "execute_result"
    },
    {
     "ename": "error",
     "evalue": "compile_error",
     "output_type": "error",
     "traceback": [
      "File \"[26]\", line 6, characters 6-7:\n6 | open (B: sig val b : int end) ;; (* constrainted open *)\n          ^\nError: Unbound module B\n"
     ]
    }
   ],
   "source": [
    "module C = struct\n",
    "    let c = 3\n",
    "    let d = 4\n",
    "end\n",
    "\n",
    "open (B: sig val b : int end) ;; (* constrainted open *)\n",
    "b ;;\n",
    "c ;; (* Error: Unbound value c *)"
   ]
  },
  {
   "cell_type": "markdown",
   "id": "1be5cb48-18a3-4c86-b9f7-a9247f2fb699",
   "metadata": {},
   "source": [
    "<br/>"
   ]
  },
  {
   "cell_type": "markdown",
   "id": "ede8406a-ee14-4553-9408-65c29e644f79",
   "metadata": {},
   "source": [
    "##### 🟢 &nbsp; &nbsp; Open local component inside a structure. https://v2.ocaml.org/manual/generalizedopens.html#start-section"
   ]
  },
  {
   "cell_type": "code",
   "execution_count": 27,
   "id": "0920bb82-ca3c-4141-be8a-e714311bea9e",
   "metadata": {},
   "outputs": [
    {
     "data": {
      "text/plain": [
       "module M : sig val x : int val w : int end\n"
      ]
     },
     "execution_count": 27,
     "metadata": {},
     "output_type": "execute_result"
    },
    {
     "data": {
      "text/plain": [
       "- : int = 2\n"
      ]
     },
     "execution_count": 27,
     "metadata": {},
     "output_type": "execute_result"
    }
   ],
   "source": [
    "module M = struct\n",
    "  let x = 0\n",
    "  open! struct\n",
    "    let x = 1\n",
    "    let y = 1\n",
    "  end\n",
    "  let w = x + y\n",
    "end ;;\n",
    "\n",
    "M.w;;"
   ]
  },
  {
   "cell_type": "markdown",
   "id": "5fde2da6-3966-4296-90e9-2865cc1d68f4",
   "metadata": {},
   "source": [
    "Types introduced by `open struct ... end` cannot appear in the signature of the enclosing structure, unless they are defined equal to some non-local type"
   ]
  },
  {
   "cell_type": "code",
   "execution_count": 28,
   "id": "04ca6425-6581-4a2d-880a-5f93185f3c56",
   "metadata": {},
   "outputs": [
    {
     "data": {
      "text/plain": [
       "module M : sig val x : int option end\n"
      ]
     },
     "execution_count": 28,
     "metadata": {},
     "output_type": "execute_result"
    }
   ],
   "source": [
    "module M = struct\n",
    "  open struct type 'a t = 'a option = None | Some of 'a end\n",
    "  let x : int t = Some 1\n",
    "end"
   ]
  },
  {
   "cell_type": "markdown",
   "id": "53a3e8fd-9310-416e-a0f6-8ecf5e6ccf37",
   "metadata": {},
   "source": [
    "<br/>"
   ]
  },
  {
   "cell_type": "markdown",
   "id": "8d9b71c8-0c0c-47ba-8094-9059eed25ea0",
   "metadata": {},
   "source": [
    "##### 🟢 &nbsp; &nbsp; Renaming module"
   ]
  },
  {
   "cell_type": "code",
   "execution_count": 29,
   "id": "1bc22266-b8ca-4d50-8e67-8ca8c10dfc1a",
   "metadata": {},
   "outputs": [
    {
     "data": {
      "text/plain": [
       "module LongNameModule :\n",
       "  sig val x : int module Inner : sig val i : int end end\n"
      ]
     },
     "execution_count": 29,
     "metadata": {},
     "output_type": "execute_result"
    },
    {
     "data": {
      "text/plain": [
       "- : int = 14\n"
      ]
     },
     "execution_count": 29,
     "metadata": {},
     "output_type": "execute_result"
    }
   ],
   "source": [
    "module LongNameModule = struct\n",
    "    let x = 7\n",
    "    module Inner = struct\n",
    "        let i = 7\n",
    "    end\n",
    "end ;;\n",
    "\n",
    "let module M = LongNameModule in \n",
    "let module MI = LongNameModule.Inner in\n",
    "M.x + MI.i ;;"
   ]
  },
  {
   "cell_type": "markdown",
   "id": "c959187b-97ad-43ca-8d58-21d4522d0488",
   "metadata": {},
   "source": [
    "<br/>"
   ]
  },
  {
   "cell_type": "markdown",
   "id": "7ddbb251-a316-4170-ad4c-2834e51b3687",
   "metadata": {},
   "source": [
    "##### 🟢 &nbsp; &nbsp; Sample Code"
   ]
  },
  {
   "cell_type": "code",
   "execution_count": 30,
   "id": "15beccf3-5784-4a41-b3c4-5155f857906b",
   "metadata": {},
   "outputs": [
    {
     "data": {
      "text/plain": [
       "module Point :\n",
       "  sig\n",
       "    type t = float * float\n",
       "    val make : 'a -> 'b -> 'a * 'b\n",
       "    val getX : 'a * 'b -> 'a\n",
       "    val getY : 'a * 'b -> 'b\n",
       "    val add : float * float -> float * float -> float * float\n",
       "    val substract : float * float -> float * float -> float * float\n",
       "  end\n"
      ]
     },
     "execution_count": 30,
     "metadata": {},
     "output_type": "execute_result"
    },
    {
     "data": {
      "text/plain": [
       "- : float * float = (4., 6.)\n"
      ]
     },
     "execution_count": 30,
     "metadata": {},
     "output_type": "execute_result"
    },
    {
     "data": {
      "text/plain": [
       "- : float * float = (4., 6.)\n"
      ]
     },
     "execution_count": 30,
     "metadata": {},
     "output_type": "execute_result"
    },
    {
     "data": {
      "text/plain": [
       "- : float * float = (4., 6.)\n"
      ]
     },
     "execution_count": 30,
     "metadata": {},
     "output_type": "execute_result"
    },
    {
     "data": {
      "text/plain": [
       "- : float * float = (4., 6.)\n"
      ]
     },
     "execution_count": 30,
     "metadata": {},
     "output_type": "execute_result"
    }
   ],
   "source": [
    "module Point = struct\n",
    "    type t = float * float \n",
    "    let make x y = (x, y)\n",
    "    let getX (x,_) = x\n",
    "    let getY (_,y) = y\n",
    "    let add (x1, y1) (x2, y2) = (x1 +. x2, y1 +. y2)\n",
    "    let substract (x1, y1) (x2, y2) = (x1 -. x2, y1 -. y2)\n",
    "end;;\n",
    "\n",
    "let p1 = Point.make 1. 2. \n",
    "and p2 = Point.make 3. 4. in\n",
    "Point.add p1 p2;;\n",
    "\n",
    "Point.(\n",
    "    let p1 = make 1. 2. \n",
    "    and p2 = make 3. 4. in\n",
    "    add p1 p2\n",
    ");;\n",
    "\n",
    "let open Point in\n",
    "let p1 = make 1. 2. \n",
    "and p2 = make 3. 4. in\n",
    "add p1 p2;;\n",
    "\n",
    "open Point ;;\n",
    "let p1 = make 1. 2. \n",
    "and p2 = make 3. 4. in\n",
    "add p1 p2;;"
   ]
  }
 ],
 "metadata": {
  "kernelspec": {
   "display_name": "OCaml 4.12.0",
   "language": "OCaml",
   "name": "ocaml-jupyter-4.12.0"
  },
  "language_info": {
   "codemirror_mode": "text/x-ocaml",
   "file_extension": ".ml",
   "mimetype": "text/x-ocaml",
   "name": "OCaml",
   "nbconverter_exporter": null,
   "pygments_lexer": "OCaml",
   "version": "4.12.0"
  },
  "widgets": {
   "application/vnd.jupyter.widget-state+json": {
    "state": {},
    "version_major": 2,
    "version_minor": 0
   }
  }
 },
 "nbformat": 4,
 "nbformat_minor": 5
}
