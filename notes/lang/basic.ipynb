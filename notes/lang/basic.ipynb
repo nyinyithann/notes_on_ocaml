{
 "cells": [
  {
   "cell_type": "markdown",
   "id": "81e23242-35a9-4cc4-b572-4579d3196938",
   "metadata": {},
   "source": [
    "# Basic"
   ]
  },
  {
   "cell_type": "markdown",
   "id": "c54158d2-0721-4e64-95ec-8b9c840c06b3",
   "metadata": {},
   "source": [
    "##### 🟢 &nbsp; &nbsp; Int"
   ]
  },
  {
   "cell_type": "markdown",
   "id": "3ad28e83-0617-4662-9ca6-8c451b2e71ba",
   "metadata": {},
   "source": [
    "##### 🟢 &nbsp; &nbsp; "
   ]
  },
  {
   "cell_type": "markdown",
   "id": "adaa37ee-1f5d-4893-b667-8f26d0645ec0",
   "metadata": {},
   "source": [
    "##### 🟢 &nbsp; &nbsp; "
   ]
  },
  {
   "cell_type": "markdown",
   "id": "fea86b10-428e-4b62-b320-adc83041ec98",
   "metadata": {},
   "source": [
    "##### 🟢 &nbsp; &nbsp; "
   ]
  },
  {
   "cell_type": "markdown",
   "id": "17e38214-847d-4332-9dd4-a7edb59524c2",
   "metadata": {},
   "source": [
    "##### 🟢 &nbsp; &nbsp; "
   ]
  },
  {
   "cell_type": "code",
   "execution_count": null,
   "id": "eb55e04a-30b8-41f7-af0f-6f3437762dc7",
   "metadata": {},
   "outputs": [],
   "source": []
  }
 ],
 "metadata": {
  "autoscrollcelloutput": true,
  "kernelspec": {
   "display_name": "OCaml 4.12.0",
   "language": "OCaml",
   "name": "ocaml-jupyter-4.12.0"
  },
  "language_info": {
   "codemirror_mode": "text/x-ocaml",
   "file_extension": ".ml",
   "mimetype": "text/x-ocaml",
   "name": "OCaml",
   "nbconverter_exporter": null,
   "pygments_lexer": "OCaml",
   "version": "4.12.0"
  },
  "widgets": {
   "application/vnd.jupyter.widget-state+json": {
    "state": {},
    "version_major": 2,
    "version_minor": 0
   }
  }
 },
 "nbformat": 4,
 "nbformat_minor": 5
}
