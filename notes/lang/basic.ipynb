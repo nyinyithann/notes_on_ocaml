{
 "cells": [
  {
   "cell_type": "markdown",
   "id": "81e23242-35a9-4cc4-b572-4579d3196938",
   "metadata": {},
   "source": [
    "# Basic"
   ]
  },
  {
   "cell_type": "markdown",
   "id": "c54158d2-0721-4e64-95ec-8b9c840c06b3",
   "metadata": {},
   "source": [
    "##### 🟢 &nbsp; &nbsp; unit\n",
    "- https://v2.ocaml.org/api/Unit.html"
   ]
  },
  {
   "cell_type": "markdown",
   "id": "9dae410b-a9e7-4657-93e9-0445a787d89a",
   "metadata": {},
   "source": [
    "Unit has only one value `unit`. `()` is the constructor of `Unit.t` type. `()` is not intended to use in user-defined data types."
   ]
  },
  {
   "cell_type": "code",
   "execution_count": 8,
   "id": "422679a1-eb17-427f-b39a-60284a0746cd",
   "metadata": {},
   "outputs": [
    {
     "data": {
      "text/plain": [
       "val u1 : unit = ()\n"
      ]
     },
     "execution_count": 8,
     "metadata": {},
     "output_type": "execute_result"
    },
    {
     "data": {
      "text/plain": [
       "val u2 : unit = ()\n"
      ]
     },
     "execution_count": 8,
     "metadata": {},
     "output_type": "execute_result"
    },
    {
     "data": {
      "text/plain": [
       "- : bool = true\n"
      ]
     },
     "execution_count": 8,
     "metadata": {},
     "output_type": "execute_result"
    },
    {
     "data": {
      "text/plain": [
       "- : int = 0\n"
      ]
     },
     "execution_count": 8,
     "metadata": {},
     "output_type": "execute_result"
    },
    {
     "data": {
      "text/plain": [
       "- : string = \"()\"\n"
      ]
     },
     "execution_count": 8,
     "metadata": {},
     "output_type": "execute_result"
    },
    {
     "name": "stderr",
     "output_type": "stream",
     "text": [
      "File \"[8]\", line 10, characters 0-20:\n",
      "10 | type foo = () of int ;;\n",
      "     ^^^^^^^^^^^^^^^^^^^^\n",
      "Warning 65 [redefining-unit]: This type declaration is defining a new '()' constructor\n",
      "which shadows the existing one.\n",
      "Hint: Did you mean 'type foo = unit'?\n"
     ]
    },
    {
     "data": {
      "text/plain": [
       "type foo = () of int\n"
      ]
     },
     "execution_count": 8,
     "metadata": {},
     "output_type": "execute_result"
    },
    {
     "data": {
      "text/plain": [
       "- : int = 20\n"
      ]
     },
     "execution_count": 8,
     "metadata": {},
     "output_type": "execute_result"
    }
   ],
   "source": [
    "(* type t = unit = | () ;; *)\n",
    "\n",
    "let u1 : unit = () ;;\n",
    "let u2 : unit = () ;;\n",
    "Unit.equal u1 u2 ;;\n",
    "Unit.compare u1 u2 ;;\n",
    "Unit.to_string u1 ;;\n",
    "\n",
    "(* not intendend to use this way *)\n",
    "type foo = () of int ;;\n",
    "10 * (1 + 1) ;; "
   ]
  },
  {
   "cell_type": "markdown",
   "id": "3ad28e83-0617-4662-9ca6-8c451b2e71ba",
   "metadata": {},
   "source": [
    "##### 🟢 &nbsp; &nbsp; integers\n",
    "- https://v2.ocaml.org/api/Int.html\n",
    "- https://v2.ocaml.org/api/Int32.html\n",
    "- https://v2.ocaml.org/api/Int64.html"
   ]
  },
  {
   "cell_type": "markdown",
   "id": "1fdbd610-e319-4791-b3a4-51ace48597e9",
   "metadata": {},
   "source": [
    "`int` has 31 bits on 32-bit machine, 63 bits on 64-bit machine. One bit is reserved as the tag bit.<br/>\n",
    "_\"This bit is used to distinguish between integers and pointers to structures on the heap, and the distinction is only necessary if we are calling a polymorphic function. In the case above, where we are calling string_of_int, the argument can only ever be an int and so the tag bit would never be consulted. Nevertheless, to avoid having two internal representations for integers, all integers in OCaml carry around the tag bit.\"_\n",
    "<br/>-- https://ocaml.org/docs/profiling<br/><br/>\n",
    "int32 has 32 bits on all platform. Literals for 32-bit integers are suffixed by l: `10l`\n",
    "<br/>int64 has 64 bits on all platform. Literals for 64-bit integers are suffixed by L: `20L`"
   ]
  },
  {
   "cell_type": "code",
   "execution_count": 32,
   "id": "fc78146f-62c8-48d5-97f7-9c661f2bb03f",
   "metadata": {},
   "outputs": [
    {
     "data": {
      "text/plain": [
       "- : int = -1\n"
      ]
     },
     "execution_count": 32,
     "metadata": {},
     "output_type": "execute_result"
    },
    {
     "data": {
      "text/plain": [
       "- : int = -1\n"
      ]
     },
     "execution_count": 32,
     "metadata": {},
     "output_type": "execute_result"
    },
    {
     "data": {
      "text/plain": [
       "- : int = 11\n"
      ]
     },
     "execution_count": 32,
     "metadata": {},
     "output_type": "execute_result"
    },
    {
     "data": {
      "text/plain": [
       "- : int = -11\n"
      ]
     },
     "execution_count": 32,
     "metadata": {},
     "output_type": "execute_result"
    },
    {
     "data": {
      "text/plain": [
       "- : int = 11\n"
      ]
     },
     "execution_count": 32,
     "metadata": {},
     "output_type": "execute_result"
    },
    {
     "data": {
      "text/plain": [
       "- : int = -11\n"
      ]
     },
     "execution_count": 32,
     "metadata": {},
     "output_type": "execute_result"
    },
    {
     "data": {
      "text/plain": [
       "- : int = 2\n"
      ]
     },
     "execution_count": 32,
     "metadata": {},
     "output_type": "execute_result"
    },
    {
     "data": {
      "text/plain": [
       "- : int = 0\n"
      ]
     },
     "execution_count": 32,
     "metadata": {},
     "output_type": "execute_result"
    },
    {
     "data": {
      "text/plain": [
       "- : int = 2\n"
      ]
     },
     "execution_count": 32,
     "metadata": {},
     "output_type": "execute_result"
    },
    {
     "data": {
      "text/plain": [
       "- : int = 0\n"
      ]
     },
     "execution_count": 32,
     "metadata": {},
     "output_type": "execute_result"
    },
    {
     "data": {
      "text/plain": [
       "- : int = 4\n"
      ]
     },
     "execution_count": 32,
     "metadata": {},
     "output_type": "execute_result"
    },
    {
     "data": {
      "text/plain": [
       "- : int = 77\n"
      ]
     },
     "execution_count": 32,
     "metadata": {},
     "output_type": "execute_result"
    },
    {
     "data": {
      "text/plain": [
       "- : int = 1\n"
      ]
     },
     "execution_count": 32,
     "metadata": {},
     "output_type": "execute_result"
    },
    {
     "data": {
      "text/plain": [
       "- : int = 1\n"
      ]
     },
     "execution_count": 32,
     "metadata": {},
     "output_type": "execute_result"
    },
    {
     "data": {
      "text/plain": [
       "- : int = 1\n"
      ]
     },
     "execution_count": 32,
     "metadata": {},
     "output_type": "execute_result"
    },
    {
     "data": {
      "text/plain": [
       "- : int = 1\n"
      ]
     },
     "execution_count": 32,
     "metadata": {},
     "output_type": "execute_result"
    },
    {
     "data": {
      "text/plain": [
       "- : int = 4611686018427387903\n"
      ]
     },
     "execution_count": 32,
     "metadata": {},
     "output_type": "execute_result"
    },
    {
     "data": {
      "text/plain": [
       "- : int = -4611686018427387904\n"
      ]
     },
     "execution_count": 32,
     "metadata": {},
     "output_type": "execute_result"
    },
    {
     "data": {
      "text/plain": [
       "- : int = 0\n"
      ]
     },
     "execution_count": 32,
     "metadata": {},
     "output_type": "execute_result"
    },
    {
     "data": {
      "text/plain": [
       "- : int = 2\n"
      ]
     },
     "execution_count": 32,
     "metadata": {},
     "output_type": "execute_result"
    },
    {
     "data": {
      "text/plain": [
       "- : int = 3\n"
      ]
     },
     "execution_count": 32,
     "metadata": {},
     "output_type": "execute_result"
    },
    {
     "data": {
      "text/plain": [
       "- : int = 3\n"
      ]
     },
     "execution_count": 32,
     "metadata": {},
     "output_type": "execute_result"
    },
    {
     "data": {
      "text/plain": [
       "- : int = -1\n"
      ]
     },
     "execution_count": 32,
     "metadata": {},
     "output_type": "execute_result"
    },
    {
     "data": {
      "text/plain": [
       "- : int = -2\n"
      ]
     },
     "execution_count": 32,
     "metadata": {},
     "output_type": "execute_result"
    },
    {
     "data": {
      "text/plain": [
       "- : int = 0\n"
      ]
     },
     "execution_count": 32,
     "metadata": {},
     "output_type": "execute_result"
    },
    {
     "data": {
      "text/plain": [
       "- : int = 4\n"
      ]
     },
     "execution_count": 32,
     "metadata": {},
     "output_type": "execute_result"
    },
    {
     "data": {
      "text/plain": [
       "- : int = 1\n"
      ]
     },
     "execution_count": 32,
     "metadata": {},
     "output_type": "execute_result"
    },
    {
     "data": {
      "text/plain": [
       "- : int = 1\n"
      ]
     },
     "execution_count": 32,
     "metadata": {},
     "output_type": "execute_result"
    },
    {
     "data": {
      "text/plain": [
       "- : int = 65535\n"
      ]
     },
     "execution_count": 32,
     "metadata": {},
     "output_type": "execute_result"
    },
    {
     "data": {
      "text/plain": [
       "- : int = 65535\n"
      ]
     },
     "execution_count": 32,
     "metadata": {},
     "output_type": "execute_result"
    },
    {
     "data": {
      "text/plain": [
       "- : int = 65535\n"
      ]
     },
     "execution_count": 32,
     "metadata": {},
     "output_type": "execute_result"
    }
   ],
   "source": [
    "(* negation *)\n",
    "( ~- ) 1 ;; \n",
    "-1 ;;\n",
    "\n",
    "(* identity *)\n",
    "( ~+ ) (11) ;;\n",
    "( ~+ ) (-11) ;;\n",
    "+11 ;;\n",
    "+(-11) ;;\n",
    "\n",
    "succ 1 ;;\n",
    "pred 1 ;;\n",
    "\n",
    "( + ) 1 1 ;;\n",
    "( - ) 1 1 ;;\n",
    "( * ) 2 2 ;;\n",
    "( / ) 155 2 ;;\n",
    "( mod) 155 2 ;;\n",
    "Int.rem 155 2 ;;\n",
    "\n",
    "abs 1 ;;\n",
    "abs (-1) ;;\n",
    "\n",
    "max_int ;;\n",
    "min_int ;;\n",
    "\n",
    "(* bitwise logical and, left-associative *)\n",
    "1 land 2 ;;\n",
    "2 land 3 ;;\n",
    "\n",
    "(* bitwise logical or, left-associative *)\n",
    "1 lor 2 ;;\n",
    "\n",
    "(* bitwise logical exclusive or, left-associative *)\n",
    "(* xor : true if and only if its arguments differ (one is true, the other is false) *)\n",
    "1 lxor 2 ;;\n",
    "\n",
    "(* bitwise logical negation *)\n",
    "lnot 0 ;;\n",
    "lnot 1 ;;\n",
    "lnot (-1) ;;\n",
    "\n",
    "(* left shift, right-associative (i lsl 2 = i x 2 power j) *)\n",
    "1 lsl 2 ;; \n",
    "\n",
    "(* right shift, right-associative (i lsr 2 = i / 2 power j) *)\n",
    "4 lsr 2 ;;\n",
    "\n",
    "(* right arithmetic shift, right-associative (i asr j = i / 2 power j)*)\n",
    "6 asr 2;;\n",
    "\n",
    "\n",
    "0o177_777 ;;\n",
    "0xFFFF ;;\n",
    "0b1111_1111_1111_1111 ;;"
   ]
  },
  {
   "cell_type": "markdown",
   "id": "adaa37ee-1f5d-4893-b667-8f26d0645ec0",
   "metadata": {},
   "source": [
    "##### 🟢 &nbsp; &nbsp; "
   ]
  },
  {
   "cell_type": "markdown",
   "id": "fea86b10-428e-4b62-b320-adc83041ec98",
   "metadata": {},
   "source": [
    "##### 🟢 &nbsp; &nbsp; "
   ]
  },
  {
   "cell_type": "markdown",
   "id": "17e38214-847d-4332-9dd4-a7edb59524c2",
   "metadata": {},
   "source": [
    "##### 🟢 &nbsp; &nbsp; "
   ]
  },
  {
   "cell_type": "code",
   "execution_count": null,
   "id": "eb55e04a-30b8-41f7-af0f-6f3437762dc7",
   "metadata": {},
   "outputs": [],
   "source": []
  }
 ],
 "metadata": {
  "autoscrollcelloutput": true,
  "kernelspec": {
   "display_name": "OCaml 4.14.0",
   "language": "OCaml",
   "name": "ocaml-jupyter-4.14.0"
  },
  "language_info": {
   "codemirror_mode": "text/x-ocaml",
   "file_extension": ".ml",
   "mimetype": "text/x-ocaml",
   "name": "OCaml",
   "nbconverter_exporter": null,
   "pygments_lexer": "OCaml",
   "version": "4.14.0"
  },
  "widgets": {
   "application/vnd.jupyter.widget-state+json": {
    "state": {},
    "version_major": 2,
    "version_minor": 0
   }
  }
 },
 "nbformat": 4,
 "nbformat_minor": 5
}
