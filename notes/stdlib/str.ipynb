{
 "cells": [
  {
   "cell_type": "markdown",
   "id": "817cc44f-f558-4e74-ad3e-12edf064aa24",
   "metadata": {},
   "source": [
    "# Str"
   ]
  },
  {
   "cell_type": "markdown",
   "id": "10f9b554-2e42-4234-ba4e-a7b4ced0d13c",
   "metadata": {},
   "source": [
    "- &nbsp;&nbsp;`.` &nbsp;&nbsp; Matches any character except newline.\n",
    "- &nbsp;&nbsp;`*` &nbsp;&nbsp;(postfix) Matches the preceding expression zero, one or several times\n",
    "- &nbsp;&nbsp;`+` &nbsp;&nbsp;(postfix) Matches the preceding expression one or several times\n",
    "- &nbsp;&nbsp;`?` &nbsp;&nbsp;(postfix) Matches the preceding expression once or not at all\n",
    "- &nbsp;&nbsp;`[..]`  &nbsp;&nbsp;Character set. Ranges are denoted with -, as in `[a-z]`. An initial `^`, as in `[^0-9]`, complements the set. To include a ] character in a set, make it the first character of the set. To include a - character in a set, make it the first or the last character of the set.\n",
    "- &nbsp;&nbsp;`^` &nbsp;&nbsp;Matches at beginning of line: either at the beginning of the matched string, or just after a '\\n' character.\n",
    "- &nbsp;&nbsp;`$` &nbsp;&nbsp;Matches at end of line: either at the end of the matched string, or just before a '\\n' character.\n",
    "- &nbsp;&nbsp;`\\|`  &nbsp;&nbsp;(infix) Alternative between two expressions.\n",
    "- &nbsp;&nbsp;`\\(..\\)` &nbsp;&nbsp;Grouping and naming of the enclosed expression.\n",
    "- &nbsp;&nbsp;`\\1` &nbsp;&nbsp;The text matched by the first `\\(...\\)` expression `(\\2` for the second expression, and so on up to `\\9)`.\n",
    "- &nbsp;&nbsp;`\\b` &nbsp;&nbsp;Matches word boundaries.\n",
    "- &nbsp;&nbsp;`\\` &nbsp;&nbsp;Quotes special characters. The special characters are `$^\\.*+?[]`."
   ]
  },
  {
   "cell_type": "markdown",
   "id": "fbd31dd1-8d5a-4d1c-943d-61390aa238cd",
   "metadata": {},
   "source": [
    "##### String matching and searching"
   ]
  },
  {
   "cell_type": "code",
   "execution_count": 1,
   "id": "915ae65b-e2ff-4660-888c-e07a327a8421",
   "metadata": {},
   "outputs": [
    {
     "data": {
      "text/plain": [
       "val regex : Str.regexp = <abstr>\n"
      ]
     },
     "execution_count": 1,
     "metadata": {},
     "output_type": "execute_result"
    },
    {
     "data": {
      "text/plain": [
       "- : bool = false\n"
      ]
     },
     "execution_count": 1,
     "metadata": {},
     "output_type": "execute_result"
    }
   ],
   "source": [
    "let regex = Str.regexp {|\\([1-9]+[0-9]*\\)|} ;;\n",
    "Str.string_match regex \"09010\" 0 ;;"
   ]
  },
  {
   "cell_type": "code",
   "execution_count": 140,
   "id": "59b47d1a-87b6-4597-8e53-2220bdefa154",
   "metadata": {},
   "outputs": [
    {
     "data": {
      "text/plain": [
       "val regex : Str.regexp = <abstr>\n"
      ]
     },
     "execution_count": 140,
     "metadata": {},
     "output_type": "execute_result"
    },
    {
     "data": {
      "text/plain": [
       "- : bool = true\n"
      ]
     },
     "execution_count": 140,
     "metadata": {},
     "output_type": "execute_result"
    },
    {
     "ename": "interrupt",
     "evalue": "intterupt",
     "output_type": "error",
     "traceback": [
      "\u001b[31mException: Sys.Break.\u001b[0m"
     ]
    }
   ],
   "source": [
    "let regex = Str.regexp {|\\(\\(http\\|https\\)://\\)\\(www.\\)?|} ;;\n",
    "Str.string_match regex \"http://\" 0;;"
   ]
  },
  {
   "cell_type": "code",
   "execution_count": null,
   "id": "e8cb77b5-5ed1-4079-b1fc-80f8ea0d473c",
   "metadata": {},
   "outputs": [],
   "source": [
    "let regex = Str.regexp {|\\([a-z]\\)(\\3)|} ;;\n",
    "Str.string_match regex \"9010\" 0 ;;"
   ]
  }
 ],
 "metadata": {
  "kernelspec": {
   "display_name": "OCaml 4.14.0",
   "language": "OCaml",
   "name": "ocaml-jupyter-4.14.0"
  },
  "language_info": {
   "codemirror_mode": "text/x-ocaml",
   "file_extension": ".ml",
   "mimetype": "text/x-ocaml",
   "name": "OCaml",
   "nbconverter_exporter": null,
   "pygments_lexer": "OCaml",
   "version": "4.14.0"
  },
  "widgets": {
   "application/vnd.jupyter.widget-state+json": {
    "state": {},
    "version_major": 2,
    "version_minor": 0
   }
  }
 },
 "nbformat": 4,
 "nbformat_minor": 5
}
