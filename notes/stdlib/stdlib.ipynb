{
 "cells": [
  {
   "cell_type": "markdown",
   "id": "064f28cd",
   "metadata": {},
   "source": [
    "# Stdlib\n",
    "https://v2.ocaml.org/api/Stdlib.html"
   ]
  },
  {
   "cell_type": "markdown",
   "id": "bd5f2ef3",
   "metadata": {},
   "source": [
    "##### 🟢 &nbsp; &nbsp; exceptions"
   ]
  },
  {
   "cell_type": "code",
   "execution_count": 2,
   "id": "db28f226",
   "metadata": {
    "vscode": {
     "languageId": "ocaml"
    }
   },
   "outputs": [
    {
     "data": {
      "text/plain": [
       "- : exn -> 'a = <fun>\n"
      ]
     },
     "execution_count": 2,
     "metadata": {},
     "output_type": "execute_result"
    },
    {
     "data": {
      "text/plain": [
       "- : exn -> 'a = <fun>\n"
      ]
     },
     "execution_count": 2,
     "metadata": {},
     "output_type": "execute_result"
    },
    {
     "data": {
      "text/plain": [
       "- : string -> 'a = <fun>\n"
      ]
     },
     "execution_count": 2,
     "metadata": {},
     "output_type": "execute_result"
    },
    {
     "data": {
      "text/plain": [
       "- : string -> 'a = <fun>\n"
      ]
     },
     "execution_count": 2,
     "metadata": {},
     "output_type": "execute_result"
    },
    {
     "data": {
      "text/plain": [
       "- : exn = Not_found\n"
      ]
     },
     "execution_count": 2,
     "metadata": {},
     "output_type": "execute_result"
    },
    {
     "data": {
      "text/plain": [
       "- : exn = End_of_file\n"
      ]
     },
     "execution_count": 2,
     "metadata": {},
     "output_type": "execute_result"
    },
    {
     "data": {
      "text/plain": [
       "- : exn = Division_by_zero\n"
      ]
     },
     "execution_count": 2,
     "metadata": {},
     "output_type": "execute_result"
    },
    {
     "data": {
      "text/plain": [
       "- : exn = End_of_file\n"
      ]
     },
     "execution_count": 2,
     "metadata": {},
     "output_type": "execute_result"
    },
    {
     "data": {
      "text/plain": [
       "- : exn = Sys_error \"No such file or directory\"\n"
      ]
     },
     "execution_count": 2,
     "metadata": {},
     "output_type": "execute_result"
    }
   ],
   "source": [
    "raise ;;\n",
    "\n",
    "raise_notrace ;; (* faster version or raise *)\n",
    "\n",
    "failwith ;; (* raise exception Failure of string *)\n",
    "invalid_arg ;; (* raise exception Invalid_argument of string *)\n",
    "\n",
    "Not_found ;;\n",
    "End_of_file ;;\n",
    "Division_by_zero ;;\n",
    "End_of_file ;;\n",
    "Sys_error \"No such file or directory\";;"
   ]
  },
  {
   "cell_type": "markdown",
   "id": "e24590ec",
   "metadata": {},
   "source": [
    "##### 🟢 &nbsp; &nbsp; Composition operators"
   ]
  },
  {
   "cell_type": "code",
   "execution_count": null,
   "id": "d75bfbee",
   "metadata": {
    "vscode": {
     "languageId": "ocaml"
    }
   },
   "outputs": [],
   "source": [
    "(* reverse application operator, left-associative *)\n",
    "( |> ) ;;\n",
    "let _ = 2 |> (-) 1 |> ((+) 1) ;; \n",
    "\n",
    "(* application operator, right-associative \n",
    "    f @@ g x = f(g(x)) \n",
    "*)\n",
    "( @@ ) ;; \n",
    "let _ = ((+) 1) @@ ((-) 1 2) ;; "
   ]
  },
  {
   "cell_type": "markdown",
   "id": "40bf49f2",
   "metadata": {},
   "source": [
    "##### 🟢 &nbsp; &nbsp; Comparisons"
   ]
  },
  {
   "cell_type": "code",
   "execution_count": null,
   "id": "e10eee7c",
   "metadata": {
    "vscode": {
     "languageId": "ocaml"
    }
   },
   "outputs": [],
   "source": [
    "(* polymorphic structural comparison operators*)\n",
    "(* \n",
    "    Applying structural comparison operators to functions\n",
    "    raises Invalid_argument \n",
    "*)\n",
    "( = ) ;;\n",
    "( <> ) ;;\n",
    "( < ) ;;\n",
    "( > ) ;;\n",
    "( <= ) ;;\n",
    "( >= ) ;;\n",
    "compare ;;\n",
    "min ;;\n",
    "max ;;\n",
    "\n",
    "(* polymorphic physical comparison operators*)\n",
    "( == )\n",
    "( != )"
   ]
  },
  {
   "cell_type": "markdown",
   "id": "e339a380",
   "metadata": {},
   "source": [
    "##### 🟢 &nbsp; &nbsp; Boolean operators"
   ]
  },
  {
   "cell_type": "code",
   "execution_count": null,
   "id": "855c7c30",
   "metadata": {
    "vscode": {
     "languageId": "ocaml"
    }
   },
   "outputs": [],
   "source": [
    "not ;;\n",
    "( && ) ;;\n",
    "( || ) ;;"
   ]
  },
  {
   "cell_type": "markdown",
   "id": "e68d2f3d",
   "metadata": {},
   "source": [
    "##### 🟢 &nbsp; &nbsp;  Integer operations"
   ]
  },
  {
   "cell_type": "code",
   "execution_count": 82,
   "id": "399d1fb3",
   "metadata": {
    "vscode": {
     "languageId": "ocaml"
    }
   },
   "outputs": [
    {
     "data": {
      "text/plain": [
       "- : int = -1\n"
      ]
     },
     "execution_count": 82,
     "metadata": {},
     "output_type": "execute_result"
    },
    {
     "data": {
      "text/plain": [
       "- : int = -1\n"
      ]
     },
     "execution_count": 82,
     "metadata": {},
     "output_type": "execute_result"
    },
    {
     "data": {
      "text/plain": [
       "- : int = 11\n"
      ]
     },
     "execution_count": 82,
     "metadata": {},
     "output_type": "execute_result"
    },
    {
     "data": {
      "text/plain": [
       "- : int = -11\n"
      ]
     },
     "execution_count": 82,
     "metadata": {},
     "output_type": "execute_result"
    },
    {
     "data": {
      "text/plain": [
       "- : int = 11\n"
      ]
     },
     "execution_count": 82,
     "metadata": {},
     "output_type": "execute_result"
    },
    {
     "data": {
      "text/plain": [
       "- : int = -11\n"
      ]
     },
     "execution_count": 82,
     "metadata": {},
     "output_type": "execute_result"
    },
    {
     "data": {
      "text/plain": [
       "- : int = 2\n"
      ]
     },
     "execution_count": 82,
     "metadata": {},
     "output_type": "execute_result"
    },
    {
     "data": {
      "text/plain": [
       "- : int = 0\n"
      ]
     },
     "execution_count": 82,
     "metadata": {},
     "output_type": "execute_result"
    },
    {
     "data": {
      "text/plain": [
       "- : int = 2\n"
      ]
     },
     "execution_count": 82,
     "metadata": {},
     "output_type": "execute_result"
    },
    {
     "data": {
      "text/plain": [
       "- : int = 0\n"
      ]
     },
     "execution_count": 82,
     "metadata": {},
     "output_type": "execute_result"
    },
    {
     "data": {
      "text/plain": [
       "- : int = 4\n"
      ]
     },
     "execution_count": 82,
     "metadata": {},
     "output_type": "execute_result"
    },
    {
     "data": {
      "text/plain": [
       "- : int = 2\n"
      ]
     },
     "execution_count": 82,
     "metadata": {},
     "output_type": "execute_result"
    },
    {
     "data": {
      "text/plain": [
       "- : int = 1\n"
      ]
     },
     "execution_count": 82,
     "metadata": {},
     "output_type": "execute_result"
    },
    {
     "data": {
      "text/plain": [
       "- : int = 1\n"
      ]
     },
     "execution_count": 82,
     "metadata": {},
     "output_type": "execute_result"
    },
    {
     "data": {
      "text/plain": [
       "- : int = 1\n"
      ]
     },
     "execution_count": 82,
     "metadata": {},
     "output_type": "execute_result"
    },
    {
     "data": {
      "text/plain": [
       "- : int = 4611686018427387903\n"
      ]
     },
     "execution_count": 82,
     "metadata": {},
     "output_type": "execute_result"
    },
    {
     "data": {
      "text/plain": [
       "- : int = -4611686018427387904\n"
      ]
     },
     "execution_count": 82,
     "metadata": {},
     "output_type": "execute_result"
    }
   ],
   "source": [
    "(* negation *)\n",
    "( ~- ) 1 ;; \n",
    "-1 ;;\n",
    "\n",
    "(* identity *)\n",
    "( ~+ ) (11) ;;\n",
    "( ~+ ) (-11) ;;\n",
    "+11 ;;\n",
    "+(-11) ;;\n",
    "\n",
    "succ 1 ;;\n",
    "pred 1 ;;\n",
    "\n",
    "( + ) 1 1 ;;\n",
    "( - ) 1 1 ;;\n",
    "( * ) 2 2 ;;\n",
    "( / ) 5 2 ;;\n",
    "( mod) 5 2 ;;\n",
    "\n",
    "abs 1 ;;\n",
    "abs (-1) ;;\n",
    "\n",
    "max_int ;;\n",
    "min_int ;;"
   ]
  },
  {
   "cell_type": "markdown",
   "id": "1227e496",
   "metadata": {},
   "source": [
    "##### 🟢 &nbsp; &nbsp; Bitwise operations"
   ]
  },
  {
   "cell_type": "code",
   "execution_count": null,
   "id": "4d6beac9",
   "metadata": {
    "vscode": {
     "languageId": "ocaml"
    }
   },
   "outputs": [],
   "source": [
    "(* bitwise logical and, left-associative *)\n",
    "1 land 2 ;;\n",
    "2 land 3 ;;\n",
    "\n",
    "(* bitwise logical or, left-associative *)\n",
    "1 lor 2 ;;\n",
    "\n",
    "(* bitwise logical exclusive or, left-associative *)\n",
    "(* xor : true if and only if its arguments differ (one is true, the other is false) *)\n",
    "1 lxor 2 ;;\n",
    "\n",
    "(* bitwise logical negation *)\n",
    "lnot 0 ;;\n",
    "lnot 1 ;;\n",
    "lnot (-1) ;;\n",
    "\n",
    "(* left shift, right-associative *)\n",
    "1 lsl 2 ;;\n",
    "\n",
    "(* right shift, right-associative *)\n",
    "4 lsr 2 ;;\n",
    "\n",
    "(* right arithmetic shift, right-associative *)\n",
    "6 asr 2;;"
   ]
  },
  {
   "cell_type": "markdown",
   "id": "23e00156",
   "metadata": {},
   "source": [
    "##### 🟢 &nbsp; &nbsp; Floating-point operations"
   ]
  },
  {
   "cell_type": "code",
   "execution_count": 105,
   "id": "1b222181",
   "metadata": {
    "vscode": {
     "languageId": "ocaml"
    }
   },
   "outputs": [
    {
     "data": {
      "text/plain": [
       "- : float = -1.\n"
      ]
     },
     "execution_count": 105,
     "metadata": {},
     "output_type": "execute_result"
    },
    {
     "data": {
      "text/plain": [
       "- : float = -1.\n"
      ]
     },
     "execution_count": 105,
     "metadata": {},
     "output_type": "execute_result"
    },
    {
     "data": {
      "text/plain": [
       "- : float = 11.\n"
      ]
     },
     "execution_count": 105,
     "metadata": {},
     "output_type": "execute_result"
    },
    {
     "data": {
      "text/plain": [
       "- : float = -11.\n"
      ]
     },
     "execution_count": 105,
     "metadata": {},
     "output_type": "execute_result"
    },
    {
     "data": {
      "text/plain": [
       "- : float = 11.\n"
      ]
     },
     "execution_count": 105,
     "metadata": {},
     "output_type": "execute_result"
    },
    {
     "data": {
      "text/plain": [
       "- : float = -11.\n"
      ]
     },
     "execution_count": 105,
     "metadata": {},
     "output_type": "execute_result"
    },
    {
     "data": {
      "text/plain": [
       "- : float = 2.\n"
      ]
     },
     "execution_count": 105,
     "metadata": {},
     "output_type": "execute_result"
    },
    {
     "data": {
      "text/plain": [
       "- : float = 0.\n"
      ]
     },
     "execution_count": 105,
     "metadata": {},
     "output_type": "execute_result"
    },
    {
     "data": {
      "text/plain": [
       "- : float = 4.\n"
      ]
     },
     "execution_count": 105,
     "metadata": {},
     "output_type": "execute_result"
    },
    {
     "data": {
      "text/plain": [
       "- : float = 2.5\n"
      ]
     },
     "execution_count": 105,
     "metadata": {},
     "output_type": "execute_result"
    },
    {
     "data": {
      "text/plain": [
       "- : float = 16.\n"
      ]
     },
     "execution_count": 105,
     "metadata": {},
     "output_type": "execute_result"
    },
    {
     "data": {
      "text/plain": [
       "- : float = 3.\n"
      ]
     },
     "execution_count": 105,
     "metadata": {},
     "output_type": "execute_result"
    },
    {
     "data": {
      "text/plain": [
       "- : float = 10.\n"
      ]
     },
     "execution_count": 105,
     "metadata": {},
     "output_type": "execute_result"
    },
    {
     "data": {
      "text/plain": [
       "- : float = 10.\n"
      ]
     },
     "execution_count": 105,
     "metadata": {},
     "output_type": "execute_result"
    },
    {
     "data": {
      "text/plain": [
       "- : float = 9.\n"
      ]
     },
     "execution_count": 105,
     "metadata": {},
     "output_type": "execute_result"
    },
    {
     "data": {
      "text/plain": [
       "- : float = 9.\n"
      ]
     },
     "execution_count": 105,
     "metadata": {},
     "output_type": "execute_result"
    },
    {
     "data": {
      "text/plain": [
       "- : float = 9.\n"
      ]
     },
     "execution_count": 105,
     "metadata": {},
     "output_type": "execute_result"
    },
    {
     "data": {
      "text/plain": [
       "- : float = 9.\n"
      ]
     },
     "execution_count": 105,
     "metadata": {},
     "output_type": "execute_result"
    },
    {
     "data": {
      "text/plain": [
       "- : float = 99.\n"
      ]
     },
     "execution_count": 105,
     "metadata": {},
     "output_type": "execute_result"
    },
    {
     "data": {
      "text/plain": [
       "- : float = 99.\n"
      ]
     },
     "execution_count": 105,
     "metadata": {},
     "output_type": "execute_result"
    },
    {
     "data": {
      "text/plain": [
       "- : float = 1.29999999999999982\n"
      ]
     },
     "execution_count": 105,
     "metadata": {},
     "output_type": "execute_result"
    },
    {
     "data": {
      "text/plain": [
       "- : float * float = (0.230000000000000426, 4.)\n"
      ]
     },
     "execution_count": 105,
     "metadata": {},
     "output_type": "execute_result"
    },
    {
     "data": {
      "text/plain": [
       "- : float = 99.\n"
      ]
     },
     "execution_count": 105,
     "metadata": {},
     "output_type": "execute_result"
    },
    {
     "data": {
      "text/plain": [
       "- : float = 99.\n"
      ]
     },
     "execution_count": 105,
     "metadata": {},
     "output_type": "execute_result"
    },
    {
     "data": {
      "text/plain": [
       "- : int = 99\n"
      ]
     },
     "execution_count": 105,
     "metadata": {},
     "output_type": "execute_result"
    },
    {
     "data": {
      "text/plain": [
       "- : int = 99\n"
      ]
     },
     "execution_count": 105,
     "metadata": {},
     "output_type": "execute_result"
    },
    {
     "data": {
      "text/plain": [
       "- : float = infinity\n"
      ]
     },
     "execution_count": 105,
     "metadata": {},
     "output_type": "execute_result"
    },
    {
     "data": {
      "text/plain": [
       "- : float = neg_infinity\n"
      ]
     },
     "execution_count": 105,
     "metadata": {},
     "output_type": "execute_result"
    },
    {
     "data": {
      "text/plain": [
       "- : float = nan\n"
      ]
     },
     "execution_count": 105,
     "metadata": {},
     "output_type": "execute_result"
    }
   ],
   "source": [
    "(* negation *)\n",
    "( ~-. ) 1. ;; \n",
    " -.1. ;;\n",
    "\n",
    "(* identity *)\n",
    "( ~+. ) (11.) ;;\n",
    "( ~+. ) (-11.) ;;\n",
    "+.11. ;;\n",
    "+.(-11.) ;;\n",
    "\n",
    "( +. ) 1. 1. ;;\n",
    "( -. ) 1. 1. ;;\n",
    "( *. ) 2. 2. ;;\n",
    "( /. ) 5. 2. ;;\n",
    "\n",
    "(* exponentiation, right-associative *)\n",
    "( ** ) 2. 4. ;;\n",
    "\n",
    "(* square root *)\n",
    "sqrt 9. ;;\n",
    "\n",
    "ceil 9.5 ;;\n",
    "ceil 9.1 ;;\n",
    "ceil 9. ;;\n",
    "\n",
    "floor 9.5 ;;\n",
    "floor 9.1 ;;\n",
    "floor 9. ;;\n",
    "\n",
    "abs_float (-.99.) ;;\n",
    "abs_float (99.) ;;\n",
    "\n",
    "mod_float 5.3 2. ;;\n",
    "\n",
    "(* returns the pair of the fractional and integral part *)\n",
    "modf 4.23 ;;\n",
    "\n",
    "(* int to float *)\n",
    "float 99 ;;\n",
    "float_of_int 99 ;;\n",
    "\n",
    "(* int of float *)\n",
    "truncate 99.9 ;;\n",
    "int_of_float 99.9 ;;\n",
    "\n",
    "infinity ;;\n",
    "neg_infinity ;;\n",
    "nan ;;\n",
    "nan = nan ;; (* false *)\n",
    "nan == nan ;; (* true *)\n",
    "\n",
    "max_float ;;\n",
    "min_float ;;"
   ]
  },
  {
   "cell_type": "markdown",
   "id": "176b2e66",
   "metadata": {},
   "source": [
    "##### 🟢 &nbsp; &nbsp;  String and char"
   ]
  },
  {
   "cell_type": "code",
   "execution_count": 111,
   "id": "6de638ee",
   "metadata": {
    "vscode": {
     "languageId": "ocaml"
    }
   },
   "outputs": [
    {
     "data": {
      "text/plain": [
       "- : string -> string -> string = <fun>\n"
      ]
     },
     "execution_count": 111,
     "metadata": {},
     "output_type": "execute_result"
    },
    {
     "data": {
      "text/plain": [
       "- : string = \"hello world!\"\n"
      ]
     },
     "execution_count": 111,
     "metadata": {},
     "output_type": "execute_result"
    },
    {
     "data": {
      "text/plain": [
       "- : string = \" He asked, \\\"Are you Ok?\\\"  I replied, \\\"I am {|GOOOD|}!\\\" \"\n"
      ]
     },
     "execution_count": 111,
     "metadata": {},
     "output_type": "execute_result"
    },
    {
     "data": {
      "text/plain": [
       "- : int = 65\n"
      ]
     },
     "execution_count": 111,
     "metadata": {},
     "output_type": "execute_result"
    },
    {
     "data": {
      "text/plain": [
       "- : char = 'a'\n"
      ]
     },
     "execution_count": 111,
     "metadata": {},
     "output_type": "execute_result"
    }
   ],
   "source": [
    "( ^ ) ;;\n",
    "\"hello\" ^ \" world!\" ;;\n",
    "{| He asked, \"Are you Ok?\" |} ^ {del| I replied, \"I am {|GOOOD|}!\" |del} ;;\n",
    "\n",
    "int_of_char 'A' ;;\n",
    "char_of_int 97 ;;"
   ]
  },
  {
   "cell_type": "markdown",
   "id": "fcbc5a19",
   "metadata": {},
   "source": [
    "##### 🟢 &nbsp; &nbsp; String conversion functions"
   ]
  },
  {
   "cell_type": "code",
   "execution_count": 158,
   "id": "86219789",
   "metadata": {
    "vscode": {
     "languageId": "ocaml"
    }
   },
   "outputs": [
    {
     "data": {
      "text/plain": [
       "- : string = \"true\"\n"
      ]
     },
     "execution_count": 158,
     "metadata": {},
     "output_type": "execute_result"
    },
    {
     "data": {
      "text/plain": [
       "- : bool = true\n"
      ]
     },
     "execution_count": 158,
     "metadata": {},
     "output_type": "execute_result"
    },
    {
     "data": {
      "text/plain": [
       "- : bool option = None\n"
      ]
     },
     "execution_count": 158,
     "metadata": {},
     "output_type": "execute_result"
    },
    {
     "data": {
      "text/plain": [
       "- : string = \"123\"\n"
      ]
     },
     "execution_count": 158,
     "metadata": {},
     "output_type": "execute_result"
    },
    {
     "data": {
      "text/plain": [
       "- : int = 84000\n"
      ]
     },
     "execution_count": 158,
     "metadata": {},
     "output_type": "execute_result"
    },
    {
     "data": {
      "text/plain": [
       "- : int = 4294967295\n"
      ]
     },
     "execution_count": 158,
     "metadata": {},
     "output_type": "execute_result"
    },
    {
     "data": {
      "text/plain": [
       "- : int option = Some 2\n"
      ]
     },
     "execution_count": 158,
     "metadata": {},
     "output_type": "execute_result"
    },
    {
     "data": {
      "text/plain": [
       "- : int option = Some 12345\n"
      ]
     },
     "execution_count": 158,
     "metadata": {},
     "output_type": "execute_result"
    },
    {
     "data": {
      "text/plain": [
       "- : int option = Some 65535\n"
      ]
     },
     "execution_count": 158,
     "metadata": {},
     "output_type": "execute_result"
    },
    {
     "data": {
      "text/plain": [
       "- : int option = Some 4095\n"
      ]
     },
     "execution_count": 158,
     "metadata": {},
     "output_type": "execute_result"
    },
    {
     "data": {
      "text/plain": [
       "- : int option = Some 8\n"
      ]
     },
     "execution_count": 158,
     "metadata": {},
     "output_type": "execute_result"
    },
    {
     "data": {
      "text/plain": [
       "- : string = \"0.001\"\n"
      ]
     },
     "execution_count": 158,
     "metadata": {},
     "output_type": "execute_result"
    },
    {
     "data": {
      "text/plain": [
       "- : float = 0.001\n"
      ]
     },
     "execution_count": 158,
     "metadata": {},
     "output_type": "execute_result"
    },
    {
     "data": {
      "text/plain": [
       "- : float option = Some 3.145134234\n"
      ]
     },
     "execution_count": 158,
     "metadata": {},
     "output_type": "execute_result"
    },
    {
     "data": {
      "text/plain": [
       "- : float option = Some 65535.\n"
      ]
     },
     "execution_count": 158,
     "metadata": {},
     "output_type": "execute_result"
    },
    {
     "data": {
      "text/plain": [
       "- : float option = Some 101.\n"
      ]
     },
     "execution_count": 158,
     "metadata": {},
     "output_type": "execute_result"
    },
    {
     "data": {
      "text/plain": [
       "- : float option = Some (-101.)\n"
      ]
     },
     "execution_count": 158,
     "metadata": {},
     "output_type": "execute_result"
    },
    {
     "data": {
      "text/plain": [
       "- : float option = Some 0.0101\n"
      ]
     },
     "execution_count": 158,
     "metadata": {},
     "output_type": "execute_result"
    },
    {
     "data": {
      "text/plain": [
       "- : float option = Some (-0.0101)\n"
      ]
     },
     "execution_count": 158,
     "metadata": {},
     "output_type": "execute_result"
    },
    {
     "data": {
      "text/plain": [
       "- : float option = Some 15.625\n"
      ]
     },
     "execution_count": 158,
     "metadata": {},
     "output_type": "execute_result"
    },
    {
     "data": {
      "text/plain": [
       "- : float option = Some 32000.\n"
      ]
     },
     "execution_count": 158,
     "metadata": {},
     "output_type": "execute_result"
    }
   ],
   "source": [
    "string_of_bool true ;;\n",
    "bool_of_string \"true\" ;;\n",
    "bool_of_string_opt \"ok\" ;;\n",
    "\n",
    "string_of_int 123 ;;\n",
    "int_of_string \"84_000\" ;;\n",
    "int_of_string \"0XFFFF_FFFF\" ;;\n",
    "int_of_string_opt \"002\" ;;\n",
    "int_of_string_opt \"0u12345\" ;; \n",
    "int_of_string_opt \"0xFFFF\" ;; \n",
    "int_of_string_opt \"0o7777\" ;; \n",
    "int_of_string_opt \"0b0000_1000\" ;; \n",
    "\n",
    "string_of_float 0.001 ;; \n",
    "float_of_string \"0.001\" ;;\n",
    "float_of_string_opt \"3.145134_234\" ;;\n",
    "float_of_string_opt \"0xFFFF\" ;;\n",
    "float_of_string_opt \"1.01e2\" ;;\n",
    "float_of_string_opt \"-1.01e2\" ;;\n",
    "float_of_string_opt \"1.01e-2\" ;;\n",
    "float_of_string_opt \"-1.01e-2\" ;;\n",
    "float_of_string_opt \"0xF.A\" ;;\n",
    "float_of_string_opt \"0xF.Ap11\" ;;\n",
    "\n",
    "(* Note *)\n",
    "(* \n",
    "    bool_of_string might throw Invalid_argument exception\n",
    "    int_of_string and float_of_string might throw Failure exception \n",
    "*)"
   ]
  },
  {
   "cell_type": "markdown",
   "id": "4d2ae438",
   "metadata": {},
   "source": [
    "##### 🟢 &nbsp; &nbsp;  Ref cell"
   ]
  },
  {
   "cell_type": "code",
   "execution_count": 127,
   "id": "0aa51667",
   "metadata": {
    "vscode": {
     "languageId": "ocaml"
    }
   },
   "outputs": [
    {
     "data": {
      "text/plain": [
       "val num : int ref = {contents = 6}\n"
      ]
     },
     "execution_count": 127,
     "metadata": {},
     "output_type": "execute_result"
    },
    {
     "data": {
      "text/plain": [
       "- : unit = ()\n"
      ]
     },
     "execution_count": 127,
     "metadata": {},
     "output_type": "execute_result"
    },
    {
     "data": {
      "text/plain": [
       "- : int = 7\n"
      ]
     },
     "execution_count": 127,
     "metadata": {},
     "output_type": "execute_result"
    },
    {
     "data": {
      "text/plain": [
       "- : unit = ()\n"
      ]
     },
     "execution_count": 127,
     "metadata": {},
     "output_type": "execute_result"
    },
    {
     "data": {
      "text/plain": [
       "- : int = 8\n"
      ]
     },
     "execution_count": 127,
     "metadata": {},
     "output_type": "execute_result"
    },
    {
     "data": {
      "text/plain": [
       "- : int = 7\n"
      ]
     },
     "execution_count": 127,
     "metadata": {},
     "output_type": "execute_result"
    }
   ],
   "source": [
    "let num = ref 6 ;;\n",
    "\n",
    "num := !num + 1 ;;\n",
    "\n",
    "!num ;;\n",
    "\n",
    "incr num ;;\n",
    "!num ;;\n",
    "\n",
    "decr num;\n",
    "!num ;;"
   ]
  },
  {
   "cell_type": "markdown",
   "id": "655f5c76",
   "metadata": {},
   "source": [
    "##### 🟢 &nbsp; &nbsp;  Misc"
   ]
  },
  {
   "cell_type": "code",
   "execution_count": 129,
   "id": "5203ba94",
   "metadata": {
    "vscode": {
     "languageId": "ocaml"
    }
   },
   "outputs": [
    {
     "data": {
      "text/plain": [
       "- : 'a -> unit = <fun>\n"
      ]
     },
     "execution_count": 129,
     "metadata": {},
     "output_type": "execute_result"
    },
    {
     "data": {
      "text/plain": [
       "- : unit = ()\n"
      ]
     },
     "execution_count": 129,
     "metadata": {},
     "output_type": "execute_result"
    },
    {
     "data": {
      "text/plain": [
       "- : int = 1\n"
      ]
     },
     "execution_count": 129,
     "metadata": {},
     "output_type": "execute_result"
    },
    {
     "data": {
      "text/plain": [
       "- : int = 2\n"
      ]
     },
     "execution_count": 129,
     "metadata": {},
     "output_type": "execute_result"
    },
    {
     "data": {
      "text/plain": [
       "- : int list = [1; 2; 3; 4]\n"
      ]
     },
     "execution_count": 129,
     "metadata": {},
     "output_type": "execute_result"
    },
    {
     "data": {
      "text/plain": [
       "val r : (int, string) result = Ok 10\n"
      ]
     },
     "execution_count": 129,
     "metadata": {},
     "output_type": "execute_result"
    },
    {
     "data": {
      "text/plain": [
       "val e : (int, string) result = Error \"error\"\n"
      ]
     },
     "execution_count": 129,
     "metadata": {},
     "output_type": "execute_result"
    }
   ],
   "source": [
    "ignore ;;\n",
    "ignore (float 2) ;;\n",
    "\n",
    "(* pair operation *)\n",
    "fst (1, 2) ;;\n",
    "snd (1, 2) ;;\n",
    "\n",
    "(* List concatention. No tail-recursive. Right-associative *)\n",
    "[1; 2] @ [3; 4] ;;\n",
    "\n",
    "(* result type  *)\n",
    "let r : (int, string) result = Ok 10 ;;\n",
    "let e : (int, string) result = Error \"error\" ;;"
   ]
  },
  {
   "cell_type": "markdown",
   "id": "a9d04a4c",
   "metadata": {},
   "source": [
    "##### 🟢 &nbsp; &nbsp; Input/output"
   ]
  },
  {
   "cell_type": "code",
   "execution_count": null,
   "id": "2000e5b8",
   "metadata": {
    "vscode": {
     "languageId": "ocaml"
    }
   },
   "outputs": [],
   "source": [
    "stdin ;;\n",
    "stdout ;;\n",
    "stderr ;;"
   ]
  },
  {
   "cell_type": "markdown",
   "id": "9ed68f53",
   "metadata": {},
   "source": [
    "##### 🟢 &nbsp; &nbsp; Output functions to standard output"
   ]
  },
  {
   "cell_type": "code",
   "execution_count": 161,
   "id": "de0b4914",
   "metadata": {
    "vscode": {
     "languageId": "ocaml"
    }
   },
   "outputs": [
    {
     "data": {
      "text/plain": [
       "- : unit = ()\n"
      ]
     },
     "execution_count": 161,
     "metadata": {},
     "output_type": "execute_result"
    },
    {
     "data": {
      "text/plain": [
       "- : unit = ()\n"
      ]
     },
     "execution_count": 161,
     "metadata": {},
     "output_type": "execute_result"
    },
    {
     "data": {
      "text/plain": [
       "- : unit = ()\n"
      ]
     },
     "execution_count": 161,
     "metadata": {},
     "output_type": "execute_result"
    }
   ],
   "source": [
    "print_char 'a' ;;\n",
    "print_string \"hello\" ;;\n",
    "print_bytes (Bytes.make 10 'a') ;;\n",
    "print_int 10 ;;\n",
    "print_float 10.01 ;;\n",
    "print_endline \"hello world\" ;;\n",
    "print_newline () ;;"
   ]
  },
  {
   "cell_type": "markdown",
   "id": "0913c46a",
   "metadata": {},
   "source": [
    "##### 🟢 &nbsp; &nbsp;  Output functions to standard error"
   ]
  },
  {
   "cell_type": "code",
   "execution_count": 162,
   "id": "750a5d9b",
   "metadata": {
    "vscode": {
     "languageId": "ocaml"
    }
   },
   "outputs": [
    {
     "data": {
      "text/plain": [
       "- : unit = ()\n"
      ]
     },
     "execution_count": 162,
     "metadata": {},
     "output_type": "execute_result"
    },
    {
     "data": {
      "text/plain": [
       "- : unit = ()\n"
      ]
     },
     "execution_count": 162,
     "metadata": {},
     "output_type": "execute_result"
    },
    {
     "data": {
      "text/plain": [
       "- : unit = ()\n"
      ]
     },
     "execution_count": 162,
     "metadata": {},
     "output_type": "execute_result"
    },
    {
     "data": {
      "text/plain": [
       "- : unit = ()\n"
      ]
     },
     "execution_count": 162,
     "metadata": {},
     "output_type": "execute_result"
    }
   ],
   "source": [
    "prerr_char 'e' ;;\n",
    "prerr_string \"error\" ;;\n",
    "prerr_bytes (Bytes.make 10 'a') ;;\n",
    "prerr_int 10 ;;\n",
    "prerr_float 10.01 ;;\n",
    "prer_endline \"error\" ;;\n",
    "prer_newline () ;;"
   ]
  },
  {
   "cell_type": "markdown",
   "id": "364f5d91",
   "metadata": {},
   "source": [
    "##### 🟢 &nbsp; &nbsp; Input functions on starndard input"
   ]
  },
  {
   "cell_type": "code",
   "execution_count": 168,
   "id": "33d440e8",
   "metadata": {
    "vscode": {
     "languageId": "ocaml"
    }
   },
   "outputs": [
    {
     "data": {
      "text/plain": [
       "- : unit -> int = <fun>\n"
      ]
     },
     "execution_count": 168,
     "metadata": {},
     "output_type": "execute_result"
    },
    {
     "data": {
      "text/plain": [
       "- : unit -> int option = <fun>\n"
      ]
     },
     "execution_count": 168,
     "metadata": {},
     "output_type": "execute_result"
    },
    {
     "data": {
      "text/plain": [
       "- : unit -> float = <fun>\n"
      ]
     },
     "execution_count": 168,
     "metadata": {},
     "output_type": "execute_result"
    },
    {
     "data": {
      "text/plain": [
       "- : unit -> float option = <fun>\n"
      ]
     },
     "execution_count": 168,
     "metadata": {},
     "output_type": "execute_result"
    },
    {
     "data": {
      "text/plain": [
       "- : unit -> string = <fun>\n"
      ]
     },
     "execution_count": 168,
     "metadata": {},
     "output_type": "execute_result"
    }
   ],
   "source": [
    "read_int ;;\n",
    "read_int_opt ;;\n",
    "\n",
    "read_float ;;\n",
    "read_float_opt ;;\n",
    "\n",
    "read_line ;;"
   ]
  }
 ],
 "metadata": {
  "kernelspec": {
   "display_name": "OCaml 4.14.0",
   "language": "OCaml",
   "name": "ocaml-jupyter-4.14.0"
  },
  "language_info": {
   "codemirror_mode": "text/x-ocaml",
   "file_extension": ".ml",
   "mimetype": "text/x-ocaml",
   "name": "OCaml",
   "nbconverter_exporter": null,
   "pygments_lexer": "OCaml",
   "version": "4.14.0"
  },
  "widgets": {
   "application/vnd.jupyter.widget-state+json": {
    "state": {},
    "version_major": 2,
    "version_minor": 0
   }
  }
 },
 "nbformat": 4,
 "nbformat_minor": 5
}
