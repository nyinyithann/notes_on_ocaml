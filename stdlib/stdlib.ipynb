{
 "cells": [
  {
   "cell_type": "markdown",
   "id": "a4412c08",
   "metadata": {},
   "source": [
    "# Stdlib\n",
    "Some notable things in Stdlib module"
   ]
  },
  {
   "cell_type": "markdown",
   "id": "ba527f94",
   "metadata": {},
   "source": [
    "##### 🟢 &nbsp; &nbsp; exceptions"
   ]
  },
  {
   "cell_type": "code",
   "execution_count": null,
   "id": "72e2417c",
   "metadata": {},
   "outputs": [],
   "source": [
    "raise ;;\n",
    "\n",
    "raise_notrace ;; (* faster version or raise *)\n",
    "\n",
    "failwith ;; (* raise exception Failure of string *)\n",
    "invalid_arg ;; (* raise exception Invalid_argument of string *)\n",
    "\n",
    "Not_found ;;\n",
    "End_of_file ;;\n",
    "Division_by_zero ;;"
   ]
  },
  {
   "cell_type": "markdown",
   "id": "dbac9133",
   "metadata": {},
   "source": [
    "##### 🟢 &nbsp; &nbsp; Composition operators"
   ]
  },
  {
   "cell_type": "code",
   "execution_count": null,
   "id": "a2b5169a",
   "metadata": {},
   "outputs": [],
   "source": [
    "(* reverse application operator, left-associative *)\n",
    "( |> ) ;;\n",
    "let _ = 2 |> (-) 1 |> ((+) 1) ;; \n",
    "\n",
    "(* application operator, right-associative \n",
    "    f @@ g x = f(g(x)) \n",
    "*)\n",
    "( @@ ) ;; \n",
    "let _ = ((+) 1) @@ ((-) 1 2) ;; "
   ]
  },
  {
   "cell_type": "markdown",
   "id": "fd376b2e",
   "metadata": {},
   "source": [
    "##### 🟢 &nbsp; &nbsp; Comparisons"
   ]
  },
  {
   "cell_type": "code",
   "execution_count": null,
   "id": "7d2caa9d",
   "metadata": {},
   "outputs": [],
   "source": [
    "(* polymorphic structural comparison operators*)\n",
    "(* \n",
    "    Applying structural comparison operators to functions\n",
    "    raises Invalid_argument \n",
    "*)\n",
    "( = ) ;;\n",
    "( <> ) ;;\n",
    "( < ) ;;\n",
    "( > ) ;;\n",
    "( <= ) ;;\n",
    "( >= ) ;;\n",
    "compare ;;\n",
    "min ;;\n",
    "max ;;\n",
    "\n",
    "(* polymorphic physical comparison operators*)\n",
    "( == )\n",
    "( != )"
   ]
  },
  {
   "cell_type": "markdown",
   "id": "4a165aa1",
   "metadata": {},
   "source": [
    "##### 🟢 &nbsp; &nbsp; Boolean operators"
   ]
  },
  {
   "cell_type": "code",
   "execution_count": null,
   "id": "7fdf6637",
   "metadata": {},
   "outputs": [],
   "source": [
    "not ;;\n",
    "( && ) ;;\n",
    "( || ) ;;"
   ]
  },
  {
   "cell_type": "markdown",
   "id": "f51e55f5",
   "metadata": {},
   "source": [
    "##### 🟢 &nbsp; &nbsp;  Integer operations"
   ]
  },
  {
   "cell_type": "code",
   "execution_count": 82,
   "id": "2f76e067",
   "metadata": {},
   "outputs": [
    {
     "data": {
      "text/plain": [
       "- : int = -1\n"
      ]
     },
     "execution_count": 82,
     "metadata": {},
     "output_type": "execute_result"
    },
    {
     "data": {
      "text/plain": [
       "- : int = -1\n"
      ]
     },
     "execution_count": 82,
     "metadata": {},
     "output_type": "execute_result"
    },
    {
     "data": {
      "text/plain": [
       "- : int = 11\n"
      ]
     },
     "execution_count": 82,
     "metadata": {},
     "output_type": "execute_result"
    },
    {
     "data": {
      "text/plain": [
       "- : int = -11\n"
      ]
     },
     "execution_count": 82,
     "metadata": {},
     "output_type": "execute_result"
    },
    {
     "data": {
      "text/plain": [
       "- : int = 11\n"
      ]
     },
     "execution_count": 82,
     "metadata": {},
     "output_type": "execute_result"
    },
    {
     "data": {
      "text/plain": [
       "- : int = -11\n"
      ]
     },
     "execution_count": 82,
     "metadata": {},
     "output_type": "execute_result"
    },
    {
     "data": {
      "text/plain": [
       "- : int = 2\n"
      ]
     },
     "execution_count": 82,
     "metadata": {},
     "output_type": "execute_result"
    },
    {
     "data": {
      "text/plain": [
       "- : int = 0\n"
      ]
     },
     "execution_count": 82,
     "metadata": {},
     "output_type": "execute_result"
    },
    {
     "data": {
      "text/plain": [
       "- : int = 2\n"
      ]
     },
     "execution_count": 82,
     "metadata": {},
     "output_type": "execute_result"
    },
    {
     "data": {
      "text/plain": [
       "- : int = 0\n"
      ]
     },
     "execution_count": 82,
     "metadata": {},
     "output_type": "execute_result"
    },
    {
     "data": {
      "text/plain": [
       "- : int = 4\n"
      ]
     },
     "execution_count": 82,
     "metadata": {},
     "output_type": "execute_result"
    },
    {
     "data": {
      "text/plain": [
       "- : int = 2\n"
      ]
     },
     "execution_count": 82,
     "metadata": {},
     "output_type": "execute_result"
    },
    {
     "data": {
      "text/plain": [
       "- : int = 1\n"
      ]
     },
     "execution_count": 82,
     "metadata": {},
     "output_type": "execute_result"
    },
    {
     "data": {
      "text/plain": [
       "- : int = 1\n"
      ]
     },
     "execution_count": 82,
     "metadata": {},
     "output_type": "execute_result"
    },
    {
     "data": {
      "text/plain": [
       "- : int = 1\n"
      ]
     },
     "execution_count": 82,
     "metadata": {},
     "output_type": "execute_result"
    },
    {
     "data": {
      "text/plain": [
       "- : int = 4611686018427387903\n"
      ]
     },
     "execution_count": 82,
     "metadata": {},
     "output_type": "execute_result"
    },
    {
     "data": {
      "text/plain": [
       "- : int = -4611686018427387904\n"
      ]
     },
     "execution_count": 82,
     "metadata": {},
     "output_type": "execute_result"
    }
   ],
   "source": [
    "(* negation *)\n",
    "( ~- ) 1 ;; \n",
    "-1 ;;\n",
    "\n",
    "(* identity *)\n",
    "( ~+ ) (11) ;;\n",
    "( ~+ ) (-11) ;;\n",
    "+11 ;;\n",
    "+(-11) ;;\n",
    "\n",
    "succ 1 ;;\n",
    "pred 1 ;;\n",
    "\n",
    "( + ) 1 1 ;;\n",
    "( - ) 1 1 ;;\n",
    "( * ) 2 2 ;;\n",
    "( / ) 5 2 ;;\n",
    "( mod) 5 2 ;;\n",
    "\n",
    "abs 1 ;;\n",
    "abs (-1) ;;\n",
    "\n",
    "max_int ;;\n",
    "min_int ;;"
   ]
  },
  {
   "cell_type": "markdown",
   "id": "6fa2a0d0",
   "metadata": {},
   "source": [
    "##### 🟢 &nbsp; &nbsp; Bitwise operations"
   ]
  },
  {
   "cell_type": "code",
   "execution_count": null,
   "id": "cc59594c",
   "metadata": {},
   "outputs": [],
   "source": [
    "(* bitwise logical and, left-associative *)\n",
    "1 land 2 ;;\n",
    "2 land 3 ;;\n",
    "\n",
    "(* bitwise logical or, left-associative *)\n",
    "1 lor 2 ;;\n",
    "\n",
    "(* bitwise logical exclusive or, left-associative *)\n",
    "(* xor : true if and only if its arguments differ (one is true, the other is false) *)\n",
    "1 lxor 2 ;;\n",
    "\n",
    "(* bitwise logical negation *)\n",
    "lnot 0 ;;\n",
    "lnot 1 ;;\n",
    "lnot (-1) ;;\n",
    "\n",
    "(* left shift, right-associative *)\n",
    "1 lsl 2 ;;\n",
    "\n",
    "(* right shift, right-associative *)\n",
    "4 lsr 2 ;;\n",
    "\n",
    "(* right arithmetic shift, right-associative *)\n",
    "6 asr 2;;"
   ]
  },
  {
   "cell_type": "markdown",
   "id": "44ca4dee",
   "metadata": {},
   "source": [
    "##### 🟢 &nbsp; &nbsp; Floating-point operations"
   ]
  },
  {
   "cell_type": "code",
   "execution_count": 105,
   "id": "eb0270b3",
   "metadata": {},
   "outputs": [
    {
     "data": {
      "text/plain": [
       "- : float = -1.\n"
      ]
     },
     "execution_count": 105,
     "metadata": {},
     "output_type": "execute_result"
    },
    {
     "data": {
      "text/plain": [
       "- : float = -1.\n"
      ]
     },
     "execution_count": 105,
     "metadata": {},
     "output_type": "execute_result"
    },
    {
     "data": {
      "text/plain": [
       "- : float = 11.\n"
      ]
     },
     "execution_count": 105,
     "metadata": {},
     "output_type": "execute_result"
    },
    {
     "data": {
      "text/plain": [
       "- : float = -11.\n"
      ]
     },
     "execution_count": 105,
     "metadata": {},
     "output_type": "execute_result"
    },
    {
     "data": {
      "text/plain": [
       "- : float = 11.\n"
      ]
     },
     "execution_count": 105,
     "metadata": {},
     "output_type": "execute_result"
    },
    {
     "data": {
      "text/plain": [
       "- : float = -11.\n"
      ]
     },
     "execution_count": 105,
     "metadata": {},
     "output_type": "execute_result"
    },
    {
     "data": {
      "text/plain": [
       "- : float = 2.\n"
      ]
     },
     "execution_count": 105,
     "metadata": {},
     "output_type": "execute_result"
    },
    {
     "data": {
      "text/plain": [
       "- : float = 0.\n"
      ]
     },
     "execution_count": 105,
     "metadata": {},
     "output_type": "execute_result"
    },
    {
     "data": {
      "text/plain": [
       "- : float = 4.\n"
      ]
     },
     "execution_count": 105,
     "metadata": {},
     "output_type": "execute_result"
    },
    {
     "data": {
      "text/plain": [
       "- : float = 2.5\n"
      ]
     },
     "execution_count": 105,
     "metadata": {},
     "output_type": "execute_result"
    },
    {
     "data": {
      "text/plain": [
       "- : float = 16.\n"
      ]
     },
     "execution_count": 105,
     "metadata": {},
     "output_type": "execute_result"
    },
    {
     "data": {
      "text/plain": [
       "- : float = 3.\n"
      ]
     },
     "execution_count": 105,
     "metadata": {},
     "output_type": "execute_result"
    },
    {
     "data": {
      "text/plain": [
       "- : float = 10.\n"
      ]
     },
     "execution_count": 105,
     "metadata": {},
     "output_type": "execute_result"
    },
    {
     "data": {
      "text/plain": [
       "- : float = 10.\n"
      ]
     },
     "execution_count": 105,
     "metadata": {},
     "output_type": "execute_result"
    },
    {
     "data": {
      "text/plain": [
       "- : float = 9.\n"
      ]
     },
     "execution_count": 105,
     "metadata": {},
     "output_type": "execute_result"
    },
    {
     "data": {
      "text/plain": [
       "- : float = 9.\n"
      ]
     },
     "execution_count": 105,
     "metadata": {},
     "output_type": "execute_result"
    },
    {
     "data": {
      "text/plain": [
       "- : float = 9.\n"
      ]
     },
     "execution_count": 105,
     "metadata": {},
     "output_type": "execute_result"
    },
    {
     "data": {
      "text/plain": [
       "- : float = 9.\n"
      ]
     },
     "execution_count": 105,
     "metadata": {},
     "output_type": "execute_result"
    },
    {
     "data": {
      "text/plain": [
       "- : float = 99.\n"
      ]
     },
     "execution_count": 105,
     "metadata": {},
     "output_type": "execute_result"
    },
    {
     "data": {
      "text/plain": [
       "- : float = 99.\n"
      ]
     },
     "execution_count": 105,
     "metadata": {},
     "output_type": "execute_result"
    },
    {
     "data": {
      "text/plain": [
       "- : float = 1.29999999999999982\n"
      ]
     },
     "execution_count": 105,
     "metadata": {},
     "output_type": "execute_result"
    },
    {
     "data": {
      "text/plain": [
       "- : float * float = (0.230000000000000426, 4.)\n"
      ]
     },
     "execution_count": 105,
     "metadata": {},
     "output_type": "execute_result"
    },
    {
     "data": {
      "text/plain": [
       "- : float = 99.\n"
      ]
     },
     "execution_count": 105,
     "metadata": {},
     "output_type": "execute_result"
    },
    {
     "data": {
      "text/plain": [
       "- : float = 99.\n"
      ]
     },
     "execution_count": 105,
     "metadata": {},
     "output_type": "execute_result"
    },
    {
     "data": {
      "text/plain": [
       "- : int = 99\n"
      ]
     },
     "execution_count": 105,
     "metadata": {},
     "output_type": "execute_result"
    },
    {
     "data": {
      "text/plain": [
       "- : int = 99\n"
      ]
     },
     "execution_count": 105,
     "metadata": {},
     "output_type": "execute_result"
    },
    {
     "data": {
      "text/plain": [
       "- : float = infinity\n"
      ]
     },
     "execution_count": 105,
     "metadata": {},
     "output_type": "execute_result"
    },
    {
     "data": {
      "text/plain": [
       "- : float = neg_infinity\n"
      ]
     },
     "execution_count": 105,
     "metadata": {},
     "output_type": "execute_result"
    },
    {
     "data": {
      "text/plain": [
       "- : float = nan\n"
      ]
     },
     "execution_count": 105,
     "metadata": {},
     "output_type": "execute_result"
    }
   ],
   "source": [
    "(* negation *)\n",
    "( ~-. ) 1. ;; \n",
    " -.1. ;;\n",
    "\n",
    "(* identity *)\n",
    "( ~+. ) (11.) ;;\n",
    "( ~+. ) (-11.) ;;\n",
    "+.11. ;;\n",
    "+.(-11.) ;;\n",
    "\n",
    "( +. ) 1. 1. ;;\n",
    "( -. ) 1. 1. ;;\n",
    "( *. ) 2. 2. ;;\n",
    "( /. ) 5. 2. ;;\n",
    "\n",
    "(* exponentiation, right-associative *)\n",
    "( ** ) 2. 4. ;;\n",
    "\n",
    "(* square root *)\n",
    "sqrt 9. ;;\n",
    "\n",
    "ceil 9.5 ;;\n",
    "ceil 9.1 ;;\n",
    "ceil 9. ;;\n",
    "\n",
    "floor 9.5 ;;\n",
    "floor 9.1 ;;\n",
    "floor 9. ;;\n",
    "\n",
    "abs_float (-.99.) ;;\n",
    "abs_float (99.) ;;\n",
    "\n",
    "mod_float 5.3 2. ;;\n",
    "\n",
    "(* returns the pair of the fractional and integral part *)\n",
    "modf 4.23 ;;\n",
    "\n",
    "(* int to float *)\n",
    "float 99 ;;\n",
    "float_of_int 99 ;;\n",
    "\n",
    "(* int of float *)\n",
    "truncate 99.9 ;;\n",
    "int_of_float 99.9 ;;\n",
    "\n",
    "infinity ;;\n",
    "neg_infinity ;;\n",
    "nan ;;\n",
    "nan = nan ;; (* false *)\n",
    "nan == nan ;; (* true *)\n",
    "\n",
    "max_float ;;\n",
    "min_float ;;"
   ]
  },
  {
   "cell_type": "markdown",
   "id": "f645610b",
   "metadata": {},
   "source": [
    "##### 🟢 &nbsp; &nbsp; "
   ]
  },
  {
   "cell_type": "markdown",
   "id": "23077e59",
   "metadata": {},
   "source": [
    "##### 🟢 &nbsp; &nbsp; "
   ]
  },
  {
   "cell_type": "markdown",
   "id": "5f477d70",
   "metadata": {},
   "source": [
    "##### 🟢 &nbsp; &nbsp; "
   ]
  },
  {
   "cell_type": "code",
   "execution_count": null,
   "id": "dee16370",
   "metadata": {},
   "outputs": [],
   "source": []
  }
 ],
 "metadata": {
  "kernelspec": {
   "display_name": "OCaml 4.14.0",
   "language": "OCaml",
   "name": "ocaml-jupyter-4.14.0"
  },
  "language_info": {
   "codemirror_mode": "text/x-ocaml",
   "file_extension": ".ml",
   "mimetype": "text/x-ocaml",
   "name": "OCaml",
   "nbconverter_exporter": null,
   "pygments_lexer": "OCaml",
   "version": "4.14.0"
  }
 },
 "nbformat": 4,
 "nbformat_minor": 5
}
