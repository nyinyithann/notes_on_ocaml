{
 "cells": [
  {
   "cell_type": "markdown",
   "id": "8aa32e59-1da0-4b6f-9513-f40ee4445dec",
   "metadata": {},
   "source": [
    "# Locally abstract type"
   ]
  },
  {
   "cell_type": "markdown",
   "id": "7ca73335-4660-47d6-b9fa-e39ea0c737d0",
   "metadata": {},
   "source": [
    "##### 🟢 &nbsp; &nbsp; Basic"
   ]
  },
  {
   "cell_type": "code",
   "execution_count": 1,
   "id": "a51b0d76-83fd-4fe2-bb9b-e47cf3d0c6b6",
   "metadata": {},
   "outputs": [
    {
     "data": {
      "text/plain": [
       "val wrap_list : 'a -> 'a list = <fun>\n"
      ]
     },
     "execution_count": 1,
     "metadata": {},
     "output_type": "execute_result"
    },
    {
     "data": {
      "text/plain": [
       "- : int list = [10]\n"
      ]
     },
     "execution_count": 1,
     "metadata": {},
     "output_type": "execute_result"
    },
    {
     "data": {
      "text/plain": [
       "- : float list = [10.1]\n"
      ]
     },
     "execution_count": 1,
     "metadata": {},
     "output_type": "execute_result"
    },
    {
     "data": {
      "text/plain": [
       "val wrap_tuple : 'a -> 'b -> 'a * 'b = <fun>\n"
      ]
     },
     "execution_count": 1,
     "metadata": {},
     "output_type": "execute_result"
    },
    {
     "data": {
      "text/plain": [
       "- : int * int = (10, 10)\n"
      ]
     },
     "execution_count": 1,
     "metadata": {},
     "output_type": "execute_result"
    },
    {
     "data": {
      "text/plain": [
       "- : float * float = (1.11, 2.22)\n"
      ]
     },
     "execution_count": 1,
     "metadata": {},
     "output_type": "execute_result"
    }
   ],
   "source": [
    "let wrap_list = fun (type a) x -> [x] ;;\n",
    "wrap_list 10 ;;\n",
    "wrap_list 10.10 ;;\n",
    "\n",
    "let wrap_tuple (type a b) a b = (a, b) ;;\n",
    "wrap_tuple 10 10 ;;\n",
    "wrap_tuple 1.11 2.22 ;;"
   ]
  },
  {
   "cell_type": "markdown",
   "id": "5a76ef9f-96c3-4140-81b9-631851157e26",
   "metadata": {},
   "source": [
    "<br/>"
   ]
  },
  {
   "cell_type": "markdown",
   "id": "7e5a24f6-d0c8-4c2a-8d15-17d7a1e39d02",
   "metadata": {},
   "source": [
    "##### 🟢 &nbsp; &nbsp; Samples"
   ]
  },
  {
   "cell_type": "code",
   "execution_count": 16,
   "id": "b1135866-7e19-435b-b114-1c87b9be85a6",
   "metadata": {},
   "outputs": [
    {
     "data": {
      "text/plain": [
       "val count_by :\n",
       "  'a list ->\n",
       "  compare:('k -> 'k -> int) -> projection:('a -> 'k) -> ('k * int) list =\n",
       "  <fun>\n"
      ]
     },
     "execution_count": 16,
     "metadata": {},
     "output_type": "execute_result"
    },
    {
     "data": {
      "text/plain": [
       "- : (int * int) list = [(1, 2); (2, 3); (3, 2); (4, 2)]\n"
      ]
     },
     "execution_count": 16,
     "metadata": {},
     "output_type": "execute_result"
    },
    {
     "data": {
      "text/plain": [
       "- : (Float.t * int) list = [(1., 2); (2., 3); (3., 2); (4., 2)]\n"
      ]
     },
     "execution_count": 16,
     "metadata": {},
     "output_type": "execute_result"
    },
    {
     "data": {
      "text/plain": [
       "type person = { name : string; age : float; }\n"
      ]
     },
     "execution_count": 16,
     "metadata": {},
     "output_type": "execute_result"
    },
    {
     "data": {
      "text/plain": [
       "- : (String.t * int) list = [(\"Click\", 3); (\"Jack\", 2)]\n"
      ]
     },
     "execution_count": 16,
     "metadata": {},
     "output_type": "execute_result"
    }
   ],
   "source": [
    "let count_by (type k) (lst: 'a list) ~compare:cmp ~(projection: 'a -> k) =\n",
    "    let len = List.length lst in\n",
    "    if len = 0 then []\n",
    "    else\n",
    "        let module M = Map.Make(struct\n",
    "            type t = k\n",
    "            let compare = cmp\n",
    "        end) in\n",
    "        let rec loop l acc =\n",
    "            match l with\n",
    "            | [] -> acc\n",
    "            | h :: t -> \n",
    "                let key = projection h in\n",
    "                loop t (acc |> M.update key (function None -> Some (1) | Some x -> Some (x + 1)))\n",
    "        in\n",
    "        loop lst M.empty |> M.bindings ;;\n",
    "\n",
    "let ints = [1; 1; 2; 2; 2; 3; 3; 4; 4] in\n",
    "ints |> count_by ~compare:Int.compare ~projection:(fun x -> x) ;;\n",
    "\n",
    "let floats = [1.; 1.; 2.; 2.; 2.; 3.; 3.; 4.; 4.] in\n",
    "floats |> count_by ~compare:Float.compare ~projection:(fun x -> x) ;;\n",
    "\n",
    "type person = { name : string; age : float } ;;\n",
    "let people = [ \n",
    "    { name = \"Click\"; age = 13. };\n",
    "    { name = \"Click\"; age = 12. }; \n",
    "    { name = \"Jack\"; age = 13. };\n",
    "    { name = \"Jack\"; age = 14. };\n",
    "    { name = \"Click\"; age = 31. }\n",
    "] in\n",
    "people |> count_by ~compare:String.compare ~projection:(fun x -> x.name) ;;"
   ]
  },
  {
   "cell_type": "code",
   "execution_count": 6,
   "id": "06e51faa-c961-4c88-826e-eeda958af68c",
   "metadata": {},
   "outputs": [
    {
     "data": {
      "text/plain": [
       "val distinct : 'a list -> compare:('a -> 'a -> int) -> 'a list = <fun>\n"
      ]
     },
     "execution_count": 6,
     "metadata": {},
     "output_type": "execute_result"
    },
    {
     "data": {
      "text/plain": [
       "- : int list = [1; 2; 3; 4]\n"
      ]
     },
     "execution_count": 6,
     "metadata": {},
     "output_type": "execute_result"
    },
    {
     "data": {
      "text/plain": [
       "- : Float.t list = [1.; 2.; 3.; 4.]\n"
      ]
     },
     "execution_count": 6,
     "metadata": {},
     "output_type": "execute_result"
    },
    {
     "data": {
      "text/plain": [
       "type person = { name : string; age : float; }\n"
      ]
     },
     "execution_count": 6,
     "metadata": {},
     "output_type": "execute_result"
    },
    {
     "data": {
      "text/plain": [
       "- : person list =\n",
       "[{name = \"Click\"; age = 13.}; {name = \"Jack\"; age = 13.};\n",
       " {name = \"Jack\"; age = 14.}; {name = \"Click\"; age = 31.}]\n"
      ]
     },
     "execution_count": 6,
     "metadata": {},
     "output_type": "execute_result"
    }
   ],
   "source": [
    "let distinct (type a) (lst:a list) ~(compare:a -> a -> int) = \n",
    "    let module S = Set.Make(struct \n",
    "        type t = a\n",
    "        let compare = compare\n",
    "    end) in\n",
    "    lst |> S.of_list |> S.elements ;;\n",
    "\n",
    "let ints = [1; 1; 2; 2; 2; 3; 3; 4; 4] in\n",
    "ints |> distinct ~compare:Int.compare ;;\n",
    "\n",
    "let floats = [1.; 1.; 2.; 2.; 2.; 3.; 3.; 4.; 4.] in\n",
    "floats |> distinct ~compare:Float.compare ;;\n",
    "\n",
    "type person = { name : string; age : float } ;;\n",
    "let people = [ \n",
    "    { name = \"Click\"; age = 13. };\n",
    "    { name = \"Click\"; age = 12. }; \n",
    "    { name = \"Jack\"; age = 13. };\n",
    "    { name = \"Jack\"; age = 14. };\n",
    "    { name = \"Click\"; age = 31. }\n",
    "] \n",
    "and cmp x y = \n",
    "    match (String.compare (String.lowercase_ascii x.name) (String.lowercase_ascii y.name), Float.compare x.age y.age) with\n",
    "    | (0,0) -> 0\n",
    "    | (a,b) -> if a > b then a else b in    \n",
    "people |> distinct ~compare:cmp ;;"
   ]
  },
  {
   "cell_type": "code",
   "execution_count": 11,
   "id": "2576ad47-90a5-42de-b4ad-1dc6de4b5822",
   "metadata": {},
   "outputs": [
    {
     "data": {
      "text/plain": [
       "val distinct_by :\n",
       "  'a list -> compare:('k -> 'k -> int) -> projection:('a -> 'k) -> 'a list =\n",
       "  <fun>\n"
      ]
     },
     "execution_count": 11,
     "metadata": {},
     "output_type": "execute_result"
    },
    {
     "data": {
      "text/plain": [
       "- : int list = [4; 3; 2; 1]\n"
      ]
     },
     "execution_count": 11,
     "metadata": {},
     "output_type": "execute_result"
    },
    {
     "data": {
      "text/plain": [
       "- : Float.t list = [4.; 3.; 2.; 1.]\n"
      ]
     },
     "execution_count": 11,
     "metadata": {},
     "output_type": "execute_result"
    },
    {
     "data": {
      "text/plain": [
       "type person = { name : string; age : float; }\n"
      ]
     },
     "execution_count": 11,
     "metadata": {},
     "output_type": "execute_result"
    },
    {
     "data": {
      "text/plain": [
       "val people : person list =\n",
       "  [{name = \"Click\"; age = 13.}; {name = \"Click\"; age = 12.};\n",
       "   {name = \"Jack\"; age = 13.}; {name = \"Jack\"; age = 14.};\n",
       "   {name = \"Click\"; age = 31.}]\n"
      ]
     },
     "execution_count": 11,
     "metadata": {},
     "output_type": "execute_result"
    },
    {
     "data": {
      "text/plain": [
       "- : person list = [{name = \"Jack\"; age = 13.}; {name = \"Click\"; age = 13.}]\n"
      ]
     },
     "execution_count": 11,
     "metadata": {},
     "output_type": "execute_result"
    },
    {
     "data": {
      "text/plain": [
       "- : person list =\n",
       "[{name = \"Click\"; age = 31.}; {name = \"Jack\"; age = 14.};\n",
       " {name = \"Click\"; age = 12.}; {name = \"Click\"; age = 13.}]\n"
      ]
     },
     "execution_count": 11,
     "metadata": {},
     "output_type": "execute_result"
    }
   ],
   "source": [
    "let distinct_by (type k) (lst:'a list) ~(compare:k -> k -> int) ~(projection:'a -> k) =\n",
    "    let module S = Set.Make(struct \n",
    "        type t = k\n",
    "        let compare = compare\n",
    "    end) in\n",
    "    let rec loop l keys ret =\n",
    "        match l with\n",
    "        | [] -> ret\n",
    "        | h :: t ->\n",
    "            let key = projection h in\n",
    "            if keys |> S.exists (fun x -> x = key) then loop t keys ret\n",
    "            else loop t (keys |> S.add key) (h :: ret)\n",
    "    in\n",
    "    loop lst S.empty [] ;;\n",
    "\n",
    "let ints = [1; 1; 2; 2; 2; 3; 3; 4; 4] in\n",
    "ints |> distinct_by ~compare:Int.compare ~projection:(fun x -> x) ;;\n",
    "\n",
    "let floats = [1.; 1.; 2.; 2.; 2.; 3.; 3.; 4.; 4.] in\n",
    "floats |> distinct_by ~compare:Float.compare ~projection:(fun x -> x);;\n",
    "\n",
    "type person = { name : string; age : float } ;;\n",
    "let people = [ \n",
    "    { name = \"Click\"; age = 13. };\n",
    "    { name = \"Click\"; age = 12. }; \n",
    "    { name = \"Jack\"; age = 13. };\n",
    "    { name = \"Jack\"; age = 14. };\n",
    "    { name = \"Click\"; age = 31. }\n",
    "] ;;\n",
    "people |> distinct_by ~compare:String.compare ~projection:(fun x -> x.name) ;;\n",
    "people |> distinct_by ~compare:Float.compare ~projection:(fun x -> x.age) ;;"
   ]
  },
  {
   "cell_type": "code",
   "execution_count": 14,
   "id": "7e6005a5-4868-4c79-88d3-e0d8b931340a",
   "metadata": {},
   "outputs": [
    {
     "data": {
      "text/plain": [
       "val group_by :\n",
       "  'a list ->\n",
       "  compare:('k -> 'k -> int) -> projection:('a -> 'k) -> ('k * 'a list) list =\n",
       "  <fun>\n"
      ]
     },
     "execution_count": 14,
     "metadata": {},
     "output_type": "execute_result"
    },
    {
     "data": {
      "text/plain": [
       "- : (int * int list) list =\n",
       "[(1, [1; 1]); (2, [2; 2; 2]); (3, [3; 3]); (4, [4; 4])]\n"
      ]
     },
     "execution_count": 14,
     "metadata": {},
     "output_type": "execute_result"
    },
    {
     "data": {
      "text/plain": [
       "- : (Float.t * Float.t list) list =\n",
       "[(1., [1.; 1.]); (2., [2.; 2.; 2.]); (3., [3.; 3.]); (4., [4.; 4.])]\n"
      ]
     },
     "execution_count": 14,
     "metadata": {},
     "output_type": "execute_result"
    },
    {
     "data": {
      "text/plain": [
       "type person = { name : string; age : float; }\n"
      ]
     },
     "execution_count": 14,
     "metadata": {},
     "output_type": "execute_result"
    },
    {
     "data": {
      "text/plain": [
       "val people : person list =\n",
       "  [{name = \"Click\"; age = 13.}; {name = \"Click\"; age = 12.};\n",
       "   {name = \"Jack\"; age = 13.}; {name = \"Jack\"; age = 14.};\n",
       "   {name = \"Click\"; age = 31.}]\n"
      ]
     },
     "execution_count": 14,
     "metadata": {},
     "output_type": "execute_result"
    },
    {
     "data": {
      "text/plain": [
       "- : (String.t * person list) list =\n",
       "[(\"Click\",\n",
       "  [{name = \"Click\"; age = 31.}; {name = \"Click\"; age = 12.};\n",
       "   {name = \"Click\"; age = 13.}]);\n",
       " (\"Jack\", [{name = \"Jack\"; age = 14.}; {name = \"Jack\"; age = 13.}])]\n"
      ]
     },
     "execution_count": 14,
     "metadata": {},
     "output_type": "execute_result"
    },
    {
     "data": {
      "text/plain": [
       "- : (Float.t * person list) list =\n",
       "[(12., [{name = \"Click\"; age = 12.}]);\n",
       " (13., [{name = \"Jack\"; age = 13.}; {name = \"Click\"; age = 13.}]);\n",
       " (14., [{name = \"Jack\"; age = 14.}]); (31., [{name = \"Click\"; age = 31.}])]\n"
      ]
     },
     "execution_count": 14,
     "metadata": {},
     "output_type": "execute_result"
    }
   ],
   "source": [
    "let group_by (type k) (lst:'a list) ~(compare:k -> k -> int) ~(projection:'a -> k) =\n",
    "    let module M = Map.Make(struct\n",
    "        type t = k\n",
    "        let compare = compare\n",
    "    end) in\n",
    "    let rec loop l ret =\n",
    "        match l with\n",
    "        | [] -> ret\n",
    "        | h :: t ->\n",
    "            let key = projection h in\n",
    "            loop t (ret |> M.update key (function Some x -> Some (h :: x) | _ -> Some [h]))\n",
    "    in\n",
    "    loop lst M.empty |> M.bindings ;;\n",
    "\n",
    "let ints = [1; 1; 2; 2; 2; 3; 3; 4; 4] in\n",
    "ints |> group_by ~compare:Int.compare ~projection:(fun x -> x) ;;\n",
    "\n",
    "let floats = [1.; 1.; 2.; 2.; 2.; 3.; 3.; 4.; 4.] in\n",
    "floats |> group_by ~compare:Float.compare ~projection:(fun x -> x);;\n",
    "\n",
    "type person = { name : string; age : float } ;;\n",
    "let people = [ \n",
    "    { name = \"Click\"; age = 13. };\n",
    "    { name = \"Click\"; age = 12. }; \n",
    "    { name = \"Jack\"; age = 13. };\n",
    "    { name = \"Jack\"; age = 14. };\n",
    "    { name = \"Click\"; age = 31. }\n",
    "] ;;\n",
    "people |> group_by ~compare:String.compare ~projection:(fun x -> x.name) ;;\n",
    "people |> group_by ~compare:Float.compare ~projection:(fun x -> x.age) ;;"
   ]
  },
  {
   "cell_type": "code",
   "execution_count": null,
   "id": "3d227fdf-c051-45f2-8bd2-45bd356f826a",
   "metadata": {},
   "outputs": [],
   "source": []
  }
 ],
 "metadata": {
  "kernelspec": {
   "display_name": "OCaml 4.12.0",
   "language": "OCaml",
   "name": "ocaml-jupyter-4.12.0"
  },
  "language_info": {
   "codemirror_mode": "text/x-ocaml",
   "file_extension": ".ml",
   "mimetype": "text/x-ocaml",
   "name": "OCaml",
   "nbconverter_exporter": null,
   "pygments_lexer": "OCaml",
   "version": "4.12.0"
  },
  "widgets": {
   "application/vnd.jupyter.widget-state+json": {
    "state": {},
    "version_major": 2,
    "version_minor": 0
   }
  }
 },
 "nbformat": 4,
 "nbformat_minor": 5
}
