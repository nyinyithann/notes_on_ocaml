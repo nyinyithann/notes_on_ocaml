{
 "cells": [
  {
   "cell_type": "markdown",
   "id": "f19d788c-dea2-4d43-8e06-f246dad2269f",
   "metadata": {},
   "source": [
    "# Covariance and contravariance\n",
    "- covariant: if `Parent ≤ Child` then `I<Parent> ≤ I<Child>`\n",
    "- contravariant: if `Parent ≤ Child` then `I<Child> ≤ I<Parent>`\n",
    "- bivariant: if `Parent ≤ Child` then `I<Parent> ≡ I<Child>` (case like `type 'a t = int`)\n",
    "- variant: if covariant, contravariant or bivariant\n",
    "- invariant or nonvariant: not variant "
   ]
  },
  {
   "cell_type": "markdown",
   "id": "8a072ac1-c5bb-452c-a850-143efe2b4c60",
   "metadata": {},
   "source": [
    "##### 🟢 &nbsp; &nbsp; Covariant: if `Parent ≤ Child` then `I<Parent> ≤ I<Child>` "
   ]
  },
  {
   "cell_type": "code",
   "execution_count": 20,
   "id": "44ab2f70-2512-4799-a244-a7df5a6d6ebe",
   "metadata": {},
   "outputs": [
    {
     "data": {
      "text/plain": [
       "type animal = < age : float; color : string >\n"
      ]
     },
     "execution_count": 20,
     "metadata": {},
     "output_type": "execute_result"
    },
    {
     "data": {
      "text/plain": [
       "val dog : age:'a -> color:'b -> < age : 'a; bark : string; color : 'b > =\n",
       "  <fun>\n"
      ]
     },
     "execution_count": 20,
     "metadata": {},
     "output_type": "execute_result"
    },
    {
     "data": {
      "text/plain": [
       "val cat : < age : float; color : string; meow : string > = <obj>\n"
      ]
     },
     "execution_count": 20,
     "metadata": {},
     "output_type": "execute_result"
    },
    {
     "data": {
      "text/plain": [
       "val dogs : animal list = [<obj>; <obj>]\n"
      ]
     },
     "execution_count": 20,
     "metadata": {},
     "output_type": "execute_result"
    },
    {
     "data": {
      "text/plain": [
       "val show : animal list -> string = <fun>\n"
      ]
     },
     "execution_count": 20,
     "metadata": {},
     "output_type": "execute_result"
    },
    {
     "data": {
      "text/plain": [
       "- : string = \" <age=1.1, color=gray>  <age=2.1, color=dark> \"\n"
      ]
     },
     "execution_count": 20,
     "metadata": {},
     "output_type": "execute_result"
    },
    {
     "data": {
      "text/plain": [
       "type on_off = [ `Off | `On ]\n"
      ]
     },
     "execution_count": 20,
     "metadata": {},
     "output_type": "execute_result"
    },
    {
     "data": {
      "text/plain": [
       "val on : on_off = `On\n"
      ]
     },
     "execution_count": 20,
     "metadata": {},
     "output_type": "execute_result"
    },
    {
     "data": {
      "text/plain": [
       "val off : on_off = `Off\n"
      ]
     },
     "execution_count": 20,
     "metadata": {},
     "output_type": "execute_result"
    },
    {
     "data": {
      "text/plain": [
       "type tri = [ `Number of float | `Off | `On ]\n"
      ]
     },
     "execution_count": 20,
     "metadata": {},
     "output_type": "execute_result"
    },
    {
     "data": {
      "text/plain": [
       "val tri_list : tri list = [`On; `Off; `Number 0.1]\n"
      ]
     },
     "execution_count": 20,
     "metadata": {},
     "output_type": "execute_result"
    }
   ],
   "source": [
    "type animal = <age : float; color: string> ;;\n",
    "let dog ~age ~color  = object \n",
    "    method age = age\n",
    "    method color = color\n",
    "    method bark = \"wof wof\"\n",
    "end ;;\n",
    "\n",
    "(* list is covariant *)\n",
    "let dogs : animal list = [ (dog ~age:1.1 ~color:\"gray\" :> animal); (dog ~age:2.1 ~color:\"dark\" :> animal) ] ;;\n",
    "\n",
    "let show (animals : animal list) = \n",
    "    animals |> List.fold_left (fun acc x -> acc ^ Printf.sprintf \" <age=%F, color=%s> \" x#age x#color) \"\";;\n",
    "    \n",
    "show dogs ;;\n",
    "\n",
    "type on_off = [ `On | `Off ] ;;\n",
    "let on : on_off = `On ;;\n",
    "let off : on_off = `Off ;;\n",
    "type tri = [ on_off | `Number of float ] ;;\n",
    "let tri_list : tri list = [ (on :> tri); (off :> tri); `Number 0.1 ] ;;"
   ]
  },
  {
   "cell_type": "markdown",
   "id": "c4e19dc6-0530-4464-b68b-0efc3afab444",
   "metadata": {},
   "source": [
    "The following code throws error cause Array in OCaml is, like in Kotlin, invariant unlike C# or Java."
   ]
  },
  {
   "cell_type": "code",
   "execution_count": 16,
   "id": "736538c5-b5ce-41c9-9dda-111307adea4c",
   "metadata": {},
   "outputs": [
    {
     "data": {
      "text/plain": [
       "type animal = < age : float; color : string >\n"
      ]
     },
     "execution_count": 16,
     "metadata": {},
     "output_type": "execute_result"
    },
    {
     "data": {
      "text/plain": [
       "val dog : age:'a -> color:'b -> < age : 'a; bark : string; color : 'b > =\n",
       "  <fun>\n"
      ]
     },
     "execution_count": 16,
     "metadata": {},
     "output_type": "execute_result"
    },
    {
     "data": {
      "text/plain": [
       "val cat : < age : float; color : string; meow : string > = <obj>\n"
      ]
     },
     "execution_count": 16,
     "metadata": {},
     "output_type": "execute_result"
    },
    {
     "ename": "error",
     "evalue": "compile_error",
     "output_type": "error",
     "traceback": [
      "File \"[16]\", line 13, characters 26-108:\n13 | let dogs : animal array = [ (dog ~age:1.1 ~color:\"gray\" :> animal); (dog ~age:2.1 ~color:\"dark\" :> animal) ] ;;\n                               ^^^^^^^^^^^^^^^^^^^^^^^^^^^^^^^^^^^^^^^^^^^^^^^^^^^^^^^^^^^^^^^^^^^^^^^^^^^^^^^^^^\nError: This expression has type 'a list\n       but an expression was expected of type animal array\n"
     ]
    }
   ],
   "source": [
    "type animal = <age : float; color: string> ;;\n",
    "let dog ~age ~color  = object \n",
    "    method age = age\n",
    "    method color = color\n",
    "    method bark = \"wof wof\"\n",
    "end ;;\n",
    "\n",
    "let dogs : animal array = [ (dog ~age:1.1 ~color:\"gray\" :> animal); (dog ~age:2.1 ~color:\"dark\" :> animal) ] ;;"
   ]
  },
  {
   "cell_type": "markdown",
   "id": "a83f5fdd-6136-40a9-8c64-cc4c8830485e",
   "metadata": {},
   "source": [
    "<br/>"
   ]
  },
  {
   "cell_type": "markdown",
   "id": "081f0a4f-b167-41bf-aa66-34892f51be2e",
   "metadata": {},
   "source": [
    "##### 🟢 &nbsp; &nbsp; Contravariant: if `Parent ≤ Child` then `I<Child> ≤ I<Parent>`"
   ]
  },
  {
   "cell_type": "code",
   "execution_count": 40,
   "id": "154c5c9d-4aaf-4d98-bc9a-e1b008f2bec3",
   "metadata": {},
   "outputs": [
    {
     "data": {
      "text/plain": [
       "type animal = < age : float; color : string >\n"
      ]
     },
     "execution_count": 40,
     "metadata": {},
     "output_type": "execute_result"
    },
    {
     "data": {
      "text/plain": [
       "type dog = < age : float; bark : string; color : string >\n"
      ]
     },
     "execution_count": 40,
     "metadata": {},
     "output_type": "execute_result"
    },
    {
     "data": {
      "text/plain": [
       "type cat = < age : float; color : string; meow : string >\n"
      ]
     },
     "execution_count": 40,
     "metadata": {},
     "output_type": "execute_result"
    },
    {
     "data": {
      "text/plain": [
       "val create_dog : age:float -> color:string -> dog = <fun>\n"
      ]
     },
     "execution_count": 40,
     "metadata": {},
     "output_type": "execute_result"
    },
    {
     "data": {
      "text/plain": [
       "val create_cat : age:float -> color:string -> cat = <fun>\n"
      ]
     },
     "execution_count": 40,
     "metadata": {},
     "output_type": "execute_result"
    },
    {
     "data": {
      "text/plain": [
       "type animal_to_string = animal -> string\n"
      ]
     },
     "execution_count": 40,
     "metadata": {},
     "output_type": "execute_result"
    },
    {
     "data": {
      "text/plain": [
       "val show : animal_to_string = <fun>\n"
      ]
     },
     "execution_count": 40,
     "metadata": {},
     "output_type": "execute_result"
    },
    {
     "data": {
      "text/plain": [
       "val bark : dog -> string = <fun>\n"
      ]
     },
     "execution_count": 40,
     "metadata": {},
     "output_type": "execute_result"
    },
    {
     "data": {
      "text/plain": [
       "val meow : cat -> string = <fun>\n"
      ]
     },
     "execution_count": 40,
     "metadata": {},
     "output_type": "execute_result"
    },
    {
     "data": {
      "text/plain": [
       "val foo1 : cat -> string = <fun>\n"
      ]
     },
     "execution_count": 40,
     "metadata": {},
     "output_type": "execute_result"
    },
    {
     "data": {
      "text/plain": [
       "val foo2 : dog -> string = <fun>\n"
      ]
     },
     "execution_count": 40,
     "metadata": {},
     "output_type": "execute_result"
    }
   ],
   "source": [
    "type animal = <age : float; color: string> ;;\n",
    "type dog = <age: float; color: string; bark : string> ;;\n",
    "type cat = <age: float; color: string; meow : string> ;;\n",
    "let create_dog ~age ~color : dog = object \n",
    "    method age = age\n",
    "    method color = color\n",
    "    method bark = \"wof wof\"\n",
    "end ;;\n",
    "\n",
    "let create_cat ~age ~color : cat = object\n",
    "    method age = age\n",
    "    method color = color\n",
    "    method meow = \"meow meow\"\n",
    "end ;;\n",
    "\n",
    "let show : animal -> string = fun x -> Printf.sprintf \"<age=%F, color=%s>\" x#age x#color ;;\n",
    "let bark : dog -> string = fun x -> x#bark ;;\n",
    "let meow : cat -> string = fun x -> x#meow ;;\n",
    "\n",
    "(* animal -> string is a subtype of cat -> string or dog -> string *)\n",
    "let foo1 = (show :> cat -> string) ;;\n",
    "let foo2 = (show :> dog -> string) ;;"
   ]
  },
  {
   "cell_type": "markdown",
   "id": "ef080926-a493-4154-835b-6655e7ec5666",
   "metadata": {},
   "source": [
    "<br/>"
   ]
  },
  {
   "cell_type": "markdown",
   "id": "0f399579-63ad-40c4-aa6d-9bcce49bac24",
   "metadata": {},
   "source": [
    "##### 🟢 &nbsp; &nbsp; Variance annotations or constraints"
   ]
  },
  {
   "cell_type": "markdown",
   "id": "a55765b4-46e9-482c-972e-857e2cde36ff",
   "metadata": {},
   "source": [
    "https://stackoverflow.com/questions/70450821/ocaml-meaning-of-in-type-a-t\n",
    "\n",
    "```module type T = sig type 'a t end```\n",
    "\n",
    "Above abstract type constructor could be either one of the followings:\n",
    "- `type 'a t = a * a` (produce or contain `'a` - covariant)\n",
    "- `type 'a t = 'a -> unit` (consume `'a` - contravariant)\n",
    "- `type 'a t = int` (ignore its argument all together - bivariant)\n",
    "- `type 'a t = { get : unit -> 'a; store : 'a -> unit }` (contain a viewable and mutable reference to `'a` - both covariant and contravariant }\n",
    "\n",
    "OCaml ends up knowing nothing about `'a t`. By default OCaml will assume `'a t` is invariant. So under certain situations, Variance annotations (`+` or `-`) should be given to `'a t`. `+` for covariant and `-` for contravariant."
   ]
  },
  {
   "cell_type": "code",
   "execution_count": 58,
   "id": "34704ba3-d41b-42b9-be9e-f72d576e3727",
   "metadata": {},
   "outputs": [
    {
     "data": {
      "text/plain": [
       "type animal = < age : float; color : string >\n"
      ]
     },
     "execution_count": 58,
     "metadata": {},
     "output_type": "execute_result"
    },
    {
     "data": {
      "text/plain": [
       "type dog = < age : float; bark : string; color : string >\n"
      ]
     },
     "execution_count": 58,
     "metadata": {},
     "output_type": "execute_result"
    },
    {
     "data": {
      "text/plain": [
       "type cat = < age : float; color : string; meow : string >\n"
      ]
     },
     "execution_count": 58,
     "metadata": {},
     "output_type": "execute_result"
    },
    {
     "data": {
      "text/plain": [
       "val create_dog : age:float -> color:string -> dog = <fun>\n"
      ]
     },
     "execution_count": 58,
     "metadata": {},
     "output_type": "execute_result"
    },
    {
     "data": {
      "text/plain": [
       "val create_cat : age:float -> color:string -> cat = <fun>\n"
      ]
     },
     "execution_count": 58,
     "metadata": {},
     "output_type": "execute_result"
    },
    {
     "data": {
      "text/plain": [
       "module type ANIMAL_HOUSE =\n",
       "  sig\n",
       "    type (+'e, +'w, +'n, +'s) t\n",
       "    val east : 'e -> ('e, 'a, 'b, 'c) t\n",
       "    val west : 'w -> ('a, 'w, 'b, 'c) t\n",
       "    val north : 'n -> ('a, 'b, 'n, 'c) t\n",
       "    val south : 's -> ('a, 'b, 'c, 's) t\n",
       "  end\n"
      ]
     },
     "execution_count": 58,
     "metadata": {},
     "output_type": "execute_result"
    },
    {
     "data": {
      "text/plain": [
       "module AnimalHouse : ANIMAL_HOUSE\n"
      ]
     },
     "execution_count": 58,
     "metadata": {},
     "output_type": "execute_result"
    },
    {
     "data": {
      "text/plain": [
       "val east_cat_house : (cat, 'a, 'b, 'c) AnimalHouse.t = <abstr>\n"
      ]
     },
     "execution_count": 58,
     "metadata": {},
     "output_type": "execute_result"
    },
    {
     "data": {
      "text/plain": [
       "- : (animal, 'a, 'b, 'c) AnimalHouse.t = <abstr>\n"
      ]
     },
     "execution_count": 58,
     "metadata": {},
     "output_type": "execute_result"
    },
    {
     "data": {
      "text/plain": [
       "val west_dog_house : ('a, dog, 'b, 'c) AnimalHouse.t = <abstr>\n"
      ]
     },
     "execution_count": 58,
     "metadata": {},
     "output_type": "execute_result"
    },
    {
     "data": {
      "text/plain": [
       "- : (animal, dog, 'a, 'b) AnimalHouse.t = <abstr>\n"
      ]
     },
     "execution_count": 58,
     "metadata": {},
     "output_type": "execute_result"
    }
   ],
   "source": [
    "(* covariant annotation *)\n",
    "\n",
    "type animal = <age : float; color: string> ;;\n",
    "type dog = <age: float; color: string; bark : string> ;;\n",
    "type cat = <age: float; color: string; meow : string> ;;\n",
    "let create_dog ~age ~color : dog = object \n",
    "    method age = age\n",
    "    method color = color\n",
    "    method bark = \"wof wof\"\n",
    "end ;;\n",
    "\n",
    "let create_cat ~age ~color : cat = object\n",
    "    method age = age\n",
    "    method color = color\n",
    "    method meow = \"meow meow\"\n",
    "end ;;\n",
    "\n",
    "(* won't work without covariant notation + because without it, OCaml will assume the type is invariant *)\n",
    "module type ANIMAL_HOUSE = sig\n",
    "    type (+'e, +'w, +'n, +'s) t \n",
    "    val east : 'e -> ('e, _,  _, _) t\n",
    "    val west : 'w -> (_, 'w, _, _) t\n",
    "    val north : 'n -> (_, _, 'n, _) t\n",
    "    val south : 's -> (_, _, _, 's) t\n",
    "end\n",
    "\n",
    "module AnimalHouse :  ANIMAL_HOUSE = struct\n",
    "    type ('e, 'w, 'n, 's) t =\n",
    "        | East of 'e\n",
    "        | West of 'w\n",
    "        | North of 'n\n",
    "        | South of 's\n",
    "    let east a = East a\n",
    "    let west a = West a\n",
    "    let north a = North a\n",
    "    let south a = South a\n",
    "end ;;\n",
    "\n",
    "let east_cat_house = AnimalHouse.east (create_cat ~age:1.1 ~color:\"grey\") ;;\n",
    "(east_cat_house :> (animal, _, _, _) AnimalHouse.t);;\n",
    "\n",
    "let west_dog_house = AnimalHouse.west (create_dog ~age:1.1 ~color:\"grey\") ;;\n",
    "(west_dog_house :> (animal, _, _, _) AnimalHouse.t);;"
   ]
  },
  {
   "cell_type": "code",
   "execution_count": 189,
   "id": "56871935-79d3-45c0-abc6-ee5714f5c543",
   "metadata": {},
   "outputs": [
    {
     "data": {
      "text/plain": [
       "module type T = sig type (-'a, +'b) t end\n"
      ]
     },
     "execution_count": 189,
     "metadata": {},
     "output_type": "execute_result"
    },
    {
     "data": {
      "text/plain": [
       "module M : T\n"
      ]
     },
     "execution_count": 189,
     "metadata": {},
     "output_type": "execute_result"
    }
   ],
   "source": [
    "(* contravariant annotation *)\n",
    "\n",
    "module type T = sig\n",
    "    type (-'a, +'b) t \n",
    "end ;;\n",
    "\n",
    "module M : T = struct\n",
    "    type (-'a, +'b) t = 'a -> 'b\n",
    "end\n"
   ]
  }
 ],
 "metadata": {
  "kernelspec": {
   "display_name": "OCaml 4.12.0",
   "language": "OCaml",
   "name": "ocaml-jupyter"
  },
  "language_info": {
   "codemirror_mode": "text/x-ocaml",
   "file_extension": ".ml",
   "mimetype": "text/x-ocaml",
   "name": "OCaml",
   "nbconverter_exporter": null,
   "pygments_lexer": "OCaml",
   "version": "4.12.0"
  },
  "widgets": {
   "application/vnd.jupyter.widget-state+json": {
    "state": {},
    "version_major": 2,
    "version_minor": 0
   }
  }
 },
 "nbformat": 4,
 "nbformat_minor": 5
}
