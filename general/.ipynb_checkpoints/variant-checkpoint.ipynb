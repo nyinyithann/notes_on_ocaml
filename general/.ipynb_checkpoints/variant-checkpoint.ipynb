{
 "cells": [
  {
   "cell_type": "markdown",
   "id": "b83ee8f8-d63f-4245-9ae4-db200833cd73",
   "metadata": {},
   "source": [
    "# Variants"
   ]
  },
  {
   "cell_type": "code",
   "execution_count": 9,
   "id": "877b577e-8117-4a10-be9b-94699eeba91c",
   "metadata": {},
   "outputs": [
    {
     "data": {
      "text/plain": [
       "type fruits = Banana | Apple | Avocado\n"
      ]
     },
     "execution_count": 9,
     "metadata": {},
     "output_type": "execute_result"
    },
    {
     "data": {
      "text/plain": [
       "val eat : fruits -> string = <fun>\n"
      ]
     },
     "execution_count": 9,
     "metadata": {},
     "output_type": "execute_result"
    },
    {
     "data": {
      "text/plain": [
       "- : string = \"yeah!\"\n"
      ]
     },
     "execution_count": 9,
     "metadata": {},
     "output_type": "execute_result"
    }
   ],
   "source": [
    "type fruits = Banana | Apple | Avocado ;;\n",
    "let eat f = match f with Avocado -> \"yeah!\" | _ -> \"nah!\" ;; \n",
    "eat Avocado ;;"
   ]
  },
  {
   "cell_type": "markdown",
   "id": "83c11744-8d2e-4db0-be38-6146484f5219",
   "metadata": {},
   "source": [
    "Variants with multiple arguments look an awful lot like tuples. But they are not. In `Pair (10, \"hello\")` below, `(10, \"hello\")` is not a 2-tuple.<br/>\n",
    "The differences between a multi-argument variant and a variant containing a tuple are mostly about performance. A multi-argument variant is a single allocated block in memory, while a variant containing a tuple requires an extra heap-allocated block for the tuple."
   ]
  },
  {
   "cell_type": "code",
   "execution_count": 10,
   "id": "a8141b52-7e50-4990-b023-bce270465cfd",
   "metadata": {},
   "outputs": [
    {
     "data": {
      "text/plain": [
       "type data = Int of int | String of string | Pair of int * string\n"
      ]
     },
     "execution_count": 10,
     "metadata": {},
     "output_type": "execute_result"
    },
    {
     "data": {
      "text/plain": [
       "val show : data -> string = <fun>\n"
      ]
     },
     "execution_count": 10,
     "metadata": {},
     "output_type": "execute_result"
    },
    {
     "data": {
      "text/plain": [
       "- : string = \"Int 10\"\n"
      ]
     },
     "execution_count": 10,
     "metadata": {},
     "output_type": "execute_result"
    },
    {
     "data": {
      "text/plain": [
       "- : string = \"String hello\"\n"
      ]
     },
     "execution_count": 10,
     "metadata": {},
     "output_type": "execute_result"
    },
    {
     "data": {
      "text/plain": [
       "- : string = \"Int 10, String hello\"\n"
      ]
     },
     "execution_count": 10,
     "metadata": {},
     "output_type": "execute_result"
    }
   ],
   "source": [
    "type data = \n",
    "    | Int of int\n",
    "    | String of string\n",
    "    | Pair of int * string ;;\n",
    "open Printf ;;\n",
    "let show = function \n",
    "            | Int x -> sprintf \"Int %d\" x \n",
    "            | String x -> sprintf \"String %s\" x\n",
    "            | Pair (x, s) -> sprintf \"Int %d, String %s\" x s ;;\n",
    "show (Int 10) ;;\n",
    "show (String \"hello\") ;;\n",
    "show (Pair(10, \"hello\")) ;;"
   ]
  },
  {
   "cell_type": "markdown",
   "id": "394123b7-4ff4-4aa3-bf41-bd537dd89703",
   "metadata": {},
   "source": [
    "The subtle difference between variant multiple arguments and tuple is the later can be grabbed as a whole."
   ]
  },
  {
   "cell_type": "code",
   "execution_count": 23,
   "id": "d822d4cc-3f5a-4841-a9ee-57549323c7f4",
   "metadata": {},
   "outputs": [
    {
     "data": {
      "text/plain": [
       "type point_m = Point of float * float\n"
      ]
     },
     "execution_count": 23,
     "metadata": {},
     "output_type": "execute_result"
    },
    {
     "data": {
      "text/plain": [
       "val pm : point_m = Point (1.1, 2.2)\n"
      ]
     },
     "execution_count": 23,
     "metadata": {},
     "output_type": "execute_result"
    },
    {
     "data": {
      "text/plain": [
       "val x : float = 1.1\n",
       "val y : float = 2.2\n"
      ]
     },
     "execution_count": 23,
     "metadata": {},
     "output_type": "execute_result"
    },
    {
     "data": {
      "text/plain": [
       "type point_t = TupledPoint of (float * float)\n"
      ]
     },
     "execution_count": 23,
     "metadata": {},
     "output_type": "execute_result"
    },
    {
     "data": {
      "text/plain": [
       "val pt : point_t = TupledPoint (4.4, 5.5)\n"
      ]
     },
     "execution_count": 23,
     "metadata": {},
     "output_type": "execute_result"
    },
    {
     "data": {
      "text/plain": [
       "val x : float * float = (4.4, 5.5)\n"
      ]
     },
     "execution_count": 23,
     "metadata": {},
     "output_type": "execute_result"
    },
    {
     "data": {
      "text/plain": [
       "- : float * float = (4.4, 5.5)\n"
      ]
     },
     "execution_count": 23,
     "metadata": {},
     "output_type": "execute_result"
    },
    {
     "data": {
      "text/plain": [
       "val x : float = 4.4\n",
       "val y : float = 5.5\n"
      ]
     },
     "execution_count": 23,
     "metadata": {},
     "output_type": "execute_result"
    }
   ],
   "source": [
    "type point_m = Point of float * float ;;\n",
    "let pm = Point (1.1, 2.2) ;;\n",
    "\n",
    "(* this won't work *)\n",
    "(* let (Point x) = pm ;;  *)\n",
    "\n",
    "let (Point (x,y)) = pm ;;\n",
    "\n",
    "type point_t = TupledPoint of (float * float) ;;\n",
    "let pt = TupledPoint (4.4, 5.5) ;;\n",
    "\n",
    "let (TupledPoint x) = pt ;;\n",
    "x ;;\n",
    "let (TupledPoint (x,y)) = pt ;;"
   ]
  },
  {
   "cell_type": "markdown",
   "id": "44b882f5-7e5a-4642-a3b1-9fa08433e225",
   "metadata": {},
   "source": [
    "Variants with inline records are both more concise and more efficient than having variants containing references to free-standing record types, because they don’t require a separate allocated object for the contents of the variant.\n",
    "<br/>\n",
    "The main downside is the obvious one, which is that an inline record can’t be treated as its own free-standing object.\n",
    "<br/>\n",
    "https://dev.realworldocaml.org/variants.html#variants-tuples-and-parens"
   ]
  },
  {
   "cell_type": "code",
   "execution_count": 33,
   "id": "5b9695b5-7707-4b25-baa3-73a0c57e9d71",
   "metadata": {},
   "outputs": [
    {
     "data": {
      "text/plain": [
       "type circle = { radius : float; centerX : float; centerY : float; }\n"
      ]
     },
     "execution_count": 33,
     "metadata": {},
     "output_type": "execute_result"
    },
    {
     "data": {
      "text/plain": [
       "type shape =\n",
       "    Square of float\n",
       "  | Rectangle of { width : float; height : float; }\n",
       "  | Circle of circle\n"
      ]
     },
     "execution_count": 33,
     "metadata": {},
     "output_type": "execute_result"
    },
    {
     "data": {
      "text/plain": [
       "val check_shape : shape -> string = <fun>\n"
      ]
     },
     "execution_count": 33,
     "metadata": {},
     "output_type": "execute_result"
    },
    {
     "data": {
      "text/plain": [
       "- : string = \"Rect with width: 100., height: 200.\"\n"
      ]
     },
     "execution_count": 33,
     "metadata": {},
     "output_type": "execute_result"
    },
    {
     "data": {
      "text/plain": [
       "- : string = \"Circle at 10.,10. with radius 10.\"\n"
      ]
     },
     "execution_count": 33,
     "metadata": {},
     "output_type": "execute_result"
    },
    {
     "ename": "error",
     "evalue": "compile_error",
     "output_type": "error",
     "traceback": [
      "File \"[33]\", line 21, characters 21-22:\n21 |     | Rectangle r -> r \n                          ^\nError: This form is not allowed as the type of the inlined record could escape.\n"
     ]
    }
   ],
   "source": [
    "type circle = { radius : float; centerX : float; centerY : float } ;;\n",
    "\n",
    "type shape = \n",
    "    | Square of float\n",
    "    | Rectangle of { width : float; height : float }\n",
    "    | Circle of circle\n",
    "\n",
    "let check_shape s =\n",
    "    match s with\n",
    "    | Square x -> Printf.sprintf \"Square of %F\" x\n",
    "    | Rectangle r -> Printf.sprintf \"Rect with width: %F, height: %F\" r.width r.height\n",
    "    | Circle c -> Printf.sprintf \"Circle at %F,%F with radius %F\" c.centerX c.centerY c.radius ;;\n",
    "\n",
    "check_shape (Rectangle {width = 100.; height = 200.}) ;;\n",
    "check_shape (Circle {radius = 10.; centerX = 10.; centerY=10.}) ;;\n",
    "\n",
    "(* but this won't work *)\n",
    "let get_shape s = \n",
    "    match s with\n",
    "    | Circle c -> c  (* this works cause circle is a free-standing record type  *)\n",
    "    | Rectangle r -> r (*  this won't work cause r is inline record *)\n",
    "    | Square x -> x ;;"
   ]
  },
  {
   "cell_type": "markdown",
   "id": "6024b13e-1614-4b3f-936b-9549d43282b1",
   "metadata": {},
   "source": [
    "##### 🟢 &nbsp; &nbsp; Variants and Recursive Data Structures"
   ]
  },
  {
   "cell_type": "code",
   "execution_count": 34,
   "id": "54d93abc-d9c5-46df-ab7e-21fb017e0b79",
   "metadata": {},
   "outputs": [
    {
     "data": {
      "text/plain": [
       "type 'a expr =\n",
       "    Base of 'a\n",
       "  | Const of bool\n",
       "  | And of 'a expr list\n",
       "  | Or of 'a expr list\n",
       "  | Not of 'a expr\n"
      ]
     },
     "execution_count": 34,
     "metadata": {},
     "output_type": "execute_result"
    }
   ],
   "source": [
    "type 'a expr =\n",
    " | Base of 'a\n",
    " | Const of bool\n",
    " | And of 'a expr list\n",
    " | Or of 'a expr list\n",
    " | Not of 'a expr ;;"
   ]
  },
  {
   "cell_type": "code",
   "execution_count": null,
   "id": "9fcc0a55-7d97-462d-8b1b-4acd0d904099",
   "metadata": {},
   "outputs": [],
   "source": []
  }
 ],
 "metadata": {
  "kernelspec": {
   "display_name": "OCaml 4.14.0",
   "language": "OCaml",
   "name": "ocaml-jupyter-4.14.0"
  },
  "language_info": {
   "codemirror_mode": "text/x-ocaml",
   "file_extension": ".ml",
   "mimetype": "text/x-ocaml",
   "name": "OCaml",
   "nbconverter_exporter": null,
   "pygments_lexer": "OCaml",
   "version": "4.14.0"
  },
  "widgets": {
   "application/vnd.jupyter.widget-state+json": {
    "state": {},
    "version_major": 2,
    "version_minor": 0
   }
  }
 },
 "nbformat": 4,
 "nbformat_minor": 5
}
