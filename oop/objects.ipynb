{
 "cells": [
  {
   "cell_type": "markdown",
   "id": "5753c0bc-eeca-496b-8b3b-c2d429b0e1d4",
   "metadata": {},
   "source": [
    "# Objects"
   ]
  },
  {
   "cell_type": "markdown",
   "id": "90e017a6-7ea2-4181-beed-00a1c39386ac",
   "metadata": {},
   "source": [
    "- Classes are used to construct objects and support inheritance\n",
    "- Classes are not types\n",
    "- Objects have _object types_ enclosed in angle brackets < ... >, containing just types of the methods. Fields are not part of the public interface of an object.\n",
    "- All the interactions with an object is through its methods\n",
    "- Unlike functions, methods can have zero paramaters and are invoked with the use of # character e.g. ```counter#incr```"
   ]
  },
  {
   "cell_type": "code",
   "execution_count": 11,
   "id": "c1897dcd-cf71-4200-a484-bfea19d70218",
   "metadata": {},
   "outputs": [
    {
     "data": {
      "text/plain": [
       "val counter : < count : int; decr : unit; incr : unit > = <obj>\n"
      ]
     },
     "execution_count": 11,
     "metadata": {},
     "output_type": "execute_result"
    },
    {
     "data": {
      "text/plain": [
       "- : int = 0\n"
      ]
     },
     "execution_count": 11,
     "metadata": {},
     "output_type": "execute_result"
    },
    {
     "data": {
      "text/plain": [
       "- : unit = ()\n"
      ]
     },
     "execution_count": 11,
     "metadata": {},
     "output_type": "execute_result"
    },
    {
     "data": {
      "text/plain": [
       "- : int = 1\n"
      ]
     },
     "execution_count": 11,
     "metadata": {},
     "output_type": "execute_result"
    },
    {
     "data": {
      "text/plain": [
       "- : unit = ()\n"
      ]
     },
     "execution_count": 11,
     "metadata": {},
     "output_type": "execute_result"
    },
    {
     "data": {
      "text/plain": [
       "- : int = 0\n"
      ]
     },
     "execution_count": 11,
     "metadata": {},
     "output_type": "execute_result"
    }
   ],
   "source": [
    "let counter = object\n",
    "    val mutable count = 0\n",
    "    method count = count \n",
    "    method incr = count <- count + 1\n",
    "    method decr = count <- count - 1\n",
    "end ;;\n",
    "\n",
    "counter#count ;;\n",
    "counter#incr ;;\n",
    "counter#count ;;\n",
    "counter#decr ;;\n",
    "counter#count ;;"
   ]
  },
  {
   "cell_type": "markdown",
   "id": "6c807fa4-1f71-4a61-a817-cb91e6018681",
   "metadata": {},
   "source": [
    "- Methods can be used without an explicit type declaration\n",
    "- Object types are inferred automatically\n",
    "- The .. in object types means the types are open. \n",
    "  ```< to_string : 'a; .. >``` specifies an object that must have at least ```to_string``` method, and possibly some others as well\n",
    "- The .. is a special kind of type variable called a row variable and typing scheme using row variables is called _row polymorphism_"
   ]
  },
  {
   "cell_type": "code",
   "execution_count": 19,
   "id": "88c0eb85-f5ad-4c1e-83dd-d58fc70d9d18",
   "metadata": {},
   "outputs": [
    {
     "data": {
      "text/plain": [
       "val show : < to_string : 'a; .. > -> 'a = <fun>\n"
      ]
     },
     "execution_count": 19,
     "metadata": {},
     "output_type": "execute_result"
    },
    {
     "data": {
      "text/plain": [
       "- : string = \"hello\"\n"
      ]
     },
     "execution_count": 19,
     "metadata": {},
     "output_type": "execute_result"
    },
    {
     "data": {
      "text/plain": [
       "val student : < age : int; name : string; to_string : string > = <obj>\n"
      ]
     },
     "execution_count": 19,
     "metadata": {},
     "output_type": "execute_result"
    },
    {
     "data": {
      "text/plain": [
       "- : string = \"I am foo.\"\n"
      ]
     },
     "execution_count": 19,
     "metadata": {},
     "output_type": "execute_result"
    }
   ],
   "source": [
    "let show e = e#to_string ;;\n",
    "show (object method to_string = \"hello\" end) ;;\n",
    "let student = object\n",
    "    method name = \"foo\"\n",
    "    method age = 12\n",
    "    method to_string = \"I am foo.\"\n",
    "end ;;\n",
    "show foo ;;"
   ]
  },
  {
   "cell_type": "markdown",
   "id": "28c9b40d-3645-4b8d-82ec-09fc041a6967",
   "metadata": {},
   "source": [
    "- Closing an object type"
   ]
  },
  {
   "cell_type": "code",
   "execution_count": 17,
   "id": "c9f14e71-5e0b-402f-99db-77198c6283a1",
   "metadata": {},
   "outputs": [
    {
     "data": {
      "text/plain": [
       "val bark : < bark : string > -> string = <fun>\n"
      ]
     },
     "execution_count": 17,
     "metadata": {},
     "output_type": "execute_result"
    },
    {
     "data": {
      "text/plain": [
       "- : string = \"wof wof\"\n"
      ]
     },
     "execution_count": 17,
     "metadata": {},
     "output_type": "execute_result"
    }
   ],
   "source": [
    "let bark (dog: <bark : string>) = dog#bark ;;\n",
    "bark (object method bark = \"wof wof\" end) ;;"
   ]
  },
  {
   "cell_type": "markdown",
   "id": "2897db66-df39-439a-8627-7e4be814df23",
   "metadata": {},
   "source": [
    "<br/>"
   ]
  },
  {
   "cell_type": "markdown",
   "id": "9d44eb5b-abb9-4d6d-9422-9f863ef51c60",
   "metadata": {},
   "source": [
    "##### 🟢 &nbsp; &nbsp; Immutable Objects\n",
    "The expression {< ... >} produces a copy of the current object, with the same type, and the specified fields updated."
   ]
  },
  {
   "cell_type": "code",
   "execution_count": 35,
   "id": "843b9b2c-851d-4b6c-a57b-12132244a895",
   "metadata": {},
   "outputs": [
    {
     "data": {
      "text/plain": [
       "val point2d :\n",
       "  < add : float -> float -> 'a; to_string : string; x : float; y : float >\n",
       "  as 'a = <obj>\n"
      ]
     },
     "execution_count": 35,
     "metadata": {},
     "output_type": "execute_result"
    },
    {
     "data": {
      "text/plain": [
       "val p :\n",
       "  < add : float -> float -> 'a; to_string : string; x : float; y : float >\n",
       "  as 'a = <obj>\n"
      ]
     },
     "execution_count": 35,
     "metadata": {},
     "output_type": "execute_result"
    },
    {
     "data": {
      "text/plain": [
       "- : float = 1.1\n"
      ]
     },
     "execution_count": 35,
     "metadata": {},
     "output_type": "execute_result"
    },
    {
     "data": {
      "text/plain": [
       "- : float = 2.2\n"
      ]
     },
     "execution_count": 35,
     "metadata": {},
     "output_type": "execute_result"
    },
    {
     "data": {
      "text/plain": [
       "- : string = \"x = 1.1, y = 2.2\"\n"
      ]
     },
     "execution_count": 35,
     "metadata": {},
     "output_type": "execute_result"
    },
    {
     "data": {
      "text/plain": [
       "- : float = 0.\n"
      ]
     },
     "execution_count": 35,
     "metadata": {},
     "output_type": "execute_result"
    },
    {
     "data": {
      "text/plain": [
       "- : float = 0.\n"
      ]
     },
     "execution_count": 35,
     "metadata": {},
     "output_type": "execute_result"
    }
   ],
   "source": [
    "let point2d = object\n",
    "    val _x = 0.0\n",
    "    val _y = 0.0\n",
    "    method x = _x\n",
    "    method y = _y\n",
    "    method add x y = {< _x = x; _y = y >}\n",
    "    method to_string = Printf.sprintf \"x = %F, y = %F\" _x _y\n",
    "end ;;\n",
    "\n",
    "let p = point2d#add 1.1 2.2 ;;\n",
    "p#x ;;\n",
    "p#y ;;\n",
    "p#to_string ;;\n",
    "point2d#x ;;\n",
    "point2d#y ;;"
   ]
  },
  {
   "cell_type": "markdown",
   "id": "c41c3dd7-2156-45b5-95f2-0aad1eb62cb9",
   "metadata": {},
   "source": [
    "<br/>"
   ]
  },
  {
   "cell_type": "markdown",
   "id": "95646fa5-d022-4be2-8e36-45d2a79c8e2c",
   "metadata": {},
   "source": [
    "##### 🟢 &nbsp; &nbsp; Width Subtyping\n",
    "An object type D is a subtype of P if D has all the methods of P. ```D :> P```"
   ]
  },
  {
   "cell_type": "code",
   "execution_count": 42,
   "id": "514d455b-80d6-4931-848b-adf2fc7cf54d",
   "metadata": {},
   "outputs": [
    {
     "data": {
      "text/plain": [
       "type control = < location : float * float; name : string >\n"
      ]
     },
     "execution_count": 42,
     "metadata": {},
     "output_type": "execute_result"
    },
    {
     "data": {
      "text/plain": [
       "val create_textbox :\n",
       "  name:string ->\n",
       "  location:float * float ->\n",
       "  < location : float * float; name : string;\n",
       "    set_location : float * float -> unit; set_name : string -> unit;\n",
       "    set_text : string -> unit; text : string > =\n",
       "  <fun>\n"
      ]
     },
     "execution_count": 42,
     "metadata": {},
     "output_type": "execute_result"
    },
    {
     "data": {
      "text/plain": [
       "val show : control -> string = <fun>\n"
      ]
     },
     "execution_count": 42,
     "metadata": {},
     "output_type": "execute_result"
    },
    {
     "data": {
      "text/plain": [
       "val txtbox :\n",
       "  < location : float * float; name : string;\n",
       "    set_location : float * float -> unit; set_name : string -> unit;\n",
       "    set_text : string -> unit; text : string > =\n",
       "  <obj>\n"
      ]
     },
     "execution_count": 42,
     "metadata": {},
     "output_type": "execute_result"
    },
    {
     "data": {
      "text/plain": [
       "- : unit = ()\n"
      ]
     },
     "execution_count": 42,
     "metadata": {},
     "output_type": "execute_result"
    },
    {
     "data": {
      "text/plain": [
       "- : unit = ()\n"
      ]
     },
     "execution_count": 42,
     "metadata": {},
     "output_type": "execute_result"
    },
    {
     "data": {
      "text/plain": [
       "- : string = \"name = MyTextBox, location = (11., 11.)\"\n"
      ]
     },
     "execution_count": 42,
     "metadata": {},
     "output_type": "execute_result"
    }
   ],
   "source": [
    "type control = < name : string; location : float * float > ;;\n",
    "let create_textbox ~(name: string) ~(location: float * float) = object\n",
    "    val mutable _name = name\n",
    "    val mutable _location = location\n",
    "    val mutable _text = name \n",
    "    method name = _name\n",
    "    method set_name name = _name <- name \n",
    "    method location = _location\n",
    "    method set_location p = _location <- p\n",
    "    method text = _text\n",
    "    method set_text text = _text <- text \n",
    "end ;;\n",
    "\n",
    "let show (c:control) = Printf.sprintf \"name = %s, location = (%F, %F)\" c#name (fst c#location) (snd c#location) ;;\n",
    "let txtbox = create_textbox ~name:\"MyTextBox\" ~location:(0., 0.) ;;\n",
    "txtbox#set_location (11., 11.) ;;\n",
    "txtbox#set_text \"Text Box\" ;;\n",
    "show (txtbox :> control) ;;"
   ]
  },
  {
   "cell_type": "markdown",
   "id": "91dbb0e8-64f8-40f8-a60f-7bde81aab133",
   "metadata": {},
   "source": [
    "<br/>"
   ]
  },
  {
   "cell_type": "markdown",
   "id": "d6567d51-4518-4a4f-baeb-f475da3cc4e1",
   "metadata": {},
   "source": [
    "##### 🟢 &nbsp; &nbsp; Depth Subtyping\n",
    "An object type ```< m : d >``` is a subtype of ```< m : p >``` if `d` is a subtype of `p`."
   ]
  },
  {
   "cell_type": "code",
   "execution_count": 61,
   "id": "a5f04f4d-6f48-4923-bb6d-9b25cf44f5d4",
   "metadata": {},
   "outputs": [
    {
     "data": {
      "text/plain": [
       "type control = < location : float * float; name : string >\n"
      ]
     },
     "execution_count": 61,
     "metadata": {},
     "output_type": "execute_result"
    },
    {
     "data": {
      "text/plain": [
       "val create_textbox :\n",
       "  name:string ->\n",
       "  location:float * float ->\n",
       "  < location : float * float; name : string;\n",
       "    set_location : float * float -> unit; set_name : string -> unit;\n",
       "    set_text : string -> unit; text : string > =\n",
       "  <fun>\n"
      ]
     },
     "execution_count": 61,
     "metadata": {},
     "output_type": "execute_result"
    },
    {
     "data": {
      "text/plain": [
       "val create_button :\n",
       "  name:string ->\n",
       "  location:float * float ->\n",
       "  < content : control option; location : float * float; name : string;\n",
       "    set_content : control -> unit; set_location : float * float -> unit;\n",
       "    set_name : string -> unit > =\n",
       "  <fun>\n"
      ]
     },
     "execution_count": 61,
     "metadata": {},
     "output_type": "execute_result"
    },
    {
     "data": {
      "text/plain": [
       "val text_component :\n",
       "  < render : < location : float * float; name : string;\n",
       "               set_location : float * float -> unit;\n",
       "               set_name : string -> unit; set_text : string -> unit;\n",
       "               text : string > > =\n",
       "  <obj>\n"
      ]
     },
     "execution_count": 61,
     "metadata": {},
     "output_type": "execute_result"
    },
    {
     "data": {
      "text/plain": [
       "val submit_component :\n",
       "  < render : < content : control option; location : float * float;\n",
       "               name : string; set_content : control -> unit;\n",
       "               set_location : float * float -> unit;\n",
       "               set_name : string -> unit > > =\n",
       "  <obj>\n"
      ]
     },
     "execution_count": 61,
     "metadata": {},
     "output_type": "execute_result"
    },
    {
     "data": {
      "text/plain": [
       "type component = < render : control >\n"
      ]
     },
     "execution_count": 61,
     "metadata": {},
     "output_type": "execute_result"
    },
    {
     "data": {
      "text/plain": [
       "val components : component array = [|<obj>; <obj>|]\n"
      ]
     },
     "execution_count": 61,
     "metadata": {},
     "output_type": "execute_result"
    },
    {
     "data": {
      "text/plain": [
       "- : string = \"user name\"\n"
      ]
     },
     "execution_count": 61,
     "metadata": {},
     "output_type": "execute_result"
    },
    {
     "data": {
      "text/plain": [
       "- : string = \"submit\"\n"
      ]
     },
     "execution_count": 61,
     "metadata": {},
     "output_type": "execute_result"
    }
   ],
   "source": [
    "type control = < name : string; location : float * float > ;;\n",
    "let create_textbox ~(name: string) ~(location: float * float) = object\n",
    "    val mutable _name = name\n",
    "    val mutable _location = location\n",
    "    val mutable _text = name \n",
    "    method name = _name\n",
    "    method set_name name = _name <- name \n",
    "    method location = _location\n",
    "    method set_location p = _location <- p\n",
    "    method text = _text\n",
    "    method set_text text = _text <- text \n",
    "end ;;\n",
    "\n",
    "let create_button ~(name: string) ~(location: float * float) = object\n",
    "    val mutable _name = name\n",
    "    val mutable _location = location\n",
    "    val mutable _content = None \n",
    "    method name = _name\n",
    "    method set_name name = _name <- name \n",
    "    method location = _location\n",
    "    method set_location p = _location <- p\n",
    "    method content = _content\n",
    "    method set_content (c:control) = _content <- Some c  \n",
    "end ;;\n",
    "\n",
    "let text_component = object\n",
    "    method render = create_textbox ~name:\"user name\" ~location:(1., 1.)     \n",
    "end ;;\n",
    "\n",
    "let submit_component = object\n",
    "    method render = create_button ~name:\"submit\" ~location:(10., 10.)   \n",
    "end ;;\n",
    "\n",
    "type component = < render : control > ;;\n",
    "let components = [| (text_component :> component); (submit_component :> component) |] ;;\n",
    "\n",
    "(Array.get components 0)#render#name ;;\n",
    "(Array.get components 1)#render#name ;;"
   ]
  },
  {
   "cell_type": "markdown",
   "id": "5019b5cd-24e7-4e54-8ea2-64dc9ae0f0cf",
   "metadata": {},
   "source": [
    "<br/>"
   ]
  },
  {
   "cell_type": "markdown",
   "id": "b7005666-29dc-4321-9436-a02bf09358b8",
   "metadata": {},
   "source": [
    "##### 🟢 &nbsp; &nbsp; Row Polymorphism vs Subtyping"
   ]
  },
  {
   "cell_type": "markdown",
   "id": "ef711669-4aea-4615-abe3-b643eadb6f2b",
   "metadata": {},
   "source": [
    "##### _Row Polymorphism_\n",
    "- Row polymorphism is preferred with functions that can be applied to objects of different types. The return type of such functions can be built from the open object type of its argument, preserving additional methods that it may have."
   ]
  },
  {
   "cell_type": "code",
   "execution_count": 74,
   "id": "35da7c51-83fe-4e3b-955f-ab5def1a29df",
   "metadata": {},
   "outputs": [
    {
     "data": {
      "text/plain": [
       "val motorbike :\n",
       "  model:'a ->\n",
       "  color:'b ->\n",
       "  weight:'c -> < color : 'b; drive : string; model : 'a; weight : 'c > =\n",
       "  <fun>\n"
      ]
     },
     "execution_count": 74,
     "metadata": {},
     "output_type": "execute_result"
    },
    {
     "data": {
      "text/plain": [
       "val aeroplane :\n",
       "  model:'a ->\n",
       "  color:'b ->\n",
       "  weight:'c ->\n",
       "  engines:float ->\n",
       "  < color : 'b; drive : string; engines : float; model : 'a; weight : 'c > =\n",
       "  <fun>\n"
      ]
     },
     "execution_count": 74,
     "metadata": {},
     "output_type": "execute_result"
    },
    {
     "data": {
      "text/plain": [
       "val drive : < drive : 'a; .. > -> 'a = <fun>\n"
      ]
     },
     "execution_count": 74,
     "metadata": {},
     "output_type": "execute_result"
    },
    {
     "data": {
      "text/plain": [
       "- : string = \"Driving a  Motorbike\"\n"
      ]
     },
     "execution_count": 74,
     "metadata": {},
     "output_type": "execute_result"
    },
    {
     "data": {
      "text/plain": [
       "- : string = \"Driving an Aeroplane\"\n"
      ]
     },
     "execution_count": 74,
     "metadata": {},
     "output_type": "execute_result"
    },
    {
     "data": {
      "text/plain": [
       "val filter : (< color : string; .. > as 'a) list -> 'a list = <fun>\n"
      ]
     },
     "execution_count": 74,
     "metadata": {},
     "output_type": "execute_result"
    },
    {
     "data": {
      "text/plain": [
       "- : < color : string; drive : string; model : string; weight : float > list =\n",
       "[<obj>]\n"
      ]
     },
     "execution_count": 74,
     "metadata": {},
     "output_type": "execute_result"
    },
    {
     "data": {
      "text/plain": [
       "val filter_sub : < color : string > list -> < color : string > list = <fun>\n"
      ]
     },
     "execution_count": 74,
     "metadata": {},
     "output_type": "execute_result"
    },
    {
     "ename": "error",
     "evalue": "compile_error",
     "output_type": "error",
     "traceback": [
      "File \"[74]\", line 40, characters 4-52:\n40 |     motorbike ~model:\"123\" ~color:\"blue\" ~weight:20. ;\n         ^^^^^^^^^^^^^^^^^^^^^^^^^^^^^^^^^^^^^^^^^^^^^^^^\nError: This expression has type\n         < color : string; drive : string; model : string; weight : float >\n       but an expression was expected of type < color : string >\n       The second object type has no method drive\n"
     ]
    }
   ],
   "source": [
    "let motorbike ~model ~color ~weight = object \n",
    "    val _model = model\n",
    "    val _color = color\n",
    "    val _weight = weight\n",
    "    method model = _model\n",
    "    method color = _color\n",
    "    method weight = _weight\n",
    "    method drive = Printf.sprintf \"Driving a  Motorbike\"\n",
    "end ;;\n",
    "\n",
    "let aeroplane ~model ~color ~weight ~engines = object\n",
    "    val _model = model\n",
    "    val _color = color\n",
    "    val _weight = weight\n",
    "    val _engines : float = engines\n",
    "    method model = _model\n",
    "    method color = _color\n",
    "    method weight = _weight\n",
    "    method engines = _engines\n",
    "    method drive = Printf.sprintf \"Driving an Aeroplane\"\n",
    "end ;;\n",
    "\n",
    "let drive v = v#drive ;;\n",
    "drive (motorbike ~model:\"123\" ~color:\"blue\" ~weight:20.) ;;\n",
    "drive (aeroplane ~model:\"ABC1\" ~color:\"silver\" ~weight:2000. ~engines:4.) ;;\n",
    "\n",
    "(* preserves more type information *)\n",
    "let filter l =\n",
    "    l |> List.filter (fun x -> x#color = \"blue\") ;;\n",
    "\n",
    "filter [\n",
    "    motorbike ~model:\"123\" ~color:\"blue\" ~weight:20. ;\n",
    "    motorbike ~model:\"221\" ~color:\"silver\" ~weight:50. ;   \n",
    "] ;;"
   ]
  },
  {
   "cell_type": "markdown",
   "id": "88b53318-d9ed-401a-9285-d5ebd7bc33dd",
   "metadata": {},
   "source": [
    "<br/>"
   ]
  },
  {
   "cell_type": "markdown",
   "id": "d8f92c6a-9480-4a56-8364-5a047ae71ff6",
   "metadata": {},
   "source": [
    "##### _Subtyping_\n",
    "- To place different types of objects in the same container - heterogenous container\n",
    "- To store different types of object in the same ref cell."
   ]
  },
  {
   "cell_type": "code",
   "execution_count": 83,
   "id": "c6f5902b-7e1f-4367-b1c1-7386ac37ee11",
   "metadata": {},
   "outputs": [
    {
     "data": {
      "text/plain": [
       "type vehicle =\n",
       "    < color : string; drive : string; model : string; weight : float >\n"
      ]
     },
     "execution_count": 83,
     "metadata": {},
     "output_type": "execute_result"
    },
    {
     "data": {
      "text/plain": [
       "val motorbike :\n",
       "  model:'a ->\n",
       "  color:'b ->\n",
       "  weight:'c -> < color : 'b; drive : string; model : 'a; weight : 'c > =\n",
       "  <fun>\n"
      ]
     },
     "execution_count": 83,
     "metadata": {},
     "output_type": "execute_result"
    },
    {
     "data": {
      "text/plain": [
       "val aeroplane :\n",
       "  model:'a ->\n",
       "  color:'b ->\n",
       "  weight:'c ->\n",
       "  engines:float ->\n",
       "  < color : 'b; drive : string; engines : float; model : 'a; weight : 'c > =\n",
       "  <fun>\n"
      ]
     },
     "execution_count": 83,
     "metadata": {},
     "output_type": "execute_result"
    },
    {
     "data": {
      "text/plain": [
       "val filter : < color : string > list -> < color : string > list = <fun>\n"
      ]
     },
     "execution_count": 83,
     "metadata": {},
     "output_type": "execute_result"
    },
    {
     "data": {
      "text/plain": [
       "- : < color : string > list = [<obj>; <obj>]\n"
      ]
     },
     "execution_count": 83,
     "metadata": {},
     "output_type": "execute_result"
    },
    {
     "data": {
      "text/plain": [
       "val r : vehicle ref = {contents = <obj>}\n"
      ]
     },
     "execution_count": 83,
     "metadata": {},
     "output_type": "execute_result"
    },
    {
     "data": {
      "text/plain": [
       "- : string = \"Driving a  Motorbike\"\n"
      ]
     },
     "execution_count": 83,
     "metadata": {},
     "output_type": "execute_result"
    },
    {
     "data": {
      "text/plain": [
       "- : unit = ()\n"
      ]
     },
     "execution_count": 83,
     "metadata": {},
     "output_type": "execute_result"
    },
    {
     "data": {
      "text/plain": [
       "- : string = \"Driving an Aeroplane\"\n"
      ]
     },
     "execution_count": 83,
     "metadata": {},
     "output_type": "execute_result"
    }
   ],
   "source": [
    "type vehicle = < model : string; color : string; weight : float; drive : string > ;;\n",
    "let motorbike ~model ~color ~weight = object \n",
    "    val _model = model\n",
    "    val _color = color\n",
    "    val _weight = weight\n",
    "    method model = _model\n",
    "    method color = _color\n",
    "    method weight = _weight\n",
    "    method drive = Printf.sprintf \"Driving a  Motorbike\"\n",
    "end ;;\n",
    "\n",
    "let aeroplane ~model ~color ~weight ~engines = object\n",
    "    val _model = model\n",
    "    val _color = color\n",
    "    val _weight = weight\n",
    "    val _engines : float = engines\n",
    "    method model = _model\n",
    "    method color = _color\n",
    "    method weight = _weight\n",
    "    method engines = _engines\n",
    "    method drive = Printf.sprintf \"Driving an Aeroplane\"\n",
    "end ;;\n",
    "\n",
    "(* don't preserve type information *)\n",
    "let filter (l: <color : string> list) =\n",
    "    l |> List.filter (fun x -> x#color = \"blue\") ;;\n",
    "\n",
    "filter_sub [\n",
    "    ((motorbike ~model:\"123\" ~color:\"blue\" ~weight:20.) :> <color : string>) ;\n",
    "    ((motorbike ~model:\"221\" ~color:\"silver\" ~weight:50.) :> <color : string>) ;\n",
    "    ((aeroplane ~model:\"ABC1\" ~color:\"blue\" ~weight:2000. ~engines:4.) :> <color : string>)\n",
    "] ;;\n",
    "\n",
    "(* ref cells *)\n",
    "let r : vehicle ref = ref ((motorbike ~model:\"123\" ~color:\"blue\" ~weight:20.) :> vehicle) ;;\n",
    "!r#drive ;;\n",
    "r := ((aeroplane ~model:\"ABC1\" ~color:\"blue\" ~weight:2000. ~engines:4.) :> vehicle) ;;\n",
    "!r#drive ;;"
   ]
  },
  {
   "cell_type": "code",
   "execution_count": null,
   "id": "09a839a8-562f-42d7-af40-43b4b9077f2c",
   "metadata": {},
   "outputs": [],
   "source": []
  }
 ],
 "metadata": {
  "kernelspec": {
   "display_name": "OCaml 4.12.0",
   "language": "OCaml",
   "name": "ocaml-jupyter-4.12.0"
  },
  "language_info": {
   "codemirror_mode": "text/x-ocaml",
   "file_extension": ".ml",
   "mimetype": "text/x-ocaml",
   "name": "OCaml",
   "nbconverter_exporter": null,
   "pygments_lexer": "OCaml",
   "version": "4.12.0"
  },
  "widgets": {
   "application/vnd.jupyter.widget-state+json": {
    "state": {},
    "version_major": 2,
    "version_minor": 0
   }
  }
 },
 "nbformat": 4,
 "nbformat_minor": 5
}
