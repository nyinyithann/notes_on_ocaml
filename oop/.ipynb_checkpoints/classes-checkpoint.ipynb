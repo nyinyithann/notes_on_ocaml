{
 "cells": [
  {
   "cell_type": "markdown",
   "id": "99f5ca5e-3da9-467b-a673-c7bbee598bbd",
   "metadata": {},
   "source": [
    "# Classes"
   ]
  },
  {
   "cell_type": "markdown",
   "id": "d1278fd0-c2b1-4d0f-9c64-40a4ec3266c0",
   "metadata": {},
   "source": [
    "Class enables inheritance."
   ]
  },
  {
   "cell_type": "markdown",
   "id": "a37b9153-7f71-417c-9841-974bdcb57ae2",
   "metadata": {},
   "source": [
    "##### 🟢 &nbsp; &nbsp; Constructor & Initializer\n",
    "In the following code, `class counter` creates an _abbreviation_ called `counter` and it stands for the object type `<get : int; incr : unit>`. Class name is actually the name of the constructor function of the class."
   ]
  },
  {
   "cell_type": "code",
   "execution_count": 88,
   "id": "30c32f55-1310-4aad-b37f-f51751c5f640",
   "metadata": {},
   "outputs": [
    {
     "data": {
      "text/plain": [
       "class counter :\n",
       "  object val mutable _count : int method get : int method incr : unit end\n"
      ]
     },
     "execution_count": 88,
     "metadata": {},
     "output_type": "execute_result"
    },
    {
     "data": {
      "text/plain": [
       "val c : counter = <obj>\n"
      ]
     },
     "execution_count": 88,
     "metadata": {},
     "output_type": "execute_result"
    },
    {
     "data": {
      "text/plain": [
       "- : int = 0\n"
      ]
     },
     "execution_count": 88,
     "metadata": {},
     "output_type": "execute_result"
    },
    {
     "data": {
      "text/plain": [
       "- : unit = ()\n"
      ]
     },
     "execution_count": 88,
     "metadata": {},
     "output_type": "execute_result"
    },
    {
     "data": {
      "text/plain": [
       "- : int = 1\n"
      ]
     },
     "execution_count": 88,
     "metadata": {},
     "output_type": "execute_result"
    }
   ],
   "source": [
    "class counter = object\n",
    "    val mutable _count = 0\n",
    "    method get = _count\n",
    "    method incr = _count <- _count + 1\n",
    "end ;;\n",
    "\n",
    "let c = new counter ;;\n",
    "c#get ;;\n",
    "c#incr ;;\n",
    "c#get ;;"
   ]
  },
  {
   "cell_type": "markdown",
   "id": "e8775be7-241a-4620-9d63-73de91a80bce",
   "metadata": {},
   "source": [
    "##### Setting initial value"
   ]
  },
  {
   "cell_type": "code",
   "execution_count": 89,
   "id": "1f44ff3b-647b-4bb5-8a72-83372440c36a",
   "metadata": {},
   "outputs": [
    {
     "data": {
      "text/plain": [
       "class counter : int -> object val mutable _count : int method get : int end\n"
      ]
     },
     "execution_count": 89,
     "metadata": {},
     "output_type": "execute_result"
    },
    {
     "data": {
      "text/plain": [
       "val c : int -> counter = <fun>\n"
      ]
     },
     "execution_count": 89,
     "metadata": {},
     "output_type": "execute_result"
    },
    {
     "data": {
      "text/plain": [
       "- : int = 10\n"
      ]
     },
     "execution_count": 89,
     "metadata": {},
     "output_type": "execute_result"
    },
    {
     "data": {
      "text/plain": [
       "- : int = 20\n"
      ]
     },
     "execution_count": 89,
     "metadata": {},
     "output_type": "execute_result"
    },
    {
     "data": {
      "text/plain": [
       "class point :\n",
       "  int ->\n",
       "  int ->\n",
       "  object val mutable _x : int val mutable _y : int method get : int * int end\n"
      ]
     },
     "execution_count": 89,
     "metadata": {},
     "output_type": "execute_result"
    },
    {
     "data": {
      "text/plain": [
       "val p : point = <obj>\n"
      ]
     },
     "execution_count": 89,
     "metadata": {},
     "output_type": "execute_result"
    },
    {
     "data": {
      "text/plain": [
       "- : int * int = (1, 1)\n"
      ]
     },
     "execution_count": 89,
     "metadata": {},
     "output_type": "execute_result"
    },
    {
     "data": {
      "text/plain": [
       "- : int * int = (2, 2)\n"
      ]
     },
     "execution_count": 89,
     "metadata": {},
     "output_type": "execute_result"
    },
    {
     "data": {
      "text/plain": [
       "val f : int -> point = <fun>\n"
      ]
     },
     "execution_count": 89,
     "metadata": {},
     "output_type": "execute_result"
    },
    {
     "data": {
      "text/plain": [
       "- : int * int = (1, 2)\n"
      ]
     },
     "execution_count": 89,
     "metadata": {},
     "output_type": "execute_result"
    }
   ],
   "source": [
    "class counter = fun (init : int) -> object\n",
    "    val mutable _count = init\n",
    "    method get = _count   \n",
    "end ;;\n",
    "\n",
    "let c = new counter ;;\n",
    "(c 10)#get ;;\n",
    "\n",
    "(new counter 20)#get ;;\n",
    "\n",
    "class point (x: int) (y: int) = object\n",
    "    val mutable _x = x\n",
    "    val mutable _y = y\n",
    "    method get = (_x, _y)\n",
    "end ;;\n",
    "\n",
    "let p = new point 1 1 ;;\n",
    "p#get ;;\n",
    "\n",
    "(new point 2 2)#get ;;\n",
    "\n",
    "let f = new point 1 ;;\n",
    "(f 2)#get ;;"
   ]
  },
  {
   "cell_type": "markdown",
   "id": "13c081a7-d721-4cb8-90f6-e85a22698ffb",
   "metadata": {},
   "source": [
    "##### Initializers : Evaluating expression _before_ or _after_ object is constructed. "
   ]
  },
  {
   "cell_type": "code",
   "execution_count": 218,
   "id": "d5927177-b41e-4b84-9207-90d4509a5ded",
   "metadata": {},
   "outputs": [
    {
     "data": {
      "text/plain": [
       "class person :\n",
       "  name:string ->\n",
       "  age:float ->\n",
       "  ?mode:string ->\n",
       "  bool ->\n",
       "  object\n",
       "    val _age : float\n",
       "    val _healthy : bool\n",
       "    val _mode : string\n",
       "    val _name : string\n",
       "    method get_age : float\n",
       "    method get_mode : string\n",
       "    method get_name : string\n",
       "    method is_healthy : bool\n",
       "  end\n"
      ]
     },
     "execution_count": 218,
     "metadata": {},
     "output_type": "execute_result"
    },
    {
     "name": "stdout",
     "output_type": "stream",
     "text": [
      "Name ---> Ryan\n",
      "Mode ---> happy!\n"
     ]
    },
    {
     "data": {
      "text/plain": [
       "val p : person = <obj>\n"
      ]
     },
     "execution_count": 218,
     "metadata": {},
     "output_type": "execute_result"
    },
    {
     "data": {
      "text/plain": [
       "- : string = \"Ryan\"\n"
      ]
     },
     "execution_count": 218,
     "metadata": {},
     "output_type": "execute_result"
    },
    {
     "data": {
      "text/plain": [
       "- : float = 6.1\n"
      ]
     },
     "execution_count": 218,
     "metadata": {},
     "output_type": "execute_result"
    },
    {
     "data": {
      "text/plain": [
       "- : string = \"happy!\"\n"
      ]
     },
     "execution_count": 218,
     "metadata": {},
     "output_type": "execute_result"
    },
    {
     "data": {
      "text/plain": [
       "- : bool = true\n"
      ]
     },
     "execution_count": 218,
     "metadata": {},
     "output_type": "execute_result"
    },
    {
     "data": {
      "text/plain": [
       "class virtual base : object val mutable virtual x : int end\n"
      ]
     },
     "execution_count": 218,
     "metadata": {},
     "output_type": "execute_result"
    },
    {
     "data": {
      "text/plain": [
       "class derived : object val mutable x : int end\n"
      ]
     },
     "execution_count": 218,
     "metadata": {},
     "output_type": "execute_result"
    },
    {
     "name": "stdout",
     "output_type": "stream",
     "text": [
      "base initializer...\n",
      "derived initializer...\n"
     ]
    },
    {
     "data": {
      "text/plain": [
       "val d : derived = <obj>\n"
      ]
     },
     "execution_count": 218,
     "metadata": {},
     "output_type": "execute_result"
    }
   ],
   "source": [
    "class person ~(name:string) ~(age:float) ?mode (healthy:bool) = \n",
    "    let m = match mode with None -> \"Normal\" | Some x -> x in\n",
    "    object(self)\n",
    "        initializer (* can add multiple times *)\n",
    "            print_string (Printf.sprintf \"Name ---> %s\" self#get_name); \n",
    "            print_newline() ;\n",
    "        initializer\n",
    "            print_string (Printf.sprintf \"Mode ---> %s\" self#get_mode); \n",
    "            print_newline() ;\n",
    "        val _name = name\n",
    "        val _age = age\n",
    "        val _mode = m\n",
    "        val _healthy = healthy\n",
    "        method get_name = _name\n",
    "        method get_age = _age\n",
    "        method get_mode = _mode\n",
    "        method is_healthy = _healthy        \n",
    "    end ;;\n",
    "\n",
    "let p = new person ~name:\"Ryan\" ~age:6.1 ~mode:\"happy!\" true;;\n",
    "p#get_name ;;\n",
    "p#get_age ;;\n",
    "p#get_mode ;;\n",
    "p#is_healthy ;;"
   ]
  },
  {
   "cell_type": "markdown",
   "id": "4630c770-0ae6-4e88-b8f1-4f16c53005bb",
   "metadata": {},
   "source": [
    "##### Initializer in inheritance\n",
    "initializer from parent class will be called first."
   ]
  },
  {
   "cell_type": "code",
   "execution_count": 230,
   "id": "84e8e277-7e1a-41d7-b1af-47bf7ad6bba1",
   "metadata": {},
   "outputs": [
    {
     "data": {
      "text/plain": [
       "class virtual base : object val mutable virtual x : int end\n"
      ]
     },
     "execution_count": 230,
     "metadata": {},
     "output_type": "execute_result"
    },
    {
     "data": {
      "text/plain": [
       "class derived : object val mutable x : int end\n"
      ]
     },
     "execution_count": 230,
     "metadata": {},
     "output_type": "execute_result"
    },
    {
     "name": "stdout",
     "output_type": "stream",
     "text": [
      "base initializer...\n",
      "derived initializer...\n"
     ]
    },
    {
     "data": {
      "text/plain": [
       "val d : derived = <obj>\n"
      ]
     },
     "execution_count": 230,
     "metadata": {},
     "output_type": "execute_result"
    }
   ],
   "source": [
    "class virtual base = object \n",
    "    val virtual mutable x : int\n",
    "    initializer\n",
    "        print_string \"base initializer...\";\n",
    "        print_newline() ;\n",
    "end ;;\n",
    "\n",
    "class derived = object\n",
    "    inherit base\n",
    "    val mutable x = 11\n",
    "    initializer\n",
    "        print_string \"derived initializer...\";\n",
    "        print_newline() ;\n",
    "end ;;\n",
    "\n",
    "let d = new derived ;;"
   ]
  },
  {
   "cell_type": "markdown",
   "id": "47774763-6712-4da4-9535-4827642aee87",
   "metadata": {},
   "source": [
    "<br/>"
   ]
  },
  {
   "cell_type": "markdown",
   "id": "7830dff2-1869-4baf-9913-4aa8b1bb5d33",
   "metadata": {},
   "source": [
    "##### 🟢 &nbsp; &nbsp; Class interfaces\n",
    "Useful for documentation and constraining the type of a class.\n",
    "Both concrete instance variables and concrete private methods can be hidden by a class type constraint. Public methods and virtual members, however, cannot."
   ]
  },
  {
   "cell_type": "code",
   "execution_count": 133,
   "id": "cf156d78-25cf-45ec-b42a-7a91b9d56027",
   "metadata": {},
   "outputs": [
    {
     "data": {
      "text/plain": [
       "class type ['a] counter_type =\n",
       "  object method decr : unit method get : 'a method incr : unit end\n"
      ]
     },
     "execution_count": 133,
     "metadata": {},
     "output_type": "execute_result"
    },
    {
     "data": {
      "text/plain": [
       "class ['a] counter :\n",
       "  'a ->\n",
       "  object\n",
       "    constraint 'a = int\n",
       "    val mutable count : 'a\n",
       "    method decr : unit\n",
       "    method get : 'a\n",
       "    method incr : unit\n",
       "    method private set : 'a -> unit\n",
       "  end\n"
      ]
     },
     "execution_count": 133,
     "metadata": {},
     "output_type": "execute_result"
    },
    {
     "data": {
      "text/plain": [
       "val c : int counter_type = <obj>\n"
      ]
     },
     "execution_count": 133,
     "metadata": {},
     "output_type": "execute_result"
    },
    {
     "data": {
      "text/plain": [
       "- : unit = ()\n"
      ]
     },
     "execution_count": 133,
     "metadata": {},
     "output_type": "execute_result"
    },
    {
     "data": {
      "text/plain": [
       "- : int = 2\n"
      ]
     },
     "execution_count": 133,
     "metadata": {},
     "output_type": "execute_result"
    }
   ],
   "source": [
    "class type ['a] counter_type = object\n",
    "    method get : 'a\n",
    "    method incr : unit\n",
    "    method decr : unit\n",
    "end ;;\n",
    "\n",
    "class ['a] counter (init : 'a) = object (self)\n",
    "    val mutable count = init\n",
    "    method private set v = count <- v\n",
    "    method get = count    \n",
    "    method incr = self#set (count + 1)\n",
    "    method decr = self#set (count - 1)\n",
    "end ;;\n",
    "\n",
    "let c : int counter_type = new counter 1 ;;\n",
    "c#incr ;;\n",
    "c#get ;;"
   ]
  },
  {
   "cell_type": "markdown",
   "id": "3f1318ca-caf1-48f7-8a2b-fcc3beb0748d",
   "metadata": {},
   "source": [
    "The interface of a class can also be specified in a module signature, and used to restrict the inferred signature of a module."
   ]
  },
  {
   "cell_type": "code",
   "execution_count": 168,
   "id": "485c5432-d127-42e7-b793-062bd0533162",
   "metadata": {},
   "outputs": [
    {
     "data": {
      "text/plain": [
       "module type REGISTRY =\n",
       "  sig\n",
       "    class ['a] cell :\n",
       "      'a -> object method get : 'a method set : 'a -> unit end\n",
       "  end\n"
      ]
     },
     "execution_count": 168,
     "metadata": {},
     "output_type": "execute_result"
    },
    {
     "data": {
      "text/plain": [
       "module Registry : REGISTRY\n"
      ]
     },
     "execution_count": 168,
     "metadata": {},
     "output_type": "execute_result"
    },
    {
     "data": {
      "text/plain": [
       "val r : int Registry.cell = <obj>\n"
      ]
     },
     "execution_count": 168,
     "metadata": {},
     "output_type": "execute_result"
    },
    {
     "data": {
      "text/plain": [
       "- : int = 10\n"
      ]
     },
     "execution_count": 168,
     "metadata": {},
     "output_type": "execute_result"
    },
    {
     "data": {
      "text/plain": [
       "- : unit = ()\n"
      ]
     },
     "execution_count": 168,
     "metadata": {},
     "output_type": "execute_result"
    },
    {
     "data": {
      "text/plain": [
       "- : int = 111\n"
      ]
     },
     "execution_count": 168,
     "metadata": {},
     "output_type": "execute_result"
    }
   ],
   "source": [
    "module type REGISTRY = sig\n",
    "    class ['a] cell : 'a -> object\n",
    "        method get : 'a\n",
    "        method set : 'a -> unit\n",
    "    end \n",
    "end ;;\n",
    "\n",
    "module Registry : REGISTRY = struct\n",
    "    class ['a] cell' (init : 'a) = object\n",
    "        val mutable cell_value = init    \n",
    "        method get = cell_value\n",
    "        method set v = cell_value <- v\n",
    "    end ;;\n",
    "    \n",
    "    class ['a] cell  = ['a] cell'\n",
    "end\n",
    "\n",
    "let r = new Registry.cell 10 ;;\n",
    "r#get ;;\n",
    "r#set 111 ;;\n",
    "r#get ;;"
   ]
  },
  {
   "cell_type": "markdown",
   "id": "3270dbd9-dee4-4180-bcc1-8b44c175a117",
   "metadata": {},
   "source": [
    "##### 🟢 &nbsp; &nbsp; Parameterized classes"
   ]
  },
  {
   "cell_type": "code",
   "execution_count": 102,
   "id": "ff88b151-0713-4f07-b3e8-1e1ceb98da07",
   "metadata": {},
   "outputs": [
    {
     "data": {
      "text/plain": [
       "class ['a] counter : 'a -> object val mutable count : 'a method get : 'a end\n"
      ]
     },
     "execution_count": 102,
     "metadata": {},
     "output_type": "execute_result"
    },
    {
     "data": {
      "text/plain": [
       "val c : int counter = <obj>\n"
      ]
     },
     "execution_count": 102,
     "metadata": {},
     "output_type": "execute_result"
    },
    {
     "data": {
      "text/plain": [
       "- : int = 10\n"
      ]
     },
     "execution_count": 102,
     "metadata": {},
     "output_type": "execute_result"
    },
    {
     "data": {
      "text/plain": [
       "class ['a, 'b] hetro_pair :\n",
       "  'a -> 'b -> object val _a : 'a val _b : 'b method get : 'a * 'b end\n"
      ]
     },
     "execution_count": 102,
     "metadata": {},
     "output_type": "execute_result"
    },
    {
     "data": {
      "text/plain": [
       "val p : (int, float) hetro_pair = <obj>\n"
      ]
     },
     "execution_count": 102,
     "metadata": {},
     "output_type": "execute_result"
    },
    {
     "data": {
      "text/plain": [
       "- : int * float = (10, 9.8)\n"
      ]
     },
     "execution_count": 102,
     "metadata": {},
     "output_type": "execute_result"
    }
   ],
   "source": [
    "class ['a] counter (init : 'a) = object\n",
    "    val mutable count = init\n",
    "    method get = count\n",
    "end ;;\n",
    "\n",
    "let c = new counter 10 ;;\n",
    "c#get ;;\n",
    "\n",
    "class ['a, 'b] hetro_pair (a : 'a) (b : 'b) = object\n",
    "    val _a = a\n",
    "    val _b = b\n",
    "    method get = (a,b)\n",
    "end ;;\n",
    "\n",
    "let p = new hetro_pair 10 9.8 ;;\n",
    "p#get ;;"
   ]
  },
  {
   "cell_type": "markdown",
   "id": "a4715fd1-ebf1-4e5f-a87a-54e5fbd40b35",
   "metadata": {},
   "source": [
    "##### constraint clause"
   ]
  },
  {
   "cell_type": "code",
   "execution_count": 202,
   "id": "4c5a806c-ccbd-43f1-86d9-8406ad982e54",
   "metadata": {},
   "outputs": [
    {
     "data": {
      "text/plain": [
       "class material : object method glow : string -> string end\n"
      ]
     },
     "execution_count": 202,
     "metadata": {},
     "output_type": "execute_result"
    },
    {
     "data": {
      "text/plain": [
       "class ['a] mesh :\n",
       "  'a ->\n",
       "  object\n",
       "    constraint 'a = < glow : string -> string; .. >\n",
       "    val mutable material : 'a\n",
       "    method highlight : string -> string\n",
       "  end\n"
      ]
     },
     "execution_count": 202,
     "metadata": {},
     "output_type": "execute_result"
    },
    {
     "data": {
      "text/plain": [
       "val m : < glow : string -> string > mesh = <obj>\n"
      ]
     },
     "execution_count": 202,
     "metadata": {},
     "output_type": "execute_result"
    },
    {
     "data": {
      "text/plain": [
       "- : string = \"highlighting with color orange\"\n"
      ]
     },
     "execution_count": 202,
     "metadata": {},
     "output_type": "execute_result"
    },
    {
     "data": {
      "text/plain": [
       "val m : material mesh = <obj>\n"
      ]
     },
     "execution_count": 202,
     "metadata": {},
     "output_type": "execute_result"
    },
    {
     "data": {
      "text/plain": [
       "- : string = \"highlighting with color pink\"\n"
      ]
     },
     "execution_count": 202,
     "metadata": {},
     "output_type": "execute_result"
    },
    {
     "data": {
      "text/plain": [
       "class ['a] mesh :\n",
       "  'a ->\n",
       "  object\n",
       "    constraint 'a = #material\n",
       "    val mutable material : 'a\n",
       "    method highlight : string -> string\n",
       "  end\n"
      ]
     },
     "execution_count": 202,
     "metadata": {},
     "output_type": "execute_result"
    },
    {
     "data": {
      "text/plain": [
       "val m : material mesh = <obj>\n"
      ]
     },
     "execution_count": 202,
     "metadata": {},
     "output_type": "execute_result"
    },
    {
     "data": {
      "text/plain": [
       "- : string = \"highlighting with color blue\"\n"
      ]
     },
     "execution_count": 202,
     "metadata": {},
     "output_type": "execute_result"
    },
    {
     "data": {
      "text/plain": [
       "val m : < foo : int; glow : string -> string > mesh = <obj>\n"
      ]
     },
     "execution_count": 202,
     "metadata": {},
     "output_type": "execute_result"
    },
    {
     "data": {
      "text/plain": [
       "- : string = \"highlighting with color silver\"\n"
      ]
     },
     "execution_count": 202,
     "metadata": {},
     "output_type": "execute_result"
    },
    {
     "data": {
      "text/plain": [
       "class ['a] mesh :\n",
       "  'a ->\n",
       "  object\n",
       "    constraint 'a = #material\n",
       "    val mutable material : 'a\n",
       "    method highlight : string -> string\n",
       "  end\n"
      ]
     },
     "execution_count": 202,
     "metadata": {},
     "output_type": "execute_result"
    },
    {
     "data": {
      "text/plain": [
       "val m : < foo : int; glow : string -> string > mesh = <obj>\n"
      ]
     },
     "execution_count": 202,
     "metadata": {},
     "output_type": "execute_result"
    },
    {
     "data": {
      "text/plain": [
       "- : string = \"highlighting with color silver\"\n"
      ]
     },
     "execution_count": 202,
     "metadata": {},
     "output_type": "execute_result"
    }
   ],
   "source": [
    "class material = object\n",
    "    method glow c = Printf.sprintf \"highlighting with color %s\" c\n",
    "end ;;\n",
    "\n",
    "class ['a] mesh (m : 'a) = object\n",
    "    val mutable material = m   \n",
    "    method highlight = (material#glow : string -> string)  \n",
    "end ;;\n",
    "\n",
    "let m = new mesh (object method glow c = Printf.sprintf \"highlighting with color %s\" c  end) ;;\n",
    "m#highlight \"orange\" ;;\n",
    "\n",
    "let m = new mesh (new material);;\n",
    "m#highlight \"pink\" ;;\n",
    "\n",
    "(* explicitly declare constraint clause *)\n",
    "class ['a] mesh (m : 'a) = object\n",
    "   (* #material is an abbreviation for the type of any object implementing the signature of material *)\n",
    "    constraint 'a = #material\n",
    "    val mutable material = m   \n",
    "    method highlight = material#glow\n",
    "end ;;\n",
    "\n",
    "let m = new mesh (new material) ;;\n",
    "m#highlight \"blue\" ;;\n",
    "\n",
    "let m = new mesh (object method glow c = Printf.sprintf \"highlighting with color %s\" c method foo = 42  end) ;;\n",
    "m#highlight \"silver\" ;;\n",
    "\n",
    "(* \n",
    "    the following code won't compile\n",
    "    look at https://discuss.ocaml.org/t/constraint-clause-in-class/10074\n",
    "*)\n",
    "class ['a] mesh (m : 'a) = object\n",
    "   (* material is the exact type of the material class *)\n",
    "    constraint 'a = material\n",
    "    val mutable material = m   \n",
    "    method highlight = material#glow\n",
    "end ;;\n",
    "\n",
    "let m = new mesh (object method glow c = Printf.sprintf \"highlighting with color %s\" c method foo = 42  end) ;;\n",
    "m#highlight \"silver\" ;;"
   ]
  },
  {
   "cell_type": "markdown",
   "id": "067a532a-d645-45e9-8ca2-5972ffa9b6c2",
   "metadata": {},
   "source": [
    "##### #T represents any object implementing the signature of class T."
   ]
  },
  {
   "cell_type": "code",
   "execution_count": 273,
   "id": "e1dacc58-cd57-42f6-a222-94836b16aa4a",
   "metadata": {},
   "outputs": [
    {
     "data": {
      "text/plain": [
       "class virtual base : object method virtual foo : string end\n"
      ]
     },
     "execution_count": 273,
     "metadata": {},
     "output_type": "execute_result"
    },
    {
     "data": {
      "text/plain": [
       "class derived : object method foo : string end\n"
      ]
     },
     "execution_count": 273,
     "metadata": {},
     "output_type": "execute_result"
    },
    {
     "data": {
      "text/plain": [
       "val call_foo : #base -> string = <fun>\n"
      ]
     },
     "execution_count": 273,
     "metadata": {},
     "output_type": "execute_result"
    },
    {
     "data": {
      "text/plain": [
       "- : string = \"derived foo\"\n"
      ]
     },
     "execution_count": 273,
     "metadata": {},
     "output_type": "execute_result"
    },
    {
     "data": {
      "text/plain": [
       "- : string = \"anonymous foo\"\n"
      ]
     },
     "execution_count": 273,
     "metadata": {},
     "output_type": "execute_result"
    }
   ],
   "source": [
    "class virtual base = object\n",
    "    method virtual foo : string\n",
    "end ;;\n",
    "\n",
    "class derived = object\n",
    "    inherit base\n",
    "    method foo = \"derived foo\"\n",
    "end ;;\n",
    "\n",
    "let call_foo (c : #base) = c#foo ;;\n",
    "call_foo (new derived) ;;\n",
    "call_foo (object method foo = \"anonymous foo\" method bar = \"bar\" end) ;;"
   ]
  },
  {
   "cell_type": "markdown",
   "id": "36bec82d-131d-445b-82ce-b02106aa8a05",
   "metadata": {},
   "source": [
    "<br/>"
   ]
  },
  {
   "cell_type": "markdown",
   "id": "bc82c1a0-a067-4d5a-bf86-b8bed586718d",
   "metadata": {},
   "source": [
    "##### 🟢 &nbsp; &nbsp; Virtual Method\n",
    "- A class containing virtual methods must be flagged virtual, and cannot be instantiated. Similiar to c# abstract class.\n",
    "- Instance variable can be declared as virtual."
   ]
  },
  {
   "cell_type": "code",
   "execution_count": 209,
   "id": "c959b23d-6f88-43a8-8c7d-54464b45406c",
   "metadata": {},
   "outputs": [
    {
     "data": {
      "text/plain": [
       "class virtual shape :\n",
       "  object\n",
       "    val mutable virtual _x : float\n",
       "    val mutable virtual _y : float\n",
       "    method virtual draw : string\n",
       "    method get_x : float\n",
       "    method get_y : float\n",
       "    method set_x : float -> unit\n",
       "    method set_y : float -> unit\n",
       "  end\n"
      ]
     },
     "execution_count": 209,
     "metadata": {},
     "output_type": "execute_result"
    },
    {
     "data": {
      "text/plain": [
       "class circle :\n",
       "  x:float ->\n",
       "  y:float ->\n",
       "  object\n",
       "    val mutable _x : float\n",
       "    val mutable _y : float\n",
       "    method draw : string\n",
       "    method get_x : float\n",
       "    method get_y : float\n",
       "    method set_x : float -> unit\n",
       "    method set_y : float -> unit\n",
       "  end\n"
      ]
     },
     "execution_count": 209,
     "metadata": {},
     "output_type": "execute_result"
    },
    {
     "data": {
      "text/plain": [
       "val c : circle = <obj>\n"
      ]
     },
     "execution_count": 209,
     "metadata": {},
     "output_type": "execute_result"
    },
    {
     "data": {
      "text/plain": [
       "- : string = \"drawing circle at x = 10., y = 11.\"\n"
      ]
     },
     "execution_count": 209,
     "metadata": {},
     "output_type": "execute_result"
    }
   ],
   "source": [
    "class virtual shape = object\n",
    "    val mutable virtual _x : float\n",
    "    val mutable virtual _y : float\n",
    "    method get_x = _x\n",
    "    method set_x v = _x <- v\n",
    "    method get_y = _y\n",
    "    method set_y v = _y <- v\n",
    "    method virtual draw :string\n",
    "end ;;\n",
    "\n",
    "class circle ~(x : float)  ~(y : float) = object\n",
    "    inherit shape\n",
    "    val mutable _x = x\n",
    "    val mutable _y = y\n",
    "    method draw = Printf.sprintf \"drawing circle at x = %F, y = %F\" _x _y\n",
    "end ;;\n",
    "\n",
    "let c = new circle ~x:10. ~y:11. ;;\n",
    "c#draw ;;"
   ]
  },
  {
   "cell_type": "markdown",
   "id": "dff0297c-c23a-466e-b5b7-6681117b27a6",
   "metadata": {},
   "source": [
    "##### 🟢 &nbsp; &nbsp; Private method\n",
    "- Private methods are inherited (they are by default visible in subclasses), unless they are hidden by signature matching.\n",
    "- Private methods can be made public or override in a subclass."
   ]
  },
  {
   "cell_type": "code",
   "execution_count": 217,
   "id": "4d4376bc-1f50-400a-864c-7d5cab574005",
   "metadata": {},
   "outputs": [
    {
     "data": {
      "text/plain": [
       "class base : object method private display : string end\n"
      ]
     },
     "execution_count": 217,
     "metadata": {},
     "output_type": "execute_result"
    },
    {
     "data": {
      "text/plain": [
       "class derived_one : object method display : string end\n"
      ]
     },
     "execution_count": 217,
     "metadata": {},
     "output_type": "execute_result"
    },
    {
     "data": {
      "text/plain": [
       "val d : derived_one = <obj>\n"
      ]
     },
     "execution_count": 217,
     "metadata": {},
     "output_type": "execute_result"
    },
    {
     "data": {
      "text/plain": [
       "- : string = \"display method in base\"\n"
      ]
     },
     "execution_count": 217,
     "metadata": {},
     "output_type": "execute_result"
    },
    {
     "data": {
      "text/plain": [
       "class derived_one : object method display : string end\n"
      ]
     },
     "execution_count": 217,
     "metadata": {},
     "output_type": "execute_result"
    },
    {
     "data": {
      "text/plain": [
       "val d : derived_one = <obj>\n"
      ]
     },
     "execution_count": 217,
     "metadata": {},
     "output_type": "execute_result"
    },
    {
     "data": {
      "text/plain": [
       "- : string = \"display method in base\"\n"
      ]
     },
     "execution_count": 217,
     "metadata": {},
     "output_type": "execute_result"
    },
    {
     "data": {
      "text/plain": [
       "class derived_two : object method display : string end\n"
      ]
     },
     "execution_count": 217,
     "metadata": {},
     "output_type": "execute_result"
    },
    {
     "data": {
      "text/plain": [
       "val dt : derived_two = <obj>\n"
      ]
     },
     "execution_count": 217,
     "metadata": {},
     "output_type": "execute_result"
    },
    {
     "data": {
      "text/plain": [
       "- : string = \"display method in base ..calling from derived\"\n"
      ]
     },
     "execution_count": 217,
     "metadata": {},
     "output_type": "execute_result"
    }
   ],
   "source": [
    "class base = object\n",
    "    method private display = \"display method in base\"\n",
    "end ;;\n",
    "\n",
    "(* making private method public in derived class *)\n",
    "class derived_one = object\n",
    "    inherit base\n",
    "    method virtual display : _\n",
    "end ;;\n",
    "let d = new derived_one ;;\n",
    "d#display ;;\n",
    "\n",
    "(* alternatively *)\n",
    "class derived_one = object (self : < display : _; ..>)\n",
    "    inherit base\n",
    "end ;;\n",
    "let d = new derived_one ;;\n",
    "d#display ;;\n",
    "\n",
    "(* overiding private method in derived class *)\n",
    "class derived_two = object\n",
    "    inherit base as super\n",
    "    method display = \n",
    "        super#display ^ \" ..calling from derived\";\n",
    "end ;;\n",
    "let dt = new derived_two ;;\n",
    "dt#display ;;"
   ]
  },
  {
   "cell_type": "markdown",
   "id": "4e1724f7-c131-40ab-a408-74b0b6bb6041",
   "metadata": {},
   "source": [
    "##### 🟢 &nbsp; &nbsp; Inheritance\n",
    "Inheritance is like textual inclusion. If more than one definition for a name, the last definition wins."
   ]
  },
  {
   "cell_type": "code",
   "execution_count": 200,
   "id": "094ca53c-a2db-4b1a-9b0b-251cddc9c52e",
   "metadata": {},
   "outputs": [
    {
     "data": {
      "text/plain": [
       "class ['a] point2d :\n",
       "  'a ->\n",
       "  'a ->\n",
       "  object\n",
       "    val mutable _x : 'a\n",
       "    val mutable _y : 'a\n",
       "    method getX : 'a\n",
       "    method getY : 'a\n",
       "    method set2 : 'a * 'a -> unit\n",
       "    method setX : 'a -> unit\n",
       "    method setY : 'a -> unit\n",
       "  end\n"
      ]
     },
     "execution_count": 200,
     "metadata": {},
     "output_type": "execute_result"
    },
    {
     "data": {
      "text/plain": [
       "class ['a] point3d :\n",
       "  'a ->\n",
       "  'a ->\n",
       "  'a ->\n",
       "  object\n",
       "    val mutable _x : 'a\n",
       "    val mutable _y : 'a\n",
       "    val mutable z : 'a\n",
       "    method getX : 'a\n",
       "    method getY : 'a\n",
       "    method getZ : 'a\n",
       "    method set2 : 'a * 'a -> unit\n",
       "    method set3 : 'a * 'a * 'a -> unit\n",
       "    method setX : 'a -> unit\n",
       "    method setY : 'a -> unit\n",
       "    method setZ : 'a -> unit\n",
       "  end\n"
      ]
     },
     "execution_count": 200,
     "metadata": {},
     "output_type": "execute_result"
    },
    {
     "data": {
      "text/plain": [
       "val p3 : float point3d = <obj>\n"
      ]
     },
     "execution_count": 200,
     "metadata": {},
     "output_type": "execute_result"
    },
    {
     "data": {
      "text/plain": [
       "- : float = 1.\n"
      ]
     },
     "execution_count": 200,
     "metadata": {},
     "output_type": "execute_result"
    },
    {
     "data": {
      "text/plain": [
       "- : float = 2.\n"
      ]
     },
     "execution_count": 200,
     "metadata": {},
     "output_type": "execute_result"
    },
    {
     "data": {
      "text/plain": [
       "- : float = 3.\n"
      ]
     },
     "execution_count": 200,
     "metadata": {},
     "output_type": "execute_result"
    }
   ],
   "source": [
    "class ['a] point2d (x : 'a) (y : 'a) = object(self)\n",
    "    val mutable _x = x\n",
    "    val mutable _y = y\n",
    "    method getX = _x\n",
    "    method getY = _y\n",
    "    method setX v = _x <- v\n",
    "    method setY v = _y <- v\n",
    "    method set2 (x, y) = self#setX x ; self#setY y\n",
    "end ;;\n",
    "\n",
    "class ['a] point3d (x : 'a) (y : 'a) (z : 'a) = object(self)\n",
    "    inherit ['a] point2d x y as super\n",
    "    val mutable z = z\n",
    "    method getZ = z\n",
    "    method setZ v = z <- v\n",
    "    method set3 (x, y, z) =\n",
    "        super#set2 (x, y) ;\n",
    "        self#setZ z \n",
    "end ;;\n",
    "\n",
    "let p3 = new point3d 1. 2. 3. ;;\n",
    "p3#getX ;;\n",
    "p3#getY ;;\n",
    "p3#getZ ;;"
   ]
  },
  {
   "cell_type": "markdown",
   "id": "701fd545-071d-4df3-836d-eafcbd278fc3",
   "metadata": {},
   "source": [
    "##### explicitly marking as overriding another definition"
   ]
  },
  {
   "cell_type": "code",
   "execution_count": 253,
   "id": "fac8b235-6eac-45c1-b59b-6f4e9681546e",
   "metadata": {},
   "outputs": [
    {
     "data": {
      "text/plain": [
       "class base :\n",
       "  object\n",
       "    val x : int\n",
       "    method private private_show : string\n",
       "    method show : string\n",
       "  end\n"
      ]
     },
     "execution_count": 253,
     "metadata": {},
     "output_type": "execute_result"
    },
    {
     "data": {
      "text/plain": [
       "class derived :\n",
       "  object\n",
       "    val x : int\n",
       "    method private private_show : string\n",
       "    method show : string\n",
       "  end\n"
      ]
     },
     "execution_count": 253,
     "metadata": {},
     "output_type": "execute_result"
    },
    {
     "data": {
      "text/plain": [
       "val d : derived = <obj>\n"
      ]
     },
     "execution_count": 253,
     "metadata": {},
     "output_type": "execute_result"
    },
    {
     "data": {
      "text/plain": [
       "- : string = \"show method in derived. x = 1111\"\n"
      ]
     },
     "execution_count": 253,
     "metadata": {},
     "output_type": "execute_result"
    },
    {
     "data": {
      "text/plain": [
       "class derived_two :\n",
       "  object\n",
       "    val x : int\n",
       "    method private private_show : string\n",
       "    method show : string\n",
       "  end\n"
      ]
     },
     "execution_count": 253,
     "metadata": {},
     "output_type": "execute_result"
    },
    {
     "data": {
      "text/plain": [
       "val dt : derived_two = <obj>\n"
      ]
     },
     "execution_count": 253,
     "metadata": {},
     "output_type": "execute_result"
    },
    {
     "data": {
      "text/plain": [
       "- : string = \"show method in base. x = 1\"\n"
      ]
     },
     "execution_count": 253,
     "metadata": {},
     "output_type": "execute_result"
    }
   ],
   "source": [
    "class base = object\n",
    "    val x = 1\n",
    "    method private private_show = \"private show\"\n",
    "    method show = \"show method in base. x = \" ^ string_of_int x\n",
    "end ;;\n",
    "\n",
    "class derived = object\n",
    "    inherit base\n",
    "    (* if base don't have show method or x instance variable, compiler will throw error *)\n",
    "    val! x = 1111 \n",
    "    method! show = \"show method in derived. x = \" ^ string_of_int x\n",
    "end ;;\n",
    "\n",
    "let d = new derived ;;\n",
    "d#show ;;\n",
    "\n",
    "class derived_two = object \n",
    "    val x = 101   \n",
    "    method show = \"show method in derived_two\"\n",
    "    \n",
    "    (* override above method and instance variable, \n",
    "    base method and instance variable will be used instead  *)\n",
    "    inherit! base \n",
    "end ;;\n",
    "\n",
    "let dt = new derived_two ;;\n",
    "dt#show ;;"
   ]
  },
  {
   "cell_type": "markdown",
   "id": "01534a50-5c94-40a2-a6f5-973a6e5ad3a4",
   "metadata": {},
   "source": [
    "##### 🟢 &nbsp; &nbsp; Multiple inheritance"
   ]
  },
  {
   "cell_type": "code",
   "execution_count": 265,
   "id": "886cace9-6765-4680-aed9-e97f6e5e3150",
   "metadata": {},
   "outputs": [
    {
     "data": {
      "text/plain": [
       "class reader : object val v : int ref method get_val : int end\n"
      ]
     },
     "execution_count": 265,
     "metadata": {},
     "output_type": "execute_result"
    },
    {
     "data": {
      "text/plain": [
       "class writer : object val v : int ref method set_val : int -> unit end\n"
      ]
     },
     "execution_count": 265,
     "metadata": {},
     "output_type": "execute_result"
    },
    {
     "data": {
      "text/plain": [
       "class derived :\n",
       "  object\n",
       "    val v : int ref\n",
       "    method get_val : int\n",
       "    method set_val : int -> unit\n",
       "  end\n"
      ]
     },
     "execution_count": 265,
     "metadata": {},
     "output_type": "execute_result"
    },
    {
     "data": {
      "text/plain": [
       "val d : derived = <obj>\n"
      ]
     },
     "execution_count": 265,
     "metadata": {},
     "output_type": "execute_result"
    },
    {
     "data": {
      "text/plain": [
       "- : unit = ()\n"
      ]
     },
     "execution_count": 265,
     "metadata": {},
     "output_type": "execute_result"
    },
    {
     "data": {
      "text/plain": [
       "- : int = 111111\n"
      ]
     },
     "execution_count": 265,
     "metadata": {},
     "output_type": "execute_result"
    }
   ],
   "source": [
    "class reader = object   \n",
    "    val v = ref 0\n",
    "    method get_val = !v\n",
    "end ;;\n",
    "\n",
    "class writer = object  \n",
    "    val v = ref 0   \n",
    "    method set_val x = v := x  \n",
    "end ;;\n",
    "\n",
    "class derived = object\n",
    "    inherit reader\n",
    "    inherit! writer\n",
    "end ;;\n",
    "\n",
    "let d = new derived ;;\n",
    "d#set_val 111111 ;;\n",
    "d#get_val ;;"
   ]
  },
  {
   "cell_type": "code",
   "execution_count": null,
   "id": "e47441fd-ed27-4765-934e-cd1fed162da9",
   "metadata": {},
   "outputs": [],
   "source": []
  }
 ],
 "metadata": {
  "kernelspec": {
   "display_name": "OCaml 4.12.0",
   "language": "OCaml",
   "name": "ocaml-jupyter"
  },
  "language_info": {
   "codemirror_mode": "text/x-ocaml",
   "file_extension": ".ml",
   "mimetype": "text/x-ocaml",
   "name": "OCaml",
   "nbconverter_exporter": null,
   "pygments_lexer": "OCaml",
   "version": "4.12.0"
  },
  "widgets": {
   "application/vnd.jupyter.widget-state+json": {
    "state": {},
    "version_major": 2,
    "version_minor": 0
   }
  }
 },
 "nbformat": 4,
 "nbformat_minor": 5
}
