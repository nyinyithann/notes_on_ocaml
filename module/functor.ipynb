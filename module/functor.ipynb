{
 "cells": [
  {
   "cell_type": "markdown",
   "id": "f5386ea9-59bc-4a64-a5ed-a9981ce7cc93",
   "metadata": {},
   "source": [
    "# Functor"
   ]
  },
  {
   "cell_type": "markdown",
   "id": "241f4b10-69e4-4ccb-a055-3c7c2ba717ac",
   "metadata": {},
   "source": [
    "Functor is a function that takes a module and output a module - function from module to module."
   ]
  },
  {
   "cell_type": "markdown",
   "id": "3f824f7f-b04d-4769-9e40-5a54a3933c08",
   "metadata": {},
   "source": [
    "##### 🟢 &nbsp; &nbsp; Syntax"
   ]
  },
  {
   "cell_type": "code",
   "execution_count": 1,
   "id": "ad2a665b-6e85-4707-9867-e595ed4e8226",
   "metadata": {},
   "outputs": [
    {
     "data": {
      "text/plain": [
       "module type T = sig val x : int end\n"
      ]
     },
     "execution_count": 1,
     "metadata": {},
     "output_type": "execute_result"
    },
    {
     "data": {
      "text/plain": [
       "module F : functor (M : T) -> sig val x : int end\n"
      ]
     },
     "execution_count": 1,
     "metadata": {},
     "output_type": "execute_result"
    },
    {
     "data": {
      "text/plain": [
       "module M : sig val x : int end\n"
      ]
     },
     "execution_count": 1,
     "metadata": {},
     "output_type": "execute_result"
    },
    {
     "data": {
      "text/plain": [
       "module Incr : sig val x : int end\n"
      ]
     },
     "execution_count": 1,
     "metadata": {},
     "output_type": "execute_result"
    },
    {
     "data": {
      "text/plain": [
       "- : int = 8\n"
      ]
     },
     "execution_count": 1,
     "metadata": {},
     "output_type": "execute_result"
    }
   ],
   "source": [
    "module type T = sig\n",
    "    val x : int\n",
    "end\n",
    "\n",
    "module F(M: T) = struct\n",
    "    let x = M.x + 1\n",
    "end\n",
    "\n",
    "module M = struct let x = 7 end\n",
    "\n",
    "module Incr = F(M) ;;\n",
    "Incr.x ;;"
   ]
  },
  {
   "cell_type": "code",
   "execution_count": 2,
   "id": "8a9b2a00-0b23-4ed5-9320-b32568ff4480",
   "metadata": {},
   "outputs": [
    {
     "data": {
      "text/plain": [
       "module G : functor (M : sig val x : float end) -> sig val x : float end\n"
      ]
     },
     "execution_count": 2,
     "metadata": {},
     "output_type": "execute_result"
    },
    {
     "data": {
      "text/plain": [
       "module Decr : sig val x : float end\n"
      ]
     },
     "execution_count": 2,
     "metadata": {},
     "output_type": "execute_result"
    },
    {
     "data": {
      "text/plain": [
       "- : float = 6.\n"
      ]
     },
     "execution_count": 2,
     "metadata": {},
     "output_type": "execute_result"
    }
   ],
   "source": [
    "module G(M : sig val x : float end) = struct\n",
    "    let x = M.x -. 1.\n",
    "end\n",
    "\n",
    "module Decr = G(struct let x = 7. end) ;;\n",
    "Decr.x ;;"
   ]
  },
  {
   "cell_type": "markdown",
   "id": "4d3a5a1e-311c-478a-9d29-54508ab866d4",
   "metadata": {},
   "source": [
    "More"
   ]
  },
  {
   "cell_type": "code",
   "execution_count": 3,
   "id": "604cce2f-8cbb-438e-8142-e7e8d1ea0888",
   "metadata": {},
   "outputs": [
    {
     "data": {
      "text/plain": [
       "module type JSBOOL = sig type t val equal : t -> t -> bool val zero : t end\n"
      ]
     },
     "execution_count": 3,
     "metadata": {},
     "output_type": "execute_result"
    },
    {
     "data": {
      "text/plain": [
       "module Make :\n",
       "  functor (M : JSBOOL) -> sig type t = M.t val torf : M.t -> bool end\n"
      ]
     },
     "execution_count": 3,
     "metadata": {},
     "output_type": "execute_result"
    },
    {
     "data": {
      "text/plain": [
       "module BoolOfInt : sig type t = Int.t val torf : Int.t -> bool end\n"
      ]
     },
     "execution_count": 3,
     "metadata": {},
     "output_type": "execute_result"
    },
    {
     "data": {
      "text/plain": [
       "- : bool = false\n"
      ]
     },
     "execution_count": 3,
     "metadata": {},
     "output_type": "execute_result"
    },
    {
     "data": {
      "text/plain": [
       "module BoolOfFloat : sig type t = Float.t val torf : Float.t -> bool end\n"
      ]
     },
     "execution_count": 3,
     "metadata": {},
     "output_type": "execute_result"
    },
    {
     "data": {
      "text/plain": [
       "- : bool = true\n"
      ]
     },
     "execution_count": 3,
     "metadata": {},
     "output_type": "execute_result"
    },
    {
     "data": {
      "text/plain": [
       "module BoolOfIntPair :\n",
       "  sig type t = int * int val torf : int * int -> bool end\n"
      ]
     },
     "execution_count": 3,
     "metadata": {},
     "output_type": "execute_result"
    },
    {
     "data": {
      "text/plain": [
       "- : bool = true\n"
      ]
     },
     "execution_count": 3,
     "metadata": {},
     "output_type": "execute_result"
    },
    {
     "data": {
      "text/plain": [
       "module BoolOfString : sig type t = string val torf : string -> bool end\n"
      ]
     },
     "execution_count": 3,
     "metadata": {},
     "output_type": "execute_result"
    },
    {
     "data": {
      "text/plain": [
       "- : bool = true\n"
      ]
     },
     "execution_count": 3,
     "metadata": {},
     "output_type": "execute_result"
    },
    {
     "data": {
      "text/plain": [
       "- : bool = false\n"
      ]
     },
     "execution_count": 3,
     "metadata": {},
     "output_type": "execute_result"
    }
   ],
   "source": [
    "(* Like in JavaScript, 0 is falsy, greater/less than 0 are truthy. *)\n",
    "module type JSBOOL = sig\n",
    "    type t\n",
    "    val equal : t -> t -> bool\n",
    "    val zero : t \n",
    "end\n",
    "\n",
    "module Make (M: JSBOOL) = struct\n",
    "    type t = M.t\n",
    "    let torf v = if (M.equal v M.zero) then false else true  \n",
    "end\n",
    "\n",
    "(* above is same as \n",
    "    module Make = functor (M: JSBOOL) -> struct\n",
    "        type t = M.t\n",
    "        let torf v = if (M.equal v M.zero) then false else true  \n",
    "    end\n",
    "*)\n",
    "\n",
    "module BoolOfInt = Make(Int) ;;\n",
    "let open BoolOfInt in\n",
    "torf 0;;\n",
    "\n",
    "module BoolOfFloat = Make(Float) ;;\n",
    "let open BoolOfFloat in\n",
    "torf 1.0;; \n",
    "\n",
    "module BoolOfIntPair = \n",
    "    Make(struct\n",
    "      type t = int * int\n",
    "      let zero = (0, 0)\n",
    "      let equal p1 p2 = p1 = p2\n",
    "  end) ;;\n",
    "    \n",
    "let open BoolOfIntPair in\n",
    "torf (0, 1);;\n",
    "\n",
    "module BoolOfString = \n",
    "    Make(struct\n",
    "        type t = string\n",
    "        let zero = \"\"\n",
    "        let equal = String.equal\n",
    "  end) ;;\n",
    "\n",
    "open BoolOfString;;\n",
    "torf \"hello\";;\n",
    "torf \"\";;"
   ]
  },
  {
   "cell_type": "markdown",
   "id": "e937c29e-8ede-4ed7-8052-0b10526ac56c",
   "metadata": {},
   "source": [
    "<br/>"
   ]
  },
  {
   "cell_type": "markdown",
   "id": "514c0fa9-3197-48fa-b7f3-a9800d14a829",
   "metadata": {},
   "source": [
    "##### 🟢 &nbsp; &nbsp; Sample code"
   ]
  },
  {
   "cell_type": "code",
   "execution_count": 4,
   "id": "7ab72352-c482-49c2-b00d-2dd6c2f331b3",
   "metadata": {},
   "outputs": [
    {
     "data": {
      "text/plain": [
       "module type Addable = sig type t val add : t -> t -> t end\n"
      ]
     },
     "execution_count": 4,
     "metadata": {},
     "output_type": "execute_result"
    },
    {
     "data": {
      "text/plain": [
       "module type Subtractable = sig type t val sub : t -> t -> t end\n"
      ]
     },
     "execution_count": 4,
     "metadata": {},
     "output_type": "execute_result"
    },
    {
     "data": {
      "text/plain": [
       "module type Comparable = sig type t val compare : t -> t -> int end\n"
      ]
     },
     "execution_count": 4,
     "metadata": {},
     "output_type": "execute_result"
    },
    {
     "data": {
      "text/plain": [
       "module type Show = sig type t val to_string : t -> string end\n"
      ]
     },
     "execution_count": 4,
     "metadata": {},
     "output_type": "execute_result"
    },
    {
     "data": {
      "text/plain": [
       "module type ADD_SUB_CMP_SH =\n",
       "  sig\n",
       "    type t\n",
       "    val add : t -> t -> t\n",
       "    val sub : t -> t -> t\n",
       "    val compare : t -> t -> int\n",
       "    val to_string : t -> string\n",
       "  end\n"
      ]
     },
     "execution_count": 4,
     "metadata": {},
     "output_type": "execute_result"
    },
    {
     "data": {
      "text/plain": [
       "module type POINT =\n",
       "  sig\n",
       "    type item\n",
       "    type t\n",
       "    val add : t -> t -> t\n",
       "    val sub : t -> t -> t\n",
       "    val compare : t -> t -> int\n",
       "    val to_string : t -> string\n",
       "    val make : item -> item -> t\n",
       "    val getX : t -> item\n",
       "    val getY : t -> item\n",
       "    val ( + ) : t -> t -> t\n",
       "    val ( - ) : t -> t -> t\n",
       "    val ( > ) : t -> t -> bool\n",
       "    val ( < ) : t -> t -> bool\n",
       "    val ( >= ) : t -> t -> bool\n",
       "    val ( <= ) : t -> t -> bool\n",
       "  end\n"
      ]
     },
     "execution_count": 4,
     "metadata": {},
     "output_type": "execute_result"
    },
    {
     "data": {
      "text/plain": [
       "module Make :\n",
       "  functor (M : ADD_SUB_CMP_SH) ->\n",
       "    sig\n",
       "      type t\n",
       "      val add : t -> t -> t\n",
       "      val sub : t -> t -> t\n",
       "      val compare : t -> t -> int\n",
       "      val to_string : t -> string\n",
       "      val make : M.t -> M.t -> t\n",
       "      val getX : t -> M.t\n",
       "      val getY : t -> M.t\n",
       "      val ( + ) : t -> t -> t\n",
       "      val ( - ) : t -> t -> t\n",
       "      val ( > ) : t -> t -> bool\n",
       "      val ( < ) : t -> t -> bool\n",
       "      val ( >= ) : t -> t -> bool\n",
       "      val ( <= ) : t -> t -> bool\n",
       "    end\n"
      ]
     },
     "execution_count": 4,
     "metadata": {},
     "output_type": "execute_result"
    },
    {
     "data": {
      "text/plain": [
       "module PointInt :\n",
       "  sig\n",
       "    type t = Make(Int).t\n",
       "    val add : t -> t -> t\n",
       "    val sub : t -> t -> t\n",
       "    val compare : t -> t -> int\n",
       "    val to_string : t -> string\n",
       "    val make : Int.t -> Int.t -> t\n",
       "    val getX : t -> Int.t\n",
       "    val getY : t -> Int.t\n",
       "    val ( + ) : t -> t -> t\n",
       "    val ( - ) : t -> t -> t\n",
       "    val ( > ) : t -> t -> bool\n",
       "    val ( < ) : t -> t -> bool\n",
       "    val ( >= ) : t -> t -> bool\n",
       "    val ( <= ) : t -> t -> bool\n",
       "  end\n"
      ]
     },
     "execution_count": 4,
     "metadata": {},
     "output_type": "execute_result"
    },
    {
     "data": {
      "text/plain": [
       "val p1 : PointInt.t = <abstr>\n"
      ]
     },
     "execution_count": 4,
     "metadata": {},
     "output_type": "execute_result"
    },
    {
     "data": {
      "text/plain": [
       "val p2 : PointInt.t = <abstr>\n"
      ]
     },
     "execution_count": 4,
     "metadata": {},
     "output_type": "execute_result"
    },
    {
     "data": {
      "text/plain": [
       "- : string = \"(x = 3, y = 3)\"\n"
      ]
     },
     "execution_count": 4,
     "metadata": {},
     "output_type": "execute_result"
    },
    {
     "data": {
      "text/plain": [
       "- : bool = false\n"
      ]
     },
     "execution_count": 4,
     "metadata": {},
     "output_type": "execute_result"
    },
    {
     "data": {
      "text/plain": [
       "- : bool = true\n"
      ]
     },
     "execution_count": 4,
     "metadata": {},
     "output_type": "execute_result"
    },
    {
     "data": {
      "text/plain": [
       "module PointInt :\n",
       "  sig\n",
       "    type t = Make(Float).t\n",
       "    val add : t -> t -> t\n",
       "    val sub : t -> t -> t\n",
       "    val compare : t -> t -> int\n",
       "    val to_string : t -> string\n",
       "    val make : Float.t -> Float.t -> t\n",
       "    val getX : t -> Float.t\n",
       "    val getY : t -> Float.t\n",
       "    val ( + ) : t -> t -> t\n",
       "    val ( - ) : t -> t -> t\n",
       "    val ( > ) : t -> t -> bool\n",
       "    val ( < ) : t -> t -> bool\n",
       "    val ( >= ) : t -> t -> bool\n",
       "    val ( <= ) : t -> t -> bool\n",
       "  end\n"
      ]
     },
     "execution_count": 4,
     "metadata": {},
     "output_type": "execute_result"
    },
    {
     "data": {
      "text/plain": [
       "- : string = \"(x = 8., y = 8.)\"\n"
      ]
     },
     "execution_count": 4,
     "metadata": {},
     "output_type": "execute_result"
    }
   ],
   "source": [
    "module type Addable = sig\n",
    "    type t\n",
    "    val add : t -> t -> t    \n",
    "end\n",
    "\n",
    "module type Subtractable = sig\n",
    "    type t\n",
    "    val sub : t -> t -> t    \n",
    "end\n",
    "\n",
    "module type Comparable = sig\n",
    "    type t\n",
    "    val compare : t -> t -> int\n",
    "end\n",
    "\n",
    "module type Show = sig\n",
    "    type t\n",
    "    val to_string : t -> string\n",
    "end\n",
    "\n",
    "module type ADD_SUB_CMP_SH = sig\n",
    "    type t\n",
    "    include Addable with type t := t\n",
    "    include Subtractable with type t := t\n",
    "    include Comparable with type t := t\n",
    "    include Show with type t := t\n",
    "end\n",
    "\n",
    "module type POINT = sig\n",
    "    type item\n",
    "    type t\n",
    "    include ADD_SUB_CMP_SH with type t := t\n",
    "    val make : item -> item -> t\n",
    "    val getX : t -> item\n",
    "    val getY : t -> item \n",
    "    val ( + ) : t -> t -> t\n",
    "    val ( - ) : t -> t -> t\n",
    "    val ( > ) : t -> t -> bool\n",
    "    val ( < ) : t -> t -> bool\n",
    "    val ( >= ) : t -> t -> bool\n",
    "    val ( <= ) : t -> t -> bool    \n",
    "end\n",
    "\n",
    "module Make (M: ADD_SUB_CMP_SH) : POINT with type item := M.t = struct\n",
    "    type item = M.t\n",
    "    type t = item * item\n",
    "    let make x y = (x, y)\n",
    "    let getX (x, _) = x\n",
    "    let getY (_, y) = y\n",
    "    let add (x1, y1) (x2, y2) = (M.add x1 x2, M.add y1 y2)\n",
    "    let sub (x1, y1) (x2, y2) = (M.sub x1 x2, M.sub y1 y2)\n",
    "    let compare (x1, y1) (x2, y2) = \n",
    "        match M.compare x1 x2 with\n",
    "        | 1 -> 1\n",
    "        | -1 -> -1\n",
    "        | _ -> \n",
    "            match M.compare y1 y2 with\n",
    "            | 0 -> 0\n",
    "            | c -> c\n",
    "    let ( + ) = add\n",
    "    let ( - ) = sub\n",
    "    let ( > ) p1 p2 = if compare p1 p2 = 1 then true else false\n",
    "    let ( < ) p1 p2 = if compare p1 p2 = -1 then true else false\n",
    "    let ( >= ) p1 p2 = match compare p1 p2 with 1 | 0 -> true | _ -> false\n",
    "    let ( <= ) p1 p2 = match compare p1 p2 with -1 | 0 -> true | _ -> false\n",
    "    let to_string (x, y) = Printf.sprintf \"(x = %s, y = %s)\" (M.to_string x) (M.to_string y)        \n",
    "end\n",
    "\n",
    "module PointInt = Make(Int) ;;\n",
    "open PointInt;;\n",
    "let p1 = make 1 1;;\n",
    "let p2 = make 2 2;;\n",
    "(p1 + p2) |> to_string;;\n",
    "p1 > p2 ;;\n",
    "p1 <= p2 ;;\n",
    "\n",
    "module PointInt = Make(Float) ;;\n",
    "let open PointInt in\n",
    "let p1 = make 10. 10. \n",
    "and p2 = make 2. 2. in\n",
    "(p1 - p2) |> to_string;;"
   ]
  }
 ],
 "metadata": {
  "kernelspec": {
   "display_name": "OCaml 4.12.0",
   "language": "OCaml",
   "name": "ocaml-jupyter-4.12.0"
  },
  "language_info": {
   "codemirror_mode": "text/x-ocaml",
   "file_extension": ".ml",
   "mimetype": "text/x-ocaml",
   "name": "OCaml",
   "nbconverter_exporter": null,
   "pygments_lexer": "OCaml",
   "version": "4.12.0"
  }
 },
 "nbformat": 4,
 "nbformat_minor": 5
}
