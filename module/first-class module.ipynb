{
 "cells": [
  {
   "cell_type": "markdown",
   "id": "45ec76d9-08ea-475b-a918-82988c8944fd",
   "metadata": {},
   "source": [
    "# First-class Module"
   ]
  },
  {
   "cell_type": "markdown",
   "id": "94c5a0c9-a38b-4930-907b-c9eb088e896f",
   "metadata": {},
   "source": [
    "##### 🟢 &nbsp; &nbsp; Packing a module as a first-class value and unpacking it into a module."
   ]
  },
  {
   "cell_type": "code",
   "execution_count": 12,
   "id": "8d5997d6-320e-40d2-a483-f572791c08ad",
   "metadata": {},
   "outputs": [
    {
     "data": {
      "text/plain": [
       "module type T = sig val x : int end\n"
      ]
     },
     "execution_count": 12,
     "metadata": {},
     "output_type": "execute_result"
    },
    {
     "data": {
      "text/plain": [
       "module M : sig val x : int end\n"
      ]
     },
     "execution_count": 12,
     "metadata": {},
     "output_type": "execute_result"
    },
    {
     "data": {
      "text/plain": [
       "val packed : (module T) = <module>\n"
      ]
     },
     "execution_count": 12,
     "metadata": {},
     "output_type": "execute_result"
    },
    {
     "data": {
      "text/plain": [
       "- : int = 25\n"
      ]
     },
     "execution_count": 12,
     "metadata": {},
     "output_type": "execute_result"
    },
    {
     "data": {
      "text/plain": [
       "- : int = 25\n"
      ]
     },
     "execution_count": 12,
     "metadata": {},
     "output_type": "execute_result"
    }
   ],
   "source": [
    "module type T = sig val x : int end\n",
    "module M  = struct let x = 25 end\n",
    "\n",
    "(* packing module to a value *)\n",
    "let packed = (module M : T) ;;\n",
    "\n",
    "(* unpacking module value *)\n",
    "let module Unpacked = (val packed : T ) in\n",
    "Unpacked.x;;\n",
    "\n",
    "(* unpacking module value using pattern match *)\n",
    "let (module Unpacked : T ) = packed in\n",
    "Unpacked.x ;;"
   ]
  },
  {
   "cell_type": "markdown",
   "id": "f0a8826b-aff5-4022-a326-355f6805c914",
   "metadata": {},
   "source": [
    "<br/>"
   ]
  },
  {
   "cell_type": "markdown",
   "id": "208dd422-7ac3-4ad9-8deb-804e85216943",
   "metadata": {},
   "source": [
    "##### 🟢 &nbsp; &nbsp; Passing a packed module value as a function paramater"
   ]
  },
  {
   "cell_type": "code",
   "execution_count": 13,
   "id": "e59f4145-b2a4-4dcf-87f2-da83b6fd8ff5",
   "metadata": {},
   "outputs": [
    {
     "data": {
      "text/plain": [
       "module type T = sig val x : int end\n"
      ]
     },
     "execution_count": 13,
     "metadata": {},
     "output_type": "execute_result"
    },
    {
     "data": {
      "text/plain": [
       "module M : sig val x : int end\n"
      ]
     },
     "execution_count": 13,
     "metadata": {},
     "output_type": "execute_result"
    },
    {
     "data": {
      "text/plain": [
       "val packed : (module T) = <module>\n"
      ]
     },
     "execution_count": 13,
     "metadata": {},
     "output_type": "execute_result"
    },
    {
     "data": {
      "text/plain": [
       "val f : (module T) -> int = <fun>\n"
      ]
     },
     "execution_count": 13,
     "metadata": {},
     "output_type": "execute_result"
    },
    {
     "data": {
      "text/plain": [
       "- : int = 25\n"
      ]
     },
     "execution_count": 13,
     "metadata": {},
     "output_type": "execute_result"
    },
    {
     "data": {
      "text/plain": [
       "val f : (module T) -> int = <fun>\n"
      ]
     },
     "execution_count": 13,
     "metadata": {},
     "output_type": "execute_result"
    },
    {
     "data": {
      "text/plain": [
       "- : int = 25\n"
      ]
     },
     "execution_count": 13,
     "metadata": {},
     "output_type": "execute_result"
    }
   ],
   "source": [
    "module type T = sig val x : int end\n",
    "module M  = struct let x = 25 end\n",
    "let packed = (module M : T) ;;\n",
    "let f m = \n",
    "    let module Unpacked = (val m : T) in\n",
    "    Unpacked.x ;;\n",
    "f packed ;;\n",
    "\n",
    "(* using pattern match *)\n",
    "let f (module M : T) = M.x ;;\n",
    "f packed ;;"
   ]
  },
  {
   "cell_type": "markdown",
   "id": "82f0bd39-0a41-42d2-9fa7-5207de12ef6d",
   "metadata": {},
   "source": [
    "<br/>"
   ]
  },
  {
   "cell_type": "markdown",
   "id": "914cd171-64d3-443a-b76d-ef29890281a0",
   "metadata": {},
   "source": [
    "##### 🟢 &nbsp; &nbsp; Returning a packed module value from a function"
   ]
  },
  {
   "cell_type": "code",
   "execution_count": 14,
   "id": "41bb116f-641e-4dc8-b5c1-2143c91f2329",
   "metadata": {},
   "outputs": [
    {
     "data": {
      "text/plain": [
       "module type T = sig val x : int end\n"
      ]
     },
     "execution_count": 14,
     "metadata": {},
     "output_type": "execute_result"
    },
    {
     "data": {
      "text/plain": [
       "- : int = 100\n"
      ]
     },
     "execution_count": 14,
     "metadata": {},
     "output_type": "execute_result"
    }
   ],
   "source": [
    "module type T = sig val x : int end ;;\n",
    "let foo (v: int) = (module struct let x = v end : T) in\n",
    "let (module M : T) = foo 100 in\n",
    "M.x ;;"
   ]
  },
  {
   "cell_type": "markdown",
   "id": "999fe6b5-3faa-4176-ae89-b157e9217727",
   "metadata": {},
   "source": [
    "<br/>"
   ]
  },
  {
   "cell_type": "markdown",
   "id": "a7ce28d4-7672-4333-9339-941be9a96ef9",
   "metadata": {},
   "source": [
    "##### 🟢 &nbsp; &nbsp; With module type having abstract type"
   ]
  },
  {
   "cell_type": "code",
   "execution_count": 15,
   "id": "7051a43e-1299-406c-a201-3fa733f8001f",
   "metadata": {},
   "outputs": [
    {
     "data": {
      "text/plain": [
       "module type T = sig type t val double : t -> t end\n"
      ]
     },
     "execution_count": 15,
     "metadata": {},
     "output_type": "execute_result"
    },
    {
     "data": {
      "text/plain": [
       "module M : sig type t = int val double : int -> int end\n"
      ]
     },
     "execution_count": 15,
     "metadata": {},
     "output_type": "execute_result"
    },
    {
     "data": {
      "text/plain": [
       "- : int = 4\n"
      ]
     },
     "execution_count": 15,
     "metadata": {},
     "output_type": "execute_result"
    }
   ],
   "source": [
    "module type T = sig \n",
    "    type t\n",
    "    val double : t -> t\n",
    "end \n",
    "\n",
    "module M = struct\n",
    "    type t = int\n",
    "    let double x = 2 * x\n",
    "end ;;\n",
    "\n",
    "let packed = (module M : T with type t = int) in\n",
    "let module Unpacked = (val packed: T with type t = int) in\n",
    "Unpacked.double 2 ;;"
   ]
  },
  {
   "cell_type": "markdown",
   "id": "da92cec3-d5f6-4fc1-a36f-40158089e78f",
   "metadata": {},
   "source": [
    "<br/>"
   ]
  },
  {
   "cell_type": "markdown",
   "id": "fd68cdce-0f26-4251-9ba3-4322daa63bcf",
   "metadata": {},
   "source": [
    "##### 🟢 &nbsp; &nbsp; With locally abstract type"
   ]
  },
  {
   "cell_type": "code",
   "execution_count": 16,
   "id": "3fcd40a0-1c06-4ef9-98f3-f084f989869b",
   "metadata": {},
   "outputs": [
    {
     "data": {
      "text/plain": [
       "module type T = sig type t val double : t -> t end\n"
      ]
     },
     "execution_count": 16,
     "metadata": {},
     "output_type": "execute_result"
    },
    {
     "data": {
      "text/plain": [
       "module M_Int : sig type t = int val double : int -> int end\n"
      ]
     },
     "execution_count": 16,
     "metadata": {},
     "output_type": "execute_result"
    },
    {
     "data": {
      "text/plain": [
       "module M_Float : sig type t = float val double : float -> float end\n"
      ]
     },
     "execution_count": 16,
     "metadata": {},
     "output_type": "execute_result"
    },
    {
     "data": {
      "text/plain": [
       "val double_list : (module T with type t = 'a) -> 'a list -> 'a list = <fun>\n"
      ]
     },
     "execution_count": 16,
     "metadata": {},
     "output_type": "execute_result"
    },
    {
     "data": {
      "text/plain": [
       "- : M_Int.t list = [2; 4; 6]\n"
      ]
     },
     "execution_count": 16,
     "metadata": {},
     "output_type": "execute_result"
    },
    {
     "data": {
      "text/plain": [
       "- : M_Float.t list = [2.; 4.; 6.]\n"
      ]
     },
     "execution_count": 16,
     "metadata": {},
     "output_type": "execute_result"
    }
   ],
   "source": [
    "module type T = sig \n",
    "    type t\n",
    "    val double : t -> t\n",
    "end \n",
    "\n",
    "module M_Int = struct\n",
    "    type t = int\n",
    "    let double x = 2 * x\n",
    "end\n",
    "\n",
    "module M_Float = struct\n",
    "    type t = float\n",
    "    let double x = 2. *. x\n",
    "end\n",
    "\n",
    "let double_list (type a) (module M : T with type t = a) lst = \n",
    "    lst |> List.map M.double ;;\n",
    "\n",
    "\n",
    "double_list (module M_Int) [1;2;3] ;;\n",
    "\n",
    "double_list (module M_Float) [1.;2.;3.] ;;"
   ]
  },
  {
   "cell_type": "markdown",
   "id": "566a2c34-2c25-4fc4-97d6-9eb281f65ccb",
   "metadata": {},
   "source": [
    "<br/>"
   ]
  },
  {
   "cell_type": "markdown",
   "id": "bfc0068d-fa5e-42ee-9242-bae447e9a99e",
   "metadata": {},
   "source": [
    "##### 🟢 &nbsp; &nbsp; Sample"
   ]
  },
  {
   "cell_type": "code",
   "execution_count": 17,
   "id": "9c0751c1-d6f1-46a9-88a2-344251630b50",
   "metadata": {},
   "outputs": [
    {
     "data": {
      "text/plain": [
       "module type SHAPE = sig val draw : unit -> string end\n"
      ]
     },
     "execution_count": 17,
     "metadata": {},
     "output_type": "execute_result"
    },
    {
     "data": {
      "text/plain": [
       "module Circle :\n",
       "  sig val location : float * float val draw : unit -> string end\n"
      ]
     },
     "execution_count": 17,
     "metadata": {},
     "output_type": "execute_result"
    },
    {
     "data": {
      "text/plain": [
       "module Rectangle :\n",
       "  sig val width : float val height : float val draw : unit -> string end\n"
      ]
     },
     "execution_count": 17,
     "metadata": {},
     "output_type": "execute_result"
    },
    {
     "data": {
      "text/plain": [
       "val draw : (module SHAPE) -> string = <fun>\n"
      ]
     },
     "execution_count": 17,
     "metadata": {},
     "output_type": "execute_result"
    },
    {
     "data": {
      "text/plain": [
       "- : string = \"Drawing a circle at (1., 2.).\"\n"
      ]
     },
     "execution_count": 17,
     "metadata": {},
     "output_type": "execute_result"
    },
    {
     "data": {
      "text/plain": [
       "- : string = \"Drawing a rectangle with width = 100., height = 50..\"\n"
      ]
     },
     "execution_count": 17,
     "metadata": {},
     "output_type": "execute_result"
    },
    {
     "data": {
      "text/plain": [
       "val shapes : (module SHAPE) list = [<module>; <module>; <module>]\n"
      ]
     },
     "execution_count": 17,
     "metadata": {},
     "output_type": "execute_result"
    },
    {
     "data": {
      "text/plain": [
       "- : string = \"Drawing a circle at (1., 2.).\"\n"
      ]
     },
     "execution_count": 17,
     "metadata": {},
     "output_type": "execute_result"
    },
    {
     "data": {
      "text/plain": [
       "val display : (module SHAPE) list -> string -> string = <fun>\n"
      ]
     },
     "execution_count": 17,
     "metadata": {},
     "output_type": "execute_result"
    },
    {
     "data": {
      "text/plain": [
       "- : string =\n",
       "\"Drawing a circle at (1., 2.).Drawing a rectangle with width = 100., height = 50..Anonymous Shape\"\n"
      ]
     },
     "execution_count": 17,
     "metadata": {},
     "output_type": "execute_result"
    }
   ],
   "source": [
    "module type SHAPE = sig    \n",
    "    val draw : unit -> string\n",
    "end\n",
    "\n",
    "module Circle  = struct\n",
    "    let location = (1., 2.)\n",
    "    let draw () = Printf.sprintf (\"Drawing a circle at (%F, %F).\") (fst location) (snd location)\n",
    "end\n",
    "\n",
    "module Rectangle  = struct\n",
    "    let width = 100.\n",
    "    let height = 50.\n",
    "    let draw () = Printf.sprintf (\"Drawing a rectangle with width = %F, height = %F.\") width height\n",
    "end ;;\n",
    "\n",
    "let draw (module S : SHAPE) = S.draw() ;; \n",
    "draw (module Circle : SHAPE) ;;\n",
    "draw (module Rectangle : SHAPE) ;;\n",
    "\n",
    "let shapes = [ (module Circle : SHAPE) ; (module Rectangle); (module struct let draw () = \"Anonymous Shape\" end) ] ;;\n",
    "let (module MP : SHAPE) = List.hd shapes in\n",
    "MP.draw() ;;\n",
    "\n",
    "let rec display (lst : (module SHAPE) list) ret : string = \n",
    "    match lst with\n",
    "    | [] -> ret\n",
    "    | h :: t -> \n",
    "        let (module MS : SHAPE) = h in\n",
    "        display t (ret ^ MS.draw()) ;;\n",
    "display shapes \"\" ;;"
   ]
  },
  {
   "cell_type": "markdown",
   "id": "320be3aa-45f7-4034-8afb-d9cddae65c8d",
   "metadata": {},
   "source": [
    "<br/>"
   ]
  },
  {
   "cell_type": "markdown",
   "id": "efe59e8e-a092-4691-89dd-9af4a0c22c24",
   "metadata": {},
   "source": [
    "##### 🟢 &nbsp; &nbsp; Sample from Manual https://v2.ocaml.org/manual/firstclassmodules.html "
   ]
  },
  {
   "cell_type": "code",
   "execution_count": 18,
   "id": "49533449-45c4-4c5d-a5ab-752abef5f4b5",
   "metadata": {},
   "outputs": [
    {
     "data": {
      "text/plain": [
       "val make_set : ('a -> 'a -> int) -> (module Set.S with type elt = 'a) = <fun>\n"
      ]
     },
     "execution_count": 18,
     "metadata": {},
     "output_type": "execute_result"
    },
    {
     "data": {
      "text/plain": [
       "val sort : (module Set.S with type elt = 'a) -> 'a list -> 'a list = <fun>\n"
      ]
     },
     "execution_count": 18,
     "metadata": {},
     "output_type": "execute_result"
    },
    {
     "data": {
      "text/plain": [
       "- : int list = [0; 1; 2; 3; 4; 9; 100]\n"
      ]
     },
     "execution_count": 18,
     "metadata": {},
     "output_type": "execute_result"
    },
    {
     "data": {
      "text/plain": [
       "- : Float.t list = [0.; 1.; 2.; 3.; 4.; 9.; 100.]\n"
      ]
     },
     "execution_count": 18,
     "metadata": {},
     "output_type": "execute_result"
    }
   ],
   "source": [
    "let make_set (type a) cmp =\n",
    "    let module S = Set.Make(struct\n",
    "        type t = a\n",
    "        let compare = cmp\n",
    "    end) in\n",
    "    (module S : Set.S with type elt = a) ;;\n",
    "    \n",
    "let sort (type a) (module S : Set.S with type elt = a) l =\n",
    "    S.elements (List.fold_right S.add l S.empty) ;;\n",
    "\n",
    "let s = make_set Int.compare in\n",
    "sort s [0; 3; 1; 4; 3; 2; 1; 100; 9] ;;\n",
    "\n",
    "let s = make_set Float.compare in\n",
    "sort s [0.; 3.; 1.; 4.; 3.; 2.; 1.; 100.; 9.] ;;"
   ]
  },
  {
   "cell_type": "markdown",
   "id": "aff5ebe7-7412-4a4e-99c7-a810b49cb55e",
   "metadata": {},
   "source": [
    "<br/>"
   ]
  },
  {
   "cell_type": "markdown",
   "id": "ca1b309d-d153-41e2-807d-9d02813541a7",
   "metadata": {},
   "source": [
    "##### 🟢 &nbsp; &nbsp; Samples"
   ]
  },
  {
   "cell_type": "code",
   "execution_count": 19,
   "id": "2d70dd30-d839-473a-af6b-d4717370d2a8",
   "metadata": {},
   "outputs": [
    {
     "data": {
      "text/plain": [
       "val countBy :\n",
       "  'a list ->\n",
       "  compare:('k -> 'k -> int) -> projection:('a -> 'k) -> ('k * int) list =\n",
       "  <fun>\n"
      ]
     },
     "execution_count": 19,
     "metadata": {},
     "output_type": "execute_result"
    },
    {
     "data": {
      "text/plain": [
       "- : (int * int) list = [(1, 2); (2, 3); (3, 2); (4, 2)]\n"
      ]
     },
     "execution_count": 19,
     "metadata": {},
     "output_type": "execute_result"
    },
    {
     "data": {
      "text/plain": [
       "- : (Float.t * int) list = [(1., 2); (2., 3); (3., 2); (4., 2)]\n"
      ]
     },
     "execution_count": 19,
     "metadata": {},
     "output_type": "execute_result"
    },
    {
     "data": {
      "text/plain": [
       "type person = { name : string; age : float; }\n"
      ]
     },
     "execution_count": 19,
     "metadata": {},
     "output_type": "execute_result"
    },
    {
     "data": {
      "text/plain": [
       "- : (String.t * int) list = [(\"Click\", 3); (\"Jack\", 2)]\n"
      ]
     },
     "execution_count": 19,
     "metadata": {},
     "output_type": "execute_result"
    }
   ],
   "source": [
    "let countBy (type k) (lst: 'a list) ~compare:cmp ~(projection: 'a -> k) =\n",
    "    let len = List.length lst in\n",
    "    if len = 0 then []\n",
    "    else\n",
    "        let module M = Map.Make(struct\n",
    "            type t = k\n",
    "            let compare = cmp\n",
    "        end) in\n",
    "        let rec loop l acc =\n",
    "            match l with\n",
    "            | [] -> acc\n",
    "            | h :: t -> \n",
    "                let key = projection h in\n",
    "                loop t (acc |> M.update key (function None -> Some (1) | Some x -> Some (x + 1)))\n",
    "        in\n",
    "        loop lst M.empty |> M.bindings ;;\n",
    "\n",
    "let ints = [1; 1; 2; 2; 2; 3; 3; 4; 4] in\n",
    "ints |> countBy ~compare:Int.compare ~projection:(fun x -> x) ;;\n",
    "\n",
    "let floats = [1.; 1.; 2.; 2.; 2.; 3.; 3.; 4.; 4.] in\n",
    "floats |> countBy ~compare:Float.compare ~projection:(fun x -> x) ;;\n",
    "\n",
    "type person = { name : string; age : float } ;;\n",
    "let people = [ \n",
    "    { name = \"Click\"; age = 13. };\n",
    "    { name = \"Click\"; age = 12. }; \n",
    "    { name = \"Jack\"; age = 13. };\n",
    "    { name = \"Jack\"; age = 14. };\n",
    "    { name = \"Click\"; age = 31. }\n",
    "] in\n",
    "people |> countBy ~compare:String.compare ~projection:(fun x -> x.name) ;;"
   ]
  },
  {
   "cell_type": "code",
   "execution_count": 20,
   "id": "3fecf8b3-bd58-4bce-aa6f-9ee52d7f099d",
   "metadata": {},
   "outputs": [
    {
     "data": {
      "text/plain": [
       "val distinct : 'a list -> compare:('a -> 'a -> int) -> 'a list = <fun>\n"
      ]
     },
     "execution_count": 20,
     "metadata": {},
     "output_type": "execute_result"
    },
    {
     "data": {
      "text/plain": [
       "- : int list = [1; 2; 3; 4]\n"
      ]
     },
     "execution_count": 20,
     "metadata": {},
     "output_type": "execute_result"
    },
    {
     "data": {
      "text/plain": [
       "- : Float.t list = [1.; 2.; 3.; 4.]\n"
      ]
     },
     "execution_count": 20,
     "metadata": {},
     "output_type": "execute_result"
    },
    {
     "data": {
      "text/plain": [
       "type person = { name : string; age : float; }\n"
      ]
     },
     "execution_count": 20,
     "metadata": {},
     "output_type": "execute_result"
    },
    {
     "data": {
      "text/plain": [
       "val pcmp : person -> person -> int = <fun>\n"
      ]
     },
     "execution_count": 20,
     "metadata": {},
     "output_type": "execute_result"
    },
    {
     "data": {
      "text/plain": [
       "- : person list =\n",
       "[{name = \"Click\"; age = 13.}; {name = \"Jack\"; age = 13.};\n",
       " {name = \"Jack\"; age = 14.}; {name = \"Click\"; age = 31.}]\n"
      ]
     },
     "execution_count": 20,
     "metadata": {},
     "output_type": "execute_result"
    }
   ],
   "source": [
    "let distinct (type a) lst ~compare:cmp =\n",
    "    let module S = Set.Make(struct \n",
    "        type t = a\n",
    "        let compare = cmp\n",
    "    end) in\n",
    "    S.of_list lst |> S.elements ;;\n",
    "    \n",
    "let ints = [1; 1; 2; 2; 2; 3; 3; 4; 4] in\n",
    "ints |> distinct ~compare:Int.compare ;;\n",
    "\n",
    "let floats = [1.; 1.; 2.; 2.; 2.; 3.; 3.; 4.; 4.] in\n",
    "floats |> distinct ~compare:Float.compare ;;\n",
    "\n",
    "type person = { name : string; age : float } ;;\n",
    "let pcmp x y = \n",
    "    match (String.compare (String.lowercase_ascii x.name) (String.lowercase_ascii y.name), Float.compare x.age y.age) with\n",
    "    | (0, 0) -> 0\n",
    "    | (a, b) -> if a > b then a else b ;;\n",
    "    \n",
    "let people = [ \n",
    "    { name = \"Click\"; age = 13. };\n",
    "    { name = \"Click\"; age = 12. }; \n",
    "    { name = \"Jack\"; age = 13. };\n",
    "    { name = \"Jack\"; age = 14. };\n",
    "    { name = \"Click\"; age = 31. }\n",
    "] in\n",
    "people |> distinct ~compare:pcmp ;;"
   ]
  },
  {
   "cell_type": "code",
   "execution_count": 21,
   "id": "0bb7444f-2ef2-46c5-b182-69f96b95f97b",
   "metadata": {},
   "outputs": [
    {
     "data": {
      "text/plain": [
       "val distinctBy :\n",
       "  'a list -> compare:('k -> 'k -> int) -> projection:('a -> 'k) -> 'a list =\n",
       "  <fun>\n"
      ]
     },
     "execution_count": 21,
     "metadata": {},
     "output_type": "execute_result"
    },
    {
     "data": {
      "text/plain": [
       "- : int list = [1; 2; 3; 4]\n"
      ]
     },
     "execution_count": 21,
     "metadata": {},
     "output_type": "execute_result"
    },
    {
     "data": {
      "text/plain": [
       "- : Float.t list = [1.; 2.; 3.; 4.]\n"
      ]
     },
     "execution_count": 21,
     "metadata": {},
     "output_type": "execute_result"
    },
    {
     "data": {
      "text/plain": [
       "type person = { name : string; age : float; }\n"
      ]
     },
     "execution_count": 21,
     "metadata": {},
     "output_type": "execute_result"
    },
    {
     "data": {
      "text/plain": [
       "- : person list = [{name = \"Click\"; age = 13.}; {name = \"Jack\"; age = 13.}]\n"
      ]
     },
     "execution_count": 21,
     "metadata": {},
     "output_type": "execute_result"
    }
   ],
   "source": [
    "let distinctBy (type k) (lst:'a list) ~(compare:k -> k -> int) ~(projection:'a -> k) =\n",
    "    let module S = Set.Make(struct \n",
    "        type t = k\n",
    "        let compare = compare\n",
    "    end) in\n",
    "    let rec loop l keys ret =\n",
    "        match l with\n",
    "        | [] -> ret\n",
    "        | h :: t -> \n",
    "            let key = projection h in\n",
    "            if keys |> S.exists (fun x -> x = key) then loop t keys ret\n",
    "            else loop t (keys |> S.add key) (h :: ret)               \n",
    "    in\n",
    "    loop lst S.empty [] |> List.rev ;;\n",
    "\n",
    "let ints = [1; 1; 2; 2; 2; 3; 3; 4; 4] in\n",
    "ints |> distinctBy ~compare:Int.compare ~projection:(fun x -> x) ;;\n",
    "\n",
    "let floats = [1.; 1.; 2.; 2.; 2.; 3.; 3.; 4.; 4.] in\n",
    "floats |> distinctBy ~compare:Float.compare ~projection:(fun x -> x) ;;\n",
    "\n",
    "type person = { name : string; age : float } ;;\n",
    "let people = [ \n",
    "    { name = \"Click\"; age = 13. };\n",
    "    { name = \"Click\"; age = 12. }; \n",
    "    { name = \"Jack\"; age = 13. };\n",
    "    { name = \"Jack\"; age = 14. };\n",
    "    { name = \"Click\"; age = 31. }\n",
    "] in\n",
    "people |> distinctBy ~compare:String.compare ~projection:(fun x -> x.name) ;;\n"
   ]
  },
  {
   "cell_type": "code",
   "execution_count": 22,
   "id": "5eed3e9b-a24a-4f12-92c0-26cacdb8ea3e",
   "metadata": {},
   "outputs": [
    {
     "data": {
      "text/plain": [
       "val groupBy :\n",
       "  'a list ->\n",
       "  compare:('k -> 'k -> int) -> projection:('a -> 'k) -> ('k * 'a list) list =\n",
       "  <fun>\n"
      ]
     },
     "execution_count": 22,
     "metadata": {},
     "output_type": "execute_result"
    },
    {
     "data": {
      "text/plain": [
       "- : (int * int list) list =\n",
       "[(1, [1; 1]); (2, [2; 2; 2]); (3, [3; 3]); (4, [4; 4])]\n"
      ]
     },
     "execution_count": 22,
     "metadata": {},
     "output_type": "execute_result"
    },
    {
     "data": {
      "text/plain": [
       "- : (Float.t * Float.t list) list =\n",
       "[(1., [1.; 1.]); (2., [2.; 2.; 2.]); (3., [3.; 3.]); (4., [4.; 4.])]\n"
      ]
     },
     "execution_count": 22,
     "metadata": {},
     "output_type": "execute_result"
    },
    {
     "data": {
      "text/plain": [
       "type person = { name : string; age : float; }\n"
      ]
     },
     "execution_count": 22,
     "metadata": {},
     "output_type": "execute_result"
    },
    {
     "data": {
      "text/plain": [
       "- : (String.t * person list) list =\n",
       "[(\"Click\",\n",
       "  [{name = \"Click\"; age = 31.}; {name = \"Click\"; age = 12.};\n",
       "   {name = \"Click\"; age = 13.}]);\n",
       " (\"Jack\", [{name = \"Jack\"; age = 14.}; {name = \"Jack\"; age = 13.}])]\n"
      ]
     },
     "execution_count": 22,
     "metadata": {},
     "output_type": "execute_result"
    }
   ],
   "source": [
    "let groupBy (type k) (lst:'a list) ~(compare:k -> k -> int) ~(projection: 'a -> k) =\n",
    "    let module M = Map.Make(struct \n",
    "        type t = k\n",
    "        let compare = compare\n",
    "    end) in\n",
    "    let rec loop l ret =\n",
    "        match l with\n",
    "        | [] -> ret\n",
    "        | h :: t ->\n",
    "            let key = projection h in\n",
    "            loop t (ret |> M.update key (function  Some x -> Some ( h :: x ) | _ -> Some [h]))\n",
    "    in\n",
    "    loop lst M.empty |> M.bindings ;;\n",
    "    \n",
    "let ints = [1; 1; 2; 2; 2; 3; 3; 4; 4] in\n",
    "ints |> groupBy ~compare:Int.compare ~projection:(fun x -> x) ;;\n",
    "\n",
    "let floats = [1.; 1.; 2.; 2.; 2.; 3.; 3.; 4.; 4.] in\n",
    "floats |> groupBy ~compare:Float.compare ~projection:(fun x -> x) ;;\n",
    "\n",
    "type person = { name : string; age : float } ;;\n",
    "let people = [ \n",
    "    { name = \"Click\"; age = 13. };\n",
    "    { name = \"Click\"; age = 12. }; \n",
    "    { name = \"Jack\"; age = 13. };\n",
    "    { name = \"Jack\"; age = 14. };\n",
    "    { name = \"Click\"; age = 31. }\n",
    "] in\n",
    "people |> groupBy ~compare:String.compare ~projection:(fun x -> x.name) ;;"
   ]
  },
  {
   "cell_type": "code",
   "execution_count": null,
   "id": "d95f81c2-867a-4d39-8236-8b47fba1f082",
   "metadata": {},
   "outputs": [],
   "source": []
  }
 ],
 "metadata": {
  "kernelspec": {
   "display_name": "OCaml 4.12.0",
   "language": "OCaml",
   "name": "ocaml-jupyter-4.12.0"
  },
  "language_info": {
   "codemirror_mode": "text/x-ocaml",
   "file_extension": ".ml",
   "mimetype": "text/x-ocaml",
   "name": "OCaml",
   "nbconverter_exporter": null,
   "pygments_lexer": "OCaml",
   "version": "4.12.0"
  }
 },
 "nbformat": 4,
 "nbformat_minor": 5
}
