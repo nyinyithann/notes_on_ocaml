{
 "cells": [
  {
   "cell_type": "markdown",
   "id": "45ec76d9-08ea-475b-a918-82988c8944fd",
   "metadata": {},
   "source": [
    "# First-class Module"
   ]
  },
  {
   "cell_type": "markdown",
   "id": "94c5a0c9-a38b-4930-907b-c9eb088e896f",
   "metadata": {},
   "source": [
    "##### 🟢 &nbsp; &nbsp; Packing a module as a first-class value and unpacking it into a module."
   ]
  },
  {
   "cell_type": "code",
   "execution_count": 40,
   "id": "8d5997d6-320e-40d2-a483-f572791c08ad",
   "metadata": {},
   "outputs": [
    {
     "data": {
      "text/plain": [
       "module type T = sig val x : int end\n"
      ]
     },
     "execution_count": 40,
     "metadata": {},
     "output_type": "execute_result"
    },
    {
     "data": {
      "text/plain": [
       "module M : sig val x : int end\n"
      ]
     },
     "execution_count": 40,
     "metadata": {},
     "output_type": "execute_result"
    },
    {
     "data": {
      "text/plain": [
       "val packed : (module T) = <module>\n"
      ]
     },
     "execution_count": 40,
     "metadata": {},
     "output_type": "execute_result"
    },
    {
     "data": {
      "text/plain": [
       "- : int = 25\n"
      ]
     },
     "execution_count": 40,
     "metadata": {},
     "output_type": "execute_result"
    },
    {
     "data": {
      "text/plain": [
       "- : int = 25\n"
      ]
     },
     "execution_count": 40,
     "metadata": {},
     "output_type": "execute_result"
    }
   ],
   "source": [
    "module type T = sig val x : int end\n",
    "module M  = struct let x = 25 end\n",
    "\n",
    "(* packing module to a value *)\n",
    "let packed = (module M : T) ;;\n",
    "\n",
    "(* unpacking module value *)\n",
    "let module Unpacked = (val packed : T ) in\n",
    "Unpacked.x;;\n",
    "\n",
    "(* unpacking module value using pattern match *)\n",
    "let (module Unpacked : T ) = packed in\n",
    "Unpacked.x ;;"
   ]
  },
  {
   "cell_type": "markdown",
   "id": "f0a8826b-aff5-4022-a326-355f6805c914",
   "metadata": {},
   "source": [
    "<br/>"
   ]
  },
  {
   "cell_type": "markdown",
   "id": "208dd422-7ac3-4ad9-8deb-804e85216943",
   "metadata": {},
   "source": [
    "##### 🟢 &nbsp; &nbsp; Passing a packed module value as a function paramater"
   ]
  },
  {
   "cell_type": "code",
   "execution_count": 41,
   "id": "e59f4145-b2a4-4dcf-87f2-da83b6fd8ff5",
   "metadata": {},
   "outputs": [
    {
     "data": {
      "text/plain": [
       "module type T = sig val x : int end\n"
      ]
     },
     "execution_count": 41,
     "metadata": {},
     "output_type": "execute_result"
    },
    {
     "data": {
      "text/plain": [
       "module M : sig val x : int end\n"
      ]
     },
     "execution_count": 41,
     "metadata": {},
     "output_type": "execute_result"
    },
    {
     "data": {
      "text/plain": [
       "val packed : (module T) = <module>\n"
      ]
     },
     "execution_count": 41,
     "metadata": {},
     "output_type": "execute_result"
    },
    {
     "data": {
      "text/plain": [
       "val f : (module T) -> int = <fun>\n"
      ]
     },
     "execution_count": 41,
     "metadata": {},
     "output_type": "execute_result"
    },
    {
     "data": {
      "text/plain": [
       "- : int = 25\n"
      ]
     },
     "execution_count": 41,
     "metadata": {},
     "output_type": "execute_result"
    },
    {
     "data": {
      "text/plain": [
       "val f : (module T) -> int = <fun>\n"
      ]
     },
     "execution_count": 41,
     "metadata": {},
     "output_type": "execute_result"
    },
    {
     "data": {
      "text/plain": [
       "- : int = 25\n"
      ]
     },
     "execution_count": 41,
     "metadata": {},
     "output_type": "execute_result"
    }
   ],
   "source": [
    "module type T = sig val x : int end\n",
    "module M  = struct let x = 25 end\n",
    "let packed = (module M : T) ;;\n",
    "let f m = \n",
    "    let module Unpacked = (val m : T) in\n",
    "    Unpacked.x ;;\n",
    "f packed ;;\n",
    "\n",
    "(* using pattern match *)\n",
    "let f (module M : T) = M.x ;;\n",
    "f packed ;;"
   ]
  },
  {
   "cell_type": "markdown",
   "id": "82f0bd39-0a41-42d2-9fa7-5207de12ef6d",
   "metadata": {},
   "source": [
    "<br/>"
   ]
  },
  {
   "cell_type": "markdown",
   "id": "914cd171-64d3-443a-b76d-ef29890281a0",
   "metadata": {},
   "source": [
    "##### 🟢 &nbsp; &nbsp; Returning a packed module value from a function"
   ]
  },
  {
   "cell_type": "code",
   "execution_count": 42,
   "id": "41bb116f-641e-4dc8-b5c1-2143c91f2329",
   "metadata": {},
   "outputs": [
    {
     "data": {
      "text/plain": [
       "module type T = sig val x : int end\n"
      ]
     },
     "execution_count": 42,
     "metadata": {},
     "output_type": "execute_result"
    },
    {
     "data": {
      "text/plain": [
       "- : int = 100\n"
      ]
     },
     "execution_count": 42,
     "metadata": {},
     "output_type": "execute_result"
    }
   ],
   "source": [
    "module type T = sig val x : int end ;;\n",
    "let foo (v: int) = (module struct let x = v end : T) in\n",
    "let (module M : T) = foo 100 in\n",
    "M.x ;;"
   ]
  },
  {
   "cell_type": "markdown",
   "id": "999fe6b5-3faa-4176-ae89-b157e9217727",
   "metadata": {},
   "source": [
    "<br/>"
   ]
  },
  {
   "cell_type": "markdown",
   "id": "a7ce28d4-7672-4333-9339-941be9a96ef9",
   "metadata": {},
   "source": [
    "##### 🟢 &nbsp; &nbsp; With module type having abstract type"
   ]
  },
  {
   "cell_type": "code",
   "execution_count": 43,
   "id": "7051a43e-1299-406c-a201-3fa733f8001f",
   "metadata": {},
   "outputs": [
    {
     "data": {
      "text/plain": [
       "module type T = sig type t val double : t -> t end\n"
      ]
     },
     "execution_count": 43,
     "metadata": {},
     "output_type": "execute_result"
    },
    {
     "data": {
      "text/plain": [
       "module M : sig type t = int val double : int -> int end\n"
      ]
     },
     "execution_count": 43,
     "metadata": {},
     "output_type": "execute_result"
    },
    {
     "data": {
      "text/plain": [
       "- : int = 4\n"
      ]
     },
     "execution_count": 43,
     "metadata": {},
     "output_type": "execute_result"
    }
   ],
   "source": [
    "module type T = sig \n",
    "    type t\n",
    "    val double : t -> t\n",
    "end \n",
    "\n",
    "module M = struct\n",
    "    type t = int\n",
    "    let double x = 2 * x\n",
    "end ;;\n",
    "\n",
    "let packed = (module M : T with type t = int) in\n",
    "let module Unpacked = (val packed: T with type t = int) in\n",
    "Unpacked.double 2 ;;"
   ]
  },
  {
   "cell_type": "markdown",
   "id": "da92cec3-d5f6-4fc1-a36f-40158089e78f",
   "metadata": {},
   "source": [
    "<br/>"
   ]
  },
  {
   "cell_type": "markdown",
   "id": "fd68cdce-0f26-4251-9ba3-4322daa63bcf",
   "metadata": {},
   "source": [
    "##### 🟢 &nbsp; &nbsp; With locally abstract type"
   ]
  },
  {
   "cell_type": "code",
   "execution_count": 44,
   "id": "3fcd40a0-1c06-4ef9-98f3-f084f989869b",
   "metadata": {},
   "outputs": [
    {
     "data": {
      "text/plain": [
       "module type T = sig type t val double : t -> t end\n"
      ]
     },
     "execution_count": 44,
     "metadata": {},
     "output_type": "execute_result"
    },
    {
     "data": {
      "text/plain": [
       "module M_Int : sig type t = int val double : int -> int end\n"
      ]
     },
     "execution_count": 44,
     "metadata": {},
     "output_type": "execute_result"
    },
    {
     "data": {
      "text/plain": [
       "module M_Float : sig type t = float val double : float -> float end\n"
      ]
     },
     "execution_count": 44,
     "metadata": {},
     "output_type": "execute_result"
    },
    {
     "data": {
      "text/plain": [
       "val double_list : (module T with type t = 'a) -> 'a list -> 'a list = <fun>\n"
      ]
     },
     "execution_count": 44,
     "metadata": {},
     "output_type": "execute_result"
    },
    {
     "data": {
      "text/plain": [
       "- : M_Int.t list = [2; 4; 6]\n"
      ]
     },
     "execution_count": 44,
     "metadata": {},
     "output_type": "execute_result"
    },
    {
     "data": {
      "text/plain": [
       "- : M_Float.t list = [2.; 4.; 6.]\n"
      ]
     },
     "execution_count": 44,
     "metadata": {},
     "output_type": "execute_result"
    }
   ],
   "source": [
    "module type T = sig \n",
    "    type t\n",
    "    val double : t -> t\n",
    "end \n",
    "\n",
    "module M_Int = struct\n",
    "    type t = int\n",
    "    let double x = 2 * x\n",
    "end\n",
    "\n",
    "module M_Float = struct\n",
    "    type t = float\n",
    "    let double x = 2. *. x\n",
    "end\n",
    "\n",
    "let double_list (type a) (module M : T with type t = a) lst = \n",
    "    lst |> List.map M.double ;;\n",
    "\n",
    "\n",
    "double_list (module M_Int) [1;2;3] ;;\n",
    "\n",
    "double_list (module M_Float) [1.;2.;3.] ;;"
   ]
  },
  {
   "cell_type": "markdown",
   "id": "566a2c34-2c25-4fc4-97d6-9eb281f65ccb",
   "metadata": {},
   "source": [
    "<br/>"
   ]
  },
  {
   "cell_type": "markdown",
   "id": "bfc0068d-fa5e-42ee-9242-bae447e9a99e",
   "metadata": {},
   "source": [
    "##### 🟢 &nbsp; &nbsp; Sample"
   ]
  },
  {
   "cell_type": "code",
   "execution_count": 45,
   "id": "9c0751c1-d6f1-46a9-88a2-344251630b50",
   "metadata": {},
   "outputs": [
    {
     "data": {
      "text/plain": [
       "module type SHAPE = sig val draw : unit -> string end\n"
      ]
     },
     "execution_count": 45,
     "metadata": {},
     "output_type": "execute_result"
    },
    {
     "data": {
      "text/plain": [
       "module Circle :\n",
       "  sig val location : float * float val draw : unit -> string end\n"
      ]
     },
     "execution_count": 45,
     "metadata": {},
     "output_type": "execute_result"
    },
    {
     "data": {
      "text/plain": [
       "module Rectangle :\n",
       "  sig val width : float val height : float val draw : unit -> string end\n"
      ]
     },
     "execution_count": 45,
     "metadata": {},
     "output_type": "execute_result"
    },
    {
     "data": {
      "text/plain": [
       "val draw : (module SHAPE) -> string = <fun>\n"
      ]
     },
     "execution_count": 45,
     "metadata": {},
     "output_type": "execute_result"
    },
    {
     "data": {
      "text/plain": [
       "- : string = \"Drawing a circle at (1., 2.).\"\n"
      ]
     },
     "execution_count": 45,
     "metadata": {},
     "output_type": "execute_result"
    },
    {
     "data": {
      "text/plain": [
       "- : string = \"Drawing a rectangle with width = 100., height = 50..\"\n"
      ]
     },
     "execution_count": 45,
     "metadata": {},
     "output_type": "execute_result"
    },
    {
     "data": {
      "text/plain": [
       "val shapes : (module SHAPE) list = [<module>; <module>; <module>]\n"
      ]
     },
     "execution_count": 45,
     "metadata": {},
     "output_type": "execute_result"
    },
    {
     "data": {
      "text/plain": [
       "- : string = \"Drawing a circle at (1., 2.).\"\n"
      ]
     },
     "execution_count": 45,
     "metadata": {},
     "output_type": "execute_result"
    },
    {
     "data": {
      "text/plain": [
       "val display : (module SHAPE) list -> string -> string = <fun>\n"
      ]
     },
     "execution_count": 45,
     "metadata": {},
     "output_type": "execute_result"
    },
    {
     "data": {
      "text/plain": [
       "- : string =\n",
       "\"Drawing a circle at (1., 2.).Drawing a rectangle with width = 100., height = 50..Anonymous Shape\"\n"
      ]
     },
     "execution_count": 45,
     "metadata": {},
     "output_type": "execute_result"
    }
   ],
   "source": [
    "module type SHAPE = sig    \n",
    "    val draw : unit -> string\n",
    "end\n",
    "\n",
    "module Circle  = struct\n",
    "    let location = (1., 2.)\n",
    "    let draw () = Printf.sprintf (\"Drawing a circle at (%F, %F).\") (fst location) (snd location)\n",
    "end\n",
    "\n",
    "module Rectangle  = struct\n",
    "    let width = 100.\n",
    "    let height = 50.\n",
    "    let draw () = Printf.sprintf (\"Drawing a rectangle with width = %F, height = %F.\") width height\n",
    "end ;;\n",
    "\n",
    "let draw (module S : SHAPE) = S.draw() ;; \n",
    "draw (module Circle : SHAPE) ;;\n",
    "draw (module Rectangle : SHAPE) ;;\n",
    "\n",
    "let shapes = [ (module Circle : SHAPE) ; (module Rectangle); (module struct let draw () = \"Anonymous Shape\" end) ] ;;\n",
    "let (module MP : SHAPE) = List.hd shapes in\n",
    "MP.draw() ;;\n",
    "\n",
    "let rec display (lst : (module SHAPE) list) ret : string = \n",
    "    match lst with\n",
    "    | [] -> ret\n",
    "    | h :: t -> \n",
    "        let (module MS : SHAPE) = h in\n",
    "        display t (ret ^ MS.draw()) ;;\n",
    "display shapes \"\" ;;"
   ]
  },
  {
   "cell_type": "markdown",
   "id": "320be3aa-45f7-4034-8afb-d9cddae65c8d",
   "metadata": {},
   "source": [
    "<br/>"
   ]
  },
  {
   "cell_type": "markdown",
   "id": "efe59e8e-a092-4691-89dd-9af4a0c22c24",
   "metadata": {},
   "source": [
    "##### 🟢 &nbsp; &nbsp; Sample from Manual https://v2.ocaml.org/manual/firstclassmodules.html "
   ]
  },
  {
   "cell_type": "code",
   "execution_count": 52,
   "id": "49533449-45c4-4c5d-a5ab-752abef5f4b5",
   "metadata": {},
   "outputs": [
    {
     "data": {
      "text/plain": [
       "val make_set : ('a -> 'a -> int) -> (module Set.S with type elt = 'a) = <fun>\n"
      ]
     },
     "execution_count": 52,
     "metadata": {},
     "output_type": "execute_result"
    },
    {
     "data": {
      "text/plain": [
       "val sort : (module Set.S with type elt = 'a) -> 'a list -> 'a list = <fun>\n"
      ]
     },
     "execution_count": 52,
     "metadata": {},
     "output_type": "execute_result"
    },
    {
     "data": {
      "text/plain": [
       "- : int list = [0; 1; 2; 3; 4; 9; 100]\n"
      ]
     },
     "execution_count": 52,
     "metadata": {},
     "output_type": "execute_result"
    },
    {
     "data": {
      "text/plain": [
       "- : Float.t list = [0.; 1.; 2.; 3.; 4.; 9.; 100.]\n"
      ]
     },
     "execution_count": 52,
     "metadata": {},
     "output_type": "execute_result"
    }
   ],
   "source": [
    "let make_set (type a) cmp =\n",
    "    let module S = Set.Make(struct\n",
    "        type t = a\n",
    "        let compare = cmp\n",
    "    end) in\n",
    "    (module S : Set.S with type elt = a) ;;\n",
    "    \n",
    "let sort (type a) (module S : Set.S with type elt = a) l =\n",
    "    S.elements (List.fold_right S.add l S.empty) ;;\n",
    "\n",
    "let s = make_set Int.compare in\n",
    "sort s [0; 3; 1; 4; 3; 2; 1; 100; 9] ;;\n",
    "\n",
    "let s = make_set Float.compare in\n",
    "sort s [0.; 3.; 1.; 4.; 3.; 2.; 1.; 100.; 9.] ;;"
   ]
  },
  {
   "cell_type": "markdown",
   "id": "aff5ebe7-7412-4a4e-99c7-a810b49cb55e",
   "metadata": {},
   "source": [
    "<br/>"
   ]
  },
  {
   "cell_type": "markdown",
   "id": "ca1b309d-d153-41e2-807d-9d02813541a7",
   "metadata": {},
   "source": [
    "##### 🟢 &nbsp; &nbsp; Samples"
   ]
  },
  {
   "cell_type": "code",
   "execution_count": 47,
   "id": "d69dc4f1-6681-4307-b69c-d8bf8dd1ebb2",
   "metadata": {},
   "outputs": [
    {
     "data": {
      "text/plain": [
       "module type ADDABLE = sig type t val add : t -> t -> t end\n"
      ]
     },
     "execution_count": 47,
     "metadata": {},
     "output_type": "execute_result"
    },
    {
     "data": {
      "text/plain": [
       "val add : (module ADDABLE with type t = 'a) -> 'a -> 'a -> 'a = <fun>\n"
      ]
     },
     "execution_count": 47,
     "metadata": {},
     "output_type": "execute_result"
    },
    {
     "data": {
      "text/plain": [
       "- : Int.t = 3\n"
      ]
     },
     "execution_count": 47,
     "metadata": {},
     "output_type": "execute_result"
    },
    {
     "data": {
      "text/plain": [
       "val add : (module ADDABLE with type t = 'a) -> 'a -> 'a -> 'a = <fun>\n"
      ]
     },
     "execution_count": 47,
     "metadata": {},
     "output_type": "execute_result"
    },
    {
     "data": {
      "text/plain": [
       "- : Float.t = 5.\n"
      ]
     },
     "execution_count": 47,
     "metadata": {},
     "output_type": "execute_result"
    },
    {
     "data": {
      "text/plain": [
       "module type SUB = sig type t val sub : t -> t -> t end\n"
      ]
     },
     "execution_count": 47,
     "metadata": {},
     "output_type": "execute_result"
    },
    {
     "data": {
      "text/plain": [
       "val sub : (module SUB with type t = 'a) -> 'a -> 'a -> 'a = <fun>\n"
      ]
     },
     "execution_count": 47,
     "metadata": {},
     "output_type": "execute_result"
    },
    {
     "data": {
      "text/plain": [
       "- : Float.t = -1.\n"
      ]
     },
     "execution_count": 47,
     "metadata": {},
     "output_type": "execute_result"
    },
    {
     "data": {
      "text/plain": [
       "val sub : (module SUB with type t = 'a) -> 'a -> 'a -> 'a = <fun>\n"
      ]
     },
     "execution_count": 47,
     "metadata": {},
     "output_type": "execute_result"
    },
    {
     "data": {
      "text/plain": [
       "- : Int.t = -1\n"
      ]
     },
     "execution_count": 47,
     "metadata": {},
     "output_type": "execute_result"
    }
   ],
   "source": [
    "module type ADDABLE = sig\n",
    "    type t\n",
    "    val add : t -> t -> t\n",
    "end ;;\n",
    "\n",
    "let add (type a) (module M : ADDABLE with type t = a) x y = \n",
    "    M.add x y ;;    \n",
    "add (module Int) 1 2 ;;\n",
    "\n",
    "let add : type a. (module ADDABLE with type t = a) -> a -> a -> a = fun (module M) x y -> M.add x y ;;\n",
    "add (module Float) 2. 3. ;;\n",
    "\n",
    "module type SUB = sig\n",
    "    type t \n",
    "    val sub : t -> t -> t\n",
    "end ;;\n",
    "\n",
    "let sub (type a) (module M : SUB with type t = a) x y = M.sub x y ;;\n",
    "sub (module Float) 1. 2. ;;\n",
    "\n",
    "let sub : type a. (module SUB with type t = a) -> a -> a -> a = fun (module M) x y -> M.sub x y ;;\n",
    "sub (module Int) 1 2 ;;"
   ]
  },
  {
   "cell_type": "markdown",
   "id": "db087584-cea6-4177-a090-caa223987233",
   "metadata": {},
   "source": [
    "Passing functor as first class module."
   ]
  },
  {
   "cell_type": "code",
   "execution_count": 81,
   "id": "a123656b-4775-4bc3-9855-4f3117be7061",
   "metadata": {},
   "outputs": [
    {
     "data": {
      "text/plain": [
       "module type CONVERTER = sig type t val convert : t -> t end\n"
      ]
     },
     "execution_count": 81,
     "metadata": {},
     "output_type": "execute_result"
    },
    {
     "data": {
      "text/plain": [
       "module HourToSecond : sig type t = float val convert : t -> t end\n"
      ]
     },
     "execution_count": 81,
     "metadata": {},
     "output_type": "execute_result"
    },
    {
     "data": {
      "text/plain": [
       "module KtoM : sig type t = float val convert : t -> t end\n"
      ]
     },
     "execution_count": 81,
     "metadata": {},
     "output_type": "execute_result"
    },
    {
     "data": {
      "text/plain": [
       "val hour_to_second : (module CONVERTER with type t = float) = <module>\n"
      ]
     },
     "execution_count": 81,
     "metadata": {},
     "output_type": "execute_result"
    },
    {
     "data": {
      "text/plain": [
       "val k_to_m : (module CONVERTER with type t = float) = <module>\n"
      ]
     },
     "execution_count": 81,
     "metadata": {},
     "output_type": "execute_result"
    },
    {
     "data": {
      "text/plain": [
       "module type TOSTRING = sig val to_string : float -> string end\n"
      ]
     },
     "execution_count": 81,
     "metadata": {},
     "output_type": "execute_result"
    },
    {
     "data": {
      "text/plain": [
       "module type FT =\n",
       "  functor (C : sig type t = float val convert : t -> t end) -> TOSTRING\n"
      ]
     },
     "execution_count": 81,
     "metadata": {},
     "output_type": "execute_result"
    },
    {
     "data": {
      "text/plain": [
       "module F :\n",
       "  functor (C : sig type t = float val convert : t -> t end) -> TOSTRING\n"
      ]
     },
     "execution_count": 81,
     "metadata": {},
     "output_type": "execute_result"
    },
    {
     "data": {
      "text/plain": [
       "val convert : [> `htos ] -> v:float -> (module FT) -> string = <fun>\n"
      ]
     },
     "execution_count": 81,
     "metadata": {},
     "output_type": "execute_result"
    },
    {
     "data": {
      "text/plain": [
       "- : string = \"value is 360000000.\"\n"
      ]
     },
     "execution_count": 81,
     "metadata": {},
     "output_type": "execute_result"
    }
   ],
   "source": [
    "module type CONVERTER = sig\n",
    "    type t\n",
    "    val convert : t -> t \n",
    "end ;;\n",
    "\n",
    "module HourToSecond : CONVERTER with type t = float = struct\n",
    "    type t = float\n",
    "    let convert v = v *. 60. *. 60.\n",
    "end ;;\n",
    "\n",
    "module KtoM : CONVERTER with type t = float = struct\n",
    "    type t = float\n",
    "    let convert v = v *. 1000.\n",
    "end ;;\n",
    "\n",
    "let hour_to_second = (module HourToSecond : CONVERTER with type t = float) ;;\n",
    "let k_to_m = (module KtoM : CONVERTER with type t = float) ;;\n",
    "\n",
    "module type TOSTRING = sig\n",
    "    val to_string : float -> string\n",
    "end ;;\n",
    "\n",
    "module type FT = functor (C : CONVERTER with type t = float) -> (TOSTRING)\n",
    "\n",
    "module F (C:CONVERTER with type t = float) : TOSTRING = struct \n",
    "    let to_string v = Printf.sprintf \"value is %F\" (C.convert v)\n",
    "end\n",
    "\n",
    "let convert k ~(v : float) (module Z : FT) = \n",
    "    let (module C : CONVERTER with type t = float) = if k = `htos then hour_to_second else k_to_m in\n",
    "    let module M = Z(C) in\n",
    "    M.to_string v ;;\n",
    "    \n",
    "convert `htos 100000. (module F) ;;"
   ]
  }
 ],
 "metadata": {
  "kernelspec": {
   "display_name": "OCaml 4.12.0",
   "language": "OCaml",
   "name": "ocaml-jupyter-4.12.0"
  },
  "language_info": {
   "codemirror_mode": "text/x-ocaml",
   "file_extension": ".ml",
   "mimetype": "text/x-ocaml",
   "name": "OCaml",
   "nbconverter_exporter": null,
   "pygments_lexer": "OCaml",
   "version": "4.12.0"
  },
  "widgets": {
   "application/vnd.jupyter.widget-state+json": {
    "state": {},
    "version_major": 2,
    "version_minor": 0
   }
  }
 },
 "nbformat": 4,
 "nbformat_minor": 5
}
