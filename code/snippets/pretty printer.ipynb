{
 "cells": [
  {
   "cell_type": "markdown",
   "id": "643dcb76-bb2d-45ce-b5c7-6b204d196f95",
   "metadata": {},
   "source": [
    "#### Pretty printer using Fmt module"
   ]
  },
  {
   "cell_type": "code",
   "execution_count": 8,
   "id": "cbb29739-e6ee-4fd3-9361-dfcae3c426e3",
   "metadata": {},
   "outputs": [
    {
     "data": {
      "text/plain": [
       "type 'a any = < x : 'a; y : 'a >\n"
      ]
     },
     "execution_count": 8,
     "metadata": {},
     "output_type": "execute_result"
    },
    {
     "data": {
      "text/plain": [
       "val pp_int_any : int any Fmt.t = <fun>\n"
      ]
     },
     "execution_count": 8,
     "metadata": {},
     "output_type": "execute_result"
    },
    {
     "data": {
      "text/plain": [
       "- : < x : int; y : int > = x: 10\n",
       "                           y: 20\n"
      ]
     },
     "execution_count": 8,
     "metadata": {},
     "output_type": "execute_result"
    },
    {
     "data": {
      "text/plain": [
       "val pp_float_any : float any Fmt.t = <fun>\n"
      ]
     },
     "execution_count": 8,
     "metadata": {},
     "output_type": "execute_result"
    },
    {
     "data": {
      "text/plain": [
       "- : < x : float; y : float > = x: 1.1\n",
       "                               y: 2.2\n"
      ]
     },
     "execution_count": 8,
     "metadata": {},
     "output_type": "execute_result"
    }
   ],
   "source": [
    "(* for type 'a any = < x : 'a ; y : 'a > *)\n",
    "\n",
    "type 'a any = < x : 'a; y : 'a > ;;\n",
    "\n",
    "(* pretty printer *)\n",
    "#require \"Fmt\" ;;\n",
    "let pp_int_any : int any Fmt.t =\n",
    "    let open Fmt in\n",
    "    record [\n",
    "        field \"x\" (fun o -> o#x) int ;\n",
    "        field \"y\" (fun o -> o#y) int ;\n",
    "    ] ;;\n",
    "#install_printer pp_int_any ;;\n",
    "object method x = 10 method y = 20 end ;;\n",
    "\n",
    "(* pretty printer *)\n",
    "let pp_float_any : float any Fmt.t =\n",
    "    let open Fmt in\n",
    "    record [\n",
    "        field \"x\" (fun o -> o#x) float ;\n",
    "        field \"y\" (fun o -> o#y) float ;\n",
    "    ] ;;\n",
    "#install_printer pp_float_any ;;\n",
    "\n",
    "object method x = 1.1 method y = 2.2 end ;;"
   ]
  },
  {
   "cell_type": "code",
   "execution_count": null,
   "id": "d39165b3-03c1-49d0-b707-d7c870210246",
   "metadata": {},
   "outputs": [],
   "source": []
  }
 ],
 "metadata": {
  "kernelspec": {
   "display_name": "OCaml 4.12.0",
   "language": "OCaml",
   "name": "ocaml-jupyter-4.12.0"
  },
  "language_info": {
   "codemirror_mode": "text/x-ocaml",
   "file_extension": ".ml",
   "mimetype": "text/x-ocaml",
   "name": "OCaml",
   "nbconverter_exporter": null,
   "pygments_lexer": "OCaml",
   "version": "4.12.0"
  },
  "widgets": {
   "application/vnd.jupyter.widget-state+json": {
    "state": {},
    "version_major": 2,
    "version_minor": 0
   }
  }
 },
 "nbformat": 4,
 "nbformat_minor": 5
}
