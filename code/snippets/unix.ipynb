{
 "cells": [
  {
   "cell_type": "markdown",
   "id": "2e8ec0d8-14dc-4508-bb04-d7a5f334cb2e",
   "metadata": {},
   "source": [
    "# Unix"
   ]
  },
  {
   "cell_type": "code",
   "execution_count": null,
   "id": "3c9eb144-3cd6-44f5-b729-a82c950aacf8",
   "metadata": {},
   "outputs": [
    {
     "name": "stderr",
     "output_type": "stream",
     "text": [
      "/Users/jazz/.opam/4.14.0/lib/ocaml/unix.cma: loaded\n"
     ]
    }
   ],
   "source": [
    "#require \"unix\" ;;\n",
    "\n",
    "Unix.execvp \"open\" [|\"open\"; \"-a\"; \"Google Chrome\" ; \"http://www.typingchild.com\"|] ;;"
   ]
  },
  {
   "cell_type": "code",
   "execution_count": 1,
   "id": "db4342cb-2195-49f3-8605-53d018a007b8",
   "metadata": {},
   "outputs": [
    {
     "name": "stderr",
     "output_type": "stream",
     "text": [
      "/Users/jazz/.opam/4.14.0/lib/ocaml/unix.cma: loaded\n"
     ]
    },
    {
     "data": {
      "text/plain": [
       "val get1char : unit -> char = <fun>\n"
      ]
     },
     "execution_count": 1,
     "metadata": {},
     "output_type": "execute_result"
    }
   ],
   "source": [
    "#require \"unix\" ;;\n",
    "let get1char () =\n",
    "    let termio = Unix.tcgetattr Unix.stdin in\n",
    "    let () =\n",
    "        Unix.tcsetattr Unix.stdin Unix.TCSADRAIN\n",
    "            { termio with Unix.c_icanon = false } in\n",
    "    let res = input_char stdin in\n",
    "    Unix.tcsetattr Unix.stdin Unix.TCSADRAIN termio;\n",
    "    res ;;"
   ]
  },
  {
   "cell_type": "code",
   "execution_count": null,
   "id": "372529ec-b0a7-40d3-ba22-06a800f9ee40",
   "metadata": {},
   "outputs": [],
   "source": []
  }
 ],
 "metadata": {
  "kernelspec": {
   "display_name": "OCaml 4.14.0",
   "language": "OCaml",
   "name": "ocaml-jupyter-4.14.0"
  },
  "language_info": {
   "codemirror_mode": "text/x-ocaml",
   "file_extension": ".ml",
   "mimetype": "text/x-ocaml",
   "name": "OCaml",
   "nbconverter_exporter": null,
   "pygments_lexer": "OCaml",
   "version": "4.14.0"
  },
  "widgets": {
   "application/vnd.jupyter.widget-state+json": {
    "state": {},
    "version_major": 2,
    "version_minor": 0
   }
  }
 },
 "nbformat": 4,
 "nbformat_minor": 5
}
