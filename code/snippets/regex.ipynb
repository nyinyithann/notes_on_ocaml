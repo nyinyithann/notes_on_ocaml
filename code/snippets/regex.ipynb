{
 "cells": [
  {
   "cell_type": "markdown",
   "id": "f051a685-2ef5-4fd6-a211-ca552525cac5",
   "metadata": {},
   "source": [
    "# Regex"
   ]
  },
  {
   "cell_type": "markdown",
   "id": "ea879ac6-a48a-4b83-9ffd-e25c6f74fc82",
   "metadata": {},
   "source": [
    "Url validation"
   ]
  },
  {
   "cell_type": "code",
   "execution_count": 1,
   "id": "7d41b025-cedd-4526-b8b2-d36f0b0aaab0",
   "metadata": {},
   "outputs": [
    {
     "name": "stderr",
     "output_type": "stream",
     "text": [
      "/Users/jazz/.opam/4.14.0/lib/seq: added to search path\n",
      "/Users/jazz/.opam/4.14.0/lib/re: added to search path\n",
      "/Users/jazz/.opam/4.14.0/lib/re/re.cma: loaded\n"
     ]
    },
    {
     "data": {
      "text/plain": [
       "val re : Re.re = <abstr>\n"
      ]
     },
     "execution_count": 1,
     "metadata": {},
     "output_type": "execute_result"
    },
    {
     "data": {
      "text/plain": [
       "- : bool = true\n"
      ]
     },
     "execution_count": 1,
     "metadata": {},
     "output_type": "execute_result"
    },
    {
     "data": {
      "text/plain": [
       "- : bool = false\n"
      ]
     },
     "execution_count": 1,
     "metadata": {},
     "output_type": "execute_result"
    }
   ],
   "source": [
    "#require \"re\" ;;\n",
    "\n",
    "let re = Re.Perl.re {|((http|https)://)(www.)?[a-zA-Z0-9@:%._\\+~#?&//=]{2,256}\\.[a-z]{2,6}\\b([-a-zA-Z0-9@:%._\\+~#?&//=]*)|} |> Re.compile ;;\n",
    "Re.execp re \"https://www.gogole.com/test\" ;;\n",
    "Re.execp re \"100000\" ;;"
   ]
  },
  {
   "cell_type": "code",
   "execution_count": 3,
   "id": "7eb2e33c-e506-4d38-b6ed-247d5c1522a3",
   "metadata": {},
   "outputs": [
    {
     "name": "stderr",
     "output_type": "stream",
     "text": [
      "/Users/jazz/.opam/4.14.0/lib/ocaml/compiler-libs: added to search path\n",
      "/Users/jazz/.opam/4.14.0/lib/ocaml/compiler-libs/ocamlcommon.cma: loaded\n",
      "/Users/jazz/.opam/4.14.0/lib/ocaml/compiler-libs/ocamlbytecomp.cma: loaded\n",
      "/Users/jazz/.opam/4.14.0/lib/ocaml/compiler-libs/ocamltoplevel.cma: loaded\n",
      "/Users/jazz/.opam/4.14.0/lib/base/base_internalhash_types: added to search path\n",
      "/Users/jazz/.opam/4.14.0/lib/base/base_internalhash_types/base_internalhash_types.cma: loaded\n",
      "/Users/jazz/.opam/4.14.0/lib/base/caml: added to search path\n",
      "/Users/jazz/.opam/4.14.0/lib/base/caml/caml.cma: loaded\n",
      "/Users/jazz/.opam/4.14.0/lib/base/shadow_stdlib: added to search path\n",
      "/Users/jazz/.opam/4.14.0/lib/base/shadow_stdlib/shadow_stdlib.cma: loaded\n",
      "/Users/jazz/.opam/4.14.0/lib/sexplib0: added to search path\n",
      "/Users/jazz/.opam/4.14.0/lib/sexplib0/sexplib0.cma: loaded\n",
      "/Users/jazz/.opam/4.14.0/lib/base: added to search path\n",
      "/Users/jazz/.opam/4.14.0/lib/base/base.cma: loaded\n",
      "/Users/jazz/.opam/4.14.0/lib/base/md5: added to search path\n",
      "/Users/jazz/.opam/4.14.0/lib/base/md5/md5_lib.cma: loaded\n",
      "/Users/jazz/.opam/4.14.0/lib/fieldslib: added to search path\n",
      "/Users/jazz/.opam/4.14.0/lib/fieldslib/fieldslib.cma: loaded\n",
      "/Users/jazz/.opam/4.14.0/lib/ppx_compare/runtime-lib: added to search path\n",
      "/Users/jazz/.opam/4.14.0/lib/ppx_compare/runtime-lib/ppx_compare_lib.cma: loaded\n",
      "/Users/jazz/.opam/4.14.0/lib/ppx_enumerate/runtime-lib: added to search path\n",
      "/Users/jazz/.opam/4.14.0/lib/ppx_enumerate/runtime-lib/ppx_enumerate_lib.cma: loaded\n",
      "/Users/jazz/.opam/4.14.0/lib/ppx_sexp_conv/runtime-lib: added to search path\n",
      "/Users/jazz/.opam/4.14.0/lib/ppx_sexp_conv/runtime-lib/ppx_sexp_conv_lib.cma: loaded\n",
      "/Users/jazz/.opam/4.14.0/lib/ppx_hash/runtime-lib: added to search path\n",
      "/Users/jazz/.opam/4.14.0/lib/ppx_hash/runtime-lib/ppx_hash_lib.cma: loaded\n",
      "/Users/jazz/.opam/4.14.0/lib/ppx_here/runtime-lib: added to search path\n",
      "/Users/jazz/.opam/4.14.0/lib/ppx_here/runtime-lib/ppx_here_lib.cma: loaded\n",
      "/Users/jazz/.opam/4.14.0/lib/ppx_assert/runtime-lib: added to search path\n",
      "/Users/jazz/.opam/4.14.0/lib/ppx_assert/runtime-lib/ppx_assert_lib.cma: loaded\n",
      "/Users/jazz/.opam/4.14.0/lib/ppx_bench/runtime-lib: added to search path\n",
      "/Users/jazz/.opam/4.14.0/lib/ppx_bench/runtime-lib/ppx_bench_lib.cma: loaded\n",
      "/Users/jazz/.opam/4.14.0/lib/ppx_inline_test/config: added to search path\n",
      "/Users/jazz/.opam/4.14.0/lib/ppx_inline_test/config/inline_test_config.cma: loaded\n",
      "/Users/jazz/.opam/4.14.0/lib/jane-street-headers: added to search path\n",
      "/Users/jazz/.opam/4.14.0/lib/jane-street-headers/jane_street_headers.cma: loaded\n",
      "/Users/jazz/.opam/4.14.0/lib/time_now: added to search path\n",
      "/Users/jazz/.opam/4.14.0/lib/time_now/time_now.cma: loaded\n",
      "/Users/jazz/.opam/4.14.0/lib/ppx_inline_test/runtime-lib: added to search path\n",
      "/Users/jazz/.opam/4.14.0/lib/ppx_inline_test/runtime-lib/ppx_inline_test_lib.cma: loaded\n",
      "/Users/jazz/.opam/4.14.0/lib/splittable_random: added to search path\n",
      "/Users/jazz/.opam/4.14.0/lib/splittable_random/splittable_random.cma: loaded\n",
      "/Users/jazz/.opam/4.14.0/lib/base_quickcheck: added to search path\n",
      "/Users/jazz/.opam/4.14.0/lib/base_quickcheck/base_quickcheck.cma: loaded\n",
      "/Users/jazz/.opam/4.14.0/lib/base_quickcheck/ppx_quickcheck/runtime: added to search path\n",
      "/Users/jazz/.opam/4.14.0/lib/base_quickcheck/ppx_quickcheck/runtime/ppx_quickcheck_runtime.cma: loaded\n",
      "/Users/jazz/.opam/4.14.0/lib/ocaml/unix.cma: loaded\n",
      "/Users/jazz/.opam/4.14.0/lib/ocaml/bigarray.cma: loaded\n",
      "/Users/jazz/.opam/4.14.0/lib/variantslib: added to search path\n",
      "/Users/jazz/.opam/4.14.0/lib/variantslib/variantslib.cma: loaded\n",
      "/Users/jazz/.opam/4.14.0/lib/bin_prot/shape: added to search path\n",
      "/Users/jazz/.opam/4.14.0/lib/bin_prot/shape/bin_shape_lib.cma: loaded\n",
      "/Users/jazz/.opam/4.14.0/lib/bin_prot: added to search path\n",
      "/Users/jazz/.opam/4.14.0/lib/bin_prot/bin_prot.cma: loaded\n",
      "/Users/jazz/.opam/4.14.0/lib/ppx_expect/common: added to search path\n",
      "/Users/jazz/.opam/4.14.0/lib/ppx_expect/common/expect_test_common.cma: loaded\n",
      "/Users/jazz/.opam/4.14.0/lib/ppx_expect/config_types: added to search path\n",
      "/Users/jazz/.opam/4.14.0/lib/ppx_expect/config_types/expect_test_config_types.cma: loaded\n",
      "/Users/jazz/.opam/4.14.0/lib/ppx_expect/collector: added to search path\n",
      "/Users/jazz/.opam/4.14.0/lib/ppx_expect/collector/expect_test_collector.cma: loaded\n",
      "/Users/jazz/.opam/4.14.0/lib/ppx_expect/config: added to search path\n",
      "/Users/jazz/.opam/4.14.0/lib/ppx_expect/config/expect_test_config.cma: loaded\n",
      "/Users/jazz/.opam/4.14.0/lib/parsexp: added to search path\n",
      "/Users/jazz/.opam/4.14.0/lib/parsexp/parsexp.cma: loaded\n",
      "/Users/jazz/.opam/4.14.0/lib/sexplib: added to search path\n",
      "/Users/jazz/.opam/4.14.0/lib/sexplib/sexplib.cma: loaded\n",
      "/Users/jazz/.opam/4.14.0/lib/ppx_log/types: added to search path\n",
      "/Users/jazz/.opam/4.14.0/lib/ppx_log/types/ppx_log_types.cma: loaded\n",
      "/Users/jazz/.opam/4.14.0/lib/stdio: added to search path\n",
      "/Users/jazz/.opam/4.14.0/lib/stdio/stdio.cma: loaded\n",
      "/Users/jazz/.opam/4.14.0/lib/ppx_module_timer/runtime: added to search path\n",
      "/Users/jazz/.opam/4.14.0/lib/ppx_module_timer/runtime/ppx_module_timer_runtime.cma: loaded\n",
      "/Users/jazz/.opam/4.14.0/lib/typerep: added to search path\n",
      "/Users/jazz/.opam/4.14.0/lib/typerep/typerep_lib.cma: loaded\n",
      "/Users/jazz/.opam/4.14.0/lib/int_repr: added to search path\n",
      "/Users/jazz/.opam/4.14.0/lib/int_repr/int_repr.cma: loaded\n",
      "/Users/jazz/.opam/4.14.0/lib/base_bigstring: added to search path\n",
      "/Users/jazz/.opam/4.14.0/lib/base_bigstring/base_bigstring.cma: loaded\n",
      "/Users/jazz/.opam/4.14.0/lib/core/base_for_tests: added to search path\n",
      "/Users/jazz/.opam/4.14.0/lib/core/base_for_tests/base_for_tests.cma: loaded\n",
      "/Users/jazz/.opam/4.14.0/lib/core/validate: added to search path\n",
      "/Users/jazz/.opam/4.14.0/lib/core/validate/validate.cma: loaded\n",
      "/Users/jazz/.opam/4.14.0/lib/core: added to search path\n",
      "/Users/jazz/.opam/4.14.0/lib/core/core.cma: loaded\n",
      "/Users/jazz/.opam/4.14.0/lib/core/top: added to search path\n",
      "/Users/jazz/.opam/4.14.0/lib/core/top/core_top.cma: loaded\n"
     ]
    },
    {
     "data": {
      "text/plain": [
       "val strip_space_and_concat : sep:string -> string -> string = <fun>\n"
      ]
     },
     "execution_count": 3,
     "metadata": {},
     "output_type": "execute_result"
    }
   ],
   "source": [
    "#require \"re\" ;;\n",
    "#require \"core.top\" ;;\n",
    "open Core ;;\n",
    "let strip_space_and_concat ~sep str =\n",
    "  let re = Re.Perl.re \"[ \\n\\r\\x0c\\t]+\" |> Re.compile in\n",
    "  Re.split re str |> List.map ~f:String.strip |> String.concat ~sep\n",
    ";;\n"
   ]
  }
 ],
 "metadata": {
  "kernelspec": {
   "display_name": "OCaml 4.14.0",
   "language": "OCaml",
   "name": "ocaml-jupyter-4.14.0"
  },
  "language_info": {
   "codemirror_mode": "text/x-ocaml",
   "file_extension": ".ml",
   "mimetype": "text/x-ocaml",
   "name": "OCaml",
   "nbconverter_exporter": null,
   "pygments_lexer": "OCaml",
   "version": "4.14.0"
  },
  "widgets": {
   "application/vnd.jupyter.widget-state+json": {
    "state": {},
    "version_major": 2,
    "version_minor": 0
   }
  }
 },
 "nbformat": 4,
 "nbformat_minor": 5
}
