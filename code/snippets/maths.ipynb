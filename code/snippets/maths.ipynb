{
 "cells": [
  {
   "cell_type": "markdown",
   "id": "2a3b5fc0-d5b4-49cb-b2b7-fdb62cccc9a5",
   "metadata": {},
   "source": [
    "# Maths"
   ]
  },
  {
   "cell_type": "code",
   "execution_count": 65,
   "id": "c760f0af-5e40-40d0-b70a-37e90798b5e8",
   "metadata": {},
   "outputs": [
    {
     "data": {
      "text/plain": [
       "val pow : int -> int -> int = <fun>\n"
      ]
     },
     "execution_count": 65,
     "metadata": {},
     "output_type": "execute_result"
    },
    {
     "data": {
      "text/plain": [
       "- : int = 1000000000000000\n"
      ]
     },
     "execution_count": 65,
     "metadata": {},
     "output_type": "execute_result"
    },
    {
     "data": {
      "text/plain": [
       "- : float = 1e+20\n"
      ]
     },
     "execution_count": 65,
     "metadata": {},
     "output_type": "execute_result"
    }
   ],
   "source": [
    "let pow (base: int) (exp: int) =\n",
    "    let result = ref 1 in\n",
    "    let e = ref exp in\n",
    "    let b = ref base in\n",
    "    let exception Break in\n",
    "    try\n",
    "        while (true) do\n",
    "            if !e land 1 <> 0 then result := !result * !b ;\n",
    "            e := !e lsr 1 ;\n",
    "            if !e = 0 then raise Break ;\n",
    "            b := !b * !b ;\n",
    "        done ;\n",
    "        !result ;\n",
    "    with _ -> !result ;;\n",
    "\n",
    "pow 100000 3;;\n",
    "100000. ** 4. ;;"
   ]
  },
  {
   "cell_type": "code",
   "execution_count": 70,
   "id": "349a82b8-6148-4e9f-b119-8fa5b812a6d0",
   "metadata": {},
   "outputs": [
    {
     "data": {
      "text/plain": [
       "val pow : int -> int -> int = <fun>\n"
      ]
     },
     "execution_count": 70,
     "metadata": {},
     "output_type": "execute_result"
    },
    {
     "data": {
      "text/plain": [
       "- : int = 1000\n"
      ]
     },
     "execution_count": 70,
     "metadata": {},
     "output_type": "execute_result"
    },
    {
     "data": {
      "text/plain": [
       "- : int = 16\n"
      ]
     },
     "execution_count": 70,
     "metadata": {},
     "output_type": "execute_result"
    }
   ],
   "source": [
    "let rec pow (base: int) = function \n",
    "    | 0 -> 1\n",
    "    | 1 -> base\n",
    "    | e -> base * pow base (e - 1) ;;\n",
    "\n",
    "pow 10 3;;\n",
    "pow 4 2 ;;"
   ]
  }
 ],
 "metadata": {
  "kernelspec": {
   "display_name": "OCaml 4.14.0",
   "language": "OCaml",
   "name": "ocaml-jupyter-4.14.0"
  },
  "language_info": {
   "codemirror_mode": "text/x-ocaml",
   "file_extension": ".ml",
   "mimetype": "text/x-ocaml",
   "name": "OCaml",
   "nbconverter_exporter": null,
   "pygments_lexer": "OCaml",
   "version": "4.14.0"
  },
  "widgets": {
   "application/vnd.jupyter.widget-state+json": {
    "state": {},
    "version_major": 2,
    "version_minor": 0
   }
  }
 },
 "nbformat": 4,
 "nbformat_minor": 5
}
