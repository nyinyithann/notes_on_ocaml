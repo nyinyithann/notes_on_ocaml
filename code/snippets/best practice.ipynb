{
 "cells": [
  {
   "cell_type": "markdown",
   "id": "b5ad4907-0aef-415a-adbc-fcba4c4f9429",
   "metadata": {},
   "source": [
    "# Best Practice"
   ]
  },
  {
   "cell_type": "markdown",
   "id": "9a322f2e-d29d-4e32-8b9d-460a347774ca",
   "metadata": {},
   "source": [
    "Custom Compare"
   ]
  },
  {
   "cell_type": "code",
   "execution_count": 2,
   "id": "ef8e4022-eae9-4c38-88e8-0a7248db2ae9",
   "metadata": {},
   "outputs": [
    {
     "data": {
      "text/plain": [
       "module Time :\n",
       "  sig\n",
       "    type 'a t = { hour : int; minutes : int; seconds : int; info : 'a; }\n",
       "    val ( <?> ) : int -> int -> int\n",
       "    val compare : 'a t -> 'b t -> int\n",
       "  end\n"
      ]
     },
     "execution_count": 2,
     "metadata": {},
     "output_type": "execute_result"
    },
    {
     "ename": "interrupt",
     "evalue": "intterupt",
     "output_type": "error",
     "traceback": [
      "\u001b[31mException: Sys.Break.\u001b[0m"
     ]
    }
   ],
   "source": [
    "module Time = struct\n",
    "  type 'a t =\n",
    "    { hour:     int\n",
    "    ; minutes:  int\n",
    "    ; seconds:  int\n",
    "    ; info:     'a\n",
    "    }\n",
    "\n",
    "  (* <?> is left associative *)\n",
    "  let (<?>) a b =\n",
    "    if a = 0 then b else a\n",
    "\n",
    "  let compare a b =\n",
    "        compare a.hour    b.hour\n",
    "    <?> compare a.minutes b.minutes\n",
    "    <?> compare a.seconds b.seconds\n",
    "    <?> 0\n",
    "end"
   ]
  }
 ],
 "metadata": {
  "kernelspec": {
   "display_name": "OCaml 4.14.0",
   "language": "OCaml",
   "name": "ocaml-jupyter-4.14.0"
  },
  "language_info": {
   "codemirror_mode": "text/x-ocaml",
   "file_extension": ".ml",
   "mimetype": "text/x-ocaml",
   "name": "OCaml",
   "nbconverter_exporter": null,
   "pygments_lexer": "OCaml",
   "version": "4.14.0"
  },
  "widgets": {
   "application/vnd.jupyter.widget-state+json": {
    "state": {},
    "version_major": 2,
    "version_minor": 0
   }
  }
 },
 "nbformat": 4,
 "nbformat_minor": 5
}
