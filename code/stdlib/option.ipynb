{
 "cells": [
  {
   "cell_type": "markdown",
   "id": "a9e40f00-2803-44be-ab45-1c3555d0e0b3",
   "metadata": {},
   "source": [
    "# Option Module"
   ]
  },
  {
   "cell_type": "markdown",
   "id": "e3dc98a9-57a9-4eeb-a426-f555b0157fc0",
   "metadata": {},
   "source": [
    "https://v2.ocaml.org/api/Option.html"
   ]
  },
  {
   "cell_type": "markdown",
   "id": "881f5a45",
   "metadata": {},
   "source": [
    "none"
   ]
  },
  {
   "cell_type": "code",
   "execution_count": 2,
   "id": "63d549d1",
   "metadata": {},
   "outputs": [
    {
     "data": {
      "text/plain": [
       "- : 'a option = None\n"
      ]
     },
     "execution_count": 2,
     "metadata": {},
     "output_type": "execute_result"
    }
   ],
   "source": [
    "Option.none ;;"
   ]
  },
  {
   "cell_type": "markdown",
   "id": "88165101",
   "metadata": {},
   "source": [
    "some"
   ]
  },
  {
   "cell_type": "code",
   "execution_count": 3,
   "id": "e9fd4eca",
   "metadata": {},
   "outputs": [
    {
     "data": {
      "text/plain": [
       "- : int option = Some 10\n"
      ]
     },
     "execution_count": 3,
     "metadata": {},
     "output_type": "execute_result"
    }
   ],
   "source": [
    "Option.some 10 ;;"
   ]
  },
  {
   "cell_type": "markdown",
   "id": "ea4d51ab",
   "metadata": {},
   "source": [
    "value"
   ]
  },
  {
   "cell_type": "code",
   "execution_count": 6,
   "id": "fd0dcf84",
   "metadata": {},
   "outputs": [
    {
     "data": {
      "text/plain": [
       "- : 'a option -> default:'a -> 'a = <fun>\n"
      ]
     },
     "execution_count": 6,
     "metadata": {},
     "output_type": "execute_result"
    },
    {
     "data": {
      "text/plain": [
       "- : int = 10\n"
      ]
     },
     "execution_count": 6,
     "metadata": {},
     "output_type": "execute_result"
    },
    {
     "data": {
      "text/plain": [
       "- : int = 111\n"
      ]
     },
     "execution_count": 6,
     "metadata": {},
     "output_type": "execute_result"
    }
   ],
   "source": [
    "Option.value ;;\n",
    "\n",
    "Option.value (Some 10) ~default:111 ;;\n",
    "Option.value None ~default:111 ;;"
   ]
  },
  {
   "cell_type": "markdown",
   "id": "5e1e047f",
   "metadata": {},
   "source": [
    "get"
   ]
  },
  {
   "cell_type": "code",
   "execution_count": 10,
   "id": "54bf711b",
   "metadata": {},
   "outputs": [
    {
     "data": {
      "text/plain": [
       "- : 'a option -> 'a = <fun>\n"
      ]
     },
     "execution_count": 10,
     "metadata": {},
     "output_type": "execute_result"
    },
    {
     "data": {
      "text/plain": [
       "- : int = 10\n"
      ]
     },
     "execution_count": 10,
     "metadata": {},
     "output_type": "execute_result"
    },
    {
     "data": {
      "text/plain": [
       "- : string = \"option is None\"\n"
      ]
     },
     "execution_count": 10,
     "metadata": {},
     "output_type": "execute_result"
    }
   ],
   "source": [
    "Option.get ;;\n",
    "\n",
    "Option.get (Some 10) ;;\n",
    "try Option.get None with Invalid_argument x -> x ;;"
   ]
  },
  {
   "cell_type": "markdown",
   "id": "f62232fd",
   "metadata": {},
   "source": [
    "bind"
   ]
  },
  {
   "cell_type": "code",
   "execution_count": 18,
   "id": "b634a345",
   "metadata": {},
   "outputs": [
    {
     "data": {
      "text/plain": [
       "- : 'a option -> ('a -> 'b option) -> 'b option = <fun>\n"
      ]
     },
     "execution_count": 18,
     "metadata": {},
     "output_type": "execute_result"
    },
    {
     "data": {
      "text/plain": [
       "- : int option = Some 3\n"
      ]
     },
     "execution_count": 18,
     "metadata": {},
     "output_type": "execute_result"
    },
    {
     "data": {
      "text/plain": [
       "val ( >>= ) : 'a option -> ('a -> 'b option) -> 'b option = <fun>\n"
      ]
     },
     "execution_count": 18,
     "metadata": {},
     "output_type": "execute_result"
    },
    {
     "data": {
      "text/plain": [
       "- : int option = Some 30\n"
      ]
     },
     "execution_count": 18,
     "metadata": {},
     "output_type": "execute_result"
    },
    {
     "data": {
      "text/plain": [
       "val ( let* ) : 'a option -> ('a -> 'b option) -> 'b option = <fun>\n"
      ]
     },
     "execution_count": 18,
     "metadata": {},
     "output_type": "execute_result"
    },
    {
     "data": {
      "text/plain": [
       "- : int option = Some 30\n"
      ]
     },
     "execution_count": 18,
     "metadata": {},
     "output_type": "execute_result"
    }
   ],
   "source": [
    "Option.bind ;;\n",
    "\n",
    "let o1 = Some 1 in\n",
    "let o2 = Some 2 in\n",
    "Option.bind o1 (fun x -> Option.bind o2 (fun y -> Some (x + y))) ;;\n",
    "\n",
    "let ( >>= ) = Option.bind ;;\n",
    "\n",
    "(Some 10) >>= (fun x ->\n",
    "(Some 20) >>= (fun y -> \n",
    "    Some (x + y)\n",
    ")) ;;\n",
    "\n",
    "let ( let* ) = Option.bind ;;\n",
    "\n",
    "let* x = Some 10 in\n",
    "let* y = Some 20 in\n",
    "Some (x + y) ;;"
   ]
  },
  {
   "cell_type": "markdown",
   "id": "a5458c3f",
   "metadata": {},
   "source": [
    "join"
   ]
  },
  {
   "cell_type": "code",
   "execution_count": 21,
   "id": "497d40c0",
   "metadata": {},
   "outputs": [
    {
     "data": {
      "text/plain": [
       "- : 'a option option -> 'a option = <fun>\n"
      ]
     },
     "execution_count": 21,
     "metadata": {},
     "output_type": "execute_result"
    },
    {
     "data": {
      "text/plain": [
       "- : int option = Some 10\n"
      ]
     },
     "execution_count": 21,
     "metadata": {},
     "output_type": "execute_result"
    },
    {
     "data": {
      "text/plain": [
       "- : 'a option = None\n"
      ]
     },
     "execution_count": 21,
     "metadata": {},
     "output_type": "execute_result"
    }
   ],
   "source": [
    "Option.join ;;\n",
    "\n",
    "Option.join (Some (Some 10)) ;;\n",
    "Option.join None ;;"
   ]
  },
  {
   "cell_type": "markdown",
   "id": "f89a7c58",
   "metadata": {},
   "source": [
    "map"
   ]
  },
  {
   "cell_type": "code",
   "execution_count": 24,
   "id": "0d8d6be6",
   "metadata": {},
   "outputs": [
    {
     "data": {
      "text/plain": [
       "- : ('a -> 'b) -> 'a option -> 'b option = <fun>\n"
      ]
     },
     "execution_count": 24,
     "metadata": {},
     "output_type": "execute_result"
    },
    {
     "data": {
      "text/plain": [
       "- : int option = Some 100\n"
      ]
     },
     "execution_count": 24,
     "metadata": {},
     "output_type": "execute_result"
    },
    {
     "data": {
      "text/plain": [
       "- : int option = None\n"
      ]
     },
     "execution_count": 24,
     "metadata": {},
     "output_type": "execute_result"
    }
   ],
   "source": [
    "Option.map ;;\n",
    "\n",
    "Some 10 |> Option.map (fun x -> x * x) ;;\n",
    "None |> Option.map (fun x -> x * x) ;;"
   ]
  },
  {
   "cell_type": "markdown",
   "id": "e6c5abd9",
   "metadata": {},
   "source": [
    "fold"
   ]
  },
  {
   "cell_type": "code",
   "execution_count": 27,
   "id": "84d3a2f0",
   "metadata": {},
   "outputs": [
    {
     "data": {
      "text/plain": [
       "- : none:'a -> some:('b -> 'a) -> 'b option -> 'a = <fun>\n"
      ]
     },
     "execution_count": 27,
     "metadata": {},
     "output_type": "execute_result"
    },
    {
     "data": {
      "text/plain": [
       "- : int = 20\n"
      ]
     },
     "execution_count": 27,
     "metadata": {},
     "output_type": "execute_result"
    },
    {
     "data": {
      "text/plain": [
       "- : int = 0\n"
      ]
     },
     "execution_count": 27,
     "metadata": {},
     "output_type": "execute_result"
    }
   ],
   "source": [
    "Option.fold ;;\n",
    "\n",
    "Some 10 |> Option.fold ~none:0 ~some:(fun x -> x + x) ;;\n",
    "None |> Option.fold ~none:0 ~some:(fun x -> x + x) ;;"
   ]
  },
  {
   "cell_type": "markdown",
   "id": "694efc23",
   "metadata": {},
   "source": [
    "iter"
   ]
  },
  {
   "cell_type": "code",
   "execution_count": 35,
   "id": "6d421070",
   "metadata": {},
   "outputs": [
    {
     "data": {
      "text/plain": [
       "- : ('a -> unit) -> 'a option -> unit = <fun>\n"
      ]
     },
     "execution_count": 35,
     "metadata": {},
     "output_type": "execute_result"
    },
    {
     "data": {
      "text/plain": [
       "- : int ref = {contents = 10}\n"
      ]
     },
     "execution_count": 35,
     "metadata": {},
     "output_type": "execute_result"
    },
    {
     "data": {
      "text/plain": [
       "- : int ref = {contents = 0}\n"
      ]
     },
     "execution_count": 35,
     "metadata": {},
     "output_type": "execute_result"
    }
   ],
   "source": [
    "Option.iter ;;\n",
    "\n",
    "let r = ref 0 in\n",
    "Some 10 |> Option.iter (fun x -> r := x) ;\n",
    "r ;;\n",
    "\n",
    "let r = ref 0 in\n",
    "None |> Option.iter (fun x -> r := x) ;\n",
    "r ;;"
   ]
  },
  {
   "cell_type": "markdown",
   "id": "c09d5f77",
   "metadata": {},
   "source": [
    "is_none"
   ]
  },
  {
   "cell_type": "code",
   "execution_count": 37,
   "id": "7bce8589",
   "metadata": {},
   "outputs": [
    {
     "data": {
      "text/plain": [
       "- : 'a option -> bool = <fun>\n"
      ]
     },
     "execution_count": 37,
     "metadata": {},
     "output_type": "execute_result"
    },
    {
     "data": {
      "text/plain": [
       "- : bool = false\n"
      ]
     },
     "execution_count": 37,
     "metadata": {},
     "output_type": "execute_result"
    },
    {
     "data": {
      "text/plain": [
       "- : bool = true\n"
      ]
     },
     "execution_count": 37,
     "metadata": {},
     "output_type": "execute_result"
    }
   ],
   "source": [
    "Option.is_none ;;\n",
    "\n",
    "Some 10 |> Option.is_none ;;\n",
    "None |> Option.is_none ;;"
   ]
  },
  {
   "cell_type": "markdown",
   "id": "027dc188",
   "metadata": {},
   "source": [
    "is_some"
   ]
  },
  {
   "cell_type": "code",
   "execution_count": 39,
   "id": "8bde4b56",
   "metadata": {},
   "outputs": [
    {
     "data": {
      "text/plain": [
       "- : 'a option -> bool = <fun>\n"
      ]
     },
     "execution_count": 39,
     "metadata": {},
     "output_type": "execute_result"
    },
    {
     "data": {
      "text/plain": [
       "- : bool = true\n"
      ]
     },
     "execution_count": 39,
     "metadata": {},
     "output_type": "execute_result"
    },
    {
     "data": {
      "text/plain": [
       "- : bool = false\n"
      ]
     },
     "execution_count": 39,
     "metadata": {},
     "output_type": "execute_result"
    }
   ],
   "source": [
    "Option.is_some ;;\n",
    "\n",
    "Some 10 |> Option.is_some ;;\n",
    "None |> Option.is_some ;;"
   ]
  },
  {
   "cell_type": "markdown",
   "id": "773b2db1",
   "metadata": {},
   "source": [
    "equal"
   ]
  },
  {
   "cell_type": "code",
   "execution_count": 45,
   "id": "2ca1a6af",
   "metadata": {},
   "outputs": [
    {
     "data": {
      "text/plain": [
       "- : ('a -> 'a -> bool) -> 'a option -> 'a option -> bool = <fun>\n"
      ]
     },
     "execution_count": 45,
     "metadata": {},
     "output_type": "execute_result"
    },
    {
     "data": {
      "text/plain": [
       "- : bool = true\n"
      ]
     },
     "execution_count": 45,
     "metadata": {},
     "output_type": "execute_result"
    },
    {
     "data": {
      "text/plain": [
       "- : bool = true\n"
      ]
     },
     "execution_count": 45,
     "metadata": {},
     "output_type": "execute_result"
    },
    {
     "data": {
      "text/plain": [
       "- : bool = false\n"
      ]
     },
     "execution_count": 45,
     "metadata": {},
     "output_type": "execute_result"
    },
    {
     "data": {
      "text/plain": [
       "- : bool = false\n"
      ]
     },
     "execution_count": 45,
     "metadata": {},
     "output_type": "execute_result"
    }
   ],
   "source": [
    "Option.equal ;;\n",
    "\n",
    "Option.equal (=) (Some 10) (Some 10) ;;\n",
    "Option.equal (=) None None ;;\n",
    "\n",
    "Option.equal (=) (Some 10) None ;;\n",
    "Option.equal (=) (Some 10) (Some 11) ;;"
   ]
  },
  {
   "cell_type": "markdown",
   "id": "db46d9d9",
   "metadata": {},
   "source": [
    "compare"
   ]
  },
  {
   "cell_type": "code",
   "execution_count": 50,
   "id": "d25b71bb",
   "metadata": {},
   "outputs": [
    {
     "data": {
      "text/plain": [
       "- : ('a -> 'a -> int) -> 'a option -> 'a option -> int = <fun>\n"
      ]
     },
     "execution_count": 50,
     "metadata": {},
     "output_type": "execute_result"
    },
    {
     "data": {
      "text/plain": [
       "- : int = 0\n"
      ]
     },
     "execution_count": 50,
     "metadata": {},
     "output_type": "execute_result"
    },
    {
     "data": {
      "text/plain": [
       "- : int = 0\n"
      ]
     },
     "execution_count": 50,
     "metadata": {},
     "output_type": "execute_result"
    },
    {
     "data": {
      "text/plain": [
       "- : int = 1\n"
      ]
     },
     "execution_count": 50,
     "metadata": {},
     "output_type": "execute_result"
    },
    {
     "data": {
      "text/plain": [
       "- : int = -1\n"
      ]
     },
     "execution_count": 50,
     "metadata": {},
     "output_type": "execute_result"
    }
   ],
   "source": [
    "Option.compare ;;\n",
    "\n",
    "Option.compare compare (Some 10) (Some 10) ;;\n",
    "Option.compare compare None None ;;\n",
    "Option.compare compare (Some 10) None ;;\n",
    "Option.compare compare (Some 10) (Some 11) ;;"
   ]
  },
  {
   "cell_type": "markdown",
   "id": "a76f7fa7",
   "metadata": {},
   "source": [
    "to_result"
   ]
  },
  {
   "cell_type": "code",
   "execution_count": 52,
   "id": "7901559c",
   "metadata": {},
   "outputs": [
    {
     "data": {
      "text/plain": [
       "- : none:'e -> 'a option -> ('a, 'e) result = <fun>\n"
      ]
     },
     "execution_count": 52,
     "metadata": {},
     "output_type": "execute_result"
    },
    {
     "data": {
      "text/plain": [
       "- : (int, string) result = Ok 10\n"
      ]
     },
     "execution_count": 52,
     "metadata": {},
     "output_type": "execute_result"
    },
    {
     "data": {
      "text/plain": [
       "- : ('a, string) result = Error \"error msg here\"\n"
      ]
     },
     "execution_count": 52,
     "metadata": {},
     "output_type": "execute_result"
    }
   ],
   "source": [
    "Option.to_result ;;\n",
    "\n",
    "Some 10 |> Option.to_result ~none:\"error msg here\" ;;\n",
    "None |> Option.to_result ~none:\"error msg here\" ;;"
   ]
  },
  {
   "cell_type": "markdown",
   "id": "c8414fd2",
   "metadata": {},
   "source": [
    "to_list"
   ]
  },
  {
   "cell_type": "code",
   "execution_count": 54,
   "id": "9a7686b5",
   "metadata": {},
   "outputs": [
    {
     "data": {
      "text/plain": [
       "- : 'a option -> 'a list = <fun>\n"
      ]
     },
     "execution_count": 54,
     "metadata": {},
     "output_type": "execute_result"
    },
    {
     "data": {
      "text/plain": [
       "- : int list = [10]\n"
      ]
     },
     "execution_count": 54,
     "metadata": {},
     "output_type": "execute_result"
    },
    {
     "data": {
      "text/plain": [
       "- : 'a list = []\n"
      ]
     },
     "execution_count": 54,
     "metadata": {},
     "output_type": "execute_result"
    }
   ],
   "source": [
    "Option.to_list ;;\n",
    "\n",
    "Some 10 |> Option.to_list ;;\n",
    "None |> Option.to_list ;;"
   ]
  },
  {
   "cell_type": "markdown",
   "id": "5061c592",
   "metadata": {},
   "source": [
    "to_seq"
   ]
  },
  {
   "cell_type": "code",
   "execution_count": 55,
   "id": "73089aaf",
   "metadata": {},
   "outputs": [
    {
     "data": {
      "text/plain": [
       "- : 'a option -> 'a Seq.t = <fun>\n"
      ]
     },
     "execution_count": 55,
     "metadata": {},
     "output_type": "execute_result"
    },
    {
     "data": {
      "text/plain": [
       "- : int Seq.t = <fun>\n"
      ]
     },
     "execution_count": 55,
     "metadata": {},
     "output_type": "execute_result"
    },
    {
     "data": {
      "text/plain": [
       "- : 'a Seq.t = <fun>\n"
      ]
     },
     "execution_count": 55,
     "metadata": {},
     "output_type": "execute_result"
    }
   ],
   "source": [
    "Option.to_seq ;;\n",
    "\n",
    "Some 10 |> Option.to_seq ;;\n",
    "None |> Option.to_seq ;;"
   ]
  },
  {
   "cell_type": "code",
   "execution_count": null,
   "id": "941519c1",
   "metadata": {},
   "outputs": [],
   "source": []
  }
 ],
 "metadata": {
  "kernelspec": {
   "display_name": "OCaml 4.14.0",
   "language": "OCaml",
   "name": "ocaml-jupyter-4.14.0"
  },
  "language_info": {
   "codemirror_mode": "text/x-ocaml",
   "file_extension": ".ml",
   "mimetype": "text/x-ocaml",
   "name": "OCaml",
   "nbconverter_exporter": null,
   "pygments_lexer": "OCaml",
   "version": "4.14.0"
  },
  "widgets": {
   "application/vnd.jupyter.widget-state+json": {
    "state": {},
    "version_major": 2,
    "version_minor": 0
   }
  }
 },
 "nbformat": 4,
 "nbformat_minor": 5
}
