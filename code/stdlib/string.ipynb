{
 "cells": [
  {
   "cell_type": "code",
   "execution_count": 262,
   "id": "f2e554d6-42e2-4c6d-9965-1da9a6f77cc2",
   "metadata": {},
   "outputs": [
    {
     "data": {
      "text/plain": [
       "val print : string -> unit = <fun>\n"
      ]
     },
     "execution_count": 262,
     "metadata": {},
     "output_type": "execute_result"
    },
    {
     "data": {
      "text/plain": [
       "val s : string = \"aaaaa\"\n"
      ]
     },
     "execution_count": 262,
     "metadata": {},
     "output_type": "execute_result"
    },
    {
     "name": "stdout",
     "output_type": "stream",
     "text": [
      "aaaaa\n"
     ]
    },
    {
     "data": {
      "text/plain": [
       "- : unit = ()\n"
      ]
     },
     "execution_count": 262,
     "metadata": {},
     "output_type": "execute_result"
    }
   ],
   "source": [
    "open String\n",
    "\n",
    "let print x = print_string x; print_newline()\n",
    "\n",
    "(* make *)\n",
    "let s = make 5 'a';;\n",
    "print s;;"
   ]
  },
  {
   "cell_type": "code",
   "execution_count": 263,
   "id": "bb42256a-1fb5-4418-8267-bb4ff7fb4255",
   "metadata": {},
   "outputs": [
    {
     "data": {
      "text/plain": [
       "val s : string = \"abcdefghijklmnopqrstuvwxyz\"\n"
      ]
     },
     "execution_count": 263,
     "metadata": {},
     "output_type": "execute_result"
    }
   ],
   "source": [
    "(* init *)\n",
    "let s = init 26 (fun x -> char_of_int (x + 97));;"
   ]
  },
  {
   "cell_type": "code",
   "execution_count": 264,
   "id": "df06fd94-25ef-4ff2-a588-9673aa9dd310",
   "metadata": {},
   "outputs": [
    {
     "data": {
      "text/plain": [
       "val s : string = \"🐫🐫🐫\"\n"
      ]
     },
     "execution_count": 264,
     "metadata": {},
     "output_type": "execute_result"
    },
    {
     "data": {
      "text/plain": [
       "val len : int = 12\n"
      ]
     },
     "execution_count": 264,
     "metadata": {},
     "output_type": "execute_result"
    }
   ],
   "source": [
    "(** [length s] is the length (number of bytes/characters) of [s]. *)\n",
    "(** to get unicode char length, use https://github.com/yoriyuki/Camomile *)\n",
    "let s = \"\" ^ \"\\u{1F42B}\\u{1F42B}\\u{1F42B}\";;\n",
    "let len = s |> length;;"
   ]
  },
  {
   "cell_type": "code",
   "execution_count": 265,
   "id": "73c24ef1-d29c-4d58-b4a4-3d6bfcb1b51b",
   "metadata": {},
   "outputs": [
    {
     "data": {
      "text/plain": [
       "val s : string = \"🐫🐫🐫\"\n"
      ]
     },
     "execution_count": 265,
     "metadata": {},
     "output_type": "execute_result"
    },
    {
     "data": {
      "text/plain": [
       "val ch : char = '\\240'\n"
      ]
     },
     "execution_count": 265,
     "metadata": {},
     "output_type": "execute_result"
    },
    {
     "data": {
      "text/plain": [
       "val ch : char = '\\159'\n"
      ]
     },
     "execution_count": 265,
     "metadata": {},
     "output_type": "execute_result"
    },
    {
     "data": {
      "text/plain": [
       "val ch : char = '\\144'\n"
      ]
     },
     "execution_count": 265,
     "metadata": {},
     "output_type": "execute_result"
    }
   ],
   "source": [
    "(* get *)\n",
    "let s = \"\" ^ \"\\u{1F42B}\\u{1F42B}\\u{1F42B}\";;\n",
    "let ch = get s 0;;\n",
    "let ch = get s 1;;\n",
    "let ch = s.[2];;"
   ]
  },
  {
   "cell_type": "code",
   "execution_count": 266,
   "id": "aa33c524-9096-4f02-b26f-26c6120c68dc",
   "metadata": {},
   "outputs": [
    {
     "data": {
      "text/plain": [
       "val str_list : string list = [\"abc\"; \"def\"; \"hij\"]\n"
      ]
     },
     "execution_count": 266,
     "metadata": {},
     "output_type": "execute_result"
    },
    {
     "data": {
      "text/plain": [
       "val r : string = \"abc <|> def <|> hij\"\n"
      ]
     },
     "execution_count": 266,
     "metadata": {},
     "output_type": "execute_result"
    }
   ],
   "source": [
    "(* concat *)\n",
    "let str_list = [\"abc\"; \"def\"; \"hij\"];;\n",
    "let r = concat \" <|> \" str_list;;"
   ]
  },
  {
   "cell_type": "code",
   "execution_count": 267,
   "id": "3af93ee3-4015-4216-b045-be4e4e4b143f",
   "metadata": {},
   "outputs": [
    {
     "data": {
      "text/plain": [
       "val s : bool = false\n"
      ]
     },
     "execution_count": 267,
     "metadata": {},
     "output_type": "execute_result"
    }
   ],
   "source": [
    "(* equal *)\n",
    "let s = equal \"abc\" \"def\";;"
   ]
  },
  {
   "cell_type": "code",
   "execution_count": 268,
   "id": "fba21aa6-6610-4cec-bc6d-d9772d0a02ef",
   "metadata": {},
   "outputs": [
    {
     "data": {
      "text/plain": [
       "val r : int = 1\n"
      ]
     },
     "execution_count": 268,
     "metadata": {},
     "output_type": "execute_result"
    }
   ],
   "source": [
    "(* compare *)\n",
    "let r = compare \"xyz\" \"def\";;"
   ]
  },
  {
   "cell_type": "code",
   "execution_count": 269,
   "id": "33c66859-b106-4ce2-9d2f-91c5f506736e",
   "metadata": {},
   "outputs": [
    {
     "data": {
      "text/plain": [
       "val r : bool = false\n"
      ]
     },
     "execution_count": 269,
     "metadata": {},
     "output_type": "execute_result"
    },
    {
     "data": {
      "text/plain": [
       "val r : bool = true\n"
      ]
     },
     "execution_count": 269,
     "metadata": {},
     "output_type": "execute_result"
    }
   ],
   "source": [
    "(* contains_from *)\n",
    "let r = contains_from \"abcdef\" 2 'a';;\n",
    "let r = contains_from \"abcdef\" 0 'a';;"
   ]
  },
  {
   "cell_type": "code",
   "execution_count": 270,
   "id": "bf429d7b-d901-426c-93db-dc976824c74c",
   "metadata": {},
   "outputs": [
    {
     "data": {
      "text/plain": [
       "val r : bool = true\n"
      ]
     },
     "execution_count": 270,
     "metadata": {},
     "output_type": "execute_result"
    },
    {
     "data": {
      "text/plain": [
       "val r : bool = false\n"
      ]
     },
     "execution_count": 270,
     "metadata": {},
     "output_type": "execute_result"
    }
   ],
   "source": [
    "(* rcontains_from *)\n",
    "let r = rcontains_from \"abcdef\" 2 'c';;\n",
    "let r = rcontains_from \"abcdef\" 1 'c';;"
   ]
  },
  {
   "cell_type": "code",
   "execution_count": 271,
   "id": "8a9d9b5e-c77b-4a58-8b5d-e9481374640d",
   "metadata": {},
   "outputs": [
    {
     "data": {
      "text/plain": [
       "val r : bool = true\n"
      ]
     },
     "execution_count": 271,
     "metadata": {},
     "output_type": "execute_result"
    }
   ],
   "source": [
    "(* contains *)\n",
    "let r = contains \"abc\" 'b';;"
   ]
  },
  {
   "cell_type": "code",
   "execution_count": 272,
   "id": "dd3f70a1-5e6b-48c0-a89a-fb3ea28c879d",
   "metadata": {},
   "outputs": [
    {
     "data": {
      "text/plain": [
       "val r : string = \"def\"\n"
      ]
     },
     "execution_count": 272,
     "metadata": {},
     "output_type": "execute_result"
    }
   ],
   "source": [
    "(* sub *)\n",
    "let r = sub \"abc def\" 4 3;;"
   ]
  },
  {
   "cell_type": "code",
   "execution_count": 273,
   "id": "50ed8179-11a3-4f04-ad01-c523bce22cdc",
   "metadata": {},
   "outputs": [
    {
     "data": {
      "text/plain": [
       "val r : string list = [\"a\"; \"b\"; \"c\"; \" d\"; \"e\"; \"f\"]\n"
      ]
     },
     "execution_count": 273,
     "metadata": {},
     "output_type": "execute_result"
    }
   ],
   "source": [
    "(* split_on_char *)\n",
    "let r = split_on_char ',' \"a,b,c, d,e,f\" ;;"
   ]
  },
  {
   "cell_type": "code",
   "execution_count": 274,
   "id": "36d4521a-299f-4ee6-80b8-626b56674b47",
   "metadata": {},
   "outputs": [
    {
     "data": {
      "text/plain": [
       "val r : string = \"bcd!efg\"\n"
      ]
     },
     "execution_count": 274,
     "metadata": {},
     "output_type": "execute_result"
    }
   ],
   "source": [
    "(* map *)\n",
    "let r = \"abc def\" |> map (fun x -> char_of_int ((Char.code x) + 1));;"
   ]
  },
  {
   "cell_type": "code",
   "execution_count": 275,
   "id": "d3e1c2ec-1ae2-46f4-9286-e2311a34f488",
   "metadata": {},
   "outputs": [
    {
     "data": {
      "text/plain": [
       "val r : string = \"ace#hjl\"\n"
      ]
     },
     "execution_count": 275,
     "metadata": {},
     "output_type": "execute_result"
    }
   ],
   "source": [
    "(* mapi *)\n",
    "let r = \"abc def\" |> mapi (fun i ch -> char_of_int ((Char.code ch) + i));;"
   ]
  },
  {
   "cell_type": "code",
   "execution_count": 276,
   "id": "a7e89668-3900-45c7-a3bf-8e9a4a4dcbd5",
   "metadata": {},
   "outputs": [
    {
     "data": {
      "text/plain": [
       "val r : string = \"\\\\\\\\a\\\\\\\\b\\\\\\\\c\\\\\\\"\"\n"
      ]
     },
     "execution_count": 276,
     "metadata": {},
     "output_type": "execute_result"
    }
   ],
   "source": [
    "(* escaped *)\n",
    "let r = \"\\\\a\\\\b\\\\c\\\"\" |> escaped;;"
   ]
  },
  {
   "cell_type": "code",
   "execution_count": 277,
   "id": "0822b957-8d3d-448c-b3ce-f92aa2f48f07",
   "metadata": {},
   "outputs": [
    {
     "data": {
      "text/plain": [
       "val r : string = \"ABC\"\n"
      ]
     },
     "execution_count": 277,
     "metadata": {},
     "output_type": "execute_result"
    },
    {
     "data": {
      "text/plain": [
       "val r : string = \"abc\"\n"
      ]
     },
     "execution_count": 277,
     "metadata": {},
     "output_type": "execute_result"
    }
   ],
   "source": [
    "(* uppercase_ascii, lowercase_ascii *)\n",
    "let r = \"abc\" |> uppercase_ascii\n",
    "let r = \"ABC\" |> lowercase_ascii"
   ]
  },
  {
   "cell_type": "code",
   "execution_count": 278,
   "id": "8e4013b3-d4b5-4d6f-85d7-625c0af83d7d",
   "metadata": {},
   "outputs": [
    {
     "data": {
      "text/plain": [
       "val r : string = \"Abc\"\n"
      ]
     },
     "execution_count": 278,
     "metadata": {},
     "output_type": "execute_result"
    },
    {
     "data": {
      "text/plain": [
       "val r : string = \"aBC\"\n"
      ]
     },
     "execution_count": 278,
     "metadata": {},
     "output_type": "execute_result"
    }
   ],
   "source": [
    "(* capitalize_ascii, uncapitalize_ascii*)\n",
    "let r = \"abc\" |> capitalize_ascii;;\n",
    "let r = \"ABC\" |> uncapitalize_ascii;;"
   ]
  },
  {
   "cell_type": "code",
   "execution_count": 279,
   "id": "e2323c1e-a43e-4c4d-8db1-df4b5a5d123b",
   "metadata": {},
   "outputs": [
    {
     "data": {
      "text/plain": [
       "- : unit = ()\n"
      ]
     },
     "execution_count": 279,
     "metadata": {},
     "output_type": "execute_result"
    },
    {
     "name": "stdout",
     "output_type": "stream",
     "text": [
      "a-b-c-\n"
     ]
    },
    {
     "data": {
      "text/plain": [
       "- : unit = ()\n"
      ]
     },
     "execution_count": 279,
     "metadata": {},
     "output_type": "execute_result"
    }
   ],
   "source": [
    "(* iter, iteri *)\n",
    "\"abc\" |> iter (fun ch -> Printf.printf \"%c-\" ch);;\n",
    "print_newline();"
   ]
  },
  {
   "cell_type": "code",
   "execution_count": 280,
   "id": "5eff3627-1d29-44cd-9ee2-1e91fe229078",
   "metadata": {},
   "outputs": [
    {
     "data": {
      "text/plain": [
       "val r : int = 10\n"
      ]
     },
     "execution_count": 280,
     "metadata": {},
     "output_type": "execute_result"
    },
    {
     "data": {
      "text/plain": [
       "val r : int option = Some 10\n"
      ]
     },
     "execution_count": 280,
     "metadata": {},
     "output_type": "execute_result"
    }
   ],
   "source": [
    "(* index_from, index_from_opt*)\n",
    "let r = index_from \"abcdefghijk\" 0 'k';;\n",
    "let r = index_from_opt \"abcdefghijk\" 0 'k';;"
   ]
  },
  {
   "cell_type": "code",
   "execution_count": 281,
   "id": "6f5b3148-a9c6-42fa-9f07-a2c934e67dcd",
   "metadata": {},
   "outputs": [
    {
     "data": {
      "text/plain": [
       "val r : int = 8\n"
      ]
     },
     "execution_count": 281,
     "metadata": {},
     "output_type": "execute_result"
    },
    {
     "data": {
      "text/plain": [
       "val r : int option = Some 8\n"
      ]
     },
     "execution_count": 281,
     "metadata": {},
     "output_type": "execute_result"
    }
   ],
   "source": [
    "(* rindex_from, rindex_from_opt *)\n",
    "let r = rindex_from \"abcde abcde\" 10 'c';;\n",
    "let r = rindex_from_opt \"abcde abcde\" 10 'c';;"
   ]
  },
  {
   "cell_type": "code",
   "execution_count": 282,
   "id": "0b71658b-220a-4d58-bc94-34ccc17d7a6a",
   "metadata": {},
   "outputs": [
    {
     "data": {
      "text/plain": [
       "val r : int = 5\n"
      ]
     },
     "execution_count": 282,
     "metadata": {},
     "output_type": "execute_result"
    },
    {
     "data": {
      "text/plain": [
       "val r : int option = Some 5\n"
      ]
     },
     "execution_count": 282,
     "metadata": {},
     "output_type": "execute_result"
    }
   ],
   "source": [
    "(* index, index_opt *)\n",
    "let r = index \"abcdef ef\" 'f';;\n",
    "let r = index_opt \"abcdef ef\" 'f';;"
   ]
  },
  {
   "cell_type": "code",
   "execution_count": 283,
   "id": "25809691-6fd6-4a62-9acb-246eca01184c",
   "metadata": {},
   "outputs": [
    {
     "data": {
      "text/plain": [
       "val r : int = 8\n"
      ]
     },
     "execution_count": 283,
     "metadata": {},
     "output_type": "execute_result"
    },
    {
     "data": {
      "text/plain": [
       "val r : int option = Some 8\n"
      ]
     },
     "execution_count": 283,
     "metadata": {},
     "output_type": "execute_result"
    }
   ],
   "source": [
    "(* rindex, rindex_opt *)\n",
    "let r = rindex \"abcdef ef\" 'f';;\n",
    "let r = rindex_opt \"abcdef ef\" 'f';;"
   ]
  },
  {
   "cell_type": "code",
   "execution_count": 284,
   "id": "271f0b2f-16e4-44a6-aa7e-25f8ce877e0d",
   "metadata": {},
   "outputs": [
    {
     "data": {
      "text/plain": [
       "val r : char Seq.t = <fun>\n"
      ]
     },
     "execution_count": 284,
     "metadata": {},
     "output_type": "execute_result"
    },
    {
     "data": {
      "text/plain": [
       "- : unit = ()\n"
      ]
     },
     "execution_count": 284,
     "metadata": {},
     "output_type": "execute_result"
    },
    {
     "name": "stdout",
     "output_type": "stream",
     "text": [
      "abcdef\n"
     ]
    },
    {
     "data": {
      "text/plain": [
       "- : unit = ()\n"
      ]
     },
     "execution_count": 284,
     "metadata": {},
     "output_type": "execute_result"
    },
    {
     "data": {
      "text/plain": [
       "val s : String.t = \"abcdef\"\n"
      ]
     },
     "execution_count": 284,
     "metadata": {},
     "output_type": "execute_result"
    },
    {
     "data": {
      "text/plain": [
       "val r : (int * char) Seq.t = <fun>\n"
      ]
     },
     "execution_count": 284,
     "metadata": {},
     "output_type": "execute_result"
    },
    {
     "data": {
      "text/plain": [
       "- : unit = ()\n"
      ]
     },
     "execution_count": 284,
     "metadata": {},
     "output_type": "execute_result"
    },
    {
     "name": "stdout",
     "output_type": "stream",
     "text": [
      "(0, a)(1, b)(2, c)(3, d)(4, e)(5, f)\n"
     ]
    },
    {
     "data": {
      "text/plain": [
       "- : unit = ()\n"
      ]
     },
     "execution_count": 284,
     "metadata": {},
     "output_type": "execute_result"
    }
   ],
   "source": [
    "(* to_seq, to_seqi, of_seq *)\n",
    "let r = to_seq \"abcdef\";;\n",
    "Seq.iter (Printf.printf \"%c\") r;;\n",
    "print_newline();;\n",
    "let s = r |> of_seq;;\n",
    "let r = to_seqi \"abcdef\";;\n",
    "r |> Seq.iter (fun ((i,ch))-> Printf.printf \"(%d, %c)\" i ch);;\n",
    "print_newline();"
   ]
  }
 ],
 "metadata": {
  "kernelspec": {
   "display_name": "OCaml 4.12.0",
   "language": "OCaml",
   "name": "ocaml-jupyter"
  },
  "language_info": {
   "codemirror_mode": "text/x-ocaml",
   "file_extension": ".ml",
   "mimetype": "text/x-ocaml",
   "name": "OCaml",
   "nbconverter_exporter": null,
   "pygments_lexer": "OCaml",
   "version": "4.12.0"
  }
 },
 "nbformat": 4,
 "nbformat_minor": 5
}
