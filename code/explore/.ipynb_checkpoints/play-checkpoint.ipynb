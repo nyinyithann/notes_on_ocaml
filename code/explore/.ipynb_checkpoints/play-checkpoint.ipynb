{
 "cells": [
  {
   "cell_type": "code",
   "execution_count": 18,
   "id": "8ae08144-f6ef-459b-8698-44dffeb9cb89",
   "metadata": {},
   "outputs": [
    {
     "data": {
      "text/plain": [
       "module ListMonad :\n",
       "  sig\n",
       "    type 'a t = 'a list\n",
       "    val return : 'a -> 'a list\n",
       "    val map : ('a -> 'b) -> 'a list -> 'b list\n",
       "    val join : 'a list list -> 'a list\n",
       "    val bind : 'a list -> ('a -> 'b list) -> 'b list\n",
       "    val ( >>= ) : 'a list -> ('a -> 'b list) -> 'b list\n",
       "    val ( let* ) : 'a list -> ('a -> 'b list) -> 'b list\n",
       "  end\n"
      ]
     },
     "execution_count": 18,
     "metadata": {},
     "output_type": "execute_result"
    }
   ],
   "source": [
    "module ListMonad = struct\n",
    "    type 'a t = 'a list\n",
    "    \n",
    "    let return x = [x]\n",
    "    \n",
    "    let map f l = \n",
    "        let rec aux acc f = function\n",
    "            | [] -> List.rev acc\n",
    "            | x::xs -> aux (f x :: acc) f xs\n",
    "        in \n",
    "        aux [] f l\n",
    "        \n",
    "    let join ll = \n",
    "        let rec aux acc = function\n",
    "            | [] -> List.rev acc\n",
    "            | []::xs -> aux (acc) xs\n",
    "            | (x::xs)::xss -> aux (x::acc) (xs::xss)\n",
    "        in \n",
    "        aux [] ll\n",
    "    \n",
    "    let bind l f =\n",
    "        join @@ map f l\n",
    "        \n",
    "    let (>>=) = bind\n",
    "    let (let*) = bind\n",
    "end"
   ]
  },
  {
   "cell_type": "code",
   "execution_count": 19,
   "id": "9a2c84a4-4773-4888-8190-3a4547d3f8a4",
   "metadata": {},
   "outputs": [
    {
     "data": {
      "text/plain": [
       "val nums : int list = [1; 2; 3; 4; 5]\n"
      ]
     },
     "execution_count": 19,
     "metadata": {},
     "output_type": "execute_result"
    },
    {
     "data": {
      "text/plain": [
       "val letters : char list = ['a'; 'b'; 'c'; 'd'; 'e']\n"
      ]
     },
     "execution_count": 19,
     "metadata": {},
     "output_type": "execute_result"
    },
    {
     "data": {
      "text/plain": [
       "val ll : int list list = [[1]; [2]; [3]]\n"
      ]
     },
     "execution_count": 19,
     "metadata": {},
     "output_type": "execute_result"
    },
    {
     "data": {
      "text/plain": [
       "- : int list = [1; 2; 3]\n"
      ]
     },
     "execution_count": 19,
     "metadata": {},
     "output_type": "execute_result"
    },
    {
     "data": {
      "text/plain": [
       "- : (int * char) list =\n",
       "[(1, 'a'); (1, 'b'); (1, 'c'); (1, 'd'); (1, 'e'); (2, 'a'); (2, 'b');\n",
       " (2, 'c'); (2, 'd'); (2, 'e'); (3, 'a'); (3, 'b'); (3, 'c'); (3, 'd');\n",
       " (3, 'e'); (4, 'a'); (4, 'b'); (4, 'c'); (4, 'd'); (4, 'e'); (5, 'a');\n",
       " (5, 'b'); (5, 'c'); (5, 'd'); (5, 'e')]\n"
      ]
     },
     "execution_count": 19,
     "metadata": {},
     "output_type": "execute_result"
    },
    {
     "data": {
      "text/plain": [
       "- : (int * char) list =\n",
       "[(1, 'a'); (1, 'b'); (1, 'c'); (1, 'd'); (1, 'e'); (2, 'a'); (2, 'b');\n",
       " (2, 'c'); (2, 'd'); (2, 'e'); (3, 'a'); (3, 'b'); (3, 'c'); (3, 'd');\n",
       " (3, 'e'); (4, 'a'); (4, 'b'); (4, 'c'); (4, 'd'); (4, 'e'); (5, 'a');\n",
       " (5, 'b'); (5, 'c'); (5, 'd'); (5, 'e')]\n"
      ]
     },
     "execution_count": 19,
     "metadata": {},
     "output_type": "execute_result"
    }
   ],
   "source": [
    "open ListMonad;;\n",
    "let nums = [1;2;3;4;5];;\n",
    "let letters = ['a'; 'b'; 'c'; 'd'; 'e'];;\n",
    "let ll = [[1]; [2]; [3]];;\n",
    "join ll;;\n",
    "\n",
    "let* n = nums in\n",
    "let* l = letters in\n",
    "return (n,l);;\n",
    "\n",
    "nums >>= fun n ->\n",
    "letters >>= fun l ->\n",
    "return (n,l);;"
   ]
  }
 ],
 "metadata": {
  "kernelspec": {
   "display_name": "OCaml 4.12.0",
   "language": "OCaml",
   "name": "ocaml-jupyter"
  },
  "language_info": {
   "codemirror_mode": "text/x-ocaml",
   "file_extension": ".ml",
   "mimetype": "text/x-ocaml",
   "name": "OCaml",
   "nbconverter_exporter": null,
   "pygments_lexer": "OCaml",
   "version": "4.12.0"
  }
 },
 "nbformat": 4,
 "nbformat_minor": 5
}
