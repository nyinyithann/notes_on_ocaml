{
 "cells": [
  {
   "cell_type": "code",
   "execution_count": 6,
   "id": "d5c166f7-0f84-4e25-aeee-305a928af601",
   "metadata": {},
   "outputs": [
    {
     "data": {
      "text/plain": [
       "val eval :\n",
       "  ([< `Add of 'a * 'a | `Num of int | `Sub of 'a * 'a ] as 'a) -> int = <fun>\n"
      ]
     },
     "execution_count": 6,
     "metadata": {},
     "output_type": "execute_result"
    },
    {
     "data": {
      "text/plain": [
       "- : int = 18\n"
      ]
     },
     "execution_count": 6,
     "metadata": {},
     "output_type": "execute_result"
    }
   ],
   "source": [
    "let rec eval =\n",
    "    function\n",
    "    | `Add (x,y) -> (eval x) + (eval y)\n",
    "    | `Sub (x,y) -> (eval x) - (eval y)\n",
    "    | `Num x -> x ;;\n",
    "    \n",
    "eval (`Add (`Num 10, `Sub (`Num 10, `Num 2)));;"
   ]
  },
  {
   "cell_type": "code",
   "execution_count": 8,
   "id": "b4428edd-d040-4c80-acc5-39382c465444",
   "metadata": {},
   "outputs": [
    {
     "ename": "error",
     "evalue": "compile_error",
     "output_type": "error",
     "traceback": [
      "File \"[8]\", line 1, characters 0-12:\n1 | ocamlobjinfo str.cma\n    ^^^^^^^^^^^^\nError: Unbound value ocamlobjinfo\n"
     ]
    }
   ],
   "source": []
  }
 ],
 "metadata": {
  "kernelspec": {
   "display_name": "OCaml 4.12.0",
   "language": "OCaml",
   "name": "ocaml-jupyter"
  },
  "language_info": {
   "codemirror_mode": "text/x-ocaml",
   "file_extension": ".ml",
   "mimetype": "text/x-ocaml",
   "name": "OCaml",
   "nbconverter_exporter": null,
   "pygments_lexer": "OCaml",
   "version": "4.12.0"
  }
 },
 "nbformat": 4,
 "nbformat_minor": 5
}
