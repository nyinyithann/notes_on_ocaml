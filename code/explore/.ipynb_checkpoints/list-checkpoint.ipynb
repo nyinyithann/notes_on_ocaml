{
 "cells": [
  {
   "cell_type": "code",
   "execution_count": 2,
   "id": "24a17011-c3cd-4190-a3c9-bff6ec7d54fb",
   "metadata": {},
   "outputs": [
    {
     "data": {
      "text/plain": [
       "val append : 'a list -> 'a list -> 'a list = <fun>\n"
      ]
     },
     "execution_count": 2,
     "metadata": {},
     "output_type": "execute_result"
    },
    {
     "data": {
      "text/plain": [
       "- : 'a list = []\n"
      ]
     },
     "execution_count": 2,
     "metadata": {},
     "output_type": "execute_result"
    },
    {
     "data": {
      "text/plain": [
       "- : int list = [1; 2]\n"
      ]
     },
     "execution_count": 2,
     "metadata": {},
     "output_type": "execute_result"
    },
    {
     "data": {
      "text/plain": [
       "- : int list = [1; 2]\n"
      ]
     },
     "execution_count": 2,
     "metadata": {},
     "output_type": "execute_result"
    },
    {
     "data": {
      "text/plain": [
       "- : int list = [1; 2; 3; 4; 5; 6]\n"
      ]
     },
     "execution_count": 2,
     "metadata": {},
     "output_type": "execute_result"
    },
    {
     "data": {
      "text/plain": [
       "- : int list = [1; 2; 3; 4; 5; 6]\n"
      ]
     },
     "execution_count": 2,
     "metadata": {},
     "output_type": "execute_result"
    }
   ],
   "source": [
    "let rec append l1 l2 =\n",
    "    match l1 with\n",
    "    | [] -> l2\n",
    "    | h::t -> h :: append t l2;;\n",
    "append [] [];;\n",
    "append [1;2] [];;\n",
    "append [] [1;2];;\n",
    "append [1;2;3] [4;5;6];;\n",
    "append [1;2] [3;4;5;6];;"
   ]
  },
  {
   "cell_type": "code",
   "execution_count": 3,
   "id": "d149cc80-b146-4270-b0f5-d93de08f3c65",
   "metadata": {},
   "outputs": [
    {
     "data": {
      "text/plain": [
       "val append : 'a list -> 'a list -> 'a list = <fun>\n"
      ]
     },
     "execution_count": 3,
     "metadata": {},
     "output_type": "execute_result"
    },
    {
     "data": {
      "text/plain": [
       "- : 'a list = []\n"
      ]
     },
     "execution_count": 3,
     "metadata": {},
     "output_type": "execute_result"
    },
    {
     "data": {
      "text/plain": [
       "- : int list = [1; 2]\n"
      ]
     },
     "execution_count": 3,
     "metadata": {},
     "output_type": "execute_result"
    },
    {
     "data": {
      "text/plain": [
       "- : int list = [1; 2]\n"
      ]
     },
     "execution_count": 3,
     "metadata": {},
     "output_type": "execute_result"
    },
    {
     "data": {
      "text/plain": [
       "- : int list = [1; 2; 3; 4; 5; 6]\n"
      ]
     },
     "execution_count": 3,
     "metadata": {},
     "output_type": "execute_result"
    },
    {
     "data": {
      "text/plain": [
       "- : int list = [1; 2; 3; 4; 5; 6]\n"
      ]
     },
     "execution_count": 3,
     "metadata": {},
     "output_type": "execute_result"
    }
   ],
   "source": [
    "(* tail recursive *)\n",
    "let append l1 l2 =\n",
    "    match l1, l2 with\n",
    "    | [] , [] -> []\n",
    "    | [] , _ -> l2\n",
    "    | _, [] -> l1\n",
    "    | _ ->\n",
    "        begin\n",
    "            let rec aux acc l1 l2 =\n",
    "                match l1, l2 with\n",
    "                | [], [] -> List.rev acc\n",
    "                | h::t, l -> aux (h::acc) t l\n",
    "                | [], h::t -> aux (h::acc) [] t\n",
    "            in\n",
    "            aux [] l1 l2\n",
    "        end;;\n",
    "append [] [];;\n",
    "append [1;2] [];;\n",
    "append [] [1;2];;\n",
    "append [1;2;3] [4;5;6];;\n",
    "append [1;2] [3;4;5;6];;"
   ]
  },
  {
   "cell_type": "code",
   "execution_count": 4,
   "id": "ddde760a-2d76-4d2d-8de0-bab1e8e90cbd",
   "metadata": {},
   "outputs": [
    {
     "data": {
      "text/plain": [
       "- : ('a -> 'b) -> 'a list -> 'b list = <fun>\n"
      ]
     },
     "execution_count": 4,
     "metadata": {},
     "output_type": "execute_result"
    }
   ],
   "source": [
    "List.map;;"
   ]
  }
 ],
 "metadata": {
  "kernelspec": {
   "display_name": "OCaml 4.12.0",
   "language": "OCaml",
   "name": "ocaml-jupyter"
  },
  "language_info": {
   "codemirror_mode": "text/x-ocaml",
   "file_extension": ".ml",
   "mimetype": "text/x-ocaml",
   "name": "OCaml",
   "nbconverter_exporter": null,
   "pygments_lexer": "OCaml",
   "version": "4.12.0"
  }
 },
 "nbformat": 4,
 "nbformat_minor": 5
}
