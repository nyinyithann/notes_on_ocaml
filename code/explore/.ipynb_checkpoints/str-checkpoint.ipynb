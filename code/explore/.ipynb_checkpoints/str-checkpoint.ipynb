{
 "cells": [
  {
   "cell_type": "code",
   "execution_count": 2,
   "id": "9f455bc3-0f91-459f-9863-7dd78afff515",
   "metadata": {},
   "outputs": [
    {
     "name": "stdout",
     "output_type": "stream",
     "text": [
      "module Str :\n",
      "  sig\n",
      "    type regexp\n",
      "    val regexp : string -> regexp\n",
      "    val regexp_case_fold : string -> regexp\n",
      "    val quote : string -> string\n",
      "    val regexp_string : string -> regexp\n",
      "    val regexp_string_case_fold : string -> regexp\n",
      "    val string_match : regexp -> string -> int -> bool\n",
      "    val search_forward : regexp -> string -> int -> int\n",
      "    val search_backward : regexp -> string -> int -> int\n",
      "    val string_partial_match : regexp -> string -> int -> bool\n",
      "    val matched_string : string -> string\n",
      "    val match_beginning : unit -> int\n",
      "    val match_end : unit -> int\n",
      "    val matched_group : int -> string -> string\n",
      "    val group_beginning : int -> int\n",
      "    val group_end : int -> int\n",
      "    val global_replace : regexp -> string -> string -> string\n",
      "    val replace_first : regexp -> string -> string -> string\n",
      "    val global_substitute : regexp -> (string -> string) -> string -> string\n",
      "    val substitute_first : regexp -> (string -> string) -> string -> string\n",
      "    val replace_matched : string -> string -> string\n",
      "    val split : regexp -> string -> string list\n",
      "    val bounded_split : regexp -> string -> int -> string list\n",
      "    val split_delim : regexp -> string -> string list\n",
      "    val bounded_split_delim : regexp -> string -> int -> string list\n",
      "    type split_result = Text of string | Delim of string\n",
      "    val full_split : regexp -> string -> split_result list\n",
      "    val bounded_full_split : regexp -> string -> int -> split_result list\n",
      "    val string_before : string -> int -> string\n",
      "    val string_after : string -> int -> string\n",
      "    val first_chars : string -> int -> string\n",
      "    val last_chars : string -> int -> string\n",
      "  end\n"
     ]
    }
   ],
   "source": [
    "#show Str;;"
   ]
  },
  {
   "cell_type": "code",
   "execution_count": 19,
   "id": "b7f1feed-b68d-4b99-855b-5a6df5e8da6c",
   "metadata": {},
   "outputs": [
    {
     "data": {
      "text/plain": [
       "val regex : Str.regexp = <abstr>\n"
      ]
     },
     "execution_count": 19,
     "metadata": {},
     "output_type": "execute_result"
    },
    {
     "data": {
      "text/plain": [
       "val res : bool = false\n"
      ]
     },
     "execution_count": 19,
     "metadata": {},
     "output_type": "execute_result"
    },
    {
     "data": {
      "text/plain": [
       "val res : bool = true\n"
      ]
     },
     "execution_count": 19,
     "metadata": {},
     "output_type": "execute_result"
    },
    {
     "data": {
      "text/plain": [
       "val res : int = 4\n"
      ]
     },
     "execution_count": 19,
     "metadata": {},
     "output_type": "execute_result"
    },
    {
     "data": {
      "text/plain": [
       "val res : int = 12\n"
      ]
     },
     "execution_count": 19,
     "metadata": {},
     "output_type": "execute_result"
    }
   ],
   "source": [
    "(* regexp *)\n",
    "(* case sensitive marching and searching *)\n",
    "let regex = Str.regexp \"123\" ;;\n",
    "let res = Str.string_match regex \"abc 123 def 456\" 0;;\n",
    "let res = Str.string_match regex \"abc 123 def 456\" 4;;\n",
    "let res = Str.search_forward regex \"abc 123 def 456\" 0;;\n",
    "let res = Str.search_backward regex \"abc 123 def 123\" 14;;"
   ]
  },
  {
   "cell_type": "code",
   "execution_count": 50,
   "id": "14ebaf78-27a5-4fe2-9da0-84d6df0af98c",
   "metadata": {},
   "outputs": [
    {
     "data": {
      "text/plain": [
       "val regex : Str.regexp = <abstr>\n"
      ]
     },
     "execution_count": 50,
     "metadata": {},
     "output_type": "execute_result"
    },
    {
     "data": {
      "text/plain": [
       "val res : string list = [\"st \"; \" ryan\"; \" ryanryanryan \"]\n"
      ]
     },
     "execution_count": 50,
     "metadata": {},
     "output_type": "execute_result"
    }
   ],
   "source": [
    "(* case sensitive split *)\n",
    "let regex = Str.regexp \"-\" ;;\n",
    "let res = Str.split regex \"st - ryan- ryanryanryan \";;"
   ]
  },
  {
   "cell_type": "code",
   "execution_count": 1,
   "id": "838b79f2-a384-44be-9ab2-59d0c86f974f",
   "metadata": {},
   "outputs": [
    {
     "data": {
      "text/plain": [
       "val input : string = \"င်္ abc င်္ def\"\n"
      ]
     },
     "execution_count": 1,
     "metadata": {},
     "output_type": "execute_result"
    },
    {
     "data": {
      "text/plain": [
       "val from : string = \"င်္\"\n"
      ]
     },
     "execution_count": 1,
     "metadata": {},
     "output_type": "execute_result"
    },
    {
     "data": {
      "text/plain": [
       "val regex : Str.regexp = <abstr>\n"
      ]
     },
     "execution_count": 1,
     "metadata": {},
     "output_type": "execute_result"
    },
    {
     "data": {
      "text/plain": [
       "val to_ : string = \"ၤ\"\n"
      ]
     },
     "execution_count": 1,
     "metadata": {},
     "output_type": "execute_result"
    },
    {
     "data": {
      "text/plain": [
       "- : string = \"ၤ abc ၤ def\"\n"
      ]
     },
     "execution_count": 1,
     "metadata": {},
     "output_type": "execute_result"
    }
   ],
   "source": [
    "(* global_replace *)\n",
    "let input = \"\\u{1004}\\u{103a}\\u{1039} abc \\u{1004}\\u{103a}\\u{1039} def\";;\n",
    "let from = \"\\u{1004}\\u{103a}\\u{1039}\";;\n",
    "let regex = Str.regexp (Str.quote from);;\n",
    "let to_ = \"\\u{1064}\";;\n",
    "Str.global_replace regex to_  input;;\n",
    "(* Pcre.replace ~rex:regex ~templ:to_ input;; *)\n",
    "(* Re2.replace_exn ~f:(fun _ -> to_) re input;; *)"
   ]
  }
 ],
 "metadata": {
  "kernelspec": {
   "display_name": "OCaml 4.12.0",
   "language": "OCaml",
   "name": "ocaml-jupyter"
  },
  "language_info": {
   "codemirror_mode": "text/x-ocaml",
   "file_extension": ".ml",
   "mimetype": "text/x-ocaml",
   "name": "OCaml",
   "nbconverter_exporter": null,
   "pygments_lexer": "OCaml",
   "version": "4.12.0"
  }
 },
 "nbformat": 4,
 "nbformat_minor": 5
}
