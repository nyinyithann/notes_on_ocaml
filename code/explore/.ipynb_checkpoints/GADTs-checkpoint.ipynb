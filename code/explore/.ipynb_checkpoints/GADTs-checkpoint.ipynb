{
 "cells": [
  {
   "cell_type": "code",
   "execution_count": 40,
   "id": "eb24e1c3-1f34-4a48-89fe-3784d6fa5415",
   "metadata": {},
   "outputs": [
    {
     "data": {
      "text/plain": [
       "module List :\n",
       "  sig\n",
       "    type zero\n",
       "    type _ t = Nil : zero t | Cons : 'a * 'b t -> ('a * 'b) t\n",
       "    val empty : zero t\n",
       "    val cons : 'a -> 'b t -> ('a * 'b) t\n",
       "    val hd : ('a * 'b) t -> 'a\n",
       "    val tl : ('a * 'b) t -> 'b t\n",
       "    val length : 'a t -> int\n",
       "  end\n"
      ]
     },
     "execution_count": 40,
     "metadata": {},
     "output_type": "execute_result"
    },
    {
     "data": {
      "text/plain": [
       "- : unit = ()\n"
      ]
     },
     "execution_count": 40,
     "metadata": {},
     "output_type": "execute_result"
    },
    {
     "name": "stdout",
     "output_type": "stream",
     "text": [
      "3\n"
     ]
    },
    {
     "data": {
      "text/plain": [
       "- : unit = ()\n"
      ]
     },
     "execution_count": 40,
     "metadata": {},
     "output_type": "execute_result"
    }
   ],
   "source": [
    "module List = struct\n",
    "    type zero\n",
    "    type _ t = \n",
    "        | Nil : zero t\n",
    "        | Cons : 'a * 'b t -> ('a * 'b) t \n",
    "    let empty = Nil\n",
    "\n",
    "    let cons x l = Cons(x, l)\n",
    "\n",
    "    let hd = function Cons(x,_) -> x\n",
    "    let tl = function Cons(_, xs) -> xs\n",
    "\n",
    "    let rec length : type a . a t -> int  =\n",
    "        function Nil -> 0 | Cons(_, xs) -> 1 + length xs\n",
    "end;;\n",
    "\n",
    "\n",
    "let module L = List in\n",
    "let l = L.empty |> L.cons 1 |>  L.cons 2 |>  L.cons 3 in\n",
    "Printf.printf \"%d\" (L.length l) ;;\n",
    "print_newline();\n",
    "\n",
    "(* List.hd List.empty;; *)  (* throw an error at compile time, Yeah!!! *)"
   ]
  },
  {
   "cell_type": "code",
   "execution_count": 41,
   "id": "7026276d-2655-4f8e-ae2f-84aaf55b1216",
   "metadata": {},
   "outputs": [
    {
     "data": {
      "text/plain": [
       "type value = Bool of bool | Int of int\n"
      ]
     },
     "execution_count": 41,
     "metadata": {},
     "output_type": "execute_result"
    },
    {
     "data": {
      "text/plain": [
       "type expr =\n",
       "    Value of value\n",
       "  | If of expr * expr * expr\n",
       "  | Gt of expr * expr\n",
       "  | Lt of expr * expr\n"
      ]
     },
     "execution_count": 41,
     "metadata": {},
     "output_type": "execute_result"
    },
    {
     "data": {
      "text/plain": [
       "val eval : expr -> value = <fun>\n"
      ]
     },
     "execution_count": 41,
     "metadata": {},
     "output_type": "execute_result"
    },
    {
     "data": {
      "text/plain": [
       "val expr1 : expr =\n",
       "  If (Gt (Value (Int 2), Value (Int 1)), Value (Bool true),\n",
       "   Value (Bool false))\n"
      ]
     },
     "execution_count": 41,
     "metadata": {},
     "output_type": "execute_result"
    },
    {
     "data": {
      "text/plain": [
       "- : value = Bool true\n"
      ]
     },
     "execution_count": 41,
     "metadata": {},
     "output_type": "execute_result"
    },
    {
     "data": {
      "text/plain": [
       "val expr2 : expr =\n",
       "  If (Gt (Value (Bool true), Value (Int 1)), Value (Bool true),\n",
       "   Value (Bool false))\n"
      ]
     },
     "execution_count": 41,
     "metadata": {},
     "output_type": "execute_result"
    },
    {
     "ename": "error",
     "evalue": "runtime_error",
     "output_type": "error",
     "traceback": [
      "\u001b[31mException: Failure \"Invalid Ast\".\nRaised at Stdlib.failwith in file \"stdlib.ml\", line 29, characters 17-33\nCalled from eval in file \"[41]\", line 13, characters 20-26\nCalled from Stdlib__fun.protect in file \"fun.ml\", line 33, characters 8-15\nRe-raised at Stdlib__fun.protect in file \"fun.ml\", line 38, characters 6-52\nCalled from Toploop.load_lambda in file \"toplevel/toploop.ml\", line 212, characters 4-150\n\u001b[0m"
     ]
    }
   ],
   "source": [
    "type value = Bool of bool | Int of int;;\n",
    "\n",
    "type expr =\n",
    "    | Value of value\n",
    "    | If of expr * expr * expr\n",
    "    | Gt of expr * expr\n",
    "    | Lt of expr * expr\n",
    ";;\n",
    "\n",
    "let rec eval : expr -> value = function\n",
    "    | Value v -> v\n",
    "    | If (b, l, r) ->\n",
    "        begin match eval b with\n",
    "            | Bool true -> eval l\n",
    "            | Bool false -> eval r\n",
    "            | Int _ -> failwith \"Invalid AST\"\n",
    "        end\n",
    "    | Lt (e1, e2) ->\n",
    "        begin match eval e1, eval e2 with\n",
    "            | Bool _, Bool _\n",
    "            | Bool _, Int _\n",
    "            | Int _, Bool _ -> failwith \"Invalid Ast\"\n",
    "            | Int x, Int y -> Bool (x < y)\n",
    "        end\n",
    "    | Gt (e1, e2) ->\n",
    "        begin match eval e1, eval e2 with\n",
    "            | Bool _, Bool _\n",
    "            | Bool _, Int _\n",
    "            | Int _, Bool _ -> failwith \"Invalid Ast\"\n",
    "            | Int x, Int y -> Bool (x > y) \n",
    "        end\n",
    ";;\n",
    "\n",
    "let expr1 = If ( Gt(Value(Int 2), Value(Int 1)), Value(Bool true) , Value(Bool false));;\n",
    "eval expr1;;\n",
    "\n",
    "let expr2 = If ( Gt(Value(Bool true), Value(Int 1)), Value(Bool true) , Value(Bool false));;\n",
    "eval expr2;;\n",
    "        "
   ]
  },
  {
   "cell_type": "code",
   "execution_count": 43,
   "id": "ef2aecbd-6a36-4eea-aef3-c4cce19196e9",
   "metadata": {},
   "outputs": [
    {
     "data": {
      "text/plain": [
       "type _ value = Bool : bool -> bool value | Int : int -> int value\n"
      ]
     },
     "execution_count": 43,
     "metadata": {},
     "output_type": "execute_result"
    },
    {
     "data": {
      "text/plain": [
       "type _ expr =\n",
       "    Value : 'a value -> 'a expr\n",
       "  | If : bool expr * 'a expr * 'a expr -> 'a expr\n",
       "  | Lt : int expr * int expr -> bool expr\n",
       "  | Gt : int expr * int expr -> bool expr\n",
       "  | Eq : 'a expr * 'a expr -> bool expr\n"
      ]
     },
     "execution_count": 43,
     "metadata": {},
     "output_type": "execute_result"
    },
    {
     "data": {
      "text/plain": [
       "val eval : 'a expr -> 'a = <fun>\n"
      ]
     },
     "execution_count": 43,
     "metadata": {},
     "output_type": "execute_result"
    },
    {
     "data": {
      "text/plain": [
       "- : int = 42\n"
      ]
     },
     "execution_count": 43,
     "metadata": {},
     "output_type": "execute_result"
    },
    {
     "data": {
      "text/plain": [
       "val expr1 : bool expr =\n",
       "  If (Gt (Value (Int 2), Value (Int 1)), Value (Bool true),\n",
       "   Value (Bool false))\n"
      ]
     },
     "execution_count": 43,
     "metadata": {},
     "output_type": "execute_result"
    },
    {
     "data": {
      "text/plain": [
       "- : bool = true\n"
      ]
     },
     "execution_count": 43,
     "metadata": {},
     "output_type": "execute_result"
    }
   ],
   "source": [
    "type _ value =\n",
    "    | Bool : bool -> bool value\n",
    "    | Int : int -> int value\n",
    ";;\n",
    "\n",
    "type _ expr =\n",
    "    | Value : 'a value -> 'a expr\n",
    "    | If : bool expr * 'a expr * 'a expr -> 'a expr\n",
    "    | Lt : int expr * int expr -> bool expr\n",
    "    | Gt : int expr * int expr -> bool expr\n",
    "    | Eq : 'a expr * 'a expr -> bool expr\n",
    ";;\n",
    "\n",
    "let rec eval : type a . a expr -> a = function\n",
    "    | Value (Bool b) -> b\n",
    "    | Value (Int a) -> a\n",
    "    | If (b, l, r) -> if eval b then eval l else eval r\n",
    "    | Lt (l, r) -> (eval l) < (eval r)\n",
    "    | Gt (l, r) -> (eval l) > (eval r)\n",
    "    | Eq (l, r) -> (eval l) = (eval r)\n",
    ";;\n",
    "    \n",
    "eval (If ((Eq ((Value (Int 2)), (Value (Int 2)))),\n",
    "  (Value (Int 42)),\n",
    "  (Value (Int 12))));;\n",
    "    \n",
    "let expr1 = If(Gt(Value(Int 2), Value(Int 1)), Value(Bool true) , Value(Bool false));;\n",
    "eval expr1;;"
   ]
  }
 ],
 "metadata": {
  "kernelspec": {
   "display_name": "OCaml 4.12.0",
   "language": "OCaml",
   "name": "ocaml-jupyter"
  },
  "language_info": {
   "codemirror_mode": "text/x-ocaml",
   "file_extension": ".ml",
   "mimetype": "text/x-ocaml",
   "name": "OCaml",
   "nbconverter_exporter": null,
   "pygments_lexer": "OCaml",
   "version": "4.12.0"
  }
 },
 "nbformat": 4,
 "nbformat_minor": 5
}
