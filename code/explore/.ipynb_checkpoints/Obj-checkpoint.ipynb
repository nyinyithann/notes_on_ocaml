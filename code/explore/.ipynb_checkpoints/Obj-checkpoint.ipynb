{
 "cells": [
  {
   "cell_type": "code",
   "execution_count": 18,
   "id": "6f3af8dd-0e61-4375-a8ae-c69efb618432",
   "metadata": {},
   "outputs": [
    {
     "data": {
      "text/plain": [
       "val is_block : 'a -> bool = <fun>\n"
      ]
     },
     "execution_count": 18,
     "metadata": {},
     "output_type": "execute_result"
    },
    {
     "data": {
      "text/plain": [
       "val is_int : 'a -> bool = <fun>\n"
      ]
     },
     "execution_count": 18,
     "metadata": {},
     "output_type": "execute_result"
    },
    {
     "data": {
      "text/plain": [
       "type person = { name : string; age : int; }\n"
      ]
     },
     "execution_count": 18,
     "metadata": {},
     "output_type": "execute_result"
    },
    {
     "data": {
      "text/plain": [
       "val ryan : person = {name = \"Ryan\"; age = 6}\n"
      ]
     },
     "execution_count": 18,
     "metadata": {},
     "output_type": "execute_result"
    },
    {
     "data": {
      "text/plain": [
       "type _ value = Unit | Bool : bool -> 'a value | Int : int -> 'a value\n"
      ]
     },
     "execution_count": 18,
     "metadata": {},
     "output_type": "execute_result"
    },
    {
     "data": {
      "text/plain": [
       "- : bool = true\n"
      ]
     },
     "execution_count": 18,
     "metadata": {},
     "output_type": "execute_result"
    },
    {
     "data": {
      "text/plain": [
       "- : bool = true\n"
      ]
     },
     "execution_count": 18,
     "metadata": {},
     "output_type": "execute_result"
    },
    {
     "data": {
      "text/plain": [
       "- : bool = true\n"
      ]
     },
     "execution_count": 18,
     "metadata": {},
     "output_type": "execute_result"
    },
    {
     "data": {
      "text/plain": [
       "- : bool = true\n"
      ]
     },
     "execution_count": 18,
     "metadata": {},
     "output_type": "execute_result"
    },
    {
     "data": {
      "text/plain": [
       "- : bool = true\n"
      ]
     },
     "execution_count": 18,
     "metadata": {},
     "output_type": "execute_result"
    },
    {
     "data": {
      "text/plain": [
       "- : bool = true\n"
      ]
     },
     "execution_count": 18,
     "metadata": {},
     "output_type": "execute_result"
    },
    {
     "data": {
      "text/plain": [
       "- : bool = true\n"
      ]
     },
     "execution_count": 18,
     "metadata": {},
     "output_type": "execute_result"
    },
    {
     "data": {
      "text/plain": [
       "- : bool = true\n"
      ]
     },
     "execution_count": 18,
     "metadata": {},
     "output_type": "execute_result"
    }
   ],
   "source": [
    "let is_block o = Obj.is_block (Obj.repr o);;\n",
    "let is_int o = Obj.is_int (Obj.repr o);;\n",
    "\n",
    "type person = {name : string; age : int };;\n",
    "let ryan = { name = \"Ryan\"; age = 6 };;\n",
    "\n",
    "type _ value = \n",
    "    | Unit\n",
    "    | Bool : bool -> 'a value\n",
    "    | Int : int -> 'a value;;\n",
    "\n",
    "(* stored in heap *)\n",
    "is_block 1.0;;\n",
    "is_block \"string\";;\n",
    "is_block (Some 1);;\n",
    "is_block (`Foo 1);;\n",
    "is_block (Bool true);;\n",
    "is_block ryan;;\n",
    "is_block (1,\"one\");;\n",
    "is_block [||];;"
   ]
  },
  {
   "cell_type": "code",
   "execution_count": 17,
   "id": "0dd35a93-aba9-4213-8b77-1ba3b5496bea",
   "metadata": {},
   "outputs": [
    {
     "data": {
      "text/plain": [
       "- : bool = false\n"
      ]
     },
     "execution_count": 17,
     "metadata": {},
     "output_type": "execute_result"
    },
    {
     "data": {
      "text/plain": [
       "- : bool = false\n"
      ]
     },
     "execution_count": 17,
     "metadata": {},
     "output_type": "execute_result"
    },
    {
     "data": {
      "text/plain": [
       "- : bool = false\n"
      ]
     },
     "execution_count": 17,
     "metadata": {},
     "output_type": "execute_result"
    },
    {
     "data": {
      "text/plain": [
       "- : bool = false\n"
      ]
     },
     "execution_count": 17,
     "metadata": {},
     "output_type": "execute_result"
    },
    {
     "data": {
      "text/plain": [
       "- : bool = false\n"
      ]
     },
     "execution_count": 17,
     "metadata": {},
     "output_type": "execute_result"
    },
    {
     "data": {
      "text/plain": [
       "- : bool = false\n"
      ]
     },
     "execution_count": 17,
     "metadata": {},
     "output_type": "execute_result"
    },
    {
     "data": {
      "text/plain": [
       "- : bool = true\n"
      ]
     },
     "execution_count": 17,
     "metadata": {},
     "output_type": "execute_result"
    },
    {
     "data": {
      "text/plain": [
       "- : bool = true\n"
      ]
     },
     "execution_count": 17,
     "metadata": {},
     "output_type": "execute_result"
    },
    {
     "data": {
      "text/plain": [
       "- : bool = true\n"
      ]
     },
     "execution_count": 17,
     "metadata": {},
     "output_type": "execute_result"
    },
    {
     "data": {
      "text/plain": [
       "- : bool = true\n"
      ]
     },
     "execution_count": 17,
     "metadata": {},
     "output_type": "execute_result"
    },
    {
     "data": {
      "text/plain": [
       "- : bool = true\n"
      ]
     },
     "execution_count": 17,
     "metadata": {},
     "output_type": "execute_result"
    },
    {
     "data": {
      "text/plain": [
       "- : bool = true\n"
      ]
     },
     "execution_count": 17,
     "metadata": {},
     "output_type": "execute_result"
    }
   ],
   "source": [
    "(* stored as integer *)\n",
    "is_block 1;;\n",
    "is_block None;;\n",
    "is_block `PolyVariant;;\n",
    "is_block Unit;;\n",
    "is_block [];;\n",
    "is_block ();;\n",
    "\n",
    "is_int 1;;\n",
    "is_int None;;\n",
    "is_int `PolyVariant;;\n",
    "is_int Unit;;\n",
    "is_int [];;\n",
    "is_int ();;"
   ]
  },
  {
   "cell_type": "code",
   "execution_count": 15,
   "id": "5e566948-4d49-478f-8e78-a2c42955aac4",
   "metadata": {},
   "outputs": [
    {
     "data": {
      "text/plain": [
       "- : bool = true\n"
      ]
     },
     "execution_count": 15,
     "metadata": {},
     "output_type": "execute_result"
    },
    {
     "data": {
      "text/plain": [
       "- : bool = false\n"
      ]
     },
     "execution_count": 15,
     "metadata": {},
     "output_type": "execute_result"
    }
   ],
   "source": [
    "(* empty array is heap-allocated but not empty list*)\n",
    "is_block [||];; \n",
    "is_block [];;"
   ]
  },
  {
   "cell_type": "code",
   "execution_count": 6,
   "id": "a2e4c751-437b-49a4-9483-894113626977",
   "metadata": {},
   "outputs": [
    {
     "data": {
      "text/plain": [
       "val entry : (int * string) * person =\n",
       "  ((1, \"Jack\"), {name = \"Jack\"; age = 11})\n"
      ]
     },
     "execution_count": 6,
     "metadata": {},
     "output_type": "execute_result"
    },
    {
     "data": {
      "text/plain": [
       "- : bool = true\n"
      ]
     },
     "execution_count": 6,
     "metadata": {},
     "output_type": "execute_result"
    },
    {
     "data": {
      "text/plain": [
       "- : bool = true\n"
      ]
     },
     "execution_count": 6,
     "metadata": {},
     "output_type": "execute_result"
    },
    {
     "data": {
      "text/plain": [
       "- : bool = false\n"
      ]
     },
     "execution_count": 6,
     "metadata": {},
     "output_type": "execute_result"
    },
    {
     "data": {
      "text/plain": [
       "- : bool = true\n"
      ]
     },
     "execution_count": 6,
     "metadata": {},
     "output_type": "execute_result"
    },
    {
     "data": {
      "text/plain": [
       "- : bool = true\n"
      ]
     },
     "execution_count": 6,
     "metadata": {},
     "output_type": "execute_result"
    },
    {
     "data": {
      "text/plain": [
       "- : bool = false\n"
      ]
     },
     "execution_count": 6,
     "metadata": {},
     "output_type": "execute_result"
    }
   ],
   "source": [
    "(* inside block, int, variants with no type param, etc.. are stored as int *)\n",
    "let entry = ((1, \"Jack\"), { name = \"Jack\"; age = 11});;\n",
    "is_block entry;;\n",
    "is_block (fst entry);;\n",
    "is_block (fst (fst entry));;\n",
    "is_block (snd entry);;\n",
    "is_block ((snd entry).name);;\n",
    "is_block ((snd entry).age);;"
   ]
  },
  {
   "cell_type": "code",
   "execution_count": 7,
   "id": "e1384a16-0908-4204-abc8-3b076ab2f2d3",
   "metadata": {},
   "outputs": [
    {
     "data": {
      "text/plain": [
       "type ynb = Yes | No | Maybe\n"
      ]
     },
     "execution_count": 7,
     "metadata": {},
     "output_type": "execute_result"
    },
    {
     "data": {
      "text/plain": [
       "- : int = 0\n"
      ]
     },
     "execution_count": 7,
     "metadata": {},
     "output_type": "execute_result"
    },
    {
     "data": {
      "text/plain": [
       "- : int = 1\n"
      ]
     },
     "execution_count": 7,
     "metadata": {},
     "output_type": "execute_result"
    },
    {
     "data": {
      "text/plain": [
       "- : int = 2\n"
      ]
     },
     "execution_count": 7,
     "metadata": {},
     "output_type": "execute_result"
    }
   ],
   "source": [
    "type ynb = Yes | No | Maybe;;\n",
    "\n",
    "(Obj.magic (Obj.repr Yes) : int);;\n",
    "(Obj.magic (Obj.repr No) : int);;\n",
    "(Obj.magic (Obj.repr Maybe) : int);;"
   ]
  },
  {
   "cell_type": "code",
   "execution_count": 8,
   "id": "cf73a3df-f556-4303-80d7-a3560da45420",
   "metadata": {},
   "outputs": [
    {
     "data": {
      "text/plain": [
       "type 'a list = Nil | Cons of 'a * 'a list\n"
      ]
     },
     "execution_count": 8,
     "metadata": {},
     "output_type": "execute_result"
    },
    {
     "data": {
      "text/plain": [
       "val lst : int list = Cons (111, Cons (222, Cons (333, Nil)))\n"
      ]
     },
     "execution_count": 8,
     "metadata": {},
     "output_type": "execute_result"
    },
    {
     "data": {
      "text/plain": [
       "- : int = 111\n"
      ]
     },
     "execution_count": 8,
     "metadata": {},
     "output_type": "execute_result"
    },
    {
     "data": {
      "text/plain": [
       "- : int = 222\n"
      ]
     },
     "execution_count": 8,
     "metadata": {},
     "output_type": "execute_result"
    },
    {
     "data": {
      "text/plain": [
       "val getVal : 'a -> int -> int = <fun>\n"
      ]
     },
     "execution_count": 8,
     "metadata": {},
     "output_type": "execute_result"
    },
    {
     "data": {
      "text/plain": [
       "- : int = 111\n"
      ]
     },
     "execution_count": 8,
     "metadata": {},
     "output_type": "execute_result"
    },
    {
     "data": {
      "text/plain": [
       "- : int = 222\n"
      ]
     },
     "execution_count": 8,
     "metadata": {},
     "output_type": "execute_result"
    }
   ],
   "source": [
    "type 'a list = Nil | Cons of 'a * 'a list;;\n",
    "let lst = Cons(111, Cons(222, Cons ( 333, Nil)));;\n",
    "\n",
    "(Obj.magic (Obj.field (Obj.repr lst) 0) : int);;\n",
    "(Obj.magic (Obj.field (Obj.repr (Obj.field (Obj.repr lst) 1))  0) : int);;\n",
    "\n",
    "let getVal o i = (Obj.magic (Obj.field (Obj.repr o) i) : int);;\n",
    "getVal lst 0;;\n",
    "getVal (getVal lst 1) 0;;\n",
    "\n",
    "\n",
    "(* getVal (getVal lst 2) 0 *) (* segmentation fault error :- *)\n"
   ]
  }
 ],
 "metadata": {
  "kernelspec": {
   "display_name": "OCaml 4.12.0",
   "language": "OCaml",
   "name": "ocaml-jupyter"
  },
  "language_info": {
   "codemirror_mode": "text/x-ocaml",
   "file_extension": ".ml",
   "mimetype": "text/x-ocaml",
   "name": "OCaml",
   "nbconverter_exporter": null,
   "pygments_lexer": "OCaml",
   "version": "4.12.0"
  }
 },
 "nbformat": 4,
 "nbformat_minor": 5
}
