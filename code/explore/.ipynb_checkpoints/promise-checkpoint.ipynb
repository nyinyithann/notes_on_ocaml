{
 "cells": [
  {
   "cell_type": "code",
   "execution_count": 4,
   "id": "33f9cace-a0dc-46b8-b069-8288faaf6086",
   "metadata": {},
   "outputs": [
    {
     "data": {
      "text/plain": [
       "module Promise :\n",
       "  sig\n",
       "    type 'a state = Pending | Resolved of 'a | Rejected of exn\n",
       "    type 'a handler = 'a state -> unit\n",
       "    type 'a promise = {\n",
       "      mutable state : 'a state;\n",
       "      mutable handlers : 'a handler list;\n",
       "    }\n",
       "    type 'a resolver = 'a promise\n",
       "    val write_once : 'a promise -> 'a state -> unit\n",
       "    val make : unit -> 'a promise * 'a promise\n",
       "    val return : 'a -> 'a promise\n",
       "    val state : 'a promise -> 'a state\n",
       "    val resolve_or_reject : 'a promise -> 'a state -> unit\n",
       "    val resolve : 'a promise -> 'a -> unit\n",
       "    val reject : 'a promise -> exn -> unit\n",
       "    val enqueue : 'a handler -> 'a promise -> unit\n",
       "    val handler : 'a promise -> 'a state -> unit\n",
       "    val handler_of_callback : ('a -> 'b promise) -> 'b promise -> 'a handler\n",
       "    val ( >>= ) : 'a promise -> ('a -> 'b promise) -> 'b promise\n",
       "  end\n"
      ]
     },
     "execution_count": 4,
     "metadata": {},
     "output_type": "execute_result"
    }
   ],
   "source": [
    "module Promise = struct\n",
    "    type 'a state = Pending | Resolved of 'a | Rejected of exn\n",
    "\n",
    "    type 'a handler = 'a state -> unit\n",
    "\n",
    "    type 'a promise = {\n",
    "      mutable state : 'a state;\n",
    "      mutable handlers : 'a handler list;\n",
    "    }\n",
    "\n",
    "    type 'a resolver = 'a promise\n",
    "\n",
    "    let write_once p s =\n",
    "      if p.state = Pending then p.state <- s else invalid_arg \"cannot write twice\"\n",
    "\n",
    "    let make () =\n",
    "      let p = { state = Pending; handlers = [] } in\n",
    "      (p, p)\n",
    "\n",
    "    let return x = { state = Resolved x; handlers = [] }\n",
    "\n",
    "    let state p = p.state\n",
    "\n",
    "    let resolve_or_reject r s =\n",
    "      assert (s <> Pending);\n",
    "      let handlers = r.handlers in\n",
    "      r.handlers <- [];\n",
    "      write_once r s;\n",
    "      List.iter (fun f -> f s) handlers\n",
    "\n",
    "    let resolve r x = resolve_or_reject r (Resolved x)\n",
    "\n",
    "    let reject r e = resolve_or_reject r (Rejected e)\n",
    "\n",
    "    let enqueue handler p = p.handlers <- handler :: p.handlers\n",
    "\n",
    "    let handler resolver = function\n",
    "      | Pending -> failwith \"violated\"\n",
    "      | Rejected e -> reject resolver e\n",
    "      | Resolved x -> resolve resolver x\n",
    "\n",
    "    let handler_of_callback callback resolver : 'a handler = function\n",
    "      | Pending -> failwith \"violated\"\n",
    "      | Rejected e -> reject resolver e\n",
    "      | Resolved x -> (\n",
    "          let promise = callback x in\n",
    "          match promise.state with\n",
    "          | Rejected e -> reject resolver e\n",
    "          | Resolved x -> resolve resolver x\n",
    "          | Pending -> enqueue (handler resolver) promise)\n",
    "\n",
    "    let ( >>= ) (promise : 'a promise) (callback : 'a -> 'b promise) : 'b promise =\n",
    "      match promise.state with\n",
    "      | Resolved x -> callback x\n",
    "      | Rejected e -> { state = Rejected e; handlers = [] }\n",
    "      | Pending ->\n",
    "          let output_promise, output_resolver = make () in\n",
    "          enqueue (handler_of_callback callback output_resolver) promise;\n",
    "          output_promise\n",
    "end"
   ]
  },
  {
   "cell_type": "code",
   "execution_count": 5,
   "id": "a47b12fb-8f32-4c1e-bb5e-1caebc213992",
   "metadata": {},
   "outputs": [
    {
     "data": {
      "text/plain": [
       "- : int Promise.state = Promise.Resolved 42\n"
      ]
     },
     "execution_count": 5,
     "metadata": {},
     "output_type": "execute_result"
    }
   ],
   "source": [
    "Promise.state (Promise.return 42);;"
   ]
  }
 ],
 "metadata": {
  "kernelspec": {
   "display_name": "OCaml 4.12.0",
   "language": "OCaml",
   "name": "ocaml-jupyter"
  },
  "language_info": {
   "codemirror_mode": "text/x-ocaml",
   "file_extension": ".ml",
   "mimetype": "text/x-ocaml",
   "name": "OCaml",
   "nbconverter_exporter": null,
   "pygments_lexer": "OCaml",
   "version": "4.12.0"
  }
 },
 "nbformat": 4,
 "nbformat_minor": 5
}
