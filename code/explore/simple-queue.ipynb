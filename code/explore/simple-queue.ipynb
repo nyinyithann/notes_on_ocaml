{
 "cells": [
  {
   "cell_type": "code",
   "execution_count": 16,
   "id": "d9b8f757-49e1-401d-b8e5-3297db8b5321",
   "metadata": {},
   "outputs": [
    {
     "data": {
      "text/plain": [
       "module type Queue =\n",
       "  sig\n",
       "    type 'a t\n",
       "    val empty : 'a t\n",
       "    val is_empty : 'a t -> bool\n",
       "    val enqueue : 'a -> 'a t -> 'a t\n",
       "    val dequeue : 'a t -> 'a t\n",
       "    val peek : 'a t -> 'a option\n",
       "    val format :\n",
       "      (Format.formatter -> 'a -> unit) -> Format.formatter -> 'a t -> unit\n",
       "  end\n"
      ]
     },
     "execution_count": 16,
     "metadata": {},
     "output_type": "execute_result"
    },
    {
     "data": {
      "text/plain": [
       "module ListQueue : Queue\n"
      ]
     },
     "execution_count": 16,
     "metadata": {},
     "output_type": "execute_result"
    }
   ],
   "source": [
    "(* simple queue *)\n",
    "module type Queue = sig\n",
    "    type 'a t\n",
    "    val empty: 'a t\n",
    "    val is_empty: 'a t -> bool\n",
    "    val enqueue: 'a -> 'a t -> 'a t\n",
    "    val dequeue: 'a t -> 'a t\n",
    "    val peek: 'a t -> 'a option\n",
    "    val format: (Format.formatter -> 'a -> unit) -> Format.formatter -> 'a t -> unit\n",
    "end\n",
    "\n",
    "module ListQueue : Queue = struct\n",
    "    type 'a t = 'a list\n",
    "    let empty = []\n",
    "    let is_empty q = q = []\n",
    "    let enqueue item q = q @ [item]\n",
    "    let dequeue = function [] -> [] | _::xs -> xs\n",
    "    let peek = function [] -> None | x::_ -> Some x \n",
    "    let format fmt_elt fmt q =\n",
    "        Format.fprintf fmt \"queue [\";\n",
    "        List.iter (fun elt -> Format.fprintf fmt \"%a; \" fmt_elt elt) q;\n",
    "        Format.fprintf fmt \"]\";\n",
    "end"
   ]
  },
  {
   "cell_type": "code",
   "execution_count": 17,
   "id": "8f57ac98-84ae-4052-b64f-29d2c205e0b0",
   "metadata": {},
   "outputs": [
    {
     "data": {
      "text/plain": [
       "val q : int ListQueue.t = queue [10; 11; ]\n"
      ]
     },
     "execution_count": 17,
     "metadata": {},
     "output_type": "execute_result"
    },
    {
     "data": {
      "text/plain": [
       "val q : int ListQueue.t = queue [11; ]\n"
      ]
     },
     "execution_count": 17,
     "metadata": {},
     "output_type": "execute_result"
    },
    {
     "data": {
      "text/plain": [
       "val q : int ListQueue.t = queue [11; 100; 101; ]\n"
      ]
     },
     "execution_count": 17,
     "metadata": {},
     "output_type": "execute_result"
    },
    {
     "data": {
      "text/plain": [
       "val a : int option = Some 11\n"
      ]
     },
     "execution_count": 17,
     "metadata": {},
     "output_type": "execute_result"
    },
    {
     "data": {
      "text/plain": [
       "val q : int ListQueue.t = queue [11; 100; 101; 200; ]\n"
      ]
     },
     "execution_count": 17,
     "metadata": {},
     "output_type": "execute_result"
    }
   ],
   "source": [
    "open ListQueue;;\n",
    "#install_printer ListQueue.format;;\n",
    "\n",
    "let q = ListQueue.empty |> enqueue 10 |> enqueue 11;;\n",
    "let q = q |> dequeue;;\n",
    "let q = q |> enqueue 100 |> enqueue 101;;\n",
    "let a = q |> peek;;\n",
    "let q = q |> enqueue 200;;"
   ]
  },
  {
   "cell_type": "code",
   "execution_count": 18,
   "id": "d354880c-3a48-459a-accb-7d7aeb8669d3",
   "metadata": {},
   "outputs": [
    {
     "data": {
      "text/plain": [
       "module TwoListQueue : Queue\n"
      ]
     },
     "execution_count": 18,
     "metadata": {},
     "output_type": "execute_result"
    }
   ],
   "source": [
    "module TwoListQueue : Queue = struct\n",
    "    type 'a t = {front : 'a list; back : 'a list }\n",
    "\n",
    "    let empty = {front = []; back = []}\n",
    "    \n",
    "    let is_empty q = q = empty\n",
    "\n",
    "    let norm = function\n",
    "        | {front = []; back } -> { front = List.rev back; back = []}\n",
    "        | q -> q\n",
    "\n",
    "    let enqueue item q = norm { q with back = item :: q.back}\n",
    "\n",
    "    let dequeue = function \n",
    "        | {front = _::xs; back} -> norm {front = xs; back}\n",
    "        | { front = []; _ } -> empty\n",
    "\n",
    "    let peek = function\n",
    "        | {front = (x::_); _ } -> Some x\n",
    "        | _ -> None\n",
    "\n",
    "    let format fmt_elt fmt q =\n",
    "        Format.fprintf fmt \"queue [\";\n",
    "        List.iter (fun elt -> Format.fprintf fmt \"%a; \" fmt_elt elt) q.front;\n",
    "        List.iter (fun elt -> Format.fprintf fmt \"%a; \" fmt_elt elt) (List.rev q.back);\n",
    "        Format.fprintf fmt \"]\";\n",
    "end;;"
   ]
  },
  {
   "cell_type": "code",
   "execution_count": 21,
   "id": "c5cfcdc2-4932-4bc4-ab5b-16fed505bcdd",
   "metadata": {},
   "outputs": [
    {
     "data": {
      "text/plain": [
       "val q : int TwoListQueue.t = queue [10; 11; 12; ]\n"
      ]
     },
     "execution_count": 21,
     "metadata": {},
     "output_type": "execute_result"
    },
    {
     "data": {
      "text/plain": [
       "val p : int option = Some 10\n"
      ]
     },
     "execution_count": 21,
     "metadata": {},
     "output_type": "execute_result"
    },
    {
     "data": {
      "text/plain": [
       "val q : int TwoListQueue.t = queue [10; 11; 12; 13; ]\n"
      ]
     },
     "execution_count": 21,
     "metadata": {},
     "output_type": "execute_result"
    }
   ],
   "source": [
    "open TwoListQueue;;\n",
    "#install_printer TwoListQueue.format;;\n",
    "let q = empty |> enqueue 10 |> enqueue 11 |> enqueue 12;;\n",
    "let p = q |> peek;;\n",
    "let q = q |> enqueue 13;;"
   ]
  }
 ],
 "metadata": {
  "kernelspec": {
   "display_name": "OCaml 4.12.0",
   "language": "OCaml",
   "name": "ocaml-jupyter"
  },
  "language_info": {
   "codemirror_mode": "text/x-ocaml",
   "file_extension": ".ml",
   "mimetype": "text/x-ocaml",
   "name": "OCaml",
   "nbconverter_exporter": null,
   "pygments_lexer": "OCaml",
   "version": "4.12.0"
  }
 },
 "nbformat": 4,
 "nbformat_minor": 5
}
