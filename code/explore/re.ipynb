{
 "cells": [
  {
   "cell_type": "markdown",
   "id": "0a1bcb73-7cf4-4396-8b72-995172dea77c",
   "metadata": {},
   "source": [
    "# Re"
   ]
  },
  {
   "cell_type": "code",
   "execution_count": null,
   "id": "d706d966-9ecf-4d5a-8011-8ab98b4dcecf",
   "metadata": {},
   "outputs": [],
   "source": [
    "#require \"re\" ;;\n",
    "module Rep = Re.Perl ;;\n",
    "\n",
    "let re =\n",
    "  let open Re in\n",
    "  alt [rg 'A' 'Z'; rg 'a' 'z'] (* [A-Za-z] *)\n",
    "  |> rep1 (* [A-Za-z]+ *)\n",
    "  |> group (* ([A-Za-z]+) *)\n",
    "  |> compile ;;\n",
    "  \n"
   ]
  },
  {
   "cell_type": "code",
   "execution_count": null,
   "id": "be5621dc-33e6-49c3-91fa-4dd18d9cd510",
   "metadata": {},
   "outputs": [],
   "source": [
    "#require \"re\" ;;\n",
    "\n",
    "let re = Re.Perl.re {|([2-9]+[0-9]{5}$)|} |> Re.compile ;;\n",
    "Re.execp re \"200000\" ;;\n",
    "Re.execp re \"100000\" ;;\n",
    "    "
   ]
  },
  {
   "cell_type": "code",
   "execution_count": 76,
   "id": "cacbc2f2-f04d-4688-8ff4-09d9265d80f8",
   "metadata": {},
   "outputs": [
    {
     "data": {
      "text/plain": [
       "val re : Re.re = <abstr>\n"
      ]
     },
     "execution_count": 76,
     "metadata": {},
     "output_type": "execute_result"
    },
    {
     "data": {
      "text/plain": [
       "- : bool = true\n"
      ]
     },
     "execution_count": 76,
     "metadata": {},
     "output_type": "execute_result"
    },
    {
     "data": {
      "text/plain": [
       "- : bool = false\n"
      ]
     },
     "execution_count": 76,
     "metadata": {},
     "output_type": "execute_result"
    }
   ],
   "source": [
    "#require \"re\" ;;\n",
    "\n",
    "let re = Re.Perl.re {|((http|https)://)(www.)?[a-zA-Z0-9@:%._\\+~#?&//=]{2,256}\\.[a-z]{2,6}\\b([-a-zA-Z0-9@:%._\\+~#?&//=]*)|} |> Re.compile ;;\n",
    "Re.execp re \"https://www.gogole.com/test\" ;;\n",
    "Re.execp re \"100000\" ;;"
   ]
  }
 ],
 "metadata": {
  "kernelspec": {
   "display_name": "OCaml 4.14.0",
   "language": "OCaml",
   "name": "ocaml-jupyter-4.14.0"
  },
  "language_info": {
   "codemirror_mode": "text/x-ocaml",
   "file_extension": ".ml",
   "mimetype": "text/x-ocaml",
   "name": "OCaml",
   "nbconverter_exporter": null,
   "pygments_lexer": "OCaml",
   "version": "4.14.0"
  },
  "widgets": {
   "application/vnd.jupyter.widget-state+json": {
    "state": {},
    "version_major": 2,
    "version_minor": 0
   }
  }
 },
 "nbformat": 4,
 "nbformat_minor": 5
}
