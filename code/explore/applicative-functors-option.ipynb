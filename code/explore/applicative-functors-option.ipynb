{
 "cells": [
  {
   "cell_type": "code",
   "execution_count": null,
   "id": "49acb752-6a78-4147-afd1-378dd3867073",
   "metadata": {},
   "outputs": [],
   "source": [
    "module type Monad = sig\n",
    "  type 'a t\n",
    "\n",
    "  val return : 'a -> 'a t\n",
    "\n",
    "  val bind : 'a t -> ('a -> 'b t) -> 'b t\n",
    "\n",
    "  (* infix operator for bind *)\n",
    "  val ( >>= ) : 'a t -> ('a -> 'b t) -> 'b t\n",
    "\n",
    "  (* infix operator for bind *)\n",
    "  val ( let* ) : 'a t -> ('a -> 'b t) -> 'b t\n",
    "end"
   ]
  },
  {
   "cell_type": "code",
   "execution_count": null,
   "id": "78c7ed66-959e-4b1e-a2ad-75d0f862be86",
   "metadata": {},
   "outputs": [],
   "source": [
    "module OptionMonad : Monad with type 'a t = 'a option = struct\n",
    "  type 'a t = 'a option\n",
    "\n",
    "  let return x = Some x\n",
    "\n",
    "  let bind o f = match o with None -> None | Some x -> f x\n",
    "\n",
    "  let ( >>= ) = bind\n",
    "\n",
    "  let ( let* ) = bind\n",
    "end"
   ]
  },
  {
   "cell_type": "code",
   "execution_count": null,
   "id": "c060e37b-ce62-481b-9046-0d01062500d5",
   "metadata": {},
   "outputs": [],
   "source": [
    "(*\n",
    "    Law of Functor\n",
    "    1. fmap id = id\n",
    "    2. fmap (f . g) = fmap f . fmap g\n",
    "*)\n",
    "\n",
    "module type Functor = sig\n",
    "  type 'a t\n",
    "\n",
    "  val fmap : ('a -> 'b) -> 'a t -> 'b t\n",
    "\n",
    "  (* infix operator for fmap *)\n",
    "  val ( <!> ) : ('a -> 'b) -> 'a t -> 'b t\n",
    "  \n",
    "  (* infix operator for fmap *)\n",
    "  val ( let+ ) : 'a t -> ('a -> 'b) -> 'b t\n",
    "end"
   ]
  },
  {
   "cell_type": "code",
   "execution_count": 118,
   "id": "9cfe4680-4eeb-469a-b513-f7bd6ea1dcc6",
   "metadata": {},
   "outputs": [
    {
     "data": {
      "text/plain": [
       "module OptionFunctor :\n",
       "  sig\n",
       "    type 'a t = 'a option\n",
       "    val fmap : ('a -> 'b) -> 'a t -> 'b t\n",
       "    val ( <!> ) : ('a -> 'b) -> 'a t -> 'b t\n",
       "    val ( let+ ) : 'a t -> ('a -> 'b) -> 'b t\n",
       "  end\n"
      ]
     },
     "execution_count": 118,
     "metadata": {},
     "output_type": "execute_result"
    }
   ],
   "source": [
    "module OptionFunctor : Functor with type 'a t = 'a option = struct\n",
    "  type 'a t = 'a option\n",
    "\n",
    "  let fmap f = function None -> None | Some x -> Some (f x)\n",
    "\n",
    "  let ( <!> ) = fmap\n",
    "\n",
    "  let ( let+ ) x f = fmap f x\n",
    "end"
   ]
  },
  {
   "cell_type": "code",
   "execution_count": 119,
   "id": "442bf9ef-919a-4636-bc96-819bfbeb3fe8",
   "metadata": {},
   "outputs": [
    {
     "data": {
      "text/plain": [
       "module type Applicative =\n",
       "  sig\n",
       "    type 'a t\n",
       "    val apply : ('a -> 'b) t -> 'a t -> 'b t\n",
       "    val product : 'a t -> 'b t -> ('a * 'b) t\n",
       "    val ( <*> ) : ('a -> 'b) t -> 'a t -> 'b t\n",
       "    val ( and+ ) : 'a t -> 'b t -> ('a * 'b) t\n",
       "    val lift2 : ('a -> 'b -> 'c) -> 'a t -> 'b t -> 'c t\n",
       "    val lift3 : ('a -> 'b -> 'c -> 'd) -> 'a t -> 'b t -> 'c t -> 'd t\n",
       "  end\n"
      ]
     },
     "execution_count": 119,
     "metadata": {},
     "output_type": "execute_result"
    }
   ],
   "source": [
    "module type Applicative = sig\n",
    "  type 'a t\n",
    "\n",
    "  val apply : ('a -> 'b) t -> 'a t -> 'b t\n",
    "\n",
    "  val product : 'a t -> 'b t -> ('a * 'b) t\n",
    "\n",
    "  (* infix operator for apply *)\n",
    "  val ( <*> ) : ('a -> 'b) t -> 'a t -> 'b t\n",
    "\n",
    "  (* infix operator for product *)\n",
    "  val ( and+ ) : 'a t -> 'b t -> ('a * 'b) t\n",
    "\n",
    "  val lift2 : ('a -> 'b -> 'c) -> 'a t -> 'b t -> 'c t\n",
    "\n",
    "  val lift3 : ('a -> 'b -> 'c -> 'd) -> 'a t -> 'b t -> 'c t -> 'd t\n",
    "end"
   ]
  },
  {
   "cell_type": "code",
   "execution_count": 120,
   "id": "cb8f8a24-bfe5-4ae4-b719-73883a95e379",
   "metadata": {},
   "outputs": [
    {
     "data": {
      "text/plain": [
       "module OptionApplicative :\n",
       "  sig\n",
       "    type 'a t = 'a option\n",
       "    val apply : ('a -> 'b) t -> 'a t -> 'b t\n",
       "    val product : 'a t -> 'b t -> ('a * 'b) t\n",
       "    val ( <*> ) : ('a -> 'b) t -> 'a t -> 'b t\n",
       "    val ( and+ ) : 'a t -> 'b t -> ('a * 'b) t\n",
       "    val lift2 : ('a -> 'b -> 'c) -> 'a t -> 'b t -> 'c t\n",
       "    val lift3 : ('a -> 'b -> 'c -> 'd) -> 'a t -> 'b t -> 'c t -> 'd t\n",
       "  end\n"
      ]
     },
     "execution_count": 120,
     "metadata": {},
     "output_type": "execute_result"
    }
   ],
   "source": [
    "module OptionApplicative : Applicative with type 'a t = 'a option =\n",
    "struct\n",
    "  include OptionFunctor\n",
    "\n",
    "  type 'a t = 'a option\n",
    "\n",
    "  let apply f o = match (f, o) with Some fn, Some x -> Some (fn x) | _ -> None\n",
    "\n",
    "  let product o1 o2 =\n",
    "    match (o1, o2) with Some x, Some y -> Some (x, y) | _ -> None\n",
    "\n",
    "  let ( <*> ) = apply\n",
    "\n",
    "  let ( and+ ) = product\n",
    "\n",
    "  let lift2 f o1 o2 = f <!> o1 <*> o2\n",
    "\n",
    "  let lift3 f o1 o2 o3 = f <!> o1 <*> o2 <*> o3\n",
    "end"
   ]
  },
  {
   "cell_type": "code",
   "execution_count": 121,
   "id": "a8df980f-38bb-4565-a061-0e7113b43936",
   "metadata": {},
   "outputs": [
    {
     "data": {
      "text/plain": [
       "module OptionEx :\n",
       "  sig\n",
       "    val none : 'a option\n",
       "    val some : 'a -> 'a option\n",
       "    val value : 'a option -> default:'a -> 'a\n",
       "    val get : 'a option -> 'a\n",
       "    val join : 'a option option -> 'a option\n",
       "    val map : ('a -> 'b) -> 'a option -> 'b option\n",
       "    val fold : none:'a -> some:('b -> 'a) -> 'b option -> 'a\n",
       "    val iter : ('a -> unit) -> 'a option -> unit\n",
       "    val is_none : 'a option -> bool\n",
       "    val is_some : 'a option -> bool\n",
       "    val equal : ('a -> 'a -> bool) -> 'a option -> 'a option -> bool\n",
       "    val compare : ('a -> 'a -> int) -> 'a option -> 'a option -> int\n",
       "    val to_result : none:'e -> 'a option -> ('a, 'e) result\n",
       "    val to_list : 'a option -> 'a list\n",
       "    val to_seq : 'a option -> 'a Seq.t\n",
       "    val return : 'a -> 'a option\n",
       "    val bind : 'a option -> ('a -> 'b option) -> 'b option\n",
       "    val ( >>= ) : 'a option -> ('a -> 'b option) -> 'b option\n",
       "    val ( let* ) : 'a option -> ('a -> 'b option) -> 'b option\n",
       "    val fmap : ('a -> 'b) -> 'a option -> 'b option\n",
       "    val ( <!> ) : ('a -> 'b) -> 'a option -> 'b option\n",
       "    val ( let+ ) : 'a option -> ('a -> 'b) -> 'b option\n",
       "    type 'a t = 'a option\n",
       "    val apply : ('a -> 'b) t -> 'a t -> 'b t\n",
       "    val product : 'a t -> 'b t -> ('a * 'b) t\n",
       "    val ( <*> ) : ('a -> 'b) t -> 'a t -> 'b t\n",
       "    val ( and+ ) : 'a t -> 'b t -> ('a * 'b) t\n",
       "    val lift2 : ('a -> 'b -> 'c) -> 'a t -> 'b t -> 'c t\n",
       "    val lift3 : ('a -> 'b -> 'c -> 'd) -> 'a t -> 'b t -> 'c t -> 'd t\n",
       "  end\n"
      ]
     },
     "execution_count": 121,
     "metadata": {},
     "output_type": "execute_result"
    }
   ],
   "source": [
    "module OptionEx = struct\n",
    "    include Stdlib.Option\n",
    "    include OptionMonad\n",
    "    include OptionFunctor\n",
    "    include OptionApplicative\n",
    "end"
   ]
  },
  {
   "cell_type": "code",
   "execution_count": 122,
   "id": "2811e658-1f82-4e95-9cb9-d90a76402845",
   "metadata": {},
   "outputs": [
    {
     "data": {
      "text/plain": [
       "val toInt : string -> int option = <fun>\n"
      ]
     },
     "execution_count": 122,
     "metadata": {},
     "output_type": "execute_result"
    },
    {
     "data": {
      "text/plain": [
       "val r : int option = Some 60\n"
      ]
     },
     "execution_count": 122,
     "metadata": {},
     "output_type": "execute_result"
    },
    {
     "data": {
      "text/plain": [
       "val r : int option = Some 60\n"
      ]
     },
     "execution_count": 122,
     "metadata": {},
     "output_type": "execute_result"
    },
    {
     "data": {
      "text/plain": [
       "val r : int OptionEx.t = Some 3\n"
      ]
     },
     "execution_count": 122,
     "metadata": {},
     "output_type": "execute_result"
    },
    {
     "data": {
      "text/plain": [
       "val r : int option = Some 60\n"
      ]
     },
     "execution_count": 122,
     "metadata": {},
     "output_type": "execute_result"
    }
   ],
   "source": [
    "open OptionEx;;\n",
    "\n",
    "let toInt s = int_of_string_opt s;;\n",
    "\n",
    "let r = \n",
    "    toInt \"10\" >>= fun x -> \n",
    "    toInt \"20\" >>= fun y -> \n",
    "    toInt \"30\" >>= fun z -> return (x + y + z);;\n",
    "\n",
    "let r =\n",
    "    let* x = toInt \"10\" in\n",
    "    let* y = toInt \"20\" in\n",
    "    let* z = toInt \"30\" in\n",
    "    return (x + y + z);;\n",
    "\n",
    "let r = (+) <!> toInt \"1\" <*> toInt \"2\";;\n",
    "\n",
    "let r = \n",
    "  let+ x = toInt \"10\"\n",
    "  and+ y = toInt \"20\"\n",
    "  and+ z = toInt \"30\" in\n",
    "  x + y + z;;"
   ]
  }
 ],
 "metadata": {
  "kernelspec": {
   "display_name": "OCaml 4.12.0",
   "language": "OCaml",
   "name": "ocaml-jupyter"
  },
  "language_info": {
   "codemirror_mode": "text/x-ocaml",
   "file_extension": ".ml",
   "mimetype": "text/x-ocaml",
   "name": "OCaml",
   "nbconverter_exporter": null,
   "pygments_lexer": "OCaml",
   "version": "4.12.0"
  }
 },
 "nbformat": 4,
 "nbformat_minor": 5
}
