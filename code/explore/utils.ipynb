{
 "cells": [
  {
   "cell_type": "code",
   "execution_count": 1,
   "id": "44d371f5-12f4-45fc-8713-e0ce879bf133",
   "metadata": {},
   "outputs": [
    {
     "data": {
      "text/plain": [
       "val ( @@ ) : ('a -> 'b) -> 'a -> 'b = <fun>\n"
      ]
     },
     "execution_count": 1,
     "metadata": {},
     "output_type": "execute_result"
    },
    {
     "data": {
      "text/plain": [
       "- : unit = ()\n"
      ]
     },
     "execution_count": 1,
     "metadata": {},
     "output_type": "execute_result"
    },
    {
     "data": {
      "text/plain": [
       "- : unit = ()\n"
      ]
     },
     "execution_count": 1,
     "metadata": {},
     "output_type": "execute_result"
    },
    {
     "name": "stdout",
     "output_type": "stream",
     "text": [
      "23456\n"
     ]
    }
   ],
   "source": [
    "let (@@) f x = f x;;\n",
    "List.iter print_int @@ List.map (fun x -> x + 1) [1;2;3;4;5];;\n",
    "print_newline();;"
   ]
  },
  {
   "cell_type": "code",
   "execution_count": null,
   "id": "18945e52-dcb3-442f-84d8-225bd97d68e4",
   "metadata": {},
   "outputs": [],
   "source": [
    "let rec pow i n =\n",
    "    if n < 0. then 1. /. (pow (-.i) (n -. 1.))\n",
    "    else if n = 0. then 1.0\n",
    "    else i *. (pow i (n -. 1.));;\n",
    "    \n",
    "pow (-2.) 3.;;"
   ]
  },
  {
   "cell_type": "code",
   "execution_count": null,
   "id": "7543f4dc-8f37-4d29-af59-0c3f36c0336d",
   "metadata": {},
   "outputs": [],
   "source": [
    "let rec transpose (ls:'a list list) : 'a list list = \n",
    "match ls with\n",
    "| [] | [] :: _ -> []\n",
    "| _ -> List.map (List.hd) ls :: transpose (List.map (List.tl) ls);;\n",
    "\n",
    "transpose [[1;2;3]; [4;5;6]];;\n",
    "\n",
    "let transpose_tl (ls: 'a list list) : 'a list list =\n",
    "    let rec aux acc = function\n",
    "    | [] | []::_ -> List.rev acc\n",
    "    | ls -> aux ((List.map (List.hd) ls) :: acc) (List.map (List.tl) ls)\n",
    "    in aux [] ls;;\n",
    "transpose_tl [[1;2;3]; [4;5;6]];;"
   ]
  },
  {
   "cell_type": "code",
   "execution_count": null,
   "id": "2076506d-b841-45ae-9caf-cb37b0691fa2",
   "metadata": {},
   "outputs": [],
   "source": [
    "let compose f g x = f (g x);;\n",
    "let rec iterate n f =\n",
    "   if n = 0 then (function x -> x)\n",
    "   else compose f (iterate (n-1) f) ;;\n",
    "\n",
    "iterate 3 ((-) 1) 10;;\n",
    "\n",
    "let pow i n =\n",
    "    iterate n (( * ) i) 1;;\n",
    "    \n",
    "pow (-2) 3;;"
   ]
  },
  {
   "cell_type": "code",
   "execution_count": 99,
   "id": "8def5a5a-5265-49ec-a3a6-5d4d3d43ede8",
   "metadata": {},
   "outputs": [
    {
     "data": {
      "text/plain": [
       "val mk_multi_fun_list : int -> (int -> int) list = <fun>\n"
      ]
     },
     "execution_count": 99,
     "metadata": {},
     "output_type": "execute_result"
    },
    {
     "data": {
      "text/plain": [
       "- : (int -> int) list =\n",
       "[<fun>; <fun>; <fun>; <fun>; <fun>; <fun>; <fun>; <fun>; <fun>; <fun>]\n"
      ]
     },
     "execution_count": 99,
     "metadata": {},
     "output_type": "execute_result"
    },
    {
     "data": {
      "text/plain": [
       "val appl_multi_fun : 'a -> ('a -> 'b) list -> 'b list = <fun>\n"
      ]
     },
     "execution_count": 99,
     "metadata": {},
     "output_type": "execute_result"
    },
    {
     "data": {
      "text/plain": [
       "- : int list = [7; 14; 21; 28; 35; 42; 49; 56; 63; 70]\n"
      ]
     },
     "execution_count": 99,
     "metadata": {},
     "output_type": "execute_result"
    }
   ],
   "source": [
    "let mk_multi_fun_list n =\n",
    "    let rec aux m =\n",
    "        if m = n then [( * ) n]\n",
    "        else ( * ) m  :: aux (m+1)\n",
    "    in aux 1;;\n",
    "    \n",
    "mk_multi_fun_list 10;;\n",
    "\n",
    "let rec appl_multi_fun x = function\n",
    "    | [] -> []\n",
    "    | h::t -> h (x) :: appl_multi_fun x t;;\n",
    "    \n",
    "appl_multi_fun 7 (mk_multi_fun_list 10);;"
   ]
  },
  {
   "cell_type": "code",
   "execution_count": null,
   "id": "a00b086e-978e-4b0e-81d8-9348e5d08872",
   "metadata": {},
   "outputs": [],
   "source": [
    "let (--) n m =    \n",
    "    let rec aux acc mx =\n",
    "        if n > mx then acc\n",
    "        else aux (mx::acc) (mx - 1)\n",
    "    in aux [] m;;\n",
    "1 -- 10;;    "
   ]
  },
  {
   "cell_type": "code",
   "execution_count": null,
   "id": "91652304-93a3-4f66-a58b-a527c22de6a0",
   "metadata": {},
   "outputs": [],
   "source": [
    "1--10;;"
   ]
  },
  {
   "cell_type": "code",
   "execution_count": null,
   "id": "a9c48167-ed3a-4102-907c-cfb3b8258921",
   "metadata": {},
   "outputs": [],
   "source": []
  }
 ],
 "metadata": {
  "kernelspec": {
   "display_name": "OCaml 4.12.0",
   "language": "OCaml",
   "name": "ocaml-jupyter"
  },
  "language_info": {
   "codemirror_mode": "text/x-ocaml",
   "file_extension": ".ml",
   "mimetype": "text/x-ocaml",
   "name": "OCaml",
   "nbconverter_exporter": null,
   "pygments_lexer": "OCaml",
   "version": "4.12.0"
  }
 },
 "nbformat": 4,
 "nbformat_minor": 5
}
