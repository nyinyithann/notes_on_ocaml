{
 "cells": [
  {
   "cell_type": "code",
   "execution_count": 1,
   "id": "a6d21759-6537-4ccf-923e-5aa20ee29ee5",
   "metadata": {},
   "outputs": [
    {
     "name": "stderr",
     "output_type": "stream",
     "text": [
      "/Users/jazz/.opam/4.12.0/lib/base/base_internalhash_types: added to search path\n",
      "/Users/jazz/.opam/4.12.0/lib/base/base_internalhash_types/base_internalhash_types.cma: loaded\n",
      "/Users/jazz/.opam/4.12.0/lib/base/caml: added to search path\n",
      "/Users/jazz/.opam/4.12.0/lib/base/caml/caml.cma: loaded\n",
      "/Users/jazz/.opam/4.12.0/lib/base/shadow_stdlib: added to search path\n",
      "/Users/jazz/.opam/4.12.0/lib/base/shadow_stdlib/shadow_stdlib.cma: loaded\n",
      "/Users/jazz/.opam/4.12.0/lib/sexplib0: added to search path\n",
      "/Users/jazz/.opam/4.12.0/lib/sexplib0/sexplib0.cma: loaded\n",
      "/Users/jazz/.opam/4.12.0/lib/base: added to search path\n",
      "/Users/jazz/.opam/4.12.0/lib/base/base.cma: loaded\n",
      "/Users/jazz/.opam/4.12.0/lib/fieldslib: added to search path\n",
      "/Users/jazz/.opam/4.12.0/lib/fieldslib/fieldslib.cma: loaded\n",
      "/Users/jazz/.opam/4.12.0/lib/ppx_compare/runtime-lib: added to search path\n",
      "/Users/jazz/.opam/4.12.0/lib/ppx_compare/runtime-lib/ppx_compare_lib.cma: loaded\n",
      "/Users/jazz/.opam/4.12.0/lib/ppx_enumerate/runtime-lib: added to search path\n",
      "/Users/jazz/.opam/4.12.0/lib/ppx_enumerate/runtime-lib/ppx_enumerate_lib.cma: loaded\n",
      "/Users/jazz/.opam/4.12.0/lib/ppx_sexp_conv/runtime-lib: added to search path\n",
      "/Users/jazz/.opam/4.12.0/lib/ppx_sexp_conv/runtime-lib/ppx_sexp_conv_lib.cma: loaded\n",
      "/Users/jazz/.opam/4.12.0/lib/ppx_hash/runtime-lib: added to search path\n",
      "/Users/jazz/.opam/4.12.0/lib/ppx_hash/runtime-lib/ppx_hash_lib.cma: loaded\n",
      "/Users/jazz/.opam/4.12.0/lib/ppx_here/runtime-lib: added to search path\n",
      "/Users/jazz/.opam/4.12.0/lib/ppx_here/runtime-lib/ppx_here_lib.cma: loaded\n",
      "/Users/jazz/.opam/4.12.0/lib/ppx_assert/runtime-lib: added to search path\n",
      "/Users/jazz/.opam/4.12.0/lib/ppx_assert/runtime-lib/ppx_assert_lib.cma: loaded\n",
      "/Users/jazz/.opam/4.12.0/lib/ppx_bench/runtime-lib: added to search path\n",
      "/Users/jazz/.opam/4.12.0/lib/ppx_bench/runtime-lib/ppx_bench_lib.cma: loaded\n",
      "/Users/jazz/.opam/4.12.0/lib/ppx_inline_test/config: added to search path\n",
      "/Users/jazz/.opam/4.12.0/lib/ppx_inline_test/config/inline_test_config.cma: loaded\n",
      "/Users/jazz/.opam/4.12.0/lib/jane-street-headers: added to search path\n",
      "/Users/jazz/.opam/4.12.0/lib/jane-street-headers/jane_street_headers.cma: loaded\n",
      "/Users/jazz/.opam/4.12.0/lib/time_now: added to search path\n",
      "/Users/jazz/.opam/4.12.0/lib/time_now/time_now.cma: loaded\n",
      "/Users/jazz/.opam/4.12.0/lib/ppx_inline_test/runtime-lib: added to search path\n",
      "/Users/jazz/.opam/4.12.0/lib/ppx_inline_test/runtime-lib/ppx_inline_test_lib.cma: loaded\n",
      "/Users/jazz/.opam/4.12.0/lib/splittable_random: added to search path\n",
      "/Users/jazz/.opam/4.12.0/lib/splittable_random/splittable_random.cma: loaded\n",
      "/Users/jazz/.opam/4.12.0/lib/base_quickcheck: added to search path\n",
      "/Users/jazz/.opam/4.12.0/lib/base_quickcheck/base_quickcheck.cma: loaded\n",
      "/Users/jazz/.opam/4.12.0/lib/base/md5: added to search path\n",
      "/Users/jazz/.opam/4.12.0/lib/base/md5/md5_lib.cma: loaded\n",
      "/Users/jazz/.opam/4.12.0/lib/ocaml/unix.cma: loaded\n",
      "/Users/jazz/.opam/4.12.0/lib/ocaml/bigarray.cma: loaded\n",
      "/Users/jazz/.opam/4.12.0/lib/variantslib: added to search path\n",
      "/Users/jazz/.opam/4.12.0/lib/variantslib/variantslib.cma: loaded\n",
      "/Users/jazz/.opam/4.12.0/lib/bin_prot/shape: added to search path\n",
      "/Users/jazz/.opam/4.12.0/lib/bin_prot/shape/bin_shape_lib.cma: loaded\n",
      "/Users/jazz/.opam/4.12.0/lib/bin_prot: added to search path\n",
      "/Users/jazz/.opam/4.12.0/lib/bin_prot/bin_prot.cma: loaded\n",
      "/Users/jazz/.opam/4.12.0/lib/ppx_expect/common: added to search path\n",
      "/Users/jazz/.opam/4.12.0/lib/ppx_expect/common/expect_test_common.cma: loaded\n",
      "/Users/jazz/.opam/4.12.0/lib/ppx_expect/config_types: added to search path\n",
      "/Users/jazz/.opam/4.12.0/lib/ppx_expect/config_types/expect_test_config_types.cma: loaded\n",
      "/Users/jazz/.opam/4.12.0/lib/ppx_expect/collector: added to search path\n",
      "/Users/jazz/.opam/4.12.0/lib/ppx_expect/collector/expect_test_collector.cma: loaded\n",
      "/Users/jazz/.opam/4.12.0/lib/ppx_expect/config: added to search path\n",
      "/Users/jazz/.opam/4.12.0/lib/ppx_expect/config/expect_test_config.cma: loaded\n",
      "/Users/jazz/.opam/4.12.0/lib/stdio: added to search path\n",
      "/Users/jazz/.opam/4.12.0/lib/stdio/stdio.cma: loaded\n",
      "/Users/jazz/.opam/4.12.0/lib/ppx_module_timer/runtime: added to search path\n",
      "/Users/jazz/.opam/4.12.0/lib/ppx_module_timer/runtime/ppx_module_timer_runtime.cma: loaded\n",
      "/Users/jazz/.opam/4.12.0/lib/typerep: added to search path\n",
      "/Users/jazz/.opam/4.12.0/lib/typerep/typerep_lib.cma: loaded\n",
      "/Users/jazz/.opam/4.12.0/lib/base_bigstring: added to search path\n",
      "/Users/jazz/.opam/4.12.0/lib/base_bigstring/base_bigstring.cma: loaded\n",
      "/Users/jazz/.opam/4.12.0/lib/core_kernel/base_for_tests: added to search path\n",
      "/Users/jazz/.opam/4.12.0/lib/core_kernel/base_for_tests/base_for_tests.cma: loaded\n",
      "/Users/jazz/.opam/4.12.0/lib/parsexp: added to search path\n",
      "/Users/jazz/.opam/4.12.0/lib/parsexp/parsexp.cma: loaded\n",
      "/Users/jazz/.opam/4.12.0/lib/sexplib: added to search path\n",
      "/Users/jazz/.opam/4.12.0/lib/sexplib/sexplib.cma: loaded\n",
      "/Users/jazz/.opam/4.12.0/lib/core_kernel: added to search path\n",
      "/Users/jazz/.opam/4.12.0/lib/core_kernel/core_kernel.cma: loaded\n",
      "/Users/jazz/.opam/4.12.0/lib/core/error_checking_mutex: added to search path\n",
      "/Users/jazz/.opam/4.12.0/lib/core/error_checking_mutex/error_checking_mutex.cma: loaded\n",
      "/Users/jazz/.opam/4.12.0/lib/core_kernel/caml_unix: added to search path\n",
      "/Users/jazz/.opam/4.12.0/lib/core_kernel/caml_unix/caml_unix.cma: loaded\n",
      "/Users/jazz/.opam/4.12.0/lib/core_kernel/flags: added to search path\n",
      "/Users/jazz/.opam/4.12.0/lib/core_kernel/flags/flags.cma: loaded\n",
      "/Users/jazz/.opam/4.12.0/lib/core_kernel/version_util: added to search path\n",
      "/Users/jazz/.opam/4.12.0/lib/core_kernel/version_util/version_util.cma: loaded\n",
      "/Users/jazz/.opam/4.12.0/lib/sexplib/unix: added to search path\n",
      "/Users/jazz/.opam/4.12.0/lib/sexplib/unix/sexplib_unix.cma: loaded\n",
      "/Users/jazz/.opam/4.12.0/lib/spawn: added to search path\n",
      "/Users/jazz/.opam/4.12.0/lib/spawn/spawn.cma: loaded\n",
      "/Users/jazz/.opam/4.12.0/lib/timezone: added to search path\n",
      "/Users/jazz/.opam/4.12.0/lib/timezone/timezone.cma: loaded\n",
      "/Users/jazz/.opam/4.12.0/lib/core: added to search path\n",
      "/Users/jazz/.opam/4.12.0/lib/core/core.cma: loaded\n",
      "/Users/jazz/.opam/4.12.0/lib/core/time_stamp_counter: added to search path\n",
      "/Users/jazz/.opam/4.12.0/lib/core/time_stamp_counter/time_stamp_counter.cma: loaded\n",
      "/Users/jazz/.opam/4.12.0/lib/core_kernel/ansi_kernel: added to search path\n",
      "/Users/jazz/.opam/4.12.0/lib/core_kernel/ansi_kernel/ansi_kernel.cma: loaded\n",
      "/Users/jazz/.opam/4.12.0/lib/textutils/ascii_table_kernel: added to search path\n",
      "/Users/jazz/.opam/4.12.0/lib/textutils/ascii_table_kernel/ascii_table_kernel.cma: loaded\n",
      "/Users/jazz/.opam/4.12.0/lib/core_kernel/bounded_int_table: added to search path\n",
      "/Users/jazz/.opam/4.12.0/lib/core_kernel/bounded_int_table/bounded_int_table.cma: loaded\n",
      "/Users/jazz/.opam/4.12.0/lib/core/linux_ext: added to search path\n",
      "/Users/jazz/.opam/4.12.0/lib/core/linux_ext/linux_ext.cma: loaded\n",
      "/Users/jazz/.opam/4.12.0/lib/textutils/console: added to search path\n",
      "/Users/jazz/.opam/4.12.0/lib/textutils/console/console.cma: loaded\n",
      "/Users/jazz/.opam/4.12.0/lib/textutils/ascii_table: added to search path\n",
      "/Users/jazz/.opam/4.12.0/lib/textutils/ascii_table/ascii_table.cma: loaded\n",
      "/Users/jazz/.opam/4.12.0/lib/core_bench: added to search path\n",
      "/Users/jazz/.opam/4.12.0/lib/core_bench/core_bench.cma: loaded\n"
     ]
    },
    {
     "data": {
      "text/plain": [
       "val sum_match : Base.Int.t list -> Base.Int.t = <fun>\n"
      ]
     },
     "execution_count": 1,
     "metadata": {},
     "output_type": "execute_result"
    },
    {
     "data": {
      "text/plain": [
       "val sum_ifelse : Base.Int.t Base.List.t -> Base.Int.t = <fun>\n"
      ]
     },
     "execution_count": 1,
     "metadata": {},
     "output_type": "execute_result"
    },
    {
     "name": "stdout",
     "output_type": "stream",
     "text": [
      "Estimated testing time 20s (2 benchmarks x 10s). Change using '-quota'.\n"
     ]
    },
    {
     "data": {
      "text/plain": [
       "- : unit = ()\n"
      ]
     },
     "execution_count": 1,
     "metadata": {},
     "output_type": "execute_result"
    }
   ],
   "source": [
    "#require \"base\";;\n",
    "#require \"core_bench\";;\n",
    "open Base;;\n",
    "open Core_bench;;\n",
    "\n",
    "let rec sum_match = function\n",
    "    | [] -> 0\n",
    "    | hd :: tl -> hd + sum_match tl;;\n",
    "\n",
    "let rec sum_ifelse lst =\n",
    "    if List.is_empty lst then 0\n",
    "    else List.hd_exn lst + sum_ifelse (List.tl_exn lst);;\n",
    "\n",
    "let nums = List.range 1 100 in\n",
    "let bench1 = Bench.Test.create ~name:\"sum_match\" (fun () -> sum_match nums) and\n",
    "bench2 = Bench.Test.create ~name:\"sum_ifelse\" (fun () -> sum_ifelse nums) in\n",
    "[bench1; bench2] |> Bench.bench;;"
   ]
  },
  {
   "cell_type": "code",
   "execution_count": null,
   "id": "b37238d0-03dc-4ba2-a28a-f65e1b45ae46",
   "metadata": {},
   "outputs": [],
   "source": [
    "#require \"base\";;\n",
    "open Base;;\n",
    "(** looping forever\n",
    "\n",
    "let rec drop to_drop lst =\n",
    "    match lst with\n",
    "    | [] -> []\n",
    "    | hd :: tl -> \n",
    "        if hd = to_drop then drop to_drop tl\n",
    "        else drop to_drop (hd :: tl);;\n",
    "*)\n",
    "\n",
    "let rec drop to_drop lst =\n",
    "    match lst with\n",
    "    | [] -> []\n",
    "    | hd :: tl -> \n",
    "        let new_tl = drop to_drop tl in\n",
    "        if hd = to_drop then new_tl else hd :: new_tl;;\n",
    "drop 10  [10;10;2;2;10];;\n",
    "drop 10  ([10;10;2;2;10] |> List.sort ~compare:Int.compare);;"
   ]
  },
  {
   "cell_type": "code",
   "execution_count": null,
   "id": "42fed346-0a20-4273-990a-be1c57ac9022",
   "metadata": {},
   "outputs": [],
   "source": [
    "#require \"base\";;\n",
    "open Base;;\n",
    "\n",
    "let header = [\"language\";\"architect\";\"first release\"];;\n",
    "let rows = [ [\"Lisp\" ;\"John McCarthy\" ;\"1958\"] ;\n",
    "       [\"C\"    ;\"Dennis Ritchie\";\"1969\"] ;\n",
    "       [\"ML\"   ;\"Robin Milner\"  ;\"1973\"] ;\n",
    "       [\"OCaml\";\"Xavier Leroy\"  ;\"1996\"] ;\n",
    "];;\n",
    "\n",
    "let max_widths header rows =\n",
    "    let len l = l |> List.map ~f:String.length in\n",
    "    rows \n",
    "    |> List.fold \n",
    "        ~init:(len header)\n",
    "        ~f:(fun accum row -> List.map2_exn accum (len row) ~f:Int.max);;\n",
    "\n",
    "max_widths header rows;;\n",
    "\n",
    "let render_separator widths =\n",
    "    let ln = \n",
    "        widths \n",
    "            |> List.map ~f:(fun x -> (String.make x '-')) \n",
    "            |> String.concat ~sep:\"-+-\" in\n",
    "        \"|-\" ^ ln ^ \"-|\" ;;\n",
    "    \n",
    "max_widths header rows |> render_separator ;;\n",
    "\n",
    "let render_row row widths =\n",
    "    let ln =\n",
    "        List.map2_exn row widths ~f:(fun r w -> r ^ String.make (w - String.length r) ' ')\n",
    "        |> String.concat ~sep:\" | \" in\n",
    "    \"| \" ^ ln ^ \" |\" ;;\n",
    "\n",
    "render_row [\"C\"    ;\"Dennis Ritchie\";\"1969\"] (max_widths header rows);;\n",
    "\n",
    "let render_table header rows =\n",
    "    let widths = max_widths header rows in\n",
    "        render_row header widths ::\n",
    "        render_separator widths ::\n",
    "        (rows |> List.map ~f:(fun r -> render_row r widths)) ;;\n",
    "        (** |> String.concat ~sep:\"\\n\" *)\n",
    "    \n",
    "    \n",
    "render_table header rows;;"
   ]
  },
  {
   "cell_type": "code",
   "execution_count": null,
   "id": "b1d2f40b-c72e-45cb-a24e-2e1a24e12d99",
   "metadata": {},
   "outputs": [],
   "source": [
    "let filenames = [\"foo.c\"; \"foo.ml\"; \"bar.ml\"; \"bar.mli\"];;\n",
    "let extensions filenames =\n",
    "    filenames\n",
    "     |> List.filter_map ~f:(fun f -> \n",
    "            match String.rsplit2 ~on:'.' f with\n",
    "            | None | Some(_, \"\") -> None\n",
    "            | Some(_, ext) -> Some ext) \n",
    "    |> List.dedup_and_sort ~compare:String.compare;;\n",
    "            \n",
    "extensions filenames;;\n",
    "\n",
    "let ocaml_sources filenames =\n",
    "    filenames\n",
    "     |> List.partition_tf ~f:(fun f ->\n",
    "         match String.rsplit2 f ~on:'.' with\n",
    "         | Some(_,(\"ml\" | \"mli\")) -> true\n",
    "         | _ -> false) ;;\n",
    "        \n",
    "ocaml_sources filenames;"
   ]
  },
  {
   "cell_type": "code",
   "execution_count": null,
   "id": "803b6d5c-8abc-49b7-a738-1eea0f3479f9",
   "metadata": {},
   "outputs": [],
   "source": [
    "open Base;;\n",
    "let rec ls_rec dir =\n",
    "    match Core.Sys.is_file dir with\n",
    "    | `Yes -> [dir]\n",
    "    | _ -> dir\n",
    "            |> Core.Sys.ls_dir\n",
    "            |> List.concat_map ~f:(fun f -> ls_rec (Core.Filename.concat dir f)) ;;\n"
   ]
  },
  {
   "cell_type": "code",
   "execution_count": null,
   "id": "63a2a8cf-0e3c-452e-b9f9-ec18c883b927",
   "metadata": {},
   "outputs": [],
   "source": [
    "let rec ls_rec path =\n",
    "    match Sys_unix.is_file path with\n",
    "    | `Yes -> [path]\n",
    "    | _ -> \n",
    "        match Sys_unix.is_directory path with\n",
    "        | `Yes -> Sys_unix.ls_dir path |> List.concat_map ~f:(fun f -> ls_rec (Core.Filename.concat path f))\n",
    "        | _ -> [];;"
   ]
  },
  {
   "cell_type": "code",
   "execution_count": 4,
   "id": "d95f0011-abea-404b-990b-3d41faff2185",
   "metadata": {},
   "outputs": [
    {
     "data": {
      "text/plain": [
       "val length : 'a list -> Base.Int.t = <fun>\n"
      ]
     },
     "execution_count": 4,
     "metadata": {},
     "output_type": "execute_result"
    },
    {
     "data": {
      "text/plain": [
       "- : Base.Int.t = 1000000\n"
      ]
     },
     "execution_count": 4,
     "metadata": {},
     "output_type": "execute_result"
    }
   ],
   "source": [
    "#require \"base\";;\n",
    "open Base;;\n",
    "\n",
    "let length l =\n",
    "    let rec loop l size = \n",
    "        match l with\n",
    "        | [] -> size\n",
    "        | _ :: tl -> loop tl (size + 1) in\n",
    "    loop l 0;;\n",
    "\n",
    "let lst = List.range 0 1000000 in\n",
    "lst |> length"
   ]
  },
  {
   "cell_type": "code",
   "execution_count": 28,
   "id": "81020ca0-975c-40f8-848e-86f8e39959e4",
   "metadata": {},
   "outputs": [
    {
     "data": {
      "text/plain": [
       "val remove_sequential_duplicates : 'a list -> 'a list = <fun>\n"
      ]
     },
     "execution_count": 28,
     "metadata": {},
     "output_type": "execute_result"
    },
    {
     "data": {
      "text/plain": [
       "- : int list = [1; 2; 1; 2; 3; 4; 5]\n"
      ]
     },
     "execution_count": 28,
     "metadata": {},
     "output_type": "execute_result"
    }
   ],
   "source": [
    "#require \"base\";;\n",
    "#require \"core_bench\";;\n",
    "open Base;;\n",
    "open Base.Poly;;\n",
    "open Core_bench;;\n",
    "\n",
    "let rec remove_sequential_duplicates = function\n",
    "    | [] | [_] as l -> l\n",
    "    | f :: (s :: _ as tl) when f = s -> remove_sequential_duplicates tl\n",
    "    | f :: tl -> f :: remove_sequential_duplicates tl;;\n",
    "    \n",
    "remove_sequential_duplicates [1;2;2;2;1;2;2;3;3;4;5];;\n",
    "\n",
    "(** worst version\n",
    "    let remove_sequential_duplicates_tc l =\n",
    "    let rec loop l r =\n",
    "        match l with\n",
    "        | [] -> r\n",
    "        | [hd] -> hd :: r\n",
    "        | f :: (s :: _ as tl) when f = s -> loop tl r\n",
    "        | f :: tl -> loop tl (f :: r) in\n",
    "    loop l [] ;;\n",
    "    remove_sequential_duplicates_tc (List.init 100000000 (fun _ -> 1));;\n",
    "    \n",
    "    let nums = List.init 10000 (fun _ -> 1) in\n",
    "    let bench1 = Bench.Test.create ~name:\"remove_sequential_duplicates\" (fun () -> remove_sequential_duplicates nums) and\n",
    "    bench2 = Bench.Test.create ~name:\"remove_sequential_duplicates_tc\" (fun () -> remove_sequential_duplicates_tc nums) in\n",
    "    [bench1; bench2] |> Bench.bench;;\n",
    "*)\n",
    "\n",
    "\n",
    "\n",
    "\n"
   ]
  },
  {
   "cell_type": "code",
   "execution_count": null,
   "id": "5be18191-5698-4571-9fcb-0a4236088ec1",
   "metadata": {},
   "outputs": [],
   "source": []
  }
 ],
 "metadata": {
  "kernelspec": {
   "display_name": "OCaml 4.12.0",
   "language": "OCaml",
   "name": "ocaml-jupyter-4.12.0"
  },
  "language_info": {
   "codemirror_mode": "text/x-ocaml",
   "file_extension": ".ml",
   "mimetype": "text/x-ocaml",
   "name": "OCaml",
   "nbconverter_exporter": null,
   "pygments_lexer": "OCaml",
   "version": "4.12.0"
  },
  "widgets": {
   "application/vnd.jupyter.widget-state+json": {
    "state": {},
    "version_major": 2,
    "version_minor": 0
   }
  }
 },
 "nbformat": 4,
 "nbformat_minor": 5
}
