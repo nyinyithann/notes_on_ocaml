{
 "cells": [
  {
   "cell_type": "code",
   "execution_count": 77,
   "id": "18506a48-8eae-4cd2-9d16-4c21fddbad69",
   "metadata": {},
   "outputs": [
    {
     "data": {
      "text/plain": [
       "- : ('a -> 'b -> 'a) -> 'a -> 'b list -> 'a = <fun>\n"
      ]
     },
     "execution_count": 77,
     "metadata": {},
     "output_type": "execute_result"
    }
   ],
   "source": [
    "List.fold_left;;"
   ]
  },
  {
   "cell_type": "code",
   "execution_count": 78,
   "id": "249f67f5-7e3d-4159-81ba-a8d106ad356a",
   "metadata": {},
   "outputs": [
    {
     "data": {
      "text/plain": [
       "module type List_type =\n",
       "  sig\n",
       "    type 'a t\n",
       "    val empty : int t\n",
       "    val mem : int -> int t -> bool\n",
       "    val add : int -> int t -> int t\n",
       "  end\n"
      ]
     },
     "execution_count": 78,
     "metadata": {},
     "output_type": "execute_result"
    },
    {
     "data": {
      "text/plain": [
       "module MyList : List_type\n"
      ]
     },
     "execution_count": 78,
     "metadata": {},
     "output_type": "execute_result"
    },
    {
     "data": {
      "text/plain": [
       "module AddAll :\n",
       "  functor (L : List_type) ->\n",
       "    sig val add_all : int L.t -> int list -> int L.t end\n"
      ]
     },
     "execution_count": 78,
     "metadata": {},
     "output_type": "execute_result"
    },
    {
     "data": {
      "text/plain": [
       "module AddAllList :\n",
       "  sig val add_all : int MyList.t -> int list -> int MyList.t end\n"
      ]
     },
     "execution_count": 78,
     "metadata": {},
     "output_type": "execute_result"
    },
    {
     "data": {
      "text/plain": [
       "val lst : int MyList.t = <abstr>\n"
      ]
     },
     "execution_count": 78,
     "metadata": {},
     "output_type": "execute_result"
    },
    {
     "data": {
      "text/plain": [
       "- : bool = true\n"
      ]
     },
     "execution_count": 78,
     "metadata": {},
     "output_type": "execute_result"
    },
    {
     "data": {
      "text/plain": [
       "- : bool = false\n"
      ]
     },
     "execution_count": 78,
     "metadata": {},
     "output_type": "execute_result"
    },
    {
     "data": {
      "text/plain": [
       "- : int MyList.t -> int list -> int MyList.t = <fun>\n"
      ]
     },
     "execution_count": 78,
     "metadata": {},
     "output_type": "execute_result"
    }
   ],
   "source": [
    "module type List_type = sig\n",
    " \n",
    "  type 'a t\n",
    "\n",
    "  (* [empty] is the empty set *)\n",
    "  val empty : int t\n",
    "\n",
    "  (* [mem x s] holds iff [x] is an element of [s] *)\n",
    "  val mem   : int  -> int t -> bool\n",
    "\n",
    "  (* [add x s] is the set [s] unioned with the set containing exactly [x] *)\n",
    "  val add   : int -> int t -> int t \n",
    "end\n",
    "\n",
    "module MyList : List_type = struct \n",
    "    type teml = int\n",
    "    type 'a t = Nil | Cons of int * int t\n",
    "    \n",
    "    let empty = Nil\n",
    "    \n",
    "    let rec mem x = function Nil -> false | Cons(h,t) -> h = x || mem x t\n",
    "    \n",
    "    let add x l = Cons (x, l)\n",
    "end\n",
    "\n",
    "module AddAll (L: List_type)  = struct \n",
    "    let add_all lst itemsToAdd = \n",
    "        let add' accList item = L.add item accList in \n",
    "        List.fold_left add' lst itemsToAdd\n",
    "end \n",
    "\n",
    "module AddAllList = AddAll(MyList);;\n",
    "\n",
    "let lst = AddAllList.add_all MyList.empty [1;2;3;4];;\n",
    "MyList.mem 2 lst;;\n",
    "MyList.mem 20 lst;;\n",
    "AddAllList.add_all;;"
   ]
  },
  {
   "cell_type": "code",
   "execution_count": null,
   "id": "8c9a38c4-624e-49c7-90f8-c9f1cb19682e",
   "metadata": {},
   "outputs": [],
   "source": []
  }
 ],
 "metadata": {
  "kernelspec": {
   "display_name": "OCaml 4.12.0",
   "language": "OCaml",
   "name": "ocaml-jupyter"
  },
  "language_info": {
   "codemirror_mode": "text/x-ocaml",
   "file_extension": ".ml",
   "mimetype": "text/x-ocaml",
   "name": "OCaml",
   "nbconverter_exporter": null,
   "pygments_lexer": "OCaml",
   "version": "4.12.0"
  }
 },
 "nbformat": 4,
 "nbformat_minor": 5
}
