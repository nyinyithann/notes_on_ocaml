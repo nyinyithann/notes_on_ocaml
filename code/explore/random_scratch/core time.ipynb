{
 "cells": [
  {
   "cell_type": "markdown",
   "id": "a5fb4335-7279-48e1-9704-a1be268c2df6",
   "metadata": {},
   "source": [
    "# Core Time"
   ]
  },
  {
   "cell_type": "code",
   "execution_count": 38,
   "id": "efb88f0f-c69f-4d90-b22c-50fbde28f4ab",
   "metadata": {},
   "outputs": [
    {
     "data": {
      "text/plain": [
       "val str : string = \"2022-07-13 08:09:12.346158Z\"\n"
      ]
     },
     "execution_count": 38,
     "metadata": {},
     "output_type": "execute_result"
    },
    {
     "data": {
      "text/plain": [
       "val time : Time_unix.t = 1657699752.346158\n"
      ]
     },
     "execution_count": 38,
     "metadata": {},
     "output_type": "execute_result"
    },
    {
     "data": {
      "text/plain": [
       "val date : Core__Time_intf.Date.t = 2022-07-13\n"
      ]
     },
     "execution_count": 38,
     "metadata": {},
     "output_type": "execute_result"
    },
    {
     "data": {
      "text/plain": [
       "val date_str : string = \"2022-07-13\"\n"
      ]
     },
     "execution_count": 38,
     "metadata": {},
     "output_type": "execute_result"
    },
    {
     "data": {
      "text/plain": [
       "val ofd : Core__.Time_float0.Ofday.t = 16:09:12.346158\n"
      ]
     },
     "execution_count": 38,
     "metadata": {},
     "output_type": "execute_result"
    },
    {
     "data": {
      "text/plain": [
       "- : Core__.Import.string = \"16:09:12\"\n"
      ]
     },
     "execution_count": 38,
     "metadata": {},
     "output_type": "execute_result"
    },
    {
     "data": {
      "text/plain": [
       "- : string = \"13/07/22 16:09:12\"\n"
      ]
     },
     "execution_count": 38,
     "metadata": {},
     "output_type": "execute_result"
    }
   ],
   "source": [
    "#require \"core.top\" ;;\n",
    "#require \"ppx_jane\" ;;\n",
    "#require \"core_compat\" ;;\n",
    "open Core;;\n",
    "\n",
    "let str = \"2022-07-13 08:09:12.346158Z\" ;;\n",
    "let time = Time_unix.of_string str ;;\n",
    "let date = Time.to_date time ~zone:(Lazy.force Time_unix.Zone.local) ;;\n",
    "let date_str = Core.Date.to_string  date ;;\n",
    "let ofd = Time.to_ofday time ~zone:(Lazy.force Time_unix.Zone.local);;\n",
    "Time.Ofday.to_sec_string ofd;;\n",
    "\n",
    "Time_unix.format time \"%d/%m/%y %H:%M:%S\" ~zone:(Lazy.force Time_unix.Zone.local) ;;"
   ]
  },
  {
   "cell_type": "code",
   "execution_count": 39,
   "id": "9ffa7f58-7d99-493d-9495-5bfac16babf2",
   "metadata": {},
   "outputs": [
    {
     "data": {
      "text/plain": [
       "- : Time_unix.t = 1657699752.346158\n"
      ]
     },
     "execution_count": 39,
     "metadata": {},
     "output_type": "execute_result"
    }
   ],
   "source": [
    "let str = \"2022-07-13 08:09:12.346158Z\" in\n",
    "let time = Time_unix.of_string str in\n",
    "time ;;\n",
    "(* \n",
    "let to_date_string str =\n",
    "  try\n",
    "    let time = Time_unix.of_string str in\n",
    "    Time_unix.format time \"%d/%m/%y %H:%M:%S\" ~zone:(Lazy.force Time_unix.Zone.local)\n",
    "  with\n",
    "  | _ -> epoch_str ()\n",
    ";; *)\n"
   ]
  },
  {
   "cell_type": "code",
   "execution_count": 31,
   "id": "9dd204a8-0717-4384-99f0-bb4b5d2c4322",
   "metadata": {},
   "outputs": [
    {
     "data": {
      "text/plain": [
       "val ( #< ) : ('a, unit, string) Stdlib.format -> 'a = <fun>\n"
      ]
     },
     "execution_count": 31,
     "metadata": {},
     "output_type": "execute_result"
    },
    {
     "data": {
      "text/plain": [
       "- : string = \"Hello abc, 10\"\n"
      ]
     },
     "execution_count": 31,
     "metadata": {},
     "output_type": "execute_result"
    }
   ],
   "source": [
    "let ( #< ) = Printf.sprintf ;;\n",
    "\"Hello %s, %d\" #< \"abc\" 10 ;;"
   ]
  }
 ],
 "metadata": {
  "kernelspec": {
   "display_name": "OCaml 4.14.0",
   "language": "OCaml",
   "name": "ocaml-jupyter-4.14.0"
  },
  "language_info": {
   "codemirror_mode": "text/x-ocaml",
   "file_extension": ".ml",
   "mimetype": "text/x-ocaml",
   "name": "OCaml",
   "nbconverter_exporter": null,
   "pygments_lexer": "OCaml",
   "version": "4.14.0"
  },
  "widgets": {
   "application/vnd.jupyter.widget-state+json": {
    "state": {},
    "version_major": 2,
    "version_minor": 0
   }
  }
 },
 "nbformat": 4,
 "nbformat_minor": 5
}
