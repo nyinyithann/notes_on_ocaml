{
 "cells": [
  {
   "cell_type": "markdown",
   "id": "50497dfc-8782-4427-ac5b-70668b3dc858",
   "metadata": {},
   "source": [
    "# Sqlite3"
   ]
  },
  {
   "cell_type": "code",
   "execution_count": null,
   "id": "37f027c9-f52b-4f58-b976-9a2ddf71fa85",
   "metadata": {},
   "outputs": [],
   "source": [
    "#require \"sqlite3\" ;;\n",
    "\n",
    "open Sqlite3 ;;\n",
    "open Printf ;;\n",
    "\n",
    "sqlite_version_info() ;;\n",
    "let db_uri = \"/Users/jazz/fm.db\" ;;\n",
    "\n",
    "let db = db_open ~mode:`NO_CREATE ~uri:true db_uri  ;;\n",
    "db ;;\n",
    "let sql_count = \"SELECT count(*) FROM bookmarks\" ;;\n",
    "\n",
    "\n",
    "let count = ref \"\" ;;\n",
    "exec db sql_count ~cb:(fun row _ -> match row.(0) with Some a ->  count := a | None -> count := \"0\" );;\n",
    "!count ;;\n",
    "\n",
    " match exec db sql_count with\n",
    "  | Rc.OK ->  \"Ok\"\n",
    "  | r ->  (errmsg db) ;;\n",
    "\n",
    "let cb row headers =\n",
    "  let n = Array.length row - 1 in\n",
    "  let () = for i = 0 to n do\n",
    "    let value = match row.(i) with | Some s -> s | None -> \"Null\" in\n",
    "    Printf.printf \"| %s: %s \" headers.(i) value\n",
    "    done\n",
    "  in print_endline \"\" ;;\n",
    "\n",
    "exec db \"select * from bookmarks\" ~cb ;;\n",
    "  \n",
    "db_close db ;;\n",
    "flush_all() ;;"
   ]
  },
  {
   "cell_type": "code",
   "execution_count": 36,
   "id": "ce15311f-71d8-4b6a-8ec7-831664c15e04",
   "metadata": {},
   "outputs": [
    {
     "data": {
      "text/plain": [
       "- : string = \"3.28.0\"\n"
      ]
     },
     "execution_count": 36,
     "metadata": {},
     "output_type": "execute_result"
    },
    {
     "data": {
      "text/plain": [
       "val db_uri : string = \"/Users/jazz/fm.db\"\n"
      ]
     },
     "execution_count": 36,
     "metadata": {},
     "output_type": "execute_result"
    },
    {
     "data": {
      "text/plain": [
       "val db : Sqlite3.db = <abstr>\n"
      ]
     },
     "execution_count": 36,
     "metadata": {},
     "output_type": "execute_result"
    },
    {
     "data": {
      "text/plain": [
       "- : unit = ()\n"
      ]
     },
     "execution_count": 36,
     "metadata": {},
     "output_type": "execute_result"
    },
    {
     "name": "stdout",
     "output_type": "stream",
     "text": [
      "Total Count 3\n"
     ]
    },
    {
     "data": {
      "text/plain": [
       "- : unit = ()\n"
      ]
     },
     "execution_count": 36,
     "metadata": {},
     "output_type": "execute_result"
    },
    {
     "data": {
      "text/plain": [
       "- : unit = ()\n"
      ]
     },
     "execution_count": 36,
     "metadata": {},
     "output_type": "execute_result"
    },
    {
     "name": "stdout",
     "output_type": "stream",
     "text": [
      "idurldescriptioncategorytagsaddedid=47, url=favemarks.com, desc=desc, cat=bookmark, tags=bookmark url hooks, added=2022-07-13 08:09:12.346158Z\n",
      "\n"
     ]
    },
    {
     "data": {
      "text/plain": [
       "- : unit = ()\n"
      ]
     },
     "execution_count": 36,
     "metadata": {},
     "output_type": "execute_result"
    },
    {
     "data": {
      "text/plain": [
       "- : string = \"closing db\"\n"
      ]
     },
     "execution_count": 36,
     "metadata": {},
     "output_type": "execute_result"
    },
    {
     "data": {
      "text/plain": [
       "- : bool = true\n"
      ]
     },
     "execution_count": 36,
     "metadata": {},
     "output_type": "execute_result"
    },
    {
     "data": {
      "text/plain": [
       "- : unit = ()\n"
      ]
     },
     "execution_count": 36,
     "metadata": {},
     "output_type": "execute_result"
    }
   ],
   "source": [
    "#require \"sqlite3\" ;;\n",
    "\n",
    "open Sqlite3 ;;\n",
    "open Printf ;;\n",
    "\n",
    "sqlite_version_info() ;;\n",
    "let db_uri = \"/Users/jazz/fm.db\" ;;\n",
    "\n",
    "let db = db_open ~mode:`NO_CREATE ~uri:true db_uri  ;;\n",
    "\n",
    "\n",
    "let count_stmt = prepare db \"Select count(*) from bookmarks\" in\n",
    "ignore (step count_stmt) ;\n",
    "Printf.printf \"Total Count %d\" (column_int count_stmt 0) ;;\n",
    "print_endline \"\" ;;\n",
    "\n",
    "let sql = \"select * from bookmarks limit 1 offset 2\" in\n",
    "let select_stmt = prepare db sql in\n",
    "\n",
    "while step select_stmt = Rc.ROW do\n",
    "    row_names select_stmt |> Array.iter (fun x -> printf \"%s\" x) ;\n",
    "    let id = column_int select_stmt 0 in\n",
    "    let url = column_text select_stmt 1 in\n",
    "    let desc = column_text select_stmt 2 in\n",
    "    let cat = column_text select_stmt 3 in\n",
    "    let tags = column_text select_stmt 4 in\n",
    "    let added = column_text select_stmt 5 in\n",
    "    printf \"id=%d, url=%s, desc=%s, cat=%s, tags=%s, added=%s\\n\" id url desc cat tags added;\n",
    "done ;;\n",
    "print_endline \"\" ;;\n",
    "\n",
    "\"closing db\" ;;\n",
    "db_close db;;\n",
    "flush_all() ;;"
   ]
  }
 ],
 "metadata": {
  "kernelspec": {
   "display_name": "OCaml 4.14.0",
   "language": "OCaml",
   "name": "ocaml-jupyter-4.14.0"
  },
  "language_info": {
   "codemirror_mode": "text/x-ocaml",
   "file_extension": ".ml",
   "mimetype": "text/x-ocaml",
   "name": "OCaml",
   "nbconverter_exporter": null,
   "pygments_lexer": "OCaml",
   "version": "4.14.0"
  },
  "widgets": {
   "application/vnd.jupyter.widget-state+json": {
    "state": {},
    "version_major": 2,
    "version_minor": 0
   }
  }
 },
 "nbformat": 4,
 "nbformat_minor": 5
}
