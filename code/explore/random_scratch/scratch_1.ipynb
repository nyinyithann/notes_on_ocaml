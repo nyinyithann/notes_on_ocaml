{
 "cells": [
  {
   "cell_type": "code",
   "execution_count": 20,
   "id": "219d81c9-d7e9-484b-8222-20bf7753ba21",
   "metadata": {},
   "outputs": [
    {
     "data": {
      "text/plain": [
       "type 'a btree = Leaf of 'a | Branch of 'a * 'a btree * 'a btree\n"
      ]
     },
     "execution_count": 20,
     "metadata": {},
     "output_type": "execute_result"
    },
    {
     "data": {
      "text/plain": [
       "val b : int btree =\n",
       "  Branch (1, Branch (2, Branch (3, Leaf 30, Leaf 31), Leaf 4),\n",
       "   Branch (5, Leaf 6, Leaf 7))\n"
      ]
     },
     "execution_count": 20,
     "metadata": {},
     "output_type": "execute_result"
    },
    {
     "data": {
      "text/plain": [
       "val order : 'a btree -> 'a list = <fun>\n"
      ]
     },
     "execution_count": 20,
     "metadata": {},
     "output_type": "execute_result"
    },
    {
     "data": {
      "text/plain": [
       "- : int list = [30; 31; 3; 4; 2; 6; 7; 5; 1]\n"
      ]
     },
     "execution_count": 20,
     "metadata": {},
     "output_type": "execute_result"
    }
   ],
   "source": [
    "type 'a btree = Leaf of 'a | Branch of 'a * 'a btree * 'a btree ;;\n",
    "\n",
    "let b = Branch(1, Branch(2, Branch (3, Leaf 30, Leaf 31), Leaf 4), Branch(5, Leaf 6, Leaf 7)) ;;\n",
    "\n",
    "let order t =\n",
    "    let rec loop t acc =\n",
    "        match t with\n",
    "        | Leaf x -> x :: acc\n",
    "        | Branch (n, left, right) -> \n",
    "(*             n :: (loop left (loop right acc))   *)\n",
    "(*                 loop left (n:: loop right acc) *)\n",
    "                loop left (loop right (n::acc))\n",
    "            in\n",
    "        loop t [] ;;\n",
    "order b ;;"
   ]
  },
  {
   "cell_type": "code",
   "execution_count": 16,
   "id": "d6af9eaf-4219-4962-a6f0-70061a0abb8d",
   "metadata": {},
   "outputs": [
    {
     "data": {
      "text/plain": [
       "type _ witness =\n",
       "    Int : int -> int witness\n",
       "  | Float : float -> float witness\n",
       "  | List : 'a witness -> 'a list witness\n",
       "  | Seq : 'a witness list -> 'a Seq.t witness\n"
      ]
     },
     "execution_count": 16,
     "metadata": {},
     "output_type": "execute_result"
    },
    {
     "data": {
      "text/plain": [
       "val i : int witness = Int 10\n"
      ]
     },
     "execution_count": 16,
     "metadata": {},
     "output_type": "execute_result"
    },
    {
     "data": {
      "text/plain": [
       "val f : float witness = Float 11.\n"
      ]
     },
     "execution_count": 16,
     "metadata": {},
     "output_type": "execute_result"
    },
    {
     "data": {
      "text/plain": [
       "val l : float list witness = List (Float 10.)\n"
      ]
     },
     "execution_count": 16,
     "metadata": {},
     "output_type": "execute_result"
    },
    {
     "data": {
      "text/plain": [
       "val get_int : int witness -> int = <fun>\n"
      ]
     },
     "execution_count": 16,
     "metadata": {},
     "output_type": "execute_result"
    },
    {
     "data": {
      "text/plain": [
       "val get_list : int list witness -> int list = <fun>\n"
      ]
     },
     "execution_count": 16,
     "metadata": {},
     "output_type": "execute_result"
    },
    {
     "data": {
      "text/plain": [
       "- : int list = [11; 11; 11; 11; 11; 11; 11; 11; 11; 11]\n"
      ]
     },
     "execution_count": 16,
     "metadata": {},
     "output_type": "execute_result"
    },
    {
     "data": {
      "text/plain": [
       "val sq : int Seq.t witness = Seq [Int 1; Int 2]\n"
      ]
     },
     "execution_count": 16,
     "metadata": {},
     "output_type": "execute_result"
    }
   ],
   "source": [
    "type _ witness =\n",
    "    | Int : int -> int witness\n",
    "    | Float : float -> float witness\n",
    "    | List : 'a witness -> 'a list witness \n",
    "    | Seq : 'a witness list -> 'a Seq.t witness ;;\n",
    "\n",
    "let i : int witness = Int 10 ;;\n",
    "let f : _ witness = Float 11. ;;\n",
    "let l  = List (Float 10.) ;;\n",
    "\n",
    "let get_int ( w : int witness) : int = 10;;\n",
    "let get_list : int list witness -> int list= function List x -> List.init 10 (fun i -> (get_int x) + 1) ;;\n",
    "\n",
    "get_list (List (Int 10)) ;;\n",
    "\n",
    "let sq = Seq [Int 1; Int 2] ;;"
   ]
  },
  {
   "cell_type": "code",
   "execution_count": 23,
   "id": "2b7be5fc-0e85-4b3f-b091-4d3d72a8a8f4",
   "metadata": {},
   "outputs": [
    {
     "data": {
      "text/plain": [
       "type peano = Zero | Succ of peano\n"
      ]
     },
     "execution_count": 23,
     "metadata": {},
     "output_type": "execute_result"
    },
    {
     "data": {
      "text/plain": [
       "val zero : peano = Zero\n"
      ]
     },
     "execution_count": 23,
     "metadata": {},
     "output_type": "execute_result"
    },
    {
     "data": {
      "text/plain": [
       "val one : peano = Succ Zero\n"
      ]
     },
     "execution_count": 23,
     "metadata": {},
     "output_type": "execute_result"
    },
    {
     "data": {
      "text/plain": [
       "val two : peano = Succ (Succ Zero)\n"
      ]
     },
     "execution_count": 23,
     "metadata": {},
     "output_type": "execute_result"
    },
    {
     "data": {
      "text/plain": [
       "val three : peano = Succ (Succ (Succ Zero))\n"
      ]
     },
     "execution_count": 23,
     "metadata": {},
     "output_type": "execute_result"
    },
    {
     "data": {
      "text/plain": [
       "val count : peano -> int = <fun>\n"
      ]
     },
     "execution_count": 23,
     "metadata": {},
     "output_type": "execute_result"
    },
    {
     "data": {
      "text/plain": [
       "- : int = 3\n"
      ]
     },
     "execution_count": 23,
     "metadata": {},
     "output_type": "execute_result"
    },
    {
     "data": {
      "text/plain": [
       "type zero = unit\n"
      ]
     },
     "execution_count": 23,
     "metadata": {},
     "output_type": "execute_result"
    },
    {
     "data": {
      "text/plain": [
       "type 'a succ = unit -> 'a\n"
      ]
     },
     "execution_count": 23,
     "metadata": {},
     "output_type": "execute_result"
    },
    {
     "data": {
      "text/plain": [
       "type one = zero succ\n"
      ]
     },
     "execution_count": 23,
     "metadata": {},
     "output_type": "execute_result"
    },
    {
     "data": {
      "text/plain": [
       "type two = one succ\n"
      ]
     },
     "execution_count": 23,
     "metadata": {},
     "output_type": "execute_result"
    }
   ],
   "source": [
    "type peano = Zero | Succ of peano ;;\n",
    "let zero = Zero;;\n",
    "let one = Succ Zero;;\n",
    "let two = Succ one ;;\n",
    "let three = Succ two ;;\n",
    "\n",
    "let count p =\n",
    "    let rec loop p c =\n",
    "    match p with\n",
    "    | Zero -> c\n",
    "    | Succ p -> loop p (c + 1) in\n",
    "    loop p 0 ;;\n",
    "\n",
    "count three ;\n",
    "\n",
    "type zero = unit ;;\n",
    "type 'a succ = unit -> 'a ;;\n",
    "type one = zero succ ;;\n",
    "type two = one succ ;;"
   ]
  },
  {
   "cell_type": "code",
   "execution_count": 30,
   "id": "adf006bb-00b0-4691-b665-4b3d657240d5",
   "metadata": {},
   "outputs": [
    {
     "data": {
      "text/plain": [
       "type zero = unit\n"
      ]
     },
     "execution_count": 30,
     "metadata": {},
     "output_type": "execute_result"
    },
    {
     "data": {
      "text/plain": [
       "type 'a succ = unit -> 'a\n"
      ]
     },
     "execution_count": 30,
     "metadata": {},
     "output_type": "execute_result"
    },
    {
     "data": {
      "text/plain": [
       "type 'a peano = Zero : zero peano | Succ : 'a peano -> 'a succ peano\n"
      ]
     },
     "execution_count": 30,
     "metadata": {},
     "output_type": "execute_result"
    },
    {
     "data": {
      "text/plain": [
       "val z : zero peano = Zero\n"
      ]
     },
     "execution_count": 30,
     "metadata": {},
     "output_type": "execute_result"
    },
    {
     "data": {
      "text/plain": [
       "val one : zero succ peano = Succ Zero\n"
      ]
     },
     "execution_count": 30,
     "metadata": {},
     "output_type": "execute_result"
    },
    {
     "data": {
      "text/plain": [
       "val two : zero succ succ peano = Succ (Succ Zero)\n"
      ]
     },
     "execution_count": 30,
     "metadata": {},
     "output_type": "execute_result"
    }
   ],
   "source": [
    "type zero = unit ;;\n",
    "type 'a succ = unit -> 'a ;;\n",
    "type 'a peano =\n",
    "    | Zero : zero peano\n",
    "    | Succ : 'a peano -> ('a succ) peano ;; \n",
    "\n",
    "let z = Zero ;;\n",
    "let one = Succ z ;;\n",
    "let two = Succ one ;;"
   ]
  },
  {
   "cell_type": "code",
   "execution_count": 5,
   "id": "3f78ec38-758d-42cc-ba54-9b348686a01c",
   "metadata": {},
   "outputs": [
    {
     "data": {
      "text/plain": [
       "val unfold : ('a -> bool) -> ('a -> 'b * 'a) -> 'a -> 'b list = <fun>\n"
      ]
     },
     "execution_count": 5,
     "metadata": {},
     "output_type": "execute_result"
    },
    {
     "data": {
      "text/plain": [
       "- : int list = [1; 2; 3; 4; 5; 6; 7; 8; 9; 10]\n"
      ]
     },
     "execution_count": 5,
     "metadata": {},
     "output_type": "execute_result"
    }
   ],
   "source": [
    "let rec unfold p f b =\n",
    "    if p b = false then [] else\n",
    "    match f b with (x, x') -> x :: unfold p f x' ;;\n",
    "\n",
    "unfold (fun x -> x < 11) (fun x -> (x, (x + 1))) 1 ;;"
   ]
  }
 ],
 "metadata": {
  "kernelspec": {
   "display_name": "OCaml 4.14.0",
   "language": "OCaml",
   "name": "ocaml-jupyter-4.14.0"
  },
  "language_info": {
   "codemirror_mode": "text/x-ocaml",
   "file_extension": ".ml",
   "mimetype": "text/x-ocaml",
   "name": "OCaml",
   "nbconverter_exporter": null,
   "pygments_lexer": "OCaml",
   "version": "4.14.0"
  },
  "widgets": {
   "application/vnd.jupyter.widget-state+json": {
    "state": {},
    "version_major": 2,
    "version_minor": 0
   }
  }
 },
 "nbformat": 4,
 "nbformat_minor": 5
}
