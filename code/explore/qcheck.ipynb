{
 "cells": [
  {
   "cell_type": "markdown",
   "id": "e61e09dc-e3a3-4d61-a692-536ea67e190e",
   "metadata": {},
   "source": [
    "# qcheck (Property-based Test Library)\n",
    "- https://github.com/c-cube/qcheck\n",
    "- https://c-cube.github.io/qcheck/\n",
    "- https://janmidtgaard.dk/papers/Midtgaard%3AOCaml20.pdf"
   ]
  },
  {
   "cell_type": "code",
   "execution_count": null,
   "id": "9107e252-c4e5-445c-a63c-ced99629dc97",
   "metadata": {},
   "outputs": [],
   "source": [
    "#require \"qcheck\" ;;\n",
    "QCheck2.Test.make ;;\n",
    "#show QCheck2.Print ;;\n",
    "#show QCheck2.Gen ;;"
   ]
  },
  {
   "cell_type": "code",
   "execution_count": 12,
   "id": "d44b1aa9-c688-43e7-a652-47d28d0713fd",
   "metadata": {},
   "outputs": [
    {
     "data": {
      "text/plain": [
       "val test : QCheck2.Test.t = QCheck2.Test.Test <abstr>\n"
      ]
     },
     "execution_count": 12,
     "metadata": {},
     "output_type": "execute_result"
    },
    {
     "data": {
      "text/plain": [
       "- : unit = ()\n"
      ]
     },
     "execution_count": 12,
     "metadata": {},
     "output_type": "execute_result"
    }
   ],
   "source": [
    "let test = QCheck2.(Test.make ~name:\"list rev\" \n",
    "    ~count:1000\n",
    "    ~print:Print.(list float)\n",
    "    Gen.(list float)\n",
    "    (fun l -> List.rev (List.rev l) = l)\n",
    ") ;;\n",
    "\n",
    "QCheck2.Test.check_exn test ;;"
   ]
  },
  {
   "cell_type": "code",
   "execution_count": 72,
   "id": "e23a94f0-edc0-4004-8319-4affb4df52eb",
   "metadata": {},
   "outputs": [
    {
     "name": "stdout",
     "output_type": "stream",
     "text": [
      "generated error fail pass / total     time test name\n",
      "[\u001b[32;1m✓\u001b[0m]  100    0    0  100 /  100     0.1s length g)\u001b[2K\n",
      "[\u001b[32;1m✓\u001b[0m]  100    0    0  100 /  100     0.1s pop g)\u001b[2K\n",
      "[\u001b[32;1m✓\u001b[0m]  100    0    0  100 /  100     0.1s top g)\u001b[2K\n",
      "[\u001b[32;1m✓\u001b[0m]  100    0    0  100 /  100     0.1s clear g)\u001b[2K\n",
      "[\u001b[32;1m✓\u001b[0m]  100    0    0  100 /  100     0.1s push g)\u001b[2K\n",
      "================================================================================\n",
      "\u001b[32;1msuccess\u001b[0m (ran 5 tests)\n"
     ]
    },
    {
     "data": {
      "text/plain": [
       "- : int = 0\n"
      ]
     },
     "execution_count": 72,
     "metadata": {},
     "output_type": "execute_result"
    }
   ],
   "source": [
    "#require \"qcheck\" ;;\n",
    "let test_fun ~name = QCheck2.(Test.make ~name\n",
    "~count:100\n",
    "~print:Print.(list int)\n",
    "Gen.(list int)) in\n",
    "let create_stack l = Stack.of_seq (List.to_seq l) in\n",
    "let flist = [\n",
    "   (\"length \", (fun l -> Stack.length (create_stack l) = List.length l)) ;\n",
    "   (\"pop \", (fun l -> try Stack.pop (create_stack l) = List.hd (List.rev l) with Failure _ -> true)) ;\n",
    "   (\"top \", (fun l -> try Stack.top (create_stack l) = List.hd (List.rev l) with Failure _ -> true)) ;\n",
    "   (\"clear \", (fun l -> let st = create_stack l in Stack.clear st; Stack.length st = 0)) ;\n",
    "   (\"push \", (fun l -> let st = create_stack l in Stack.push 101 st; Stack.pop st = 101)) ;\n",
    "] in\n",
    "let tests = flist |> List.map (fun (n,f) -> test_fun ~name:n f) in\n",
    "QCheck_runner.run_tests ~verbose:true tests ;;"
   ]
  },
  {
   "cell_type": "code",
   "execution_count": null,
   "id": "c7378fdc-964b-4bf1-a9c2-05b3c520e490",
   "metadata": {},
   "outputs": [],
   "source": []
  }
 ],
 "metadata": {
  "kernelspec": {
   "display_name": "OCaml 4.14.0",
   "language": "OCaml",
   "name": "ocaml-jupyter-4.14.0"
  },
  "language_info": {
   "codemirror_mode": "text/x-ocaml",
   "file_extension": ".ml",
   "mimetype": "text/x-ocaml",
   "name": "OCaml",
   "nbconverter_exporter": null,
   "pygments_lexer": "OCaml",
   "version": "4.14.0"
  },
  "widgets": {
   "application/vnd.jupyter.widget-state+json": {
    "state": {},
    "version_major": 2,
    "version_minor": 0
   }
  }
 },
 "nbformat": 4,
 "nbformat_minor": 5
}
